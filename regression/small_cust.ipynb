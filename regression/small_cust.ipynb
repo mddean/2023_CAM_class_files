{
 "cells": [
  {
   "cell_type": "markdown",
   "id": "57d93827",
   "metadata": {},
   "source": [
    "# The Data\n",
    "\n",
    "We have been given a small sample data from our customers. The data has been aggregated from individual purchases / transactions across the time period (e.g., last year). The goal is to see if we can predict the spending amounts for the next time period (e.g., next year)."
   ]
  },
  {
   "cell_type": "code",
   "execution_count": null,
   "id": "0ce212e6",
   "metadata": {},
   "outputs": [],
   "source": [
    "# import \"standard\" packages\n",
    "import pandas as pd\n",
    "import matplotlib.pyplot as plt\n",
    "import seaborn as sns\n",
    "\n",
    "# import packages to run regression\n",
    "from statsmodels.formula.api import ols\n",
    "\n",
    "# Another one from sklearn\n",
    "from sklearn.linear_model import LinearRegression"
   ]
  },
  {
   "cell_type": "code",
   "execution_count": null,
   "id": "438e249e",
   "metadata": {},
   "outputs": [],
   "source": [
    "# Read in the data\n",
    "cust = pd.read_csv('./data/cust_small_clean.csv')\n",
    "cust.info()"
   ]
  },
  {
   "cell_type": "code",
   "execution_count": null,
   "id": "1626e545",
   "metadata": {},
   "outputs": [],
   "source": [
    "# Take a peek at a few rows of data\n",
    "cust.sample(5)"
   ]
  },
  {
   "cell_type": "markdown",
   "id": "843480bc",
   "metadata": {},
   "source": [
    "## Descriptive Stuff"
   ]
  },
  {
   "cell_type": "code",
   "execution_count": null,
   "id": "728c70c4",
   "metadata": {},
   "outputs": [],
   "source": [
    "# statistical summaries\n",
    "cust.describe()"
   ]
  },
  {
   "cell_type": "code",
   "execution_count": null,
   "id": "20407abc",
   "metadata": {},
   "outputs": [],
   "source": [
    "# Try again and include all columns\n",
    "cust.describe(include='all')"
   ]
  },
  {
   "cell_type": "markdown",
   "id": "a1abb6aa",
   "metadata": {},
   "source": [
    "## End Result for Input\n",
    "We want to have all numerical variables. This means we should create *dummy* variables for `gender`, `marital_status`, and `home_ownership`. We also do not need `cust_id` since it is just a unique id. The two date columns could be used to create numerical values, but we will simply ignore them for now."
   ]
  },
  {
   "cell_type": "code",
   "execution_count": null,
   "id": "f16f6182",
   "metadata": {},
   "outputs": [],
   "source": [
    "# What happens when we call get_dummies?\n",
    "# Try to create dummy variables for gender, marital_status, and home_ownership\n",
    "dummies = pd.get_dummies(cust[['gender','marital_status','home_ownership']])\n",
    "dummies"
   ]
  },
  {
   "cell_type": "code",
   "execution_count": null,
   "id": "4f3f9fb6",
   "metadata": {},
   "outputs": [],
   "source": [
    "# Let's drop the following columns:\n",
    "# cust_id, join_date, last_purchase_date\n",
    "# gender, marital_status, home_ownership\n",
    "cust = cust.drop(columns=['cust_id','join_date','last_purchase_date',\n",
    "                          'gender','marital_status','home_ownership'])\n",
    "cust.info()"
   ]
  },
  {
   "cell_type": "code",
   "execution_count": null,
   "id": "f9b20868",
   "metadata": {},
   "outputs": [],
   "source": [
    "# We now need to add the dummy variables\n",
    "# However, remember we only need k-1 for k classes\n",
    "# For gender that means just 1, ditto for marital_status\n",
    "# For home_ownership we need 2\n",
    "cust = pd.concat([cust,\n",
    "                  dummies[['gender_F',\n",
    "                           'marital_status_married',\n",
    "                           'home_ownership_own',\n",
    "                           'home_ownership_rent']]], axis=1)\n",
    "cust.info()"
   ]
  },
  {
   "cell_type": "code",
   "execution_count": null,
   "id": "9951c676",
   "metadata": {},
   "outputs": [],
   "source": [
    "cust.describe()"
   ]
  },
  {
   "cell_type": "markdown",
   "id": "d72dd062",
   "metadata": {},
   "source": [
    "## Using `statsmodels`"
   ]
  },
  {
   "cell_type": "code",
   "execution_count": null,
   "id": "b4b71755",
   "metadata": {},
   "outputs": [],
   "source": [
    "results = ols('spend ~ age + household_income + num_children + num_vehicles + gender_F + marital_status_married + home_ownership_own + home_ownership_rent',\n",
    "              data=cust).fit()"
   ]
  },
  {
   "cell_type": "code",
   "execution_count": null,
   "id": "a207038c",
   "metadata": {},
   "outputs": [],
   "source": [
    "results.summary()"
   ]
  },
  {
   "cell_type": "markdown",
   "id": "28222682",
   "metadata": {},
   "source": [
    "## Using `sklearn`"
   ]
  },
  {
   "cell_type": "code",
   "execution_count": null,
   "id": "96b0db43",
   "metadata": {},
   "outputs": [],
   "source": [
    "# Create the X and y\n",
    "y = cust.spend\n",
    "\n",
    "X = cust.drop('spend', axis=1)"
   ]
  },
  {
   "cell_type": "code",
   "execution_count": null,
   "id": "1123cbb1",
   "metadata": {},
   "outputs": [],
   "source": [
    "y.shape"
   ]
  },
  {
   "cell_type": "code",
   "execution_count": null,
   "id": "f31d0940",
   "metadata": {},
   "outputs": [],
   "source": [
    "X.shape"
   ]
  },
  {
   "cell_type": "code",
   "execution_count": null,
   "id": "9fde4a07",
   "metadata": {},
   "outputs": [],
   "source": [
    "reg = LinearRegression()\n",
    "reg.fit(X, y)"
   ]
  },
  {
   "cell_type": "code",
   "execution_count": null,
   "id": "86a3c85f",
   "metadata": {},
   "outputs": [],
   "source": [
    "reg.intercept_"
   ]
  },
  {
   "cell_type": "code",
   "execution_count": null,
   "id": "29edf45c",
   "metadata": {},
   "outputs": [],
   "source": [
    "reg.coef_"
   ]
  }
 ],
 "metadata": {
  "kernelspec": {
   "display_name": "Python 3 (ipykernel)",
   "language": "python",
   "name": "python3"
  },
  "language_info": {
   "codemirror_mode": {
    "name": "ipython",
    "version": 3
   },
   "file_extension": ".py",
   "mimetype": "text/x-python",
   "name": "python",
   "nbconvert_exporter": "python",
   "pygments_lexer": "ipython3",
   "version": "3.8.8"
  }
 },
 "nbformat": 4,
 "nbformat_minor": 5
}
