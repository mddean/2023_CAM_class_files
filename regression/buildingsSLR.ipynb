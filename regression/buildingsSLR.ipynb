{
 "cells": [
  {
   "cell_type": "markdown",
   "metadata": {},
   "source": [
    "# Simple Linear Regression\n",
    "\n",
    "Let's use the very, very small 'buildings' dataset to see several different ways to conduct simple linear regression in Python. We'll also do some plotting.\n",
    "\n",
    "----"
   ]
  },
  {
   "cell_type": "code",
   "execution_count": null,
   "metadata": {},
   "outputs": [],
   "source": [
    "# import packages\n",
    "import pandas as pd\n",
    "import matplotlib.pyplot as plt\n",
    "import seaborn as sns"
   ]
  },
  {
   "cell_type": "code",
   "execution_count": null,
   "metadata": {},
   "outputs": [],
   "source": [
    "# Read the data into a DataFrame from the .csv file and look at its shape\n"
   ]
  },
  {
   "cell_type": "code",
   "execution_count": null,
   "metadata": {},
   "outputs": [],
   "source": [
    "# Small data set so print the whole thing out\n"
   ]
  },
  {
   "cell_type": "markdown",
   "metadata": {},
   "source": [
    "## Correlation\n",
    "\n",
    "Recall that correlation measures the strength and direction of the **linear** relationship between two variables. Also, remember that the correlation coefficient will the be same regardless of the order of the two variables. You, the human, must determine which variable is the output (the `y`) and which is the input/independent variable (the `x`)."
   ]
  },
  {
   "cell_type": "code",
   "execution_count": null,
   "metadata": {},
   "outputs": [],
   "source": [
    "# Find the correlation between just the two variables of interest\n"
   ]
  },
  {
   "cell_type": "code",
   "execution_count": null,
   "metadata": {},
   "outputs": [],
   "source": [
    "# Find the correlation in the other direction to verify it will be the same\n"
   ]
  },
  {
   "cell_type": "code",
   "execution_count": null,
   "metadata": {},
   "outputs": [],
   "source": [
    "# Find the entire correlation matrix\n"
   ]
  },
  {
   "cell_type": "markdown",
   "metadata": {},
   "source": [
    "### Heatmap\n",
    "\n",
    "Even though the `Year` variable doesn't make a lot of sense of this dataset, we still went ahead and calculated the full correlation matrix. One of the nice and easy to use methods in the `seaborn` package is the `.heatmap()` method. You will often send a correlation matrix to it to see a nice picture of the correlations."
   ]
  },
  {
   "cell_type": "code",
   "execution_count": null,
   "metadata": {},
   "outputs": [],
   "source": [
    "# Plot a heatmap of the correlation matrix\n"
   ]
  },
  {
   "cell_type": "markdown",
   "metadata": {},
   "source": [
    "### Plotting the Data\n",
    "\n",
    "Continuing with using `seaborn`, let's create a scatter plot and add the fitted OLS regression line."
   ]
  },
  {
   "cell_type": "code",
   "execution_count": null,
   "metadata": {},
   "outputs": [],
   "source": [
    "# Use relplot from seaborn to plot the data as a scatterplot\n"
   ]
  },
  {
   "cell_type": "code",
   "execution_count": null,
   "metadata": {},
   "outputs": [],
   "source": [
    "# Use regplot to add a regression line to scatter\n"
   ]
  },
  {
   "cell_type": "code",
   "execution_count": null,
   "metadata": {},
   "outputs": [],
   "source": [
    "# Use lmplot to add a regression line to scatter \n"
   ]
  },
  {
   "cell_type": "markdown",
   "metadata": {},
   "source": [
    "#### Using a `jointplot`\n",
    "\n",
    "Within `seaborn` we have a function called `jointplot()` that can create a scatter plot, add the regression line, and add histograms for the two variables. This functionality can be superuseful when we have a lot of data. Here, we only have seven data points, so it will not add much value. However, let's go ahead and create one to see it in action."
   ]
  },
  {
   "cell_type": "code",
   "execution_count": null,
   "metadata": {},
   "outputs": [],
   "source": []
  },
  {
   "cell_type": "markdown",
   "metadata": {},
   "source": [
    "### Where is the Regression Equation?\n",
    "Unfortunately, we cannot get the regression equation from `regplot` nor `lmplot`. (Remember, `seaborn` is a visualization package, not a statistical one.) We could use `numpy` to get it. Another option is to use the `statsmodels` package. Let's try that instead."
   ]
  },
  {
   "cell_type": "markdown",
   "metadata": {},
   "source": [
    "----\n",
    "\n",
    "## Using the `statsmodel` api\n",
    "That was a lot of work; there has got to be a better way. There are multiple better ways and we will look at one now. We can use the [statsmodels library](https://www.statsmodels.org/stable/index.html)."
   ]
  },
  {
   "cell_type": "code",
   "execution_count": null,
   "metadata": {},
   "outputs": [],
   "source": [
    "# If we were importing the entire api we would use the following\n",
    "#import statsmodels.formula.api as smf\n",
    "\n",
    "# Because we know we are only going to OLS, let's just import it\n",
    "from statsmodels.formula.api import ols"
   ]
  },
  {
   "cell_type": "code",
   "execution_count": null,
   "metadata": {},
   "outputs": [],
   "source": [
    "# Fit an OLS model and store it in a variable called results\n",
    "# Use the statsmodels library to fit an OLS model\n",
    "# Store the fit in a variable called 'results'\n"
   ]
  },
  {
   "cell_type": "code",
   "execution_count": null,
   "metadata": {},
   "outputs": [],
   "source": [
    "# What is results?\n"
   ]
  },
  {
   "cell_type": "code",
   "execution_count": null,
   "metadata": {},
   "outputs": [],
   "source": [
    "# Call .summary() on the results variable\n"
   ]
  },
  {
   "cell_type": "code",
   "execution_count": null,
   "metadata": {},
   "outputs": [],
   "source": [
    "# Let's just look at the coefficients table\n"
   ]
  },
  {
   "cell_type": "code",
   "execution_count": null,
   "metadata": {},
   "outputs": [],
   "source": [
    "# You can get the intercept and slope using .params\n"
   ]
  },
  {
   "cell_type": "code",
   "execution_count": null,
   "metadata": {},
   "outputs": [],
   "source": [
    "# What is results.params?\n"
   ]
  },
  {
   "cell_type": "code",
   "execution_count": null,
   "metadata": {},
   "outputs": [],
   "source": [
    "# Lots of other attributes on the results object\n",
    "# Fitted values (that's the estimated y-hat values)\n"
   ]
  },
  {
   "cell_type": "code",
   "execution_count": null,
   "metadata": {},
   "outputs": [],
   "source": [
    "# We can get the sum squares due to regression (explained sum of squares)\n",
    "# and the sum of squared residuals (errors)\n"
   ]
  },
  {
   "cell_type": "code",
   "execution_count": null,
   "metadata": {},
   "outputs": [],
   "source": [
    "# We can get the MSE for regression, MSE for residuals\n"
   ]
  },
  {
   "cell_type": "code",
   "execution_count": null,
   "metadata": {},
   "outputs": [],
   "source": [
    "# R-squared is easy too\n"
   ]
  },
  {
   "cell_type": "markdown",
   "metadata": {},
   "source": [
    "#### Plotting the Residuals / Errors\n",
    "We often want to plot the residuals / errors to help us determine the appropriateness of the linear model. It is easy to get the residuals from our regression results. We'll print out the residuals and then plot them two different ways."
   ]
  },
  {
   "cell_type": "code",
   "execution_count": null,
   "metadata": {},
   "outputs": [],
   "source": [
    "# We can also get and print the residuals (errors)\n"
   ]
  },
  {
   "cell_type": "code",
   "execution_count": null,
   "metadata": {},
   "outputs": [],
   "source": [
    "# Plot the residuals using a scatter plot\n"
   ]
  },
  {
   "cell_type": "code",
   "execution_count": null,
   "metadata": {
    "scrolled": true
   },
   "outputs": [],
   "source": [
    "# seaborn has a convenience function called residplot()\n"
   ]
  },
  {
   "cell_type": "markdown",
   "metadata": {},
   "source": [
    "### Comparing \"Mean Model\" to Simple Linear Regression\n",
    "One idea is that we could simply use a \"naive\" model for forecasting. An example of this approach would be to simply use the average `Height` across all buildings (observations) as our prediction. We should immediately think that this naive model will not be as good as our simple linear regression model based on, among other things, the R-squared value we saw earlier.\n",
    "\n",
    "Let's first plot both the \"mean model\" and the simple linear regression model. Then we can compare their errors."
   ]
  },
  {
   "cell_type": "code",
   "execution_count": null,
   "metadata": {},
   "outputs": [],
   "source": [
    "# Let's plot both the \"mean model\" and the SLR\n",
    "fig, ax = plt.subplots(1, 2, figsize=(12,5))\n",
    "\n",
    "# Mean model in first subplot\n",
    "\n",
    "\n",
    "# Add the mean line\n",
    "\n",
    "\n",
    "# Add vertical lines from actual to the mean line (prediction)\n",
    "\n",
    "\n",
    "# Add title\n",
    "\n",
    "\n",
    "# Now plot the SLR\n",
    "\n",
    "\n",
    "# Add vertical lines from actual to the regression line (prediction)\n",
    "\n",
    "\n",
    "# Add title\n"
   ]
  },
  {
   "cell_type": "code",
   "execution_count": null,
   "metadata": {},
   "outputs": [],
   "source": [
    "# We see that when using the \"naive\" mean model, the errors appear to \n",
    "# greater than when using the simple linear regression model. \n",
    "# One way to visualize how much better the SLR is compared to the mean model\n",
    "# is to plot the histogram of the absolute errors.\n",
    "#\n",
    "# We have already seen the SLR errors \n",
    "\n",
    "\n",
    "# Get the mean model's errors\n"
   ]
  },
  {
   "cell_type": "code",
   "execution_count": null,
   "metadata": {},
   "outputs": [],
   "source": [
    "# Now plot them as histograms on top of each other\n",
    "# Note, because the datset is so small, this may not be very pretty\n",
    "plt.figure(figsize=(12,5))\n"
   ]
  },
  {
   "cell_type": "code",
   "execution_count": null,
   "metadata": {},
   "outputs": [],
   "source": [
    "# How often is the linear regression model better?\n"
   ]
  },
  {
   "cell_type": "code",
   "execution_count": null,
   "metadata": {},
   "outputs": [],
   "source": []
  },
  {
   "cell_type": "markdown",
   "metadata": {
    "deletable": false,
    "editable": false
   },
   "source": [
    "**&copy; 2021 - Present: Matthew D. Dean, Ph.D.   \n",
    "Clinical Associate Professor of Business Analytics at William \\& Mary.**"
   ]
  }
 ],
 "metadata": {
  "kernelspec": {
   "display_name": "Python 3 (ipykernel)",
   "language": "python",
   "name": "python3"
  },
  "language_info": {
   "codemirror_mode": {
    "name": "ipython",
    "version": 3
   },
   "file_extension": ".py",
   "mimetype": "text/x-python",
   "name": "python",
   "nbconvert_exporter": "python",
   "pygments_lexer": "ipython3",
   "version": "3.8.8"
  }
 },
 "nbformat": 4,
 "nbformat_minor": 4
}
