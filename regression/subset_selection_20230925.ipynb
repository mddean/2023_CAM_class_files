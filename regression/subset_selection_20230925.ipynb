{
 "cells": [
  {
   "cell_type": "markdown",
   "id": "a1ea4a9c",
   "metadata": {},
   "source": [
    "# Finding Useful Features/Variables/Input\n",
    "\n",
    "A regression model that has fewer input/independent variables is often desirable for simplicity and explainability. It is often referred to as having a **parsimonius** model. See this article for more details on the \"[law of parsimony][1]\".\n",
    "\n",
    "Let's try a few different ways to find the \"best\" model using our customer dataset.\n",
    "\n",
    "[1]: https://en.wikipedia.org/wiki/Occam%27s_razor"
   ]
  },
  {
   "cell_type": "code",
   "execution_count": 1,
   "id": "f541c430",
   "metadata": {
    "tags": []
   },
   "outputs": [],
   "source": [
    "# Import our most-used packages\n",
    "import numpy as np\n",
    "import matplotlib.pyplot as plt\n",
    "import pandas as pd\n",
    "import seaborn as sns\n",
    "\n",
    "# Import useful ones from the sklearn package \n",
    "from sklearn.linear_model import LinearRegression\n",
    "from sklearn.metrics import mean_squared_error, r2_score\n",
    "from sklearn.model_selection import train_test_split\n",
    "\n",
    "## RFE classes\n",
    "from sklearn.feature_selection import RFE, RFECV\n",
    "\n",
    "## Other classes for linear models\n",
    "from sklearn.linear_model import Ridge, RidgeCV, Lasso, LassoCV\n",
    "from sklearn.linear_model import ElasticNet, ElasticNetCV\n",
    "\n",
    "# Scaling\n",
    "from sklearn.preprocessing import StandardScaler\n",
    "\n",
    "# Import statsmodels stuff\n",
    "import statsmodels.api as sm\n",
    "from statsmodels.formula.api import ols\n",
    "from statsmodels.stats.outliers_influence import variance_inflation_factor"
   ]
  },
  {
   "cell_type": "markdown",
   "id": "2856f812",
   "metadata": {},
   "source": [
    "## The Data\n",
    "We have been given sample data from our customers. The data has been aggregated from individual purchases / transactions across the time period (e.g., last year). The goal is to see if we can predict the spending amounts for the next time period (e.g., next year)."
   ]
  },
  {
   "cell_type": "code",
   "execution_count": 2,
   "id": "40c1b327",
   "metadata": {
    "tags": []
   },
   "outputs": [
    {
     "name": "stdout",
     "output_type": "stream",
     "text": [
      "(12266, 11)\n"
     ]
    }
   ],
   "source": [
    "# Read in the data and print out its shape\n",
    "cust = pd.read_csv('./data/customers_clean.csv')\n",
    "print(cust.shape)"
   ]
  },
  {
   "cell_type": "code",
   "execution_count": 3,
   "id": "aac64a29",
   "metadata": {
    "tags": []
   },
   "outputs": [
    {
     "name": "stdout",
     "output_type": "stream",
     "text": [
      "<class 'pandas.core.frame.DataFrame'>\n",
      "RangeIndex: 12266 entries, 0 to 12265\n",
      "Data columns (total 11 columns):\n",
      " #   Column              Non-Null Count  Dtype \n",
      "---  ------              --------------  ----- \n",
      " 0   cust_id             12266 non-null  object\n",
      " 1   join_date           12266 non-null  object\n",
      " 2   gender              12266 non-null  object\n",
      " 3   age                 12266 non-null  int64 \n",
      " 4   marital_status      12266 non-null  object\n",
      " 5   household_income    12266 non-null  int64 \n",
      " 6   home_ownership      12266 non-null  object\n",
      " 7   num_children        12266 non-null  int64 \n",
      " 8   num_vehicles        12266 non-null  int64 \n",
      " 9   last_purchase_date  12266 non-null  object\n",
      " 10  spend               12266 non-null  int64 \n",
      "dtypes: int64(5), object(6)\n",
      "memory usage: 1.0+ MB\n"
     ]
    }
   ],
   "source": [
    "# Look at info\n",
    "cust.info()"
   ]
  },
  {
   "cell_type": "code",
   "execution_count": 4,
   "id": "2624569d",
   "metadata": {
    "tags": []
   },
   "outputs": [
    {
     "data": {
      "text/html": [
       "<div><div id=24a7c698-746b-46f4-a7ee-6b15838f3a0b style=\"display:none; background-color:#9D6CFF; color:white; width:200px; height:30px; padding-left:5px; border-radius:4px; flex-direction:row; justify-content:space-around; align-items:center;\" onmouseover=\"this.style.backgroundColor='#BA9BF8'\" onmouseout=\"this.style.backgroundColor='#9D6CFF'\" onclick=\"window.commands?.execute('create-mitosheet-from-dataframe-output');\">See Full Dataframe in Mito</div> <script> if (window.commands.hasCommand('create-mitosheet-from-dataframe-output')) document.getElementById('24a7c698-746b-46f4-a7ee-6b15838f3a0b').style.display = 'flex' </script> <table border=\"1\" class=\"dataframe\">\n",
       "  <thead>\n",
       "    <tr style=\"text-align: right;\">\n",
       "      <th></th>\n",
       "      <th>cust_id</th>\n",
       "      <th>join_date</th>\n",
       "      <th>gender</th>\n",
       "      <th>age</th>\n",
       "      <th>marital_status</th>\n",
       "      <th>household_income</th>\n",
       "      <th>home_ownership</th>\n",
       "      <th>num_children</th>\n",
       "      <th>num_vehicles</th>\n",
       "      <th>last_purchase_date</th>\n",
       "      <th>spend</th>\n",
       "    </tr>\n",
       "  </thead>\n",
       "  <tbody>\n",
       "    <tr>\n",
       "      <th>7505</th>\n",
       "      <td>CUST-224655</td>\n",
       "      <td>2017-02-04 09:22:12</td>\n",
       "      <td>M</td>\n",
       "      <td>52</td>\n",
       "      <td>married</td>\n",
       "      <td>296280</td>\n",
       "      <td>own</td>\n",
       "      <td>2</td>\n",
       "      <td>0</td>\n",
       "      <td>2021-07-18 17:14:38</td>\n",
       "      <td>5262</td>\n",
       "    </tr>\n",
       "    <tr>\n",
       "      <th>401</th>\n",
       "      <td>CUST-007588</td>\n",
       "      <td>2017-02-07 21:08:36</td>\n",
       "      <td>F</td>\n",
       "      <td>20</td>\n",
       "      <td>unmarried</td>\n",
       "      <td>467702</td>\n",
       "      <td>rent</td>\n",
       "      <td>3</td>\n",
       "      <td>5</td>\n",
       "      <td>2021-10-07 19:20:39</td>\n",
       "      <td>1883</td>\n",
       "    </tr>\n",
       "    <tr>\n",
       "      <th>12113</th>\n",
       "      <td>CUST-942258</td>\n",
       "      <td>2019-02-15 07:15:12</td>\n",
       "      <td>F</td>\n",
       "      <td>43</td>\n",
       "      <td>married</td>\n",
       "      <td>410940</td>\n",
       "      <td>own</td>\n",
       "      <td>0</td>\n",
       "      <td>1</td>\n",
       "      <td>2021-02-20 05:42:32</td>\n",
       "      <td>5332</td>\n",
       "    </tr>\n",
       "    <tr>\n",
       "      <th>4175</th>\n",
       "      <td>CUST-030308</td>\n",
       "      <td>2018-07-30 09:07:13</td>\n",
       "      <td>M</td>\n",
       "      <td>21</td>\n",
       "      <td>married</td>\n",
       "      <td>331618</td>\n",
       "      <td>rent</td>\n",
       "      <td>4</td>\n",
       "      <td>3</td>\n",
       "      <td>2021-01-27 19:43:45</td>\n",
       "      <td>3750</td>\n",
       "    </tr>\n",
       "    <tr>\n",
       "      <th>10139</th>\n",
       "      <td>CUST-921946</td>\n",
       "      <td>2018-05-17 13:08:35</td>\n",
       "      <td>M</td>\n",
       "      <td>56</td>\n",
       "      <td>married</td>\n",
       "      <td>92996</td>\n",
       "      <td>rent</td>\n",
       "      <td>0</td>\n",
       "      <td>3</td>\n",
       "      <td>2021-04-19 04:50:41</td>\n",
       "      <td>2565</td>\n",
       "    </tr>\n",
       "  </tbody>\n",
       "</table></div>"
      ],
      "text/plain": [
       "           cust_id            join_date gender  age marital_status   \n",
       "7505   CUST-224655  2017-02-04 09:22:12      M   52        married  \\\n",
       "401    CUST-007588  2017-02-07 21:08:36      F   20      unmarried   \n",
       "12113  CUST-942258  2019-02-15 07:15:12      F   43        married   \n",
       "4175   CUST-030308  2018-07-30 09:07:13      M   21        married   \n",
       "10139  CUST-921946  2018-05-17 13:08:35      M   56        married   \n",
       "\n",
       "       household_income home_ownership  num_children  num_vehicles   \n",
       "7505             296280            own             2             0  \\\n",
       "401              467702           rent             3             5   \n",
       "12113            410940            own             0             1   \n",
       "4175             331618           rent             4             3   \n",
       "10139             92996           rent             0             3   \n",
       "\n",
       "        last_purchase_date  spend  \n",
       "7505   2021-07-18 17:14:38   5262  \n",
       "401    2021-10-07 19:20:39   1883  \n",
       "12113  2021-02-20 05:42:32   5332  \n",
       "4175   2021-01-27 19:43:45   3750  \n",
       "10139  2021-04-19 04:50:41   2565  "
      ]
     },
     "execution_count": 4,
     "metadata": {},
     "output_type": "execute_result"
    }
   ],
   "source": [
    "# Sample the data\n",
    "cust.sample(5)"
   ]
  },
  {
   "cell_type": "code",
   "execution_count": 5,
   "id": "ca672c31",
   "metadata": {
    "tags": []
   },
   "outputs": [
    {
     "data": {
      "text/html": [
       "<div><div id=47d01ee0-7510-4957-849b-304eb5b359fd style=\"display:none; background-color:#9D6CFF; color:white; width:200px; height:30px; padding-left:5px; border-radius:4px; flex-direction:row; justify-content:space-around; align-items:center;\" onmouseover=\"this.style.backgroundColor='#BA9BF8'\" onmouseout=\"this.style.backgroundColor='#9D6CFF'\" onclick=\"window.commands?.execute('create-mitosheet-from-dataframe-output');\">See Full Dataframe in Mito</div> <script> if (window.commands.hasCommand('create-mitosheet-from-dataframe-output')) document.getElementById('47d01ee0-7510-4957-849b-304eb5b359fd').style.display = 'flex' </script> <table border=\"1\" class=\"dataframe\">\n",
       "  <thead>\n",
       "    <tr style=\"text-align: right;\">\n",
       "      <th></th>\n",
       "      <th>age</th>\n",
       "      <th>household_income</th>\n",
       "      <th>num_children</th>\n",
       "      <th>num_vehicles</th>\n",
       "      <th>spend</th>\n",
       "    </tr>\n",
       "  </thead>\n",
       "  <tbody>\n",
       "    <tr>\n",
       "      <th>count</th>\n",
       "      <td>12266.000000</td>\n",
       "      <td>12266.000000</td>\n",
       "      <td>12266.000000</td>\n",
       "      <td>12266.000000</td>\n",
       "      <td>12266.000000</td>\n",
       "    </tr>\n",
       "    <tr>\n",
       "      <th>mean</th>\n",
       "      <td>37.864096</td>\n",
       "      <td>301670.381135</td>\n",
       "      <td>2.505544</td>\n",
       "      <td>2.503913</td>\n",
       "      <td>4156.452715</td>\n",
       "    </tr>\n",
       "    <tr>\n",
       "      <th>std</th>\n",
       "      <td>10.663234</td>\n",
       "      <td>115752.377718</td>\n",
       "      <td>1.707281</td>\n",
       "      <td>1.697419</td>\n",
       "      <td>1585.348162</td>\n",
       "    </tr>\n",
       "    <tr>\n",
       "      <th>min</th>\n",
       "      <td>20.000000</td>\n",
       "      <td>65003.000000</td>\n",
       "      <td>0.000000</td>\n",
       "      <td>0.000000</td>\n",
       "      <td>1468.000000</td>\n",
       "    </tr>\n",
       "    <tr>\n",
       "      <th>25%</th>\n",
       "      <td>29.000000</td>\n",
       "      <td>217028.250000</td>\n",
       "      <td>1.000000</td>\n",
       "      <td>1.000000</td>\n",
       "      <td>2788.250000</td>\n",
       "    </tr>\n",
       "    <tr>\n",
       "      <th>50%</th>\n",
       "      <td>38.000000</td>\n",
       "      <td>307364.500000</td>\n",
       "      <td>3.000000</td>\n",
       "      <td>3.000000</td>\n",
       "      <td>4169.000000</td>\n",
       "    </tr>\n",
       "    <tr>\n",
       "      <th>75%</th>\n",
       "      <td>47.000000</td>\n",
       "      <td>399456.250000</td>\n",
       "      <td>4.000000</td>\n",
       "      <td>4.000000</td>\n",
       "      <td>5296.000000</td>\n",
       "    </tr>\n",
       "    <tr>\n",
       "      <th>max</th>\n",
       "      <td>56.000000</td>\n",
       "      <td>489982.000000</td>\n",
       "      <td>5.000000</td>\n",
       "      <td>5.000000</td>\n",
       "      <td>7314.000000</td>\n",
       "    </tr>\n",
       "  </tbody>\n",
       "</table></div>"
      ],
      "text/plain": [
       "                age  household_income  num_children  num_vehicles   \n",
       "count  12266.000000      12266.000000  12266.000000  12266.000000  \\\n",
       "mean      37.864096     301670.381135      2.505544      2.503913   \n",
       "std       10.663234     115752.377718      1.707281      1.697419   \n",
       "min       20.000000      65003.000000      0.000000      0.000000   \n",
       "25%       29.000000     217028.250000      1.000000      1.000000   \n",
       "50%       38.000000     307364.500000      3.000000      3.000000   \n",
       "75%       47.000000     399456.250000      4.000000      4.000000   \n",
       "max       56.000000     489982.000000      5.000000      5.000000   \n",
       "\n",
       "              spend  \n",
       "count  12266.000000  \n",
       "mean    4156.452715  \n",
       "std     1585.348162  \n",
       "min     1468.000000  \n",
       "25%     2788.250000  \n",
       "50%     4169.000000  \n",
       "75%     5296.000000  \n",
       "max     7314.000000  "
      ]
     },
     "execution_count": 5,
     "metadata": {},
     "output_type": "execute_result"
    }
   ],
   "source": [
    "# See summary statistics\n",
    "cust.describe()"
   ]
  },
  {
   "cell_type": "markdown",
   "id": "596f159e",
   "metadata": {},
   "source": [
    "## End Result for Input\n",
    "We want to have all numerical variables. This means we should create *dummy* variables for `gender`, `marital_status`, and `home_ownership`. We also do not need `cust_id` since it is just a unique id (now that we have dropped duplicates). The two date columns could be used to create numerical values, but we will simply ignore them for now."
   ]
  },
  {
   "cell_type": "code",
   "execution_count": 6,
   "id": "b3286c87",
   "metadata": {
    "tags": []
   },
   "outputs": [
    {
     "name": "stdout",
     "output_type": "stream",
     "text": [
      "<class 'pandas.core.frame.DataFrame'>\n",
      "RangeIndex: 12266 entries, 0 to 12265\n",
      "Data columns (total 8 columns):\n",
      " #   Column            Non-Null Count  Dtype \n",
      "---  ------            --------------  ----- \n",
      " 0   gender            12266 non-null  object\n",
      " 1   age               12266 non-null  int64 \n",
      " 2   marital_status    12266 non-null  object\n",
      " 3   household_income  12266 non-null  int64 \n",
      " 4   home_ownership    12266 non-null  object\n",
      " 5   num_children      12266 non-null  int64 \n",
      " 6   num_vehicles      12266 non-null  int64 \n",
      " 7   spend             12266 non-null  int64 \n",
      "dtypes: int64(5), object(3)\n",
      "memory usage: 766.8+ KB\n"
     ]
    }
   ],
   "source": [
    "# Let's drop the following columns:\n",
    "# cust_id, join_date, last_purchase_date\n",
    "new_cust = cust.drop(columns=['cust_id','join_date','last_purchase_date'])\n",
    "new_cust.info()"
   ]
  },
  {
   "cell_type": "markdown",
   "id": "2ba538cd",
   "metadata": {},
   "source": [
    "## Create Dummy Variables\n",
    "\n",
    "If your `DataFrame` contains categorical (or object) columns, you can call `pd.get_dummies(your_dataframe)` to create the dummy variables for **every** categorical column in the `DataFrame`. Since we deleted the \"extra\" columns, let's try it on our `new_cust` variable and see the results."
   ]
  },
  {
   "cell_type": "code",
   "execution_count": 7,
   "id": "6d6b8722",
   "metadata": {
    "tags": []
   },
   "outputs": [
    {
     "name": "stdout",
     "output_type": "stream",
     "text": [
      "<class 'pandas.core.frame.DataFrame'>\n",
      "RangeIndex: 12266 entries, 0 to 12265\n",
      "Data columns (total 9 columns):\n",
      " #   Column                    Non-Null Count  Dtype\n",
      "---  ------                    --------------  -----\n",
      " 0   age                       12266 non-null  int64\n",
      " 1   household_income          12266 non-null  int64\n",
      " 2   num_children              12266 non-null  int64\n",
      " 3   num_vehicles              12266 non-null  int64\n",
      " 4   spend                     12266 non-null  int64\n",
      " 5   gender_M                  12266 non-null  int64\n",
      " 6   marital_status_unmarried  12266 non-null  int64\n",
      " 7   home_ownership_rent       12266 non-null  int64\n",
      " 8   home_ownership_unknown    12266 non-null  int64\n",
      "dtypes: int64(9)\n",
      "memory usage: 862.6 KB\n"
     ]
    }
   ],
   "source": [
    "# Run it again and save it in a new DataFrame\n",
    "data = pd.get_dummies(new_cust, dtype=int, drop_first=True)\n",
    "data.info()"
   ]
  },
  {
   "cell_type": "code",
   "execution_count": 8,
   "id": "4f0502cd",
   "metadata": {
    "tags": []
   },
   "outputs": [
    {
     "data": {
      "text/html": [
       "<div><div id=6f9730ee-b240-4d99-b941-88a507ac0990 style=\"display:none; background-color:#9D6CFF; color:white; width:200px; height:30px; padding-left:5px; border-radius:4px; flex-direction:row; justify-content:space-around; align-items:center;\" onmouseover=\"this.style.backgroundColor='#BA9BF8'\" onmouseout=\"this.style.backgroundColor='#9D6CFF'\" onclick=\"window.commands?.execute('create-mitosheet-from-dataframe-output');\">See Full Dataframe in Mito</div> <script> if (window.commands.hasCommand('create-mitosheet-from-dataframe-output')) document.getElementById('6f9730ee-b240-4d99-b941-88a507ac0990').style.display = 'flex' </script> <table border=\"1\" class=\"dataframe\">\n",
       "  <thead>\n",
       "    <tr style=\"text-align: right;\">\n",
       "      <th></th>\n",
       "      <th>age</th>\n",
       "      <th>household_income</th>\n",
       "      <th>num_children</th>\n",
       "      <th>num_vehicles</th>\n",
       "      <th>spend</th>\n",
       "      <th>gender_M</th>\n",
       "      <th>marital_status_unmarried</th>\n",
       "      <th>home_ownership_rent</th>\n",
       "      <th>home_ownership_unknown</th>\n",
       "    </tr>\n",
       "  </thead>\n",
       "  <tbody>\n",
       "    <tr>\n",
       "      <th>count</th>\n",
       "      <td>12266.000000</td>\n",
       "      <td>12266.000000</td>\n",
       "      <td>12266.000000</td>\n",
       "      <td>12266.000000</td>\n",
       "      <td>12266.000000</td>\n",
       "      <td>12266.000000</td>\n",
       "      <td>12266.000000</td>\n",
       "      <td>12266.000000</td>\n",
       "      <td>12266.000000</td>\n",
       "    </tr>\n",
       "    <tr>\n",
       "      <th>mean</th>\n",
       "      <td>37.864096</td>\n",
       "      <td>301670.381135</td>\n",
       "      <td>2.505544</td>\n",
       "      <td>2.503913</td>\n",
       "      <td>4156.452715</td>\n",
       "      <td>0.315669</td>\n",
       "      <td>0.251834</td>\n",
       "      <td>0.252323</td>\n",
       "      <td>0.101582</td>\n",
       "    </tr>\n",
       "    <tr>\n",
       "      <th>std</th>\n",
       "      <td>10.663234</td>\n",
       "      <td>115752.377718</td>\n",
       "      <td>1.707281</td>\n",
       "      <td>1.697419</td>\n",
       "      <td>1585.348162</td>\n",
       "      <td>0.464801</td>\n",
       "      <td>0.434084</td>\n",
       "      <td>0.434364</td>\n",
       "      <td>0.302110</td>\n",
       "    </tr>\n",
       "    <tr>\n",
       "      <th>min</th>\n",
       "      <td>20.000000</td>\n",
       "      <td>65003.000000</td>\n",
       "      <td>0.000000</td>\n",
       "      <td>0.000000</td>\n",
       "      <td>1468.000000</td>\n",
       "      <td>0.000000</td>\n",
       "      <td>0.000000</td>\n",
       "      <td>0.000000</td>\n",
       "      <td>0.000000</td>\n",
       "    </tr>\n",
       "    <tr>\n",
       "      <th>25%</th>\n",
       "      <td>29.000000</td>\n",
       "      <td>217028.250000</td>\n",
       "      <td>1.000000</td>\n",
       "      <td>1.000000</td>\n",
       "      <td>2788.250000</td>\n",
       "      <td>0.000000</td>\n",
       "      <td>0.000000</td>\n",
       "      <td>0.000000</td>\n",
       "      <td>0.000000</td>\n",
       "    </tr>\n",
       "    <tr>\n",
       "      <th>50%</th>\n",
       "      <td>38.000000</td>\n",
       "      <td>307364.500000</td>\n",
       "      <td>3.000000</td>\n",
       "      <td>3.000000</td>\n",
       "      <td>4169.000000</td>\n",
       "      <td>0.000000</td>\n",
       "      <td>0.000000</td>\n",
       "      <td>0.000000</td>\n",
       "      <td>0.000000</td>\n",
       "    </tr>\n",
       "    <tr>\n",
       "      <th>75%</th>\n",
       "      <td>47.000000</td>\n",
       "      <td>399456.250000</td>\n",
       "      <td>4.000000</td>\n",
       "      <td>4.000000</td>\n",
       "      <td>5296.000000</td>\n",
       "      <td>1.000000</td>\n",
       "      <td>1.000000</td>\n",
       "      <td>1.000000</td>\n",
       "      <td>0.000000</td>\n",
       "    </tr>\n",
       "    <tr>\n",
       "      <th>max</th>\n",
       "      <td>56.000000</td>\n",
       "      <td>489982.000000</td>\n",
       "      <td>5.000000</td>\n",
       "      <td>5.000000</td>\n",
       "      <td>7314.000000</td>\n",
       "      <td>1.000000</td>\n",
       "      <td>1.000000</td>\n",
       "      <td>1.000000</td>\n",
       "      <td>1.000000</td>\n",
       "    </tr>\n",
       "  </tbody>\n",
       "</table></div>"
      ],
      "text/plain": [
       "                age  household_income  num_children  num_vehicles   \n",
       "count  12266.000000      12266.000000  12266.000000  12266.000000  \\\n",
       "mean      37.864096     301670.381135      2.505544      2.503913   \n",
       "std       10.663234     115752.377718      1.707281      1.697419   \n",
       "min       20.000000      65003.000000      0.000000      0.000000   \n",
       "25%       29.000000     217028.250000      1.000000      1.000000   \n",
       "50%       38.000000     307364.500000      3.000000      3.000000   \n",
       "75%       47.000000     399456.250000      4.000000      4.000000   \n",
       "max       56.000000     489982.000000      5.000000      5.000000   \n",
       "\n",
       "              spend      gender_M  marital_status_unmarried   \n",
       "count  12266.000000  12266.000000              12266.000000  \\\n",
       "mean    4156.452715      0.315669                  0.251834   \n",
       "std     1585.348162      0.464801                  0.434084   \n",
       "min     1468.000000      0.000000                  0.000000   \n",
       "25%     2788.250000      0.000000                  0.000000   \n",
       "50%     4169.000000      0.000000                  0.000000   \n",
       "75%     5296.000000      1.000000                  1.000000   \n",
       "max     7314.000000      1.000000                  1.000000   \n",
       "\n",
       "       home_ownership_rent  home_ownership_unknown  \n",
       "count         12266.000000            12266.000000  \n",
       "mean              0.252323                0.101582  \n",
       "std               0.434364                0.302110  \n",
       "min               0.000000                0.000000  \n",
       "25%               0.000000                0.000000  \n",
       "50%               0.000000                0.000000  \n",
       "75%               1.000000                0.000000  \n",
       "max               1.000000                1.000000  "
      ]
     },
     "execution_count": 8,
     "metadata": {},
     "output_type": "execute_result"
    }
   ],
   "source": [
    "# Look at .describe()\n",
    "data.describe()"
   ]
  },
  {
   "cell_type": "markdown",
   "id": "a4405157",
   "metadata": {},
   "source": [
    "## Split Data into Training and Test Sets\n",
    "\n",
    "Need to first define `X` and `y`. Then we can try train/test split."
   ]
  },
  {
   "cell_type": "code",
   "execution_count": 9,
   "id": "cefcd138",
   "metadata": {
    "tags": []
   },
   "outputs": [],
   "source": [
    "# define the output variable, y\n",
    "y = data.spend\n",
    "\n",
    "# define the X\n",
    "X = data.drop('spend', axis=1)"
   ]
  },
  {
   "cell_type": "code",
   "execution_count": 10,
   "id": "f3c2e601",
   "metadata": {
    "tags": []
   },
   "outputs": [],
   "source": [
    "# Time to split the data into training and test sets\n",
    "X_train, X_test, y_train, y_test = train_test_split(X, y,\n",
    "                                                   test_size=0.2,\n",
    "                                                   random_state=163)"
   ]
  },
  {
   "cell_type": "code",
   "execution_count": 11,
   "id": "4cf8bcac",
   "metadata": {
    "tags": []
   },
   "outputs": [
    {
     "data": {
      "text/plain": [
       "(9812, 8)"
      ]
     },
     "execution_count": 11,
     "metadata": {},
     "output_type": "execute_result"
    }
   ],
   "source": [
    "# Look at shape of X_train\n",
    "X_train.shape"
   ]
  },
  {
   "cell_type": "code",
   "execution_count": 12,
   "id": "72a76ffb",
   "metadata": {
    "tags": []
   },
   "outputs": [
    {
     "data": {
      "text/plain": [
       "(2454, 8)"
      ]
     },
     "execution_count": 12,
     "metadata": {},
     "output_type": "execute_result"
    }
   ],
   "source": [
    "# Look at shape of X_test\n",
    "X_test.shape"
   ]
  },
  {
   "cell_type": "code",
   "execution_count": 13,
   "id": "fd192c03",
   "metadata": {
    "tags": []
   },
   "outputs": [
    {
     "data": {
      "text/html": [
       "<div><div id=92235cd7-9eb4-4364-a788-6fd2f93e2f71 style=\"display:none; background-color:#9D6CFF; color:white; width:200px; height:30px; padding-left:5px; border-radius:4px; flex-direction:row; justify-content:space-around; align-items:center;\" onmouseover=\"this.style.backgroundColor='#BA9BF8'\" onmouseout=\"this.style.backgroundColor='#9D6CFF'\" onclick=\"window.commands?.execute('create-mitosheet-from-dataframe-output');\">See Full Dataframe in Mito</div> <script> if (window.commands.hasCommand('create-mitosheet-from-dataframe-output')) document.getElementById('92235cd7-9eb4-4364-a788-6fd2f93e2f71').style.display = 'flex' </script> <table border=\"1\" class=\"dataframe\">\n",
       "  <thead>\n",
       "    <tr style=\"text-align: right;\">\n",
       "      <th></th>\n",
       "      <th>age</th>\n",
       "      <th>household_income</th>\n",
       "      <th>num_children</th>\n",
       "      <th>num_vehicles</th>\n",
       "      <th>gender_M</th>\n",
       "      <th>marital_status_unmarried</th>\n",
       "      <th>home_ownership_rent</th>\n",
       "      <th>home_ownership_unknown</th>\n",
       "    </tr>\n",
       "  </thead>\n",
       "  <tbody>\n",
       "    <tr>\n",
       "      <th>count</th>\n",
       "      <td>9812.000000</td>\n",
       "      <td>9812.000000</td>\n",
       "      <td>9812.000000</td>\n",
       "      <td>9812.000000</td>\n",
       "      <td>9812.000000</td>\n",
       "      <td>9812.000000</td>\n",
       "      <td>9812.000000</td>\n",
       "      <td>9812.000000</td>\n",
       "    </tr>\n",
       "    <tr>\n",
       "      <th>mean</th>\n",
       "      <td>37.848349</td>\n",
       "      <td>301149.021199</td>\n",
       "      <td>2.505605</td>\n",
       "      <td>2.504280</td>\n",
       "      <td>0.315430</td>\n",
       "      <td>0.251427</td>\n",
       "      <td>0.254484</td>\n",
       "      <td>0.098757</td>\n",
       "    </tr>\n",
       "    <tr>\n",
       "      <th>std</th>\n",
       "      <td>10.694793</td>\n",
       "      <td>115006.856292</td>\n",
       "      <td>1.704877</td>\n",
       "      <td>1.693242</td>\n",
       "      <td>0.464711</td>\n",
       "      <td>0.433855</td>\n",
       "      <td>0.435593</td>\n",
       "      <td>0.298350</td>\n",
       "    </tr>\n",
       "    <tr>\n",
       "      <th>min</th>\n",
       "      <td>20.000000</td>\n",
       "      <td>65003.000000</td>\n",
       "      <td>0.000000</td>\n",
       "      <td>0.000000</td>\n",
       "      <td>0.000000</td>\n",
       "      <td>0.000000</td>\n",
       "      <td>0.000000</td>\n",
       "      <td>0.000000</td>\n",
       "    </tr>\n",
       "    <tr>\n",
       "      <th>25%</th>\n",
       "      <td>29.000000</td>\n",
       "      <td>217586.500000</td>\n",
       "      <td>1.000000</td>\n",
       "      <td>1.000000</td>\n",
       "      <td>0.000000</td>\n",
       "      <td>0.000000</td>\n",
       "      <td>0.000000</td>\n",
       "      <td>0.000000</td>\n",
       "    </tr>\n",
       "    <tr>\n",
       "      <th>50%</th>\n",
       "      <td>38.000000</td>\n",
       "      <td>306220.500000</td>\n",
       "      <td>3.000000</td>\n",
       "      <td>3.000000</td>\n",
       "      <td>0.000000</td>\n",
       "      <td>0.000000</td>\n",
       "      <td>0.000000</td>\n",
       "      <td>0.000000</td>\n",
       "    </tr>\n",
       "    <tr>\n",
       "      <th>75%</th>\n",
       "      <td>47.000000</td>\n",
       "      <td>398203.000000</td>\n",
       "      <td>4.000000</td>\n",
       "      <td>4.000000</td>\n",
       "      <td>1.000000</td>\n",
       "      <td>1.000000</td>\n",
       "      <td>1.000000</td>\n",
       "      <td>0.000000</td>\n",
       "    </tr>\n",
       "    <tr>\n",
       "      <th>max</th>\n",
       "      <td>56.000000</td>\n",
       "      <td>489982.000000</td>\n",
       "      <td>5.000000</td>\n",
       "      <td>5.000000</td>\n",
       "      <td>1.000000</td>\n",
       "      <td>1.000000</td>\n",
       "      <td>1.000000</td>\n",
       "      <td>1.000000</td>\n",
       "    </tr>\n",
       "  </tbody>\n",
       "</table></div>"
      ],
      "text/plain": [
       "               age  household_income  num_children  num_vehicles     gender_M   \n",
       "count  9812.000000       9812.000000   9812.000000   9812.000000  9812.000000  \\\n",
       "mean     37.848349     301149.021199      2.505605      2.504280     0.315430   \n",
       "std      10.694793     115006.856292      1.704877      1.693242     0.464711   \n",
       "min      20.000000      65003.000000      0.000000      0.000000     0.000000   \n",
       "25%      29.000000     217586.500000      1.000000      1.000000     0.000000   \n",
       "50%      38.000000     306220.500000      3.000000      3.000000     0.000000   \n",
       "75%      47.000000     398203.000000      4.000000      4.000000     1.000000   \n",
       "max      56.000000     489982.000000      5.000000      5.000000     1.000000   \n",
       "\n",
       "       marital_status_unmarried  home_ownership_rent  home_ownership_unknown  \n",
       "count               9812.000000          9812.000000             9812.000000  \n",
       "mean                   0.251427             0.254484                0.098757  \n",
       "std                    0.433855             0.435593                0.298350  \n",
       "min                    0.000000             0.000000                0.000000  \n",
       "25%                    0.000000             0.000000                0.000000  \n",
       "50%                    0.000000             0.000000                0.000000  \n",
       "75%                    1.000000             1.000000                0.000000  \n",
       "max                    1.000000             1.000000                1.000000  "
      ]
     },
     "execution_count": 13,
     "metadata": {},
     "output_type": "execute_result"
    }
   ],
   "source": [
    "# Kick out summary statistics for X_train\n",
    "X_train.describe()"
   ]
  },
  {
   "cell_type": "code",
   "execution_count": 14,
   "id": "392ced4f",
   "metadata": {
    "tags": []
   },
   "outputs": [
    {
     "data": {
      "text/html": [
       "<div><div id=8d9f2a54-d38c-429e-8ec8-4c83d9cb29c1 style=\"display:none; background-color:#9D6CFF; color:white; width:200px; height:30px; padding-left:5px; border-radius:4px; flex-direction:row; justify-content:space-around; align-items:center;\" onmouseover=\"this.style.backgroundColor='#BA9BF8'\" onmouseout=\"this.style.backgroundColor='#9D6CFF'\" onclick=\"window.commands?.execute('create-mitosheet-from-dataframe-output');\">See Full Dataframe in Mito</div> <script> if (window.commands.hasCommand('create-mitosheet-from-dataframe-output')) document.getElementById('8d9f2a54-d38c-429e-8ec8-4c83d9cb29c1').style.display = 'flex' </script> <table border=\"1\" class=\"dataframe\">\n",
       "  <thead>\n",
       "    <tr style=\"text-align: right;\">\n",
       "      <th></th>\n",
       "      <th>age</th>\n",
       "      <th>household_income</th>\n",
       "      <th>num_children</th>\n",
       "      <th>num_vehicles</th>\n",
       "      <th>gender_M</th>\n",
       "      <th>marital_status_unmarried</th>\n",
       "      <th>home_ownership_rent</th>\n",
       "      <th>home_ownership_unknown</th>\n",
       "    </tr>\n",
       "  </thead>\n",
       "  <tbody>\n",
       "    <tr>\n",
       "      <th>count</th>\n",
       "      <td>2454.000000</td>\n",
       "      <td>2454.000000</td>\n",
       "      <td>2454.000000</td>\n",
       "      <td>2454.000000</td>\n",
       "      <td>2454.000000</td>\n",
       "      <td>2454.000000</td>\n",
       "      <td>2454.000000</td>\n",
       "      <td>2454.000000</td>\n",
       "    </tr>\n",
       "    <tr>\n",
       "      <th>mean</th>\n",
       "      <td>37.927058</td>\n",
       "      <td>303754.971068</td>\n",
       "      <td>2.505297</td>\n",
       "      <td>2.502445</td>\n",
       "      <td>0.316626</td>\n",
       "      <td>0.253464</td>\n",
       "      <td>0.243684</td>\n",
       "      <td>0.112877</td>\n",
       "    </tr>\n",
       "    <tr>\n",
       "      <th>std</th>\n",
       "      <td>10.538032</td>\n",
       "      <td>118687.464418</td>\n",
       "      <td>1.717210</td>\n",
       "      <td>1.714365</td>\n",
       "      <td>0.465255</td>\n",
       "      <td>0.435083</td>\n",
       "      <td>0.429392</td>\n",
       "      <td>0.316507</td>\n",
       "    </tr>\n",
       "    <tr>\n",
       "      <th>min</th>\n",
       "      <td>20.000000</td>\n",
       "      <td>65206.000000</td>\n",
       "      <td>0.000000</td>\n",
       "      <td>0.000000</td>\n",
       "      <td>0.000000</td>\n",
       "      <td>0.000000</td>\n",
       "      <td>0.000000</td>\n",
       "      <td>0.000000</td>\n",
       "    </tr>\n",
       "    <tr>\n",
       "      <th>25%</th>\n",
       "      <td>29.000000</td>\n",
       "      <td>215343.000000</td>\n",
       "      <td>1.000000</td>\n",
       "      <td>1.000000</td>\n",
       "      <td>0.000000</td>\n",
       "      <td>0.000000</td>\n",
       "      <td>0.000000</td>\n",
       "      <td>0.000000</td>\n",
       "    </tr>\n",
       "    <tr>\n",
       "      <th>50%</th>\n",
       "      <td>38.000000</td>\n",
       "      <td>312449.000000</td>\n",
       "      <td>3.000000</td>\n",
       "      <td>2.500000</td>\n",
       "      <td>0.000000</td>\n",
       "      <td>0.000000</td>\n",
       "      <td>0.000000</td>\n",
       "      <td>0.000000</td>\n",
       "    </tr>\n",
       "    <tr>\n",
       "      <th>75%</th>\n",
       "      <td>47.000000</td>\n",
       "      <td>404501.250000</td>\n",
       "      <td>4.000000</td>\n",
       "      <td>4.000000</td>\n",
       "      <td>1.000000</td>\n",
       "      <td>1.000000</td>\n",
       "      <td>0.000000</td>\n",
       "      <td>0.000000</td>\n",
       "    </tr>\n",
       "    <tr>\n",
       "      <th>max</th>\n",
       "      <td>56.000000</td>\n",
       "      <td>489964.000000</td>\n",
       "      <td>5.000000</td>\n",
       "      <td>5.000000</td>\n",
       "      <td>1.000000</td>\n",
       "      <td>1.000000</td>\n",
       "      <td>1.000000</td>\n",
       "      <td>1.000000</td>\n",
       "    </tr>\n",
       "  </tbody>\n",
       "</table></div>"
      ],
      "text/plain": [
       "               age  household_income  num_children  num_vehicles     gender_M   \n",
       "count  2454.000000       2454.000000   2454.000000   2454.000000  2454.000000  \\\n",
       "mean     37.927058     303754.971068      2.505297      2.502445     0.316626   \n",
       "std      10.538032     118687.464418      1.717210      1.714365     0.465255   \n",
       "min      20.000000      65206.000000      0.000000      0.000000     0.000000   \n",
       "25%      29.000000     215343.000000      1.000000      1.000000     0.000000   \n",
       "50%      38.000000     312449.000000      3.000000      2.500000     0.000000   \n",
       "75%      47.000000     404501.250000      4.000000      4.000000     1.000000   \n",
       "max      56.000000     489964.000000      5.000000      5.000000     1.000000   \n",
       "\n",
       "       marital_status_unmarried  home_ownership_rent  home_ownership_unknown  \n",
       "count               2454.000000          2454.000000             2454.000000  \n",
       "mean                   0.253464             0.243684                0.112877  \n",
       "std                    0.435083             0.429392                0.316507  \n",
       "min                    0.000000             0.000000                0.000000  \n",
       "25%                    0.000000             0.000000                0.000000  \n",
       "50%                    0.000000             0.000000                0.000000  \n",
       "75%                    1.000000             0.000000                0.000000  \n",
       "max                    1.000000             1.000000                1.000000  "
      ]
     },
     "execution_count": 14,
     "metadata": {},
     "output_type": "execute_result"
    }
   ],
   "source": [
    "# Kick out summary statistics for X_test\n",
    "# Hope these are close to X_train stats\n",
    "X_test.describe()"
   ]
  },
  {
   "cell_type": "code",
   "execution_count": 15,
   "id": "95efb5da",
   "metadata": {
    "tags": []
   },
   "outputs": [
    {
     "data": {
      "text/html": [
       "<div><div id=d3a77657-8c05-48c1-bbfa-b1a996a84603 style=\"display:none; background-color:#9D6CFF; color:white; width:200px; height:30px; padding-left:5px; border-radius:4px; flex-direction:row; justify-content:space-around; align-items:center;\" onmouseover=\"this.style.backgroundColor='#BA9BF8'\" onmouseout=\"this.style.backgroundColor='#9D6CFF'\" onclick=\"window.commands?.execute('create-mitosheet-from-dataframe-output');\">See Full Dataframe in Mito</div> <script> if (window.commands.hasCommand('create-mitosheet-from-dataframe-output')) document.getElementById('d3a77657-8c05-48c1-bbfa-b1a996a84603').style.display = 'flex' </script> <table border=\"1\" class=\"dataframe\">\n",
       "  <thead>\n",
       "    <tr style=\"text-align: right;\">\n",
       "      <th></th>\n",
       "      <th>age</th>\n",
       "      <th>household_income</th>\n",
       "      <th>num_children</th>\n",
       "      <th>num_vehicles</th>\n",
       "      <th>gender_M</th>\n",
       "      <th>marital_status_unmarried</th>\n",
       "      <th>home_ownership_rent</th>\n",
       "      <th>home_ownership_unknown</th>\n",
       "      <th>spend</th>\n",
       "    </tr>\n",
       "  </thead>\n",
       "  <tbody>\n",
       "    <tr>\n",
       "      <th>3629</th>\n",
       "      <td>55</td>\n",
       "      <td>446885</td>\n",
       "      <td>2</td>\n",
       "      <td>2</td>\n",
       "      <td>1</td>\n",
       "      <td>1</td>\n",
       "      <td>0</td>\n",
       "      <td>0</td>\n",
       "      <td>2708</td>\n",
       "    </tr>\n",
       "    <tr>\n",
       "      <th>6118</th>\n",
       "      <td>55</td>\n",
       "      <td>189049</td>\n",
       "      <td>4</td>\n",
       "      <td>2</td>\n",
       "      <td>1</td>\n",
       "      <td>1</td>\n",
       "      <td>0</td>\n",
       "      <td>0</td>\n",
       "      <td>4926</td>\n",
       "    </tr>\n",
       "    <tr>\n",
       "      <th>11679</th>\n",
       "      <td>49</td>\n",
       "      <td>70696</td>\n",
       "      <td>5</td>\n",
       "      <td>4</td>\n",
       "      <td>0</td>\n",
       "      <td>0</td>\n",
       "      <td>1</td>\n",
       "      <td>0</td>\n",
       "      <td>3982</td>\n",
       "    </tr>\n",
       "    <tr>\n",
       "      <th>4993</th>\n",
       "      <td>23</td>\n",
       "      <td>487791</td>\n",
       "      <td>2</td>\n",
       "      <td>1</td>\n",
       "      <td>0</td>\n",
       "      <td>0</td>\n",
       "      <td>0</td>\n",
       "      <td>0</td>\n",
       "      <td>7310</td>\n",
       "    </tr>\n",
       "    <tr>\n",
       "      <th>12180</th>\n",
       "      <td>21</td>\n",
       "      <td>355187</td>\n",
       "      <td>0</td>\n",
       "      <td>1</td>\n",
       "      <td>0</td>\n",
       "      <td>1</td>\n",
       "      <td>0</td>\n",
       "      <td>0</td>\n",
       "      <td>4795</td>\n",
       "    </tr>\n",
       "    <tr>\n",
       "      <th>...</th>\n",
       "      <td>...</td>\n",
       "      <td>...</td>\n",
       "      <td>...</td>\n",
       "      <td>...</td>\n",
       "      <td>...</td>\n",
       "      <td>...</td>\n",
       "      <td>...</td>\n",
       "      <td>...</td>\n",
       "      <td>...</td>\n",
       "    </tr>\n",
       "    <tr>\n",
       "      <th>6870</th>\n",
       "      <td>20</td>\n",
       "      <td>193010</td>\n",
       "      <td>0</td>\n",
       "      <td>3</td>\n",
       "      <td>1</td>\n",
       "      <td>0</td>\n",
       "      <td>0</td>\n",
       "      <td>0</td>\n",
       "      <td>2966</td>\n",
       "    </tr>\n",
       "    <tr>\n",
       "      <th>8356</th>\n",
       "      <td>30</td>\n",
       "      <td>239213</td>\n",
       "      <td>1</td>\n",
       "      <td>1</td>\n",
       "      <td>0</td>\n",
       "      <td>0</td>\n",
       "      <td>0</td>\n",
       "      <td>0</td>\n",
       "      <td>4491</td>\n",
       "    </tr>\n",
       "    <tr>\n",
       "      <th>3055</th>\n",
       "      <td>56</td>\n",
       "      <td>293871</td>\n",
       "      <td>1</td>\n",
       "      <td>3</td>\n",
       "      <td>0</td>\n",
       "      <td>0</td>\n",
       "      <td>0</td>\n",
       "      <td>0</td>\n",
       "      <td>5495</td>\n",
       "    </tr>\n",
       "    <tr>\n",
       "      <th>4238</th>\n",
       "      <td>42</td>\n",
       "      <td>351179</td>\n",
       "      <td>0</td>\n",
       "      <td>3</td>\n",
       "      <td>1</td>\n",
       "      <td>0</td>\n",
       "      <td>0</td>\n",
       "      <td>0</td>\n",
       "      <td>2463</td>\n",
       "    </tr>\n",
       "    <tr>\n",
       "      <th>12129</th>\n",
       "      <td>54</td>\n",
       "      <td>121156</td>\n",
       "      <td>1</td>\n",
       "      <td>1</td>\n",
       "      <td>1</td>\n",
       "      <td>0</td>\n",
       "      <td>0</td>\n",
       "      <td>0</td>\n",
       "      <td>1889</td>\n",
       "    </tr>\n",
       "  </tbody>\n",
       "</table></div>"
      ],
      "text/plain": [
       "       age  household_income  num_children  num_vehicles  gender_M   \n",
       "3629    55            446885             2             2         1  \\\n",
       "6118    55            189049             4             2         1   \n",
       "11679   49             70696             5             4         0   \n",
       "4993    23            487791             2             1         0   \n",
       "12180   21            355187             0             1         0   \n",
       "...    ...               ...           ...           ...       ...   \n",
       "6870    20            193010             0             3         1   \n",
       "8356    30            239213             1             1         0   \n",
       "3055    56            293871             1             3         0   \n",
       "4238    42            351179             0             3         1   \n",
       "12129   54            121156             1             1         1   \n",
       "\n",
       "       marital_status_unmarried  home_ownership_rent  home_ownership_unknown   \n",
       "3629                          1                    0                       0  \\\n",
       "6118                          1                    0                       0   \n",
       "11679                         0                    1                       0   \n",
       "4993                          0                    0                       0   \n",
       "12180                         1                    0                       0   \n",
       "...                         ...                  ...                     ...   \n",
       "6870                          0                    0                       0   \n",
       "8356                          0                    0                       0   \n",
       "3055                          0                    0                       0   \n",
       "4238                          0                    0                       0   \n",
       "12129                         0                    0                       0   \n",
       "\n",
       "       spend  \n",
       "3629    2708  \n",
       "6118    4926  \n",
       "11679   3982  \n",
       "4993    7310  \n",
       "12180   4795  \n",
       "...      ...  \n",
       "6870    2966  \n",
       "8356    4491  \n",
       "3055    5495  \n",
       "4238    2463  \n",
       "12129   1889  \n",
       "\n",
       "[9812 rows x 9 columns]"
      ]
     },
     "execution_count": 15,
     "metadata": {},
     "output_type": "execute_result"
    }
   ],
   "source": [
    "full_train = pd.concat([X_train, y_train], axis='columns')\n",
    "full_train"
   ]
  },
  {
   "cell_type": "code",
   "execution_count": 16,
   "id": "79973cff",
   "metadata": {
    "tags": []
   },
   "outputs": [
    {
     "name": "stdout",
     "output_type": "stream",
     "text": [
      "age+household_income+num_children+num_vehicles+gender_M+marital_status_unmarried+home_ownership_rent+home_ownership_unknown\n"
     ]
    }
   ],
   "source": [
    "# Run a full regression model with statsmodels\n",
    "# Create the RHS (the independent variables)\n",
    "rhs = '+'.join([str(col) for col in X_train.columns])\n",
    "print(rhs)"
   ]
  },
  {
   "cell_type": "code",
   "execution_count": 17,
   "id": "1c407987",
   "metadata": {
    "tags": []
   },
   "outputs": [],
   "source": [
    "# Full multiple linear regression with statsmodels\n",
    "full_mlr = ols('spend ~ ' + rhs, data=full_train).fit()"
   ]
  },
  {
   "cell_type": "code",
   "execution_count": 18,
   "id": "1acdbc7d",
   "metadata": {
    "tags": []
   },
   "outputs": [
    {
     "data": {
      "text/html": [
       "<table class=\"simpletable\">\n",
       "<caption>OLS Regression Results</caption>\n",
       "<tr>\n",
       "  <th>Dep. Variable:</th>          <td>spend</td>      <th>  R-squared:         </th> <td>   0.312</td> \n",
       "</tr>\n",
       "<tr>\n",
       "  <th>Model:</th>                   <td>OLS</td>       <th>  Adj. R-squared:    </th> <td>   0.312</td> \n",
       "</tr>\n",
       "<tr>\n",
       "  <th>Method:</th>             <td>Least Squares</td>  <th>  F-statistic:       </th> <td>   556.3</td> \n",
       "</tr>\n",
       "<tr>\n",
       "  <th>Date:</th>             <td>Mon, 25 Sep 2023</td> <th>  Prob (F-statistic):</th>  <td>  0.00</td>  \n",
       "</tr>\n",
       "<tr>\n",
       "  <th>Time:</th>                 <td>19:01:16</td>     <th>  Log-Likelihood:    </th> <td> -84391.</td> \n",
       "</tr>\n",
       "<tr>\n",
       "  <th>No. Observations:</th>      <td>  9812</td>      <th>  AIC:               </th> <td>1.688e+05</td>\n",
       "</tr>\n",
       "<tr>\n",
       "  <th>Df Residuals:</th>          <td>  9803</td>      <th>  BIC:               </th> <td>1.689e+05</td>\n",
       "</tr>\n",
       "<tr>\n",
       "  <th>Df Model:</th>              <td>     8</td>      <th>                     </th>     <td> </td>    \n",
       "</tr>\n",
       "<tr>\n",
       "  <th>Covariance Type:</th>      <td>nonrobust</td>    <th>                     </th>     <td> </td>    \n",
       "</tr>\n",
       "</table>\n",
       "<table class=\"simpletable\">\n",
       "<tr>\n",
       "              <td></td>                <th>coef</th>     <th>std err</th>      <th>t</th>      <th>P>|t|</th>  <th>[0.025</th>    <th>0.975]</th>  \n",
       "</tr>\n",
       "<tr>\n",
       "  <th>Intercept</th>                <td> 4390.9346</td> <td>   70.935</td> <td>   61.901</td> <td> 0.000</td> <td> 4251.888</td> <td> 4529.981</td>\n",
       "</tr>\n",
       "<tr>\n",
       "  <th>age</th>                      <td>    0.6422</td> <td>    1.243</td> <td>    0.517</td> <td> 0.605</td> <td>   -1.794</td> <td>    3.079</td>\n",
       "</tr>\n",
       "<tr>\n",
       "  <th>household_income</th>         <td>    0.0022</td> <td>    0.000</td> <td>   18.335</td> <td> 0.000</td> <td>    0.002</td> <td>    0.002</td>\n",
       "</tr>\n",
       "<tr>\n",
       "  <th>num_children</th>             <td>    1.5062</td> <td>    7.795</td> <td>    0.193</td> <td> 0.847</td> <td>  -13.774</td> <td>   16.786</td>\n",
       "</tr>\n",
       "<tr>\n",
       "  <th>num_vehicles</th>             <td>    2.4418</td> <td>    7.849</td> <td>    0.311</td> <td> 0.756</td> <td>  -12.943</td> <td>   17.827</td>\n",
       "</tr>\n",
       "<tr>\n",
       "  <th>gender_M</th>                 <td>-1035.0956</td> <td>   28.833</td> <td>  -35.899</td> <td> 0.000</td> <td>-1091.615</td> <td> -978.576</td>\n",
       "</tr>\n",
       "<tr>\n",
       "  <th>marital_status_unmarried</th> <td> -867.0921</td> <td>   30.815</td> <td>  -28.138</td> <td> 0.000</td> <td> -927.497</td> <td> -806.688</td>\n",
       "</tr>\n",
       "<tr>\n",
       "  <th>home_ownership_rent</th>      <td>-1069.8124</td> <td>   31.409</td> <td>  -34.061</td> <td> 0.000</td> <td>-1131.381</td> <td>-1008.244</td>\n",
       "</tr>\n",
       "<tr>\n",
       "  <th>home_ownership_unknown</th>   <td>-1045.7841</td> <td>   45.611</td> <td>  -22.929</td> <td> 0.000</td> <td>-1135.190</td> <td> -956.378</td>\n",
       "</tr>\n",
       "</table>\n",
       "<table class=\"simpletable\">\n",
       "<tr>\n",
       "  <th>Omnibus:</th>       <td>506.699</td> <th>  Durbin-Watson:     </th> <td>   2.005</td>\n",
       "</tr>\n",
       "<tr>\n",
       "  <th>Prob(Omnibus):</th> <td> 0.000</td>  <th>  Jarque-Bera (JB):  </th> <td> 280.802</td>\n",
       "</tr>\n",
       "<tr>\n",
       "  <th>Skew:</th>          <td>-0.259</td>  <th>  Prob(JB):          </th> <td>1.06e-61</td>\n",
       "</tr>\n",
       "<tr>\n",
       "  <th>Kurtosis:</th>      <td> 2.353</td>  <th>  Cond. No.          </th> <td>1.75e+06</td>\n",
       "</tr>\n",
       "</table><br/><br/>Notes:<br/>[1] Standard Errors assume that the covariance matrix of the errors is correctly specified.<br/>[2] The condition number is large, 1.75e+06. This might indicate that there are<br/>strong multicollinearity or other numerical problems."
      ],
      "text/plain": [
       "<class 'statsmodels.iolib.summary.Summary'>\n",
       "\"\"\"\n",
       "                            OLS Regression Results                            \n",
       "==============================================================================\n",
       "Dep. Variable:                  spend   R-squared:                       0.312\n",
       "Model:                            OLS   Adj. R-squared:                  0.312\n",
       "Method:                 Least Squares   F-statistic:                     556.3\n",
       "Date:                Mon, 25 Sep 2023   Prob (F-statistic):               0.00\n",
       "Time:                        19:01:16   Log-Likelihood:                -84391.\n",
       "No. Observations:                9812   AIC:                         1.688e+05\n",
       "Df Residuals:                    9803   BIC:                         1.689e+05\n",
       "Df Model:                           8                                         \n",
       "Covariance Type:            nonrobust                                         \n",
       "============================================================================================\n",
       "                               coef    std err          t      P>|t|      [0.025      0.975]\n",
       "--------------------------------------------------------------------------------------------\n",
       "Intercept                 4390.9346     70.935     61.901      0.000    4251.888    4529.981\n",
       "age                          0.6422      1.243      0.517      0.605      -1.794       3.079\n",
       "household_income             0.0022      0.000     18.335      0.000       0.002       0.002\n",
       "num_children                 1.5062      7.795      0.193      0.847     -13.774      16.786\n",
       "num_vehicles                 2.4418      7.849      0.311      0.756     -12.943      17.827\n",
       "gender_M                 -1035.0956     28.833    -35.899      0.000   -1091.615    -978.576\n",
       "marital_status_unmarried  -867.0921     30.815    -28.138      0.000    -927.497    -806.688\n",
       "home_ownership_rent      -1069.8124     31.409    -34.061      0.000   -1131.381   -1008.244\n",
       "home_ownership_unknown   -1045.7841     45.611    -22.929      0.000   -1135.190    -956.378\n",
       "==============================================================================\n",
       "Omnibus:                      506.699   Durbin-Watson:                   2.005\n",
       "Prob(Omnibus):                  0.000   Jarque-Bera (JB):              280.802\n",
       "Skew:                          -0.259   Prob(JB):                     1.06e-61\n",
       "Kurtosis:                       2.353   Cond. No.                     1.75e+06\n",
       "==============================================================================\n",
       "\n",
       "Notes:\n",
       "[1] Standard Errors assume that the covariance matrix of the errors is correctly specified.\n",
       "[2] The condition number is large, 1.75e+06. This might indicate that there are\n",
       "strong multicollinearity or other numerical problems.\n",
       "\"\"\""
      ]
     },
     "execution_count": 18,
     "metadata": {},
     "output_type": "execute_result"
    }
   ],
   "source": [
    "full_mlr.summary()"
   ]
  },
  {
   "cell_type": "code",
   "execution_count": 20,
   "id": "3d3417e4-fa99-435b-9c17-0b68615598d4",
   "metadata": {
    "tags": []
   },
   "outputs": [
    {
     "data": {
      "text/plain": [
       "<Axes: >"
      ]
     },
     "execution_count": 20,
     "metadata": {},
     "output_type": "execute_result"
    },
    {
     "data": {
      "image/png": "[encoded data removed]",
      "text/plain": [
       "<Figure size 640x480 with 2 Axes>"
      ]
     },
     "metadata": {},
     "output_type": "display_data"
    }
   ],
   "source": [
    "sns.heatmap(X_train.corr(), vmin=-1, vmax=1, annot=True, lw=0.5)"
   ]
  },
  {
   "cell_type": "markdown",
   "id": "56a88e52",
   "metadata": {},
   "source": [
    "## Finding VIFs\n",
    "\n",
    "Unfortunately, the `summary()` method does not include the VIFs for each variable. (Wouldn't that be nice!) We can, however, find them somewhat painlessly. The code cell below contains a function that will compute VIFs for the features/variables that are passed into it using the `X_train` dataset we created earlier."
   ]
  },
  {
   "cell_type": "code",
   "execution_count": 21,
   "id": "1570ed9b",
   "metadata": {
    "tags": []
   },
   "outputs": [],
   "source": [
    "# compute the vif for all given features\n",
    "def compute_vif(considered_features):\n",
    "    X = X_train[considered_features]\n",
    "    # the calculation of variance inflation requires a constant\n",
    "    X['intercept'] = 1\n",
    "    \n",
    "    # create dataframe to store vif values\n",
    "    vif = pd.DataFrame()\n",
    "    vif['Variable'] = X.columns\n",
    "    vif['VIF'] = [variance_inflation_factor(X.values, i) for i in range(X.shape[1])]\n",
    "    vif = vif[vif['Variable']!='intercept']\n",
    "    return vif"
   ]
  },
  {
   "cell_type": "code",
   "execution_count": 22,
   "id": "d163a679",
   "metadata": {
    "tags": []
   },
   "outputs": [
    {
     "data": {
      "text/html": [
       "<div><div id=bcb60a1b-a843-481e-aa1d-d13f8e4582f9 style=\"display:none; background-color:#9D6CFF; color:white; width:200px; height:30px; padding-left:5px; border-radius:4px; flex-direction:row; justify-content:space-around; align-items:center;\" onmouseover=\"this.style.backgroundColor='#BA9BF8'\" onmouseout=\"this.style.backgroundColor='#9D6CFF'\" onclick=\"window.commands?.execute('create-mitosheet-from-dataframe-output');\">See Full Dataframe in Mito</div> <script> if (window.commands.hasCommand('create-mitosheet-from-dataframe-output')) document.getElementById('bcb60a1b-a843-481e-aa1d-d13f8e4582f9').style.display = 'flex' </script> <table border=\"1\" class=\"dataframe\">\n",
       "  <thead>\n",
       "    <tr style=\"text-align: right;\">\n",
       "      <th></th>\n",
       "      <th>Variable</th>\n",
       "      <th>VIF</th>\n",
       "    </tr>\n",
       "  </thead>\n",
       "  <tbody>\n",
       "    <tr>\n",
       "      <th>0</th>\n",
       "      <td>age</td>\n",
       "      <td>1.001041</td>\n",
       "    </tr>\n",
       "    <tr>\n",
       "      <th>1</th>\n",
       "      <td>household_income</td>\n",
       "      <td>1.055120</td>\n",
       "    </tr>\n",
       "    <tr>\n",
       "      <th>2</th>\n",
       "      <td>num_children</td>\n",
       "      <td>1.000589</td>\n",
       "    </tr>\n",
       "    <tr>\n",
       "      <th>3</th>\n",
       "      <td>num_vehicles</td>\n",
       "      <td>1.000562</td>\n",
       "    </tr>\n",
       "    <tr>\n",
       "      <th>4</th>\n",
       "      <td>gender_M</td>\n",
       "      <td>1.017138</td>\n",
       "    </tr>\n",
       "    <tr>\n",
       "      <th>5</th>\n",
       "      <td>marital_status_unmarried</td>\n",
       "      <td>1.012634</td>\n",
       "    </tr>\n",
       "    <tr>\n",
       "      <th>6</th>\n",
       "      <td>home_ownership_rent</td>\n",
       "      <td>1.060476</td>\n",
       "    </tr>\n",
       "    <tr>\n",
       "      <th>7</th>\n",
       "      <td>home_ownership_unknown</td>\n",
       "      <td>1.049085</td>\n",
       "    </tr>\n",
       "  </tbody>\n",
       "</table></div>"
      ],
      "text/plain": [
       "                   Variable       VIF\n",
       "0                       age  1.001041\n",
       "1          household_income  1.055120\n",
       "2              num_children  1.000589\n",
       "3              num_vehicles  1.000562\n",
       "4                  gender_M  1.017138\n",
       "5  marital_status_unmarried  1.012634\n",
       "6       home_ownership_rent  1.060476\n",
       "7    home_ownership_unknown  1.049085"
      ]
     },
     "execution_count": 22,
     "metadata": {},
     "output_type": "execute_result"
    }
   ],
   "source": [
    "# Send the function all the columns from X_train\n",
    "compute_vif(X_train.columns)"
   ]
  },
  {
   "cell_type": "markdown",
   "id": "d5879efe",
   "metadata": {},
   "source": [
    "### What Does This Mean?\n",
    "\n",
    "You tell me!"
   ]
  },
  {
   "cell_type": "code",
   "execution_count": 27,
   "id": "a6669898-2094-4636-857c-dba4cb740cbc",
   "metadata": {
    "tags": []
   },
   "outputs": [
    {
     "name": "stderr",
     "output_type": "stream",
     "text": [
      "/tmp/ipykernel_127/516561236.py:5: SettingWithCopyWarning: \n",
      "A value is trying to be set on a copy of a slice from a DataFrame.\n",
      "Try using .loc[row_indexer,col_indexer] = value instead\n",
      "\n",
      "See the caveats in the documentation: https://pandas.pydata.org/pandas-docs/stable/user_guide/indexing.html#returning-a-view-versus-a-copy\n",
      "  X['intercept'] = 1\n"
     ]
    },
    {
     "data": {
      "text/html": [
       "<div><div id=3c4eb515-614c-4586-affc-809c7ed1e8b1 style=\"display:none; background-color:#9D6CFF; color:white; width:200px; height:30px; padding-left:5px; border-radius:4px; flex-direction:row; justify-content:space-around; align-items:center;\" onmouseover=\"this.style.backgroundColor='#BA9BF8'\" onmouseout=\"this.style.backgroundColor='#9D6CFF'\" onclick=\"window.commands?.execute('create-mitosheet-from-dataframe-output');\">See Full Dataframe in Mito</div> <script> if (window.commands.hasCommand('create-mitosheet-from-dataframe-output')) document.getElementById('3c4eb515-614c-4586-affc-809c7ed1e8b1').style.display = 'flex' </script> <table border=\"1\" class=\"dataframe\">\n",
       "  <thead>\n",
       "    <tr style=\"text-align: right;\">\n",
       "      <th></th>\n",
       "      <th>Variable</th>\n",
       "      <th>VIF</th>\n",
       "    </tr>\n",
       "  </thead>\n",
       "  <tbody>\n",
       "    <tr>\n",
       "      <th>0</th>\n",
       "      <td>age</td>\n",
       "      <td>1.000460</td>\n",
       "    </tr>\n",
       "    <tr>\n",
       "      <th>1</th>\n",
       "      <td>num_children</td>\n",
       "      <td>1.000299</td>\n",
       "    </tr>\n",
       "    <tr>\n",
       "      <th>2</th>\n",
       "      <td>num_vehicles</td>\n",
       "      <td>1.000189</td>\n",
       "    </tr>\n",
       "  </tbody>\n",
       "</table></div>"
      ],
      "text/plain": [
       "       Variable       VIF\n",
       "0           age  1.000460\n",
       "1  num_children  1.000299\n",
       "2  num_vehicles  1.000189"
      ]
     },
     "execution_count": 27,
     "metadata": {},
     "output_type": "execute_result"
    }
   ],
   "source": [
    "other_features = ['age','num_children','num_vehicles']\n",
    "compute_vif(other_features)"
   ]
  },
  {
   "cell_type": "markdown",
   "id": "400665fd",
   "metadata": {},
   "source": [
    "## We Should Scale the Data\n",
    "\n",
    "Before we attempt to use RFE, Ridge, Lasso, or ElasticNet, we should scale the data. We will use the `StandardScaler` which makes each variable have a mean of 0 and a standard deviation of 1. It does not change the shape of the data. (Thought Exercise: How would you verify that statement?)"
   ]
  },
  {
   "cell_type": "code",
   "execution_count": 28,
   "id": "3f6829ea",
   "metadata": {
    "tags": []
   },
   "outputs": [
    {
     "data": {
      "text/html": [
       "<style>#sk-container-id-1 {color: black;background-color: white;}#sk-container-id-1 pre{padding: 0;}#sk-container-id-1 div.sk-toggleable {background-color: white;}#sk-container-id-1 label.sk-toggleable__label {cursor: pointer;display: block;width: 100%;margin-bottom: 0;padding: 0.3em;box-sizing: border-box;text-align: center;}#sk-container-id-1 label.sk-toggleable__label-arrow:before {content: \"▸\";float: left;margin-right: 0.25em;color: #696969;}#sk-container-id-1 label.sk-toggleable__label-arrow:hover:before {color: black;}#sk-container-id-1 div.sk-estimator:hover label.sk-toggleable__label-arrow:before {color: black;}#sk-container-id-1 div.sk-toggleable__content {max-height: 0;max-width: 0;overflow: hidden;text-align: left;background-color: #f0f8ff;}#sk-container-id-1 div.sk-toggleable__content pre {margin: 0.2em;color: black;border-radius: 0.25em;background-color: #f0f8ff;}#sk-container-id-1 input.sk-toggleable__control:checked~div.sk-toggleable__content {max-height: 200px;max-width: 100%;overflow: auto;}#sk-container-id-1 input.sk-toggleable__control:checked~label.sk-toggleable__label-arrow:before {content: \"▾\";}#sk-container-id-1 div.sk-estimator input.sk-toggleable__control:checked~label.sk-toggleable__label {background-color: #d4ebff;}#sk-container-id-1 div.sk-label input.sk-toggleable__control:checked~label.sk-toggleable__label {background-color: #d4ebff;}#sk-container-id-1 input.sk-hidden--visually {border: 0;clip: rect(1px 1px 1px 1px);clip: rect(1px, 1px, 1px, 1px);height: 1px;margin: -1px;overflow: hidden;padding: 0;position: absolute;width: 1px;}#sk-container-id-1 div.sk-estimator {font-family: monospace;background-color: #f0f8ff;border: 1px dotted black;border-radius: 0.25em;box-sizing: border-box;margin-bottom: 0.5em;}#sk-container-id-1 div.sk-estimator:hover {background-color: #d4ebff;}#sk-container-id-1 div.sk-parallel-item::after {content: \"\";width: 100%;border-bottom: 1px solid gray;flex-grow: 1;}#sk-container-id-1 div.sk-label:hover label.sk-toggleable__label {background-color: #d4ebff;}#sk-container-id-1 div.sk-serial::before {content: \"\";position: absolute;border-left: 1px solid gray;box-sizing: border-box;top: 0;bottom: 0;left: 50%;z-index: 0;}#sk-container-id-1 div.sk-serial {display: flex;flex-direction: column;align-items: center;background-color: white;padding-right: 0.2em;padding-left: 0.2em;position: relative;}#sk-container-id-1 div.sk-item {position: relative;z-index: 1;}#sk-container-id-1 div.sk-parallel {display: flex;align-items: stretch;justify-content: center;background-color: white;position: relative;}#sk-container-id-1 div.sk-item::before, #sk-container-id-1 div.sk-parallel-item::before {content: \"\";position: absolute;border-left: 1px solid gray;box-sizing: border-box;top: 0;bottom: 0;left: 50%;z-index: -1;}#sk-container-id-1 div.sk-parallel-item {display: flex;flex-direction: column;z-index: 1;position: relative;background-color: white;}#sk-container-id-1 div.sk-parallel-item:first-child::after {align-self: flex-end;width: 50%;}#sk-container-id-1 div.sk-parallel-item:last-child::after {align-self: flex-start;width: 50%;}#sk-container-id-1 div.sk-parallel-item:only-child::after {width: 0;}#sk-container-id-1 div.sk-dashed-wrapped {border: 1px dashed gray;margin: 0 0.4em 0.5em 0.4em;box-sizing: border-box;padding-bottom: 0.4em;background-color: white;}#sk-container-id-1 div.sk-label label {font-family: monospace;font-weight: bold;display: inline-block;line-height: 1.2em;}#sk-container-id-1 div.sk-label-container {text-align: center;}#sk-container-id-1 div.sk-container {/* jupyter's `normalize.less` sets `[hidden] { display: none; }` but bootstrap.min.css set `[hidden] { display: none !important; }` so we also need the `!important` here to be able to override the default hidden behavior on the sphinx rendered scikit-learn.org. See: https://github.com/scikit-learn/scikit-learn/issues/21755 */display: inline-block !important;position: relative;}#sk-container-id-1 div.sk-text-repr-fallback {display: none;}</style><div id=\"sk-container-id-1\" class=\"sk-top-container\"><div class=\"sk-text-repr-fallback\"><pre>StandardScaler()</pre><b>In a Jupyter environment, please rerun this cell to show the HTML representation or trust the notebook. <br />On GitHub, the HTML representation is unable to render, please try loading this page with nbviewer.org.</b></div><div class=\"sk-container\" hidden><div class=\"sk-item\"><div class=\"sk-estimator sk-toggleable\"><input class=\"sk-toggleable__control sk-hidden--visually\" id=\"sk-estimator-id-1\" type=\"checkbox\" checked><label for=\"sk-estimator-id-1\" class=\"sk-toggleable__label sk-toggleable__label-arrow\">StandardScaler</label><div class=\"sk-toggleable__content\"><pre>StandardScaler()</pre></div></div></div></div></div>"
      ],
      "text/plain": [
       "StandardScaler()"
      ]
     },
     "execution_count": 28,
     "metadata": {},
     "output_type": "execute_result"
    }
   ],
   "source": [
    "# Fit the scaler on just the training X variables\n",
    "# Let's start with StandardScaler which will center\n",
    "# each variable at 0 and give each a unit variance (=1)\n",
    "s_scaler = StandardScaler().fit(X_train)\n",
    "s_scaler"
   ]
  },
  {
   "cell_type": "code",
   "execution_count": 29,
   "id": "cb0d8243-f95b-4dbe-80f4-b007ffd66fd7",
   "metadata": {
    "tags": []
   },
   "outputs": [
    {
     "data": {
      "text/plain": [
       "array([[ 1.60382026,  1.26725841, -0.29657933, ...,  1.72548554,\n",
       "        -0.58425455, -0.33102598],\n",
       "       [ 1.60382026, -0.97477435,  0.87658593, ...,  1.72548554,\n",
       "        -0.58425455, -0.33102598],\n",
       "       [ 1.04277097, -2.00392197,  1.46316856, ..., -0.57954702,\n",
       "         1.71158272, -0.33102598],\n",
       "       ...,\n",
       "       [ 1.69732847, -0.06328659, -0.88316197, ..., -0.57954702,\n",
       "        -0.58425455, -0.33102598],\n",
       "       [ 0.38821347,  0.43503953, -1.4697446 , ..., -0.57954702,\n",
       "        -0.58425455, -0.33102598],\n",
       "       [ 1.51031205, -1.56514316, -0.88316197, ..., -0.57954702,\n",
       "        -0.58425455, -0.33102598]])"
      ]
     },
     "execution_count": 29,
     "metadata": {},
     "output_type": "execute_result"
    }
   ],
   "source": [
    "s_scaler.transform(X_train)"
   ]
  },
  {
   "cell_type": "code",
   "execution_count": 30,
   "id": "1056491d",
   "metadata": {
    "tags": []
   },
   "outputs": [],
   "source": [
    "# Transform X_train\n",
    "X_train_ss = s_scaler.transform(X_train)\n",
    "# Put it in a DataFrame using same column names\n",
    "train_X_ss = pd.DataFrame(X_train_ss, columns=X_train.columns)"
   ]
  },
  {
   "cell_type": "code",
   "execution_count": 31,
   "id": "da0a0a67",
   "metadata": {
    "tags": []
   },
   "outputs": [
    {
     "data": {
      "text/html": [
       "<div><div id=a38ed671-e5c1-4149-8678-46c80b6ee673 style=\"display:none; background-color:#9D6CFF; color:white; width:200px; height:30px; padding-left:5px; border-radius:4px; flex-direction:row; justify-content:space-around; align-items:center;\" onmouseover=\"this.style.backgroundColor='#BA9BF8'\" onmouseout=\"this.style.backgroundColor='#9D6CFF'\" onclick=\"window.commands?.execute('create-mitosheet-from-dataframe-output');\">See Full Dataframe in Mito</div> <script> if (window.commands.hasCommand('create-mitosheet-from-dataframe-output')) document.getElementById('a38ed671-e5c1-4149-8678-46c80b6ee673').style.display = 'flex' </script> <table border=\"1\" class=\"dataframe\">\n",
       "  <thead>\n",
       "    <tr style=\"text-align: right;\">\n",
       "      <th></th>\n",
       "      <th>age</th>\n",
       "      <th>household_income</th>\n",
       "      <th>num_children</th>\n",
       "      <th>num_vehicles</th>\n",
       "      <th>gender_M</th>\n",
       "      <th>marital_status_unmarried</th>\n",
       "      <th>home_ownership_rent</th>\n",
       "      <th>home_ownership_unknown</th>\n",
       "    </tr>\n",
       "  </thead>\n",
       "  <tbody>\n",
       "    <tr>\n",
       "      <th>0</th>\n",
       "      <td>1.603820</td>\n",
       "      <td>1.267258</td>\n",
       "      <td>-0.296579</td>\n",
       "      <td>-0.297835</td>\n",
       "      <td>1.473185</td>\n",
       "      <td>1.725486</td>\n",
       "      <td>-0.584255</td>\n",
       "      <td>-0.331026</td>\n",
       "    </tr>\n",
       "    <tr>\n",
       "      <th>1</th>\n",
       "      <td>1.603820</td>\n",
       "      <td>-0.974774</td>\n",
       "      <td>0.876586</td>\n",
       "      <td>-0.297835</td>\n",
       "      <td>1.473185</td>\n",
       "      <td>1.725486</td>\n",
       "      <td>-0.584255</td>\n",
       "      <td>-0.331026</td>\n",
       "    </tr>\n",
       "    <tr>\n",
       "      <th>2</th>\n",
       "      <td>1.042771</td>\n",
       "      <td>-2.003922</td>\n",
       "      <td>1.463169</td>\n",
       "      <td>0.883391</td>\n",
       "      <td>-0.678801</td>\n",
       "      <td>-0.579547</td>\n",
       "      <td>1.711583</td>\n",
       "      <td>-0.331026</td>\n",
       "    </tr>\n",
       "    <tr>\n",
       "      <th>3</th>\n",
       "      <td>-1.388443</td>\n",
       "      <td>1.622960</td>\n",
       "      <td>-0.296579</td>\n",
       "      <td>-0.888448</td>\n",
       "      <td>-0.678801</td>\n",
       "      <td>-0.579547</td>\n",
       "      <td>-0.584255</td>\n",
       "      <td>-0.331026</td>\n",
       "    </tr>\n",
       "    <tr>\n",
       "      <th>4</th>\n",
       "      <td>-1.575459</td>\n",
       "      <td>0.469891</td>\n",
       "      <td>-1.469745</td>\n",
       "      <td>-0.888448</td>\n",
       "      <td>-0.678801</td>\n",
       "      <td>1.725486</td>\n",
       "      <td>-0.584255</td>\n",
       "      <td>-0.331026</td>\n",
       "    </tr>\n",
       "    <tr>\n",
       "      <th>...</th>\n",
       "      <td>...</td>\n",
       "      <td>...</td>\n",
       "      <td>...</td>\n",
       "      <td>...</td>\n",
       "      <td>...</td>\n",
       "      <td>...</td>\n",
       "      <td>...</td>\n",
       "      <td>...</td>\n",
       "    </tr>\n",
       "    <tr>\n",
       "      <th>9807</th>\n",
       "      <td>-1.668967</td>\n",
       "      <td>-0.940331</td>\n",
       "      <td>-1.469745</td>\n",
       "      <td>0.292778</td>\n",
       "      <td>1.473185</td>\n",
       "      <td>-0.579547</td>\n",
       "      <td>-0.584255</td>\n",
       "      <td>-0.331026</td>\n",
       "    </tr>\n",
       "    <tr>\n",
       "      <th>9808</th>\n",
       "      <td>-0.733885</td>\n",
       "      <td>-0.538569</td>\n",
       "      <td>-0.883162</td>\n",
       "      <td>-0.888448</td>\n",
       "      <td>-0.678801</td>\n",
       "      <td>-0.579547</td>\n",
       "      <td>-0.584255</td>\n",
       "      <td>-0.331026</td>\n",
       "    </tr>\n",
       "    <tr>\n",
       "      <th>9809</th>\n",
       "      <td>1.697328</td>\n",
       "      <td>-0.063287</td>\n",
       "      <td>-0.883162</td>\n",
       "      <td>0.292778</td>\n",
       "      <td>-0.678801</td>\n",
       "      <td>-0.579547</td>\n",
       "      <td>-0.584255</td>\n",
       "      <td>-0.331026</td>\n",
       "    </tr>\n",
       "    <tr>\n",
       "      <th>9810</th>\n",
       "      <td>0.388213</td>\n",
       "      <td>0.435040</td>\n",
       "      <td>-1.469745</td>\n",
       "      <td>0.292778</td>\n",
       "      <td>1.473185</td>\n",
       "      <td>-0.579547</td>\n",
       "      <td>-0.584255</td>\n",
       "      <td>-0.331026</td>\n",
       "    </tr>\n",
       "    <tr>\n",
       "      <th>9811</th>\n",
       "      <td>1.510312</td>\n",
       "      <td>-1.565143</td>\n",
       "      <td>-0.883162</td>\n",
       "      <td>-0.888448</td>\n",
       "      <td>1.473185</td>\n",
       "      <td>-0.579547</td>\n",
       "      <td>-0.584255</td>\n",
       "      <td>-0.331026</td>\n",
       "    </tr>\n",
       "  </tbody>\n",
       "</table></div>"
      ],
      "text/plain": [
       "           age  household_income  num_children  num_vehicles  gender_M   \n",
       "0     1.603820          1.267258     -0.296579     -0.297835  1.473185  \\\n",
       "1     1.603820         -0.974774      0.876586     -0.297835  1.473185   \n",
       "2     1.042771         -2.003922      1.463169      0.883391 -0.678801   \n",
       "3    -1.388443          1.622960     -0.296579     -0.888448 -0.678801   \n",
       "4    -1.575459          0.469891     -1.469745     -0.888448 -0.678801   \n",
       "...        ...               ...           ...           ...       ...   \n",
       "9807 -1.668967         -0.940331     -1.469745      0.292778  1.473185   \n",
       "9808 -0.733885         -0.538569     -0.883162     -0.888448 -0.678801   \n",
       "9809  1.697328         -0.063287     -0.883162      0.292778 -0.678801   \n",
       "9810  0.388213          0.435040     -1.469745      0.292778  1.473185   \n",
       "9811  1.510312         -1.565143     -0.883162     -0.888448  1.473185   \n",
       "\n",
       "      marital_status_unmarried  home_ownership_rent  home_ownership_unknown  \n",
       "0                     1.725486            -0.584255               -0.331026  \n",
       "1                     1.725486            -0.584255               -0.331026  \n",
       "2                    -0.579547             1.711583               -0.331026  \n",
       "3                    -0.579547            -0.584255               -0.331026  \n",
       "4                     1.725486            -0.584255               -0.331026  \n",
       "...                        ...                  ...                     ...  \n",
       "9807                 -0.579547            -0.584255               -0.331026  \n",
       "9808                 -0.579547            -0.584255               -0.331026  \n",
       "9809                 -0.579547            -0.584255               -0.331026  \n",
       "9810                 -0.579547            -0.584255               -0.331026  \n",
       "9811                 -0.579547            -0.584255               -0.331026  \n",
       "\n",
       "[9812 rows x 8 columns]"
      ]
     },
     "execution_count": 31,
     "metadata": {},
     "output_type": "execute_result"
    }
   ],
   "source": [
    "# Take a look at the DataFrame\n",
    "train_X_ss"
   ]
  },
  {
   "cell_type": "code",
   "execution_count": 32,
   "id": "de854cf0",
   "metadata": {
    "tags": []
   },
   "outputs": [
    {
     "data": {
      "text/html": [
       "<div><div id=1eb1fcfa-3dd1-4822-bc93-bf46cfdd6b6d style=\"display:none; background-color:#9D6CFF; color:white; width:200px; height:30px; padding-left:5px; border-radius:4px; flex-direction:row; justify-content:space-around; align-items:center;\" onmouseover=\"this.style.backgroundColor='#BA9BF8'\" onmouseout=\"this.style.backgroundColor='#9D6CFF'\" onclick=\"window.commands?.execute('create-mitosheet-from-dataframe-output');\">See Full Dataframe in Mito</div> <script> if (window.commands.hasCommand('create-mitosheet-from-dataframe-output')) document.getElementById('1eb1fcfa-3dd1-4822-bc93-bf46cfdd6b6d').style.display = 'flex' </script> <table border=\"1\" class=\"dataframe\">\n",
       "  <thead>\n",
       "    <tr style=\"text-align: right;\">\n",
       "      <th></th>\n",
       "      <th>age</th>\n",
       "      <th>household_income</th>\n",
       "      <th>num_children</th>\n",
       "      <th>num_vehicles</th>\n",
       "      <th>gender_M</th>\n",
       "      <th>marital_status_unmarried</th>\n",
       "      <th>home_ownership_rent</th>\n",
       "      <th>home_ownership_unknown</th>\n",
       "    </tr>\n",
       "  </thead>\n",
       "  <tbody>\n",
       "    <tr>\n",
       "      <th>count</th>\n",
       "      <td>9.812000e+03</td>\n",
       "      <td>9.812000e+03</td>\n",
       "      <td>9.812000e+03</td>\n",
       "      <td>9.812000e+03</td>\n",
       "      <td>9.812000e+03</td>\n",
       "      <td>9.812000e+03</td>\n",
       "      <td>9.812000e+03</td>\n",
       "      <td>9.812000e+03</td>\n",
       "    </tr>\n",
       "    <tr>\n",
       "      <th>mean</th>\n",
       "      <td>4.924267e-17</td>\n",
       "      <td>-1.578662e-16</td>\n",
       "      <td>-6.626035e-17</td>\n",
       "      <td>-9.486455e-17</td>\n",
       "      <td>-4.127694e-17</td>\n",
       "      <td>6.752763e-17</td>\n",
       "      <td>-5.630320e-17</td>\n",
       "      <td>-1.375898e-17</td>\n",
       "    </tr>\n",
       "    <tr>\n",
       "      <th>std</th>\n",
       "      <td>1.000051e+00</td>\n",
       "      <td>1.000051e+00</td>\n",
       "      <td>1.000051e+00</td>\n",
       "      <td>1.000051e+00</td>\n",
       "      <td>1.000051e+00</td>\n",
       "      <td>1.000051e+00</td>\n",
       "      <td>1.000051e+00</td>\n",
       "      <td>1.000051e+00</td>\n",
       "    </tr>\n",
       "    <tr>\n",
       "      <th>min</th>\n",
       "      <td>-1.668967e+00</td>\n",
       "      <td>-2.053426e+00</td>\n",
       "      <td>-1.469745e+00</td>\n",
       "      <td>-1.479061e+00</td>\n",
       "      <td>-6.788013e-01</td>\n",
       "      <td>-5.795470e-01</td>\n",
       "      <td>-5.842546e-01</td>\n",
       "      <td>-3.310260e-01</td>\n",
       "    </tr>\n",
       "    <tr>\n",
       "      <th>25%</th>\n",
       "      <td>-8.273933e-01</td>\n",
       "      <td>-7.266243e-01</td>\n",
       "      <td>-8.831620e-01</td>\n",
       "      <td>-8.884476e-01</td>\n",
       "      <td>-6.788013e-01</td>\n",
       "      <td>-5.795470e-01</td>\n",
       "      <td>-5.842546e-01</td>\n",
       "      <td>-3.310260e-01</td>\n",
       "    </tr>\n",
       "    <tr>\n",
       "      <th>50%</th>\n",
       "      <td>1.418062e-02</td>\n",
       "      <td>4.409943e-02</td>\n",
       "      <td>2.900033e-01</td>\n",
       "      <td>2.927784e-01</td>\n",
       "      <td>-6.788013e-01</td>\n",
       "      <td>-5.795470e-01</td>\n",
       "      <td>-5.842546e-01</td>\n",
       "      <td>-3.310260e-01</td>\n",
       "    </tr>\n",
       "    <tr>\n",
       "      <th>75%</th>\n",
       "      <td>8.557545e-01</td>\n",
       "      <td>8.439403e-01</td>\n",
       "      <td>8.765859e-01</td>\n",
       "      <td>8.833914e-01</td>\n",
       "      <td>1.473185e+00</td>\n",
       "      <td>1.725486e+00</td>\n",
       "      <td>1.711583e+00</td>\n",
       "      <td>-3.310260e-01</td>\n",
       "    </tr>\n",
       "    <tr>\n",
       "      <th>max</th>\n",
       "      <td>1.697328e+00</td>\n",
       "      <td>1.642012e+00</td>\n",
       "      <td>1.463169e+00</td>\n",
       "      <td>1.474004e+00</td>\n",
       "      <td>1.473185e+00</td>\n",
       "      <td>1.725486e+00</td>\n",
       "      <td>1.711583e+00</td>\n",
       "      <td>3.020911e+00</td>\n",
       "    </tr>\n",
       "  </tbody>\n",
       "</table></div>"
      ],
      "text/plain": [
       "                age  household_income  num_children  num_vehicles   \n",
       "count  9.812000e+03      9.812000e+03  9.812000e+03  9.812000e+03  \\\n",
       "mean   4.924267e-17     -1.578662e-16 -6.626035e-17 -9.486455e-17   \n",
       "std    1.000051e+00      1.000051e+00  1.000051e+00  1.000051e+00   \n",
       "min   -1.668967e+00     -2.053426e+00 -1.469745e+00 -1.479061e+00   \n",
       "25%   -8.273933e-01     -7.266243e-01 -8.831620e-01 -8.884476e-01   \n",
       "50%    1.418062e-02      4.409943e-02  2.900033e-01  2.927784e-01   \n",
       "75%    8.557545e-01      8.439403e-01  8.765859e-01  8.833914e-01   \n",
       "max    1.697328e+00      1.642012e+00  1.463169e+00  1.474004e+00   \n",
       "\n",
       "           gender_M  marital_status_unmarried  home_ownership_rent   \n",
       "count  9.812000e+03              9.812000e+03         9.812000e+03  \\\n",
       "mean  -4.127694e-17              6.752763e-17        -5.630320e-17   \n",
       "std    1.000051e+00              1.000051e+00         1.000051e+00   \n",
       "min   -6.788013e-01             -5.795470e-01        -5.842546e-01   \n",
       "25%   -6.788013e-01             -5.795470e-01        -5.842546e-01   \n",
       "50%   -6.788013e-01             -5.795470e-01        -5.842546e-01   \n",
       "75%    1.473185e+00              1.725486e+00         1.711583e+00   \n",
       "max    1.473185e+00              1.725486e+00         1.711583e+00   \n",
       "\n",
       "       home_ownership_unknown  \n",
       "count            9.812000e+03  \n",
       "mean            -1.375898e-17  \n",
       "std              1.000051e+00  \n",
       "min             -3.310260e-01  \n",
       "25%             -3.310260e-01  \n",
       "50%             -3.310260e-01  \n",
       "75%             -3.310260e-01  \n",
       "max              3.020911e+00  "
      ]
     },
     "execution_count": 32,
     "metadata": {},
     "output_type": "execute_result"
    }
   ],
   "source": [
    "# Summary statistics for scaled data\n",
    "train_X_ss.describe()"
   ]
  },
  {
   "cell_type": "markdown",
   "id": "86a0c87a",
   "metadata": {},
   "source": [
    "## RFE \n",
    "\n",
    "Recursive feature elimination will rank the input variables if you tell it to only select a single feature. Let's try it and see what order it thinks the input variables add value to the regression."
   ]
  },
  {
   "cell_type": "code",
   "execution_count": 33,
   "id": "c2c0e6f4",
   "metadata": {
    "tags": []
   },
   "outputs": [
    {
     "data": {
      "text/html": [
       "<style>#sk-container-id-2 {color: black;background-color: white;}#sk-container-id-2 pre{padding: 0;}#sk-container-id-2 div.sk-toggleable {background-color: white;}#sk-container-id-2 label.sk-toggleable__label {cursor: pointer;display: block;width: 100%;margin-bottom: 0;padding: 0.3em;box-sizing: border-box;text-align: center;}#sk-container-id-2 label.sk-toggleable__label-arrow:before {content: \"▸\";float: left;margin-right: 0.25em;color: #696969;}#sk-container-id-2 label.sk-toggleable__label-arrow:hover:before {color: black;}#sk-container-id-2 div.sk-estimator:hover label.sk-toggleable__label-arrow:before {color: black;}#sk-container-id-2 div.sk-toggleable__content {max-height: 0;max-width: 0;overflow: hidden;text-align: left;background-color: #f0f8ff;}#sk-container-id-2 div.sk-toggleable__content pre {margin: 0.2em;color: black;border-radius: 0.25em;background-color: #f0f8ff;}#sk-container-id-2 input.sk-toggleable__control:checked~div.sk-toggleable__content {max-height: 200px;max-width: 100%;overflow: auto;}#sk-container-id-2 input.sk-toggleable__control:checked~label.sk-toggleable__label-arrow:before {content: \"▾\";}#sk-container-id-2 div.sk-estimator input.sk-toggleable__control:checked~label.sk-toggleable__label {background-color: #d4ebff;}#sk-container-id-2 div.sk-label input.sk-toggleable__control:checked~label.sk-toggleable__label {background-color: #d4ebff;}#sk-container-id-2 input.sk-hidden--visually {border: 0;clip: rect(1px 1px 1px 1px);clip: rect(1px, 1px, 1px, 1px);height: 1px;margin: -1px;overflow: hidden;padding: 0;position: absolute;width: 1px;}#sk-container-id-2 div.sk-estimator {font-family: monospace;background-color: #f0f8ff;border: 1px dotted black;border-radius: 0.25em;box-sizing: border-box;margin-bottom: 0.5em;}#sk-container-id-2 div.sk-estimator:hover {background-color: #d4ebff;}#sk-container-id-2 div.sk-parallel-item::after {content: \"\";width: 100%;border-bottom: 1px solid gray;flex-grow: 1;}#sk-container-id-2 div.sk-label:hover label.sk-toggleable__label {background-color: #d4ebff;}#sk-container-id-2 div.sk-serial::before {content: \"\";position: absolute;border-left: 1px solid gray;box-sizing: border-box;top: 0;bottom: 0;left: 50%;z-index: 0;}#sk-container-id-2 div.sk-serial {display: flex;flex-direction: column;align-items: center;background-color: white;padding-right: 0.2em;padding-left: 0.2em;position: relative;}#sk-container-id-2 div.sk-item {position: relative;z-index: 1;}#sk-container-id-2 div.sk-parallel {display: flex;align-items: stretch;justify-content: center;background-color: white;position: relative;}#sk-container-id-2 div.sk-item::before, #sk-container-id-2 div.sk-parallel-item::before {content: \"\";position: absolute;border-left: 1px solid gray;box-sizing: border-box;top: 0;bottom: 0;left: 50%;z-index: -1;}#sk-container-id-2 div.sk-parallel-item {display: flex;flex-direction: column;z-index: 1;position: relative;background-color: white;}#sk-container-id-2 div.sk-parallel-item:first-child::after {align-self: flex-end;width: 50%;}#sk-container-id-2 div.sk-parallel-item:last-child::after {align-self: flex-start;width: 50%;}#sk-container-id-2 div.sk-parallel-item:only-child::after {width: 0;}#sk-container-id-2 div.sk-dashed-wrapped {border: 1px dashed gray;margin: 0 0.4em 0.5em 0.4em;box-sizing: border-box;padding-bottom: 0.4em;background-color: white;}#sk-container-id-2 div.sk-label label {font-family: monospace;font-weight: bold;display: inline-block;line-height: 1.2em;}#sk-container-id-2 div.sk-label-container {text-align: center;}#sk-container-id-2 div.sk-container {/* jupyter's `normalize.less` sets `[hidden] { display: none; }` but bootstrap.min.css set `[hidden] { display: none !important; }` so we also need the `!important` here to be able to override the default hidden behavior on the sphinx rendered scikit-learn.org. See: https://github.com/scikit-learn/scikit-learn/issues/21755 */display: inline-block !important;position: relative;}#sk-container-id-2 div.sk-text-repr-fallback {display: none;}</style><div id=\"sk-container-id-2\" class=\"sk-top-container\"><div class=\"sk-text-repr-fallback\"><pre>LinearRegression()</pre><b>In a Jupyter environment, please rerun this cell to show the HTML representation or trust the notebook. <br />On GitHub, the HTML representation is unable to render, please try loading this page with nbviewer.org.</b></div><div class=\"sk-container\" hidden><div class=\"sk-item\"><div class=\"sk-estimator sk-toggleable\"><input class=\"sk-toggleable__control sk-hidden--visually\" id=\"sk-estimator-id-2\" type=\"checkbox\" checked><label for=\"sk-estimator-id-2\" class=\"sk-toggleable__label sk-toggleable__label-arrow\">LinearRegression</label><div class=\"sk-toggleable__content\"><pre>LinearRegression()</pre></div></div></div></div></div>"
      ],
      "text/plain": [
       "LinearRegression()"
      ]
     },
     "execution_count": 33,
     "metadata": {},
     "output_type": "execute_result"
    }
   ],
   "source": [
    "# Run regression on the standardized data (mean=0, stdev=1)\n",
    "mlr = LinearRegression()\n",
    "rfe = RFE(mlr, n_features_to_select=1)\n",
    "\n",
    "mlr.fit(rfe.fit_transform(train_X_ss, y_train), y_train)"
   ]
  },
  {
   "cell_type": "code",
   "execution_count": 35,
   "id": "65038272-5ada-4b25-bda0-219a7bb72c09",
   "metadata": {
    "tags": []
   },
   "outputs": [
    {
     "data": {
      "text/plain": [
       "Index(['age', 'household_income', 'num_children', 'num_vehicles', 'gender_M',\n",
       "       'marital_status_unmarried', 'home_ownership_rent',\n",
       "       'home_ownership_unknown'],\n",
       "      dtype='object')"
      ]
     },
     "execution_count": 35,
     "metadata": {},
     "output_type": "execute_result"
    }
   ],
   "source": [
    "X_train.columns"
   ]
  },
  {
   "cell_type": "code",
   "execution_count": 34,
   "id": "642e0cc9",
   "metadata": {
    "tags": []
   },
   "outputs": [
    {
     "data": {
      "text/plain": [
       "array([False, False, False, False,  True, False, False, False])"
      ]
     },
     "execution_count": 34,
     "metadata": {},
     "output_type": "execute_result"
    }
   ],
   "source": [
    "# Print a boolean array called support_\n",
    "# Because we had n_features_to_select=1, only one will be True\n",
    "rfe.support_"
   ]
  },
  {
   "cell_type": "code",
   "execution_count": 36,
   "id": "7f772d6e",
   "metadata": {
    "tags": []
   },
   "outputs": [
    {
     "data": {
      "text/plain": [
       "array([6, 5, 8, 7, 1, 3, 2, 4])"
      ]
     },
     "execution_count": 36,
     "metadata": {},
     "output_type": "execute_result"
    }
   ],
   "source": [
    "# What order are the other input variables in?\n",
    "rfe.ranking_"
   ]
  },
  {
   "cell_type": "code",
   "execution_count": 37,
   "id": "6e659a83",
   "metadata": {
    "tags": []
   },
   "outputs": [
    {
     "name": "stdout",
     "output_type": "stream",
     "text": [
      "Input variables sorted by their rank:\n",
      "[(1, 'gender_M'), (2, 'home_ownership_rent'), (3, 'marital_status_unmarried'), (4, 'home_ownership_unknown'), (5, 'household_income'), (6, 'age'), (7, 'num_vehicles'), (8, 'num_children')]\n"
     ]
    }
   ],
   "source": [
    "# Let's try to make sense of the ranking by matching each ranking\n",
    "# with its column name\n",
    "print('Input variables sorted by their rank:')\n",
    "\n",
    "d = {}\n",
    "for i in range(len(rfe.ranking_)):\n",
    "    d[rfe.ranking_[i]] = train_X_ss.columns[i]\n",
    "    \n",
    "print(sorted(d.items()))"
   ]
  },
  {
   "cell_type": "markdown",
   "id": "ba719eea",
   "metadata": {},
   "source": [
    "### 'Optimal' Number of Features?\n",
    "\n",
    "Let's try RFECV that is supposed to find the \"optimal\" number of features for us"
   ]
  },
  {
   "cell_type": "code",
   "execution_count": 38,
   "id": "c472cae4",
   "metadata": {
    "tags": []
   },
   "outputs": [
    {
     "name": "stdout",
     "output_type": "stream",
     "text": [
      "Optimal number of features: 5\n"
     ]
    }
   ],
   "source": [
    "mlr_rfecv = LinearRegression()\n",
    "rfecv = RFECV(mlr_rfecv)\n",
    "\n",
    "mlr_rfecv.fit(rfecv.fit_transform(train_X_ss, y_train), y_train)\n",
    "print(f'Optimal number of features: {rfecv.n_features_}')"
   ]
  },
  {
   "cell_type": "code",
   "execution_count": 39,
   "id": "1413f390",
   "metadata": {
    "tags": []
   },
   "outputs": [
    {
     "name": "stdout",
     "output_type": "stream",
     "text": [
      "[False  True False False  True  True  True  True]\n",
      "[2 1 4 3 1 1 1 1]\n"
     ]
    }
   ],
   "source": [
    "# Look at the support and ranking\n",
    "print(rfecv.support_)\n",
    "print(rfecv.ranking_)"
   ]
  },
  {
   "cell_type": "code",
   "execution_count": 40,
   "id": "1a95a0b4",
   "metadata": {
    "tags": []
   },
   "outputs": [
    {
     "name": "stdout",
     "output_type": "stream",
     "text": [
      "Ranking of 1: household_income\n",
      "Ranking of 1: gender_M\n",
      "Ranking of 1: marital_status_unmarried\n",
      "Ranking of 1: home_ownership_rent\n",
      "Ranking of 1: home_ownership_unknown\n"
     ]
    }
   ],
   "source": [
    "# Print out all the variables that have a ranking of 1\n",
    "for i in range(len(rfecv.ranking_)):\n",
    "    if rfecv.ranking_[i] == 1:\n",
    "        print(f'Ranking of 1: {train_X_ss.columns[i]}')"
   ]
  },
  {
   "cell_type": "markdown",
   "id": "ca831294",
   "metadata": {},
   "source": [
    "Notice that those all \"tie\" for a ranking of 1. It does not tell us which of those 5 input variables is the most important similar to what we saw with `RFE` setting `n_features_to_select=1`. In this case, they are simply printed out in the order they appear in the `DataFrame`."
   ]
  },
  {
   "cell_type": "code",
   "execution_count": 41,
   "id": "3c1a7809",
   "metadata": {
    "tags": []
   },
   "outputs": [
    {
     "data": {
      "text/plain": [
       "array([ 250.04203132, -481.04081646, -376.17781042, -466.01787133,\n",
       "       -311.91387113])"
      ]
     },
     "execution_count": 41,
     "metadata": {},
     "output_type": "execute_result"
    }
   ],
   "source": [
    "# What do the estimated coefficients look like?\n",
    "rfecv.estimator_.coef_"
   ]
  },
  {
   "cell_type": "markdown",
   "id": "549ac350",
   "metadata": {},
   "source": [
    "## Verify Estimated Coefficients\n",
    "\n",
    "Lets' use `statsmodels` to verify the estimated coefficients that we received from the `RFECV` model. We are going to use a slightly different implementation of ordinary least squares than we have used from `statsmodels` before. The reason is that it you can pass in two different datasets, one for the independent variables and one for the dependent variable which makes our lives a bit simpler."
   ]
  },
  {
   "cell_type": "code",
   "execution_count": 42,
   "id": "67ab431a",
   "metadata": {
    "tags": []
   },
   "outputs": [
    {
     "data": {
      "text/html": [
       "<div><div id=a91c09ae-9ddf-428c-8cb7-6d62971b65fb style=\"display:none; background-color:#9D6CFF; color:white; width:200px; height:30px; padding-left:5px; border-radius:4px; flex-direction:row; justify-content:space-around; align-items:center;\" onmouseover=\"this.style.backgroundColor='#BA9BF8'\" onmouseout=\"this.style.backgroundColor='#9D6CFF'\" onclick=\"window.commands?.execute('create-mitosheet-from-dataframe-output');\">See Full Dataframe in Mito</div> <script> if (window.commands.hasCommand('create-mitosheet-from-dataframe-output')) document.getElementById('a91c09ae-9ddf-428c-8cb7-6d62971b65fb').style.display = 'flex' </script> <table border=\"1\" class=\"dataframe\">\n",
       "  <thead>\n",
       "    <tr style=\"text-align: right;\">\n",
       "      <th></th>\n",
       "      <th>const</th>\n",
       "      <th>household_income</th>\n",
       "      <th>gender_M</th>\n",
       "      <th>marital_status_unmarried</th>\n",
       "      <th>home_ownership_rent</th>\n",
       "      <th>home_ownership_unknown</th>\n",
       "    </tr>\n",
       "  </thead>\n",
       "  <tbody>\n",
       "    <tr>\n",
       "      <th>0</th>\n",
       "      <td>1.0</td>\n",
       "      <td>1.267258</td>\n",
       "      <td>1.473185</td>\n",
       "      <td>1.725486</td>\n",
       "      <td>-0.584255</td>\n",
       "      <td>-0.331026</td>\n",
       "    </tr>\n",
       "    <tr>\n",
       "      <th>1</th>\n",
       "      <td>1.0</td>\n",
       "      <td>-0.974774</td>\n",
       "      <td>1.473185</td>\n",
       "      <td>1.725486</td>\n",
       "      <td>-0.584255</td>\n",
       "      <td>-0.331026</td>\n",
       "    </tr>\n",
       "    <tr>\n",
       "      <th>2</th>\n",
       "      <td>1.0</td>\n",
       "      <td>-2.003922</td>\n",
       "      <td>-0.678801</td>\n",
       "      <td>-0.579547</td>\n",
       "      <td>1.711583</td>\n",
       "      <td>-0.331026</td>\n",
       "    </tr>\n",
       "    <tr>\n",
       "      <th>3</th>\n",
       "      <td>1.0</td>\n",
       "      <td>1.622960</td>\n",
       "      <td>-0.678801</td>\n",
       "      <td>-0.579547</td>\n",
       "      <td>-0.584255</td>\n",
       "      <td>-0.331026</td>\n",
       "    </tr>\n",
       "    <tr>\n",
       "      <th>4</th>\n",
       "      <td>1.0</td>\n",
       "      <td>0.469891</td>\n",
       "      <td>-0.678801</td>\n",
       "      <td>1.725486</td>\n",
       "      <td>-0.584255</td>\n",
       "      <td>-0.331026</td>\n",
       "    </tr>\n",
       "    <tr>\n",
       "      <th>...</th>\n",
       "      <td>...</td>\n",
       "      <td>...</td>\n",
       "      <td>...</td>\n",
       "      <td>...</td>\n",
       "      <td>...</td>\n",
       "      <td>...</td>\n",
       "    </tr>\n",
       "    <tr>\n",
       "      <th>9807</th>\n",
       "      <td>1.0</td>\n",
       "      <td>-0.940331</td>\n",
       "      <td>1.473185</td>\n",
       "      <td>-0.579547</td>\n",
       "      <td>-0.584255</td>\n",
       "      <td>-0.331026</td>\n",
       "    </tr>\n",
       "    <tr>\n",
       "      <th>9808</th>\n",
       "      <td>1.0</td>\n",
       "      <td>-0.538569</td>\n",
       "      <td>-0.678801</td>\n",
       "      <td>-0.579547</td>\n",
       "      <td>-0.584255</td>\n",
       "      <td>-0.331026</td>\n",
       "    </tr>\n",
       "    <tr>\n",
       "      <th>9809</th>\n",
       "      <td>1.0</td>\n",
       "      <td>-0.063287</td>\n",
       "      <td>-0.678801</td>\n",
       "      <td>-0.579547</td>\n",
       "      <td>-0.584255</td>\n",
       "      <td>-0.331026</td>\n",
       "    </tr>\n",
       "    <tr>\n",
       "      <th>9810</th>\n",
       "      <td>1.0</td>\n",
       "      <td>0.435040</td>\n",
       "      <td>1.473185</td>\n",
       "      <td>-0.579547</td>\n",
       "      <td>-0.584255</td>\n",
       "      <td>-0.331026</td>\n",
       "    </tr>\n",
       "    <tr>\n",
       "      <th>9811</th>\n",
       "      <td>1.0</td>\n",
       "      <td>-1.565143</td>\n",
       "      <td>1.473185</td>\n",
       "      <td>-0.579547</td>\n",
       "      <td>-0.584255</td>\n",
       "      <td>-0.331026</td>\n",
       "    </tr>\n",
       "  </tbody>\n",
       "</table></div>"
      ],
      "text/plain": [
       "      const  household_income  gender_M  marital_status_unmarried   \n",
       "0       1.0          1.267258  1.473185                  1.725486  \\\n",
       "1       1.0         -0.974774  1.473185                  1.725486   \n",
       "2       1.0         -2.003922 -0.678801                 -0.579547   \n",
       "3       1.0          1.622960 -0.678801                 -0.579547   \n",
       "4       1.0          0.469891 -0.678801                  1.725486   \n",
       "...     ...               ...       ...                       ...   \n",
       "9807    1.0         -0.940331  1.473185                 -0.579547   \n",
       "9808    1.0         -0.538569 -0.678801                 -0.579547   \n",
       "9809    1.0         -0.063287 -0.678801                 -0.579547   \n",
       "9810    1.0          0.435040  1.473185                 -0.579547   \n",
       "9811    1.0         -1.565143  1.473185                 -0.579547   \n",
       "\n",
       "      home_ownership_rent  home_ownership_unknown  \n",
       "0               -0.584255               -0.331026  \n",
       "1               -0.584255               -0.331026  \n",
       "2                1.711583               -0.331026  \n",
       "3               -0.584255               -0.331026  \n",
       "4               -0.584255               -0.331026  \n",
       "...                   ...                     ...  \n",
       "9807            -0.584255               -0.331026  \n",
       "9808            -0.584255               -0.331026  \n",
       "9809            -0.584255               -0.331026  \n",
       "9810            -0.584255               -0.331026  \n",
       "9811            -0.584255               -0.331026  \n",
       "\n",
       "[9812 rows x 6 columns]"
      ]
     },
     "execution_count": 42,
     "metadata": {},
     "output_type": "execute_result"
    }
   ],
   "source": [
    "# Create a new DataFrame called new_X_train that contains \"important\" variables\n",
    "new_X_train = train_X_ss[['household_income','gender_M','marital_status_unmarried','home_ownership_rent','home_ownership_unknown']]\n",
    "\n",
    "# We need a constant term with the approach we are taking\n",
    "new_X_train = sm.add_constant(new_X_train)\n",
    "\n",
    "# See what new_X_train looks like\n",
    "new_X_train"
   ]
  },
  {
   "cell_type": "code",
   "execution_count": 43,
   "id": "4591783f",
   "metadata": {
    "tags": []
   },
   "outputs": [],
   "source": [
    "# We need to create a DataFrame for the y_train data\n",
    "# Most notably, we are resetting the index so that it\n",
    "# aligns with the index for the X variables\n",
    "train_y = pd.DataFrame(y_train,\n",
    "             columns=['spend']).reset_index(drop=True)"
   ]
  },
  {
   "cell_type": "code",
   "execution_count": 44,
   "id": "e070468b",
   "metadata": {
    "tags": []
   },
   "outputs": [
    {
     "data": {
      "text/html": [
       "<div><div id=d7de5c12-f205-4faf-984e-532c693b1c86 style=\"display:none; background-color:#9D6CFF; color:white; width:200px; height:30px; padding-left:5px; border-radius:4px; flex-direction:row; justify-content:space-around; align-items:center;\" onmouseover=\"this.style.backgroundColor='#BA9BF8'\" onmouseout=\"this.style.backgroundColor='#9D6CFF'\" onclick=\"window.commands?.execute('create-mitosheet-from-dataframe-output');\">See Full Dataframe in Mito</div> <script> if (window.commands.hasCommand('create-mitosheet-from-dataframe-output')) document.getElementById('d7de5c12-f205-4faf-984e-532c693b1c86').style.display = 'flex' </script> <table border=\"1\" class=\"dataframe\">\n",
       "  <thead>\n",
       "    <tr style=\"text-align: right;\">\n",
       "      <th></th>\n",
       "      <th>spend</th>\n",
       "    </tr>\n",
       "  </thead>\n",
       "  <tbody>\n",
       "    <tr>\n",
       "      <th>0</th>\n",
       "      <td>2708</td>\n",
       "    </tr>\n",
       "    <tr>\n",
       "      <th>1</th>\n",
       "      <td>4926</td>\n",
       "    </tr>\n",
       "    <tr>\n",
       "      <th>2</th>\n",
       "      <td>3982</td>\n",
       "    </tr>\n",
       "    <tr>\n",
       "      <th>3</th>\n",
       "      <td>7310</td>\n",
       "    </tr>\n",
       "    <tr>\n",
       "      <th>4</th>\n",
       "      <td>4795</td>\n",
       "    </tr>\n",
       "    <tr>\n",
       "      <th>...</th>\n",
       "      <td>...</td>\n",
       "    </tr>\n",
       "    <tr>\n",
       "      <th>9807</th>\n",
       "      <td>2966</td>\n",
       "    </tr>\n",
       "    <tr>\n",
       "      <th>9808</th>\n",
       "      <td>4491</td>\n",
       "    </tr>\n",
       "    <tr>\n",
       "      <th>9809</th>\n",
       "      <td>5495</td>\n",
       "    </tr>\n",
       "    <tr>\n",
       "      <th>9810</th>\n",
       "      <td>2463</td>\n",
       "    </tr>\n",
       "    <tr>\n",
       "      <th>9811</th>\n",
       "      <td>1889</td>\n",
       "    </tr>\n",
       "  </tbody>\n",
       "</table></div>"
      ],
      "text/plain": [
       "      spend\n",
       "0      2708\n",
       "1      4926\n",
       "2      3982\n",
       "3      7310\n",
       "4      4795\n",
       "...     ...\n",
       "9807   2966\n",
       "9808   4491\n",
       "9809   5495\n",
       "9810   2463\n",
       "9811   1889\n",
       "\n",
       "[9812 rows x 1 columns]"
      ]
     },
     "execution_count": 44,
     "metadata": {},
     "output_type": "execute_result"
    }
   ],
   "source": [
    "# Take a look at it\n",
    "train_y"
   ]
  },
  {
   "cell_type": "code",
   "execution_count": 45,
   "id": "e65cafb7",
   "metadata": {
    "tags": []
   },
   "outputs": [
    {
     "data": {
      "text/html": [
       "<table class=\"simpletable\">\n",
       "<caption>OLS Regression Results</caption>\n",
       "<tr>\n",
       "  <th>Dep. Variable:</th>          <td>spend</td>      <th>  R-squared:         </th> <td>   0.312</td> \n",
       "</tr>\n",
       "<tr>\n",
       "  <th>Model:</th>                   <td>OLS</td>       <th>  Adj. R-squared:    </th> <td>   0.312</td> \n",
       "</tr>\n",
       "<tr>\n",
       "  <th>Method:</th>             <td>Least Squares</td>  <th>  F-statistic:       </th> <td>   890.2</td> \n",
       "</tr>\n",
       "<tr>\n",
       "  <th>Date:</th>             <td>Mon, 25 Sep 2023</td> <th>  Prob (F-statistic):</th>  <td>  0.00</td>  \n",
       "</tr>\n",
       "<tr>\n",
       "  <th>Time:</th>                 <td>19:50:12</td>     <th>  Log-Likelihood:    </th> <td> -84391.</td> \n",
       "</tr>\n",
       "<tr>\n",
       "  <th>No. Observations:</th>      <td>  9812</td>      <th>  AIC:               </th> <td>1.688e+05</td>\n",
       "</tr>\n",
       "<tr>\n",
       "  <th>Df Residuals:</th>          <td>  9806</td>      <th>  BIC:               </th> <td>1.688e+05</td>\n",
       "</tr>\n",
       "<tr>\n",
       "  <th>Df Model:</th>              <td>     5</td>      <th>                     </th>     <td> </td>    \n",
       "</tr>\n",
       "<tr>\n",
       "  <th>Covariance Type:</th>      <td>nonrobust</td>    <th>                     </th>     <td> </td>    \n",
       "</tr>\n",
       "</table>\n",
       "<table class=\"simpletable\">\n",
       "<tr>\n",
       "              <td></td>                <th>coef</th>     <th>std err</th>      <th>t</th>      <th>P>|t|</th>  <th>[0.025</th>    <th>0.975]</th>  \n",
       "</tr>\n",
       "<tr>\n",
       "  <th>const</th>                    <td> 4160.2794</td> <td>   13.283</td> <td>  313.196</td> <td> 0.000</td> <td> 4134.241</td> <td> 4186.317</td>\n",
       "</tr>\n",
       "<tr>\n",
       "  <th>household_income</th>         <td>  250.0420</td> <td>   13.640</td> <td>   18.331</td> <td> 0.000</td> <td>  223.305</td> <td>  276.780</td>\n",
       "</tr>\n",
       "<tr>\n",
       "  <th>gender_M</th>                 <td> -481.0408</td> <td>   13.396</td> <td>  -35.908</td> <td> 0.000</td> <td> -507.301</td> <td> -454.781</td>\n",
       "</tr>\n",
       "<tr>\n",
       "  <th>marital_status_unmarried</th> <td> -376.1778</td> <td>   13.364</td> <td>  -28.148</td> <td> 0.000</td> <td> -402.374</td> <td> -349.981</td>\n",
       "</tr>\n",
       "<tr>\n",
       "  <th>home_ownership_rent</th>      <td> -466.0179</td> <td>   13.679</td> <td>  -34.069</td> <td> 0.000</td> <td> -492.831</td> <td> -439.205</td>\n",
       "</tr>\n",
       "<tr>\n",
       "  <th>home_ownership_unknown</th>   <td> -311.9139</td> <td>   13.605</td> <td>  -22.927</td> <td> 0.000</td> <td> -338.582</td> <td> -285.246</td>\n",
       "</tr>\n",
       "</table>\n",
       "<table class=\"simpletable\">\n",
       "<tr>\n",
       "  <th>Omnibus:</th>       <td>506.575</td> <th>  Durbin-Watson:     </th> <td>   2.005</td>\n",
       "</tr>\n",
       "<tr>\n",
       "  <th>Prob(Omnibus):</th> <td> 0.000</td>  <th>  Jarque-Bera (JB):  </th> <td> 280.888</td>\n",
       "</tr>\n",
       "<tr>\n",
       "  <th>Skew:</th>          <td>-0.259</td>  <th>  Prob(JB):          </th> <td>1.01e-61</td>\n",
       "</tr>\n",
       "<tr>\n",
       "  <th>Kurtosis:</th>      <td> 2.353</td>  <th>  Cond. No.          </th> <td>    1.31</td>\n",
       "</tr>\n",
       "</table><br/><br/>Notes:<br/>[1] Standard Errors assume that the covariance matrix of the errors is correctly specified."
      ],
      "text/plain": [
       "<class 'statsmodels.iolib.summary.Summary'>\n",
       "\"\"\"\n",
       "                            OLS Regression Results                            \n",
       "==============================================================================\n",
       "Dep. Variable:                  spend   R-squared:                       0.312\n",
       "Model:                            OLS   Adj. R-squared:                  0.312\n",
       "Method:                 Least Squares   F-statistic:                     890.2\n",
       "Date:                Mon, 25 Sep 2023   Prob (F-statistic):               0.00\n",
       "Time:                        19:50:12   Log-Likelihood:                -84391.\n",
       "No. Observations:                9812   AIC:                         1.688e+05\n",
       "Df Residuals:                    9806   BIC:                         1.688e+05\n",
       "Df Model:                           5                                         \n",
       "Covariance Type:            nonrobust                                         \n",
       "============================================================================================\n",
       "                               coef    std err          t      P>|t|      [0.025      0.975]\n",
       "--------------------------------------------------------------------------------------------\n",
       "const                     4160.2794     13.283    313.196      0.000    4134.241    4186.317\n",
       "household_income           250.0420     13.640     18.331      0.000     223.305     276.780\n",
       "gender_M                  -481.0408     13.396    -35.908      0.000    -507.301    -454.781\n",
       "marital_status_unmarried  -376.1778     13.364    -28.148      0.000    -402.374    -349.981\n",
       "home_ownership_rent       -466.0179     13.679    -34.069      0.000    -492.831    -439.205\n",
       "home_ownership_unknown    -311.9139     13.605    -22.927      0.000    -338.582    -285.246\n",
       "==============================================================================\n",
       "Omnibus:                      506.575   Durbin-Watson:                   2.005\n",
       "Prob(Omnibus):                  0.000   Jarque-Bera (JB):              280.888\n",
       "Skew:                          -0.259   Prob(JB):                     1.01e-61\n",
       "Kurtosis:                       2.353   Cond. No.                         1.31\n",
       "==============================================================================\n",
       "\n",
       "Notes:\n",
       "[1] Standard Errors assume that the covariance matrix of the errors is correctly specified.\n",
       "\"\"\""
      ]
     },
     "execution_count": 45,
     "metadata": {},
     "output_type": "execute_result"
    }
   ],
   "source": [
    "# Create a OLS model, fit it, and look at its summary\n",
    "m = sm.OLS(train_y, new_X_train).fit()\n",
    "m.summary()"
   ]
  },
  {
   "cell_type": "markdown",
   "id": "97c8cc5d",
   "metadata": {},
   "source": [
    "## Ridge Regression\n",
    "Let's try Ridge regression (also called the $\\ell_{2}$ norm)."
   ]
  },
  {
   "cell_type": "code",
   "execution_count": 46,
   "id": "0e60bb32",
   "metadata": {
    "tags": []
   },
   "outputs": [
    {
     "data": {
      "text/html": [
       "<style>#sk-container-id-3 {color: black;background-color: white;}#sk-container-id-3 pre{padding: 0;}#sk-container-id-3 div.sk-toggleable {background-color: white;}#sk-container-id-3 label.sk-toggleable__label {cursor: pointer;display: block;width: 100%;margin-bottom: 0;padding: 0.3em;box-sizing: border-box;text-align: center;}#sk-container-id-3 label.sk-toggleable__label-arrow:before {content: \"▸\";float: left;margin-right: 0.25em;color: #696969;}#sk-container-id-3 label.sk-toggleable__label-arrow:hover:before {color: black;}#sk-container-id-3 div.sk-estimator:hover label.sk-toggleable__label-arrow:before {color: black;}#sk-container-id-3 div.sk-toggleable__content {max-height: 0;max-width: 0;overflow: hidden;text-align: left;background-color: #f0f8ff;}#sk-container-id-3 div.sk-toggleable__content pre {margin: 0.2em;color: black;border-radius: 0.25em;background-color: #f0f8ff;}#sk-container-id-3 input.sk-toggleable__control:checked~div.sk-toggleable__content {max-height: 200px;max-width: 100%;overflow: auto;}#sk-container-id-3 input.sk-toggleable__control:checked~label.sk-toggleable__label-arrow:before {content: \"▾\";}#sk-container-id-3 div.sk-estimator input.sk-toggleable__control:checked~label.sk-toggleable__label {background-color: #d4ebff;}#sk-container-id-3 div.sk-label input.sk-toggleable__control:checked~label.sk-toggleable__label {background-color: #d4ebff;}#sk-container-id-3 input.sk-hidden--visually {border: 0;clip: rect(1px 1px 1px 1px);clip: rect(1px, 1px, 1px, 1px);height: 1px;margin: -1px;overflow: hidden;padding: 0;position: absolute;width: 1px;}#sk-container-id-3 div.sk-estimator {font-family: monospace;background-color: #f0f8ff;border: 1px dotted black;border-radius: 0.25em;box-sizing: border-box;margin-bottom: 0.5em;}#sk-container-id-3 div.sk-estimator:hover {background-color: #d4ebff;}#sk-container-id-3 div.sk-parallel-item::after {content: \"\";width: 100%;border-bottom: 1px solid gray;flex-grow: 1;}#sk-container-id-3 div.sk-label:hover label.sk-toggleable__label {background-color: #d4ebff;}#sk-container-id-3 div.sk-serial::before {content: \"\";position: absolute;border-left: 1px solid gray;box-sizing: border-box;top: 0;bottom: 0;left: 50%;z-index: 0;}#sk-container-id-3 div.sk-serial {display: flex;flex-direction: column;align-items: center;background-color: white;padding-right: 0.2em;padding-left: 0.2em;position: relative;}#sk-container-id-3 div.sk-item {position: relative;z-index: 1;}#sk-container-id-3 div.sk-parallel {display: flex;align-items: stretch;justify-content: center;background-color: white;position: relative;}#sk-container-id-3 div.sk-item::before, #sk-container-id-3 div.sk-parallel-item::before {content: \"\";position: absolute;border-left: 1px solid gray;box-sizing: border-box;top: 0;bottom: 0;left: 50%;z-index: -1;}#sk-container-id-3 div.sk-parallel-item {display: flex;flex-direction: column;z-index: 1;position: relative;background-color: white;}#sk-container-id-3 div.sk-parallel-item:first-child::after {align-self: flex-end;width: 50%;}#sk-container-id-3 div.sk-parallel-item:last-child::after {align-self: flex-start;width: 50%;}#sk-container-id-3 div.sk-parallel-item:only-child::after {width: 0;}#sk-container-id-3 div.sk-dashed-wrapped {border: 1px dashed gray;margin: 0 0.4em 0.5em 0.4em;box-sizing: border-box;padding-bottom: 0.4em;background-color: white;}#sk-container-id-3 div.sk-label label {font-family: monospace;font-weight: bold;display: inline-block;line-height: 1.2em;}#sk-container-id-3 div.sk-label-container {text-align: center;}#sk-container-id-3 div.sk-container {/* jupyter's `normalize.less` sets `[hidden] { display: none; }` but bootstrap.min.css set `[hidden] { display: none !important; }` so we also need the `!important` here to be able to override the default hidden behavior on the sphinx rendered scikit-learn.org. See: https://github.com/scikit-learn/scikit-learn/issues/21755 */display: inline-block !important;position: relative;}#sk-container-id-3 div.sk-text-repr-fallback {display: none;}</style><div id=\"sk-container-id-3\" class=\"sk-top-container\"><div class=\"sk-text-repr-fallback\"><pre>Ridge(alpha=0)</pre><b>In a Jupyter environment, please rerun this cell to show the HTML representation or trust the notebook. <br />On GitHub, the HTML representation is unable to render, please try loading this page with nbviewer.org.</b></div><div class=\"sk-container\" hidden><div class=\"sk-item\"><div class=\"sk-estimator sk-toggleable\"><input class=\"sk-toggleable__control sk-hidden--visually\" id=\"sk-estimator-id-3\" type=\"checkbox\" checked><label for=\"sk-estimator-id-3\" class=\"sk-toggleable__label sk-toggleable__label-arrow\">Ridge</label><div class=\"sk-toggleable__content\"><pre>Ridge(alpha=0)</pre></div></div></div></div></div>"
      ],
      "text/plain": [
       "Ridge(alpha=0)"
      ]
     },
     "execution_count": 46,
     "metadata": {},
     "output_type": "execute_result"
    }
   ],
   "source": [
    "# Create a ridge with alpha=0\n",
    "# This should create a model with the same\n",
    "# estimated coefficients as the full model\n",
    "ridge = Ridge(alpha=0)\n",
    "ridge.fit(X_train_ss, y_train)"
   ]
  },
  {
   "cell_type": "code",
   "execution_count": 47,
   "id": "ebd669e7",
   "metadata": {
    "tags": []
   },
   "outputs": [
    {
     "data": {
      "text/plain": [
       "age                           6.867702\n",
       "household_income            250.199767\n",
       "num_children                  2.567834\n",
       "num_vehicles                  4.134264\n",
       "gender_M                   -480.995390\n",
       "marital_status_unmarried   -376.173455\n",
       "home_ownership_rent        -465.979204\n",
       "home_ownership_unknown     -311.993954\n",
       "dtype: float64"
      ]
     },
     "execution_count": 47,
     "metadata": {},
     "output_type": "execute_result"
    }
   ],
   "source": [
    "# Put the estimated coefficients in a Series for easier viewing\n",
    "pd.Series(ridge.coef_, index=train_X_ss.columns)"
   ]
  },
  {
   "cell_type": "markdown",
   "id": "2ab351cb",
   "metadata": {},
   "source": [
    "### Alpha's Effect\n",
    "\n",
    "In general, the larger the value of $\\alpha$, the more penalization (regularization) which will shrink the estimated coefficients. We may have to change the value of alpha several times to see any major changes in the estimated coefficients."
   ]
  },
  {
   "cell_type": "code",
   "execution_count": 51,
   "id": "74486f83",
   "metadata": {
    "tags": []
   },
   "outputs": [
    {
     "data": {
      "text/plain": [
       "age                          1.212869\n",
       "household_income            77.893564\n",
       "num_children                -0.855501\n",
       "num_vehicles                 0.315269\n",
       "gender_M                   -99.976215\n",
       "marital_status_unmarried   -77.709198\n",
       "home_ownership_rent        -84.996935\n",
       "home_ownership_unknown     -50.150240\n",
       "dtype: float64"
      ]
     },
     "execution_count": 51,
     "metadata": {},
     "output_type": "execute_result"
    }
   ],
   "source": [
    "# Try changing alpha\n",
    "ridge2 = Ridge(alpha=40000)\n",
    "ridge2.fit(X_train_ss, y_train)\n",
    "pd.Series(ridge2.coef_, index=train_X_ss.columns)"
   ]
  },
  {
   "cell_type": "code",
   "execution_count": 54,
   "id": "7b46d49d",
   "metadata": {
    "tags": []
   },
   "outputs": [
    {
     "data": {
      "text/plain": [
       "array([1.00000000e+05, 9.11162756e+04, 8.30217568e+04, 7.56463328e+04,\n",
       "       6.89261210e+04, 6.28029144e+04, 5.72236766e+04, 5.21400829e+04,\n",
       "       4.75081016e+04, 4.32876128e+04, 3.94420606e+04, 3.59381366e+04,\n",
       "       3.27454916e+04, 2.98364724e+04, 2.71858824e+04, 2.47707636e+04,\n",
       "       2.25701972e+04, 2.05651231e+04, 1.87381742e+04, 1.70735265e+04,\n",
       "       1.55567614e+04, 1.41747416e+04, 1.29154967e+04, 1.17681195e+04,\n",
       "       1.07226722e+04, 9.77009957e+03, 8.90215085e+03, 8.11130831e+03,\n",
       "       7.39072203e+03, 6.73415066e+03, 6.13590727e+03, 5.59081018e+03,\n",
       "       5.09413801e+03, 4.64158883e+03, 4.22924287e+03, 3.85352859e+03,\n",
       "       3.51119173e+03, 3.19926714e+03, 2.91505306e+03, 2.65608778e+03,\n",
       "       2.42012826e+03, 2.20513074e+03, 2.00923300e+03, 1.83073828e+03,\n",
       "       1.66810054e+03, 1.51991108e+03, 1.38488637e+03, 1.26185688e+03,\n",
       "       1.14975700e+03, 1.04761575e+03, 9.54548457e+02, 8.69749003e+02,\n",
       "       7.92482898e+02, 7.22080902e+02, 6.57933225e+02, 5.99484250e+02,\n",
       "       5.46227722e+02, 4.97702356e+02, 4.53487851e+02, 4.13201240e+02,\n",
       "       3.76493581e+02, 3.43046929e+02, 3.12571585e+02, 2.84803587e+02,\n",
       "       2.59502421e+02, 2.36448941e+02, 2.15443469e+02, 1.96304065e+02,\n",
       "       1.78864953e+02, 1.62975083e+02, 1.48496826e+02, 1.35304777e+02,\n",
       "       1.23284674e+02, 1.12332403e+02, 1.02353102e+02, 9.32603347e+01,\n",
       "       8.49753436e+01, 7.74263683e+01, 7.05480231e+01, 6.42807312e+01,\n",
       "       5.85702082e+01, 5.33669923e+01, 4.86260158e+01, 4.43062146e+01,\n",
       "       4.03701726e+01, 3.67837977e+01, 3.35160265e+01, 3.05385551e+01,\n",
       "       2.78255940e+01, 2.53536449e+01, 2.31012970e+01, 2.10490414e+01,\n",
       "       1.91791026e+01, 1.74752840e+01, 1.59228279e+01, 1.45082878e+01,\n",
       "       1.32194115e+01, 1.20450354e+01, 1.09749877e+01, 1.00000000e+01])"
      ]
     },
     "execution_count": 54,
     "metadata": {},
     "output_type": "execute_result"
    }
   ],
   "source": [
    "alphas = 10**np.linspace(5,1,100)\n",
    "alphas"
   ]
  },
  {
   "cell_type": "code",
   "execution_count": 55,
   "id": "1c1331cd",
   "metadata": {
    "tags": []
   },
   "outputs": [
    {
     "data": {
      "image/png": "[encoded data removed]",
      "text/plain": [
       "<Figure size 640x480 with 1 Axes>"
      ]
     },
     "metadata": {},
     "output_type": "display_data"
    }
   ],
   "source": [
    "ridge = Ridge()\n",
    "coefs = []\n",
    "\n",
    "for a in alphas:\n",
    "    ridge.set_params(alpha=a)\n",
    "    ridge.fit(X_train_ss, y_train)\n",
    "    coefs.append(ridge.coef_)\n",
    "\n",
    "ax = plt.gca()\n",
    "ax.plot(alphas, coefs)\n",
    "ax.set_xscale('log')\n",
    "#ax.set_xlim(ax.get_xlim()[::-1])  # reverse axis\n",
    "plt.axis('tight')\n",
    "plt.xlabel('alpha')\n",
    "plt.ylabel('weights')\n",
    "plt.title('Ridge coefficients as a function of the regularization')\n",
    "plt.legend(train_X_ss.columns);"
   ]
  },
  {
   "cell_type": "code",
   "execution_count": null,
   "id": "e616726e",
   "metadata": {},
   "outputs": [],
   "source": []
  },
  {
   "cell_type": "code",
   "execution_count": 56,
   "id": "558942e3",
   "metadata": {
    "tags": []
   },
   "outputs": [
    {
     "data": {
      "text/html": [
       "<style>#sk-container-id-4 {color: black;background-color: white;}#sk-container-id-4 pre{padding: 0;}#sk-container-id-4 div.sk-toggleable {background-color: white;}#sk-container-id-4 label.sk-toggleable__label {cursor: pointer;display: block;width: 100%;margin-bottom: 0;padding: 0.3em;box-sizing: border-box;text-align: center;}#sk-container-id-4 label.sk-toggleable__label-arrow:before {content: \"▸\";float: left;margin-right: 0.25em;color: #696969;}#sk-container-id-4 label.sk-toggleable__label-arrow:hover:before {color: black;}#sk-container-id-4 div.sk-estimator:hover label.sk-toggleable__label-arrow:before {color: black;}#sk-container-id-4 div.sk-toggleable__content {max-height: 0;max-width: 0;overflow: hidden;text-align: left;background-color: #f0f8ff;}#sk-container-id-4 div.sk-toggleable__content pre {margin: 0.2em;color: black;border-radius: 0.25em;background-color: #f0f8ff;}#sk-container-id-4 input.sk-toggleable__control:checked~div.sk-toggleable__content {max-height: 200px;max-width: 100%;overflow: auto;}#sk-container-id-4 input.sk-toggleable__control:checked~label.sk-toggleable__label-arrow:before {content: \"▾\";}#sk-container-id-4 div.sk-estimator input.sk-toggleable__control:checked~label.sk-toggleable__label {background-color: #d4ebff;}#sk-container-id-4 div.sk-label input.sk-toggleable__control:checked~label.sk-toggleable__label {background-color: #d4ebff;}#sk-container-id-4 input.sk-hidden--visually {border: 0;clip: rect(1px 1px 1px 1px);clip: rect(1px, 1px, 1px, 1px);height: 1px;margin: -1px;overflow: hidden;padding: 0;position: absolute;width: 1px;}#sk-container-id-4 div.sk-estimator {font-family: monospace;background-color: #f0f8ff;border: 1px dotted black;border-radius: 0.25em;box-sizing: border-box;margin-bottom: 0.5em;}#sk-container-id-4 div.sk-estimator:hover {background-color: #d4ebff;}#sk-container-id-4 div.sk-parallel-item::after {content: \"\";width: 100%;border-bottom: 1px solid gray;flex-grow: 1;}#sk-container-id-4 div.sk-label:hover label.sk-toggleable__label {background-color: #d4ebff;}#sk-container-id-4 div.sk-serial::before {content: \"\";position: absolute;border-left: 1px solid gray;box-sizing: border-box;top: 0;bottom: 0;left: 50%;z-index: 0;}#sk-container-id-4 div.sk-serial {display: flex;flex-direction: column;align-items: center;background-color: white;padding-right: 0.2em;padding-left: 0.2em;position: relative;}#sk-container-id-4 div.sk-item {position: relative;z-index: 1;}#sk-container-id-4 div.sk-parallel {display: flex;align-items: stretch;justify-content: center;background-color: white;position: relative;}#sk-container-id-4 div.sk-item::before, #sk-container-id-4 div.sk-parallel-item::before {content: \"\";position: absolute;border-left: 1px solid gray;box-sizing: border-box;top: 0;bottom: 0;left: 50%;z-index: -1;}#sk-container-id-4 div.sk-parallel-item {display: flex;flex-direction: column;z-index: 1;position: relative;background-color: white;}#sk-container-id-4 div.sk-parallel-item:first-child::after {align-self: flex-end;width: 50%;}#sk-container-id-4 div.sk-parallel-item:last-child::after {align-self: flex-start;width: 50%;}#sk-container-id-4 div.sk-parallel-item:only-child::after {width: 0;}#sk-container-id-4 div.sk-dashed-wrapped {border: 1px dashed gray;margin: 0 0.4em 0.5em 0.4em;box-sizing: border-box;padding-bottom: 0.4em;background-color: white;}#sk-container-id-4 div.sk-label label {font-family: monospace;font-weight: bold;display: inline-block;line-height: 1.2em;}#sk-container-id-4 div.sk-label-container {text-align: center;}#sk-container-id-4 div.sk-container {/* jupyter's `normalize.less` sets `[hidden] { display: none; }` but bootstrap.min.css set `[hidden] { display: none !important; }` so we also need the `!important` here to be able to override the default hidden behavior on the sphinx rendered scikit-learn.org. See: https://github.com/scikit-learn/scikit-learn/issues/21755 */display: inline-block !important;position: relative;}#sk-container-id-4 div.sk-text-repr-fallback {display: none;}</style><div id=\"sk-container-id-4\" class=\"sk-top-container\"><div class=\"sk-text-repr-fallback\"><pre>RidgeCV(alphas=array([1.00000000e+05, 9.11162756e+04, 8.30217568e+04, 7.56463328e+04,\n",
       "       6.89261210e+04, 6.28029144e+04, 5.72236766e+04, 5.21400829e+04,\n",
       "       4.75081016e+04, 4.32876128e+04, 3.94420606e+04, 3.59381366e+04,\n",
       "       3.27454916e+04, 2.98364724e+04, 2.71858824e+04, 2.47707636e+04,\n",
       "       2.25701972e+04, 2.05651231e+04, 1.87381742e+04, 1.70735265e+04,\n",
       "       1.55567614e+04, 1.41747416e+0...\n",
       "       8.49753436e+01, 7.74263683e+01, 7.05480231e+01, 6.42807312e+01,\n",
       "       5.85702082e+01, 5.33669923e+01, 4.86260158e+01, 4.43062146e+01,\n",
       "       4.03701726e+01, 3.67837977e+01, 3.35160265e+01, 3.05385551e+01,\n",
       "       2.78255940e+01, 2.53536449e+01, 2.31012970e+01, 2.10490414e+01,\n",
       "       1.91791026e+01, 1.74752840e+01, 1.59228279e+01, 1.45082878e+01,\n",
       "       1.32194115e+01, 1.20450354e+01, 1.09749877e+01, 1.00000000e+01]),\n",
       "        scoring=&#x27;neg_mean_squared_error&#x27;)</pre><b>In a Jupyter environment, please rerun this cell to show the HTML representation or trust the notebook. <br />On GitHub, the HTML representation is unable to render, please try loading this page with nbviewer.org.</b></div><div class=\"sk-container\" hidden><div class=\"sk-item\"><div class=\"sk-estimator sk-toggleable\"><input class=\"sk-toggleable__control sk-hidden--visually\" id=\"sk-estimator-id-4\" type=\"checkbox\" checked><label for=\"sk-estimator-id-4\" class=\"sk-toggleable__label sk-toggleable__label-arrow\">RidgeCV</label><div class=\"sk-toggleable__content\"><pre>RidgeCV(alphas=array([1.00000000e+05, 9.11162756e+04, 8.30217568e+04, 7.56463328e+04,\n",
       "       6.89261210e+04, 6.28029144e+04, 5.72236766e+04, 5.21400829e+04,\n",
       "       4.75081016e+04, 4.32876128e+04, 3.94420606e+04, 3.59381366e+04,\n",
       "       3.27454916e+04, 2.98364724e+04, 2.71858824e+04, 2.47707636e+04,\n",
       "       2.25701972e+04, 2.05651231e+04, 1.87381742e+04, 1.70735265e+04,\n",
       "       1.55567614e+04, 1.41747416e+0...\n",
       "       8.49753436e+01, 7.74263683e+01, 7.05480231e+01, 6.42807312e+01,\n",
       "       5.85702082e+01, 5.33669923e+01, 4.86260158e+01, 4.43062146e+01,\n",
       "       4.03701726e+01, 3.67837977e+01, 3.35160265e+01, 3.05385551e+01,\n",
       "       2.78255940e+01, 2.53536449e+01, 2.31012970e+01, 2.10490414e+01,\n",
       "       1.91791026e+01, 1.74752840e+01, 1.59228279e+01, 1.45082878e+01,\n",
       "       1.32194115e+01, 1.20450354e+01, 1.09749877e+01, 1.00000000e+01]),\n",
       "        scoring=&#x27;neg_mean_squared_error&#x27;)</pre></div></div></div></div></div>"
      ],
      "text/plain": [
       "RidgeCV(alphas=array([1.00000000e+05, 9.11162756e+04, 8.30217568e+04, 7.56463328e+04,\n",
       "       6.89261210e+04, 6.28029144e+04, 5.72236766e+04, 5.21400829e+04,\n",
       "       4.75081016e+04, 4.32876128e+04, 3.94420606e+04, 3.59381366e+04,\n",
       "       3.27454916e+04, 2.98364724e+04, 2.71858824e+04, 2.47707636e+04,\n",
       "       2.25701972e+04, 2.05651231e+04, 1.87381742e+04, 1.70735265e+04,\n",
       "       1.55567614e+04, 1.41747416e+0...\n",
       "       8.49753436e+01, 7.74263683e+01, 7.05480231e+01, 6.42807312e+01,\n",
       "       5.85702082e+01, 5.33669923e+01, 4.86260158e+01, 4.43062146e+01,\n",
       "       4.03701726e+01, 3.67837977e+01, 3.35160265e+01, 3.05385551e+01,\n",
       "       2.78255940e+01, 2.53536449e+01, 2.31012970e+01, 2.10490414e+01,\n",
       "       1.91791026e+01, 1.74752840e+01, 1.59228279e+01, 1.45082878e+01,\n",
       "       1.32194115e+01, 1.20450354e+01, 1.09749877e+01, 1.00000000e+01]),\n",
       "        scoring='neg_mean_squared_error')"
      ]
     },
     "execution_count": 56,
     "metadata": {},
     "output_type": "execute_result"
    }
   ],
   "source": [
    "# Do a CV Ridge Regression to find best alpha\n",
    "ridgecv = RidgeCV(alphas=alphas, scoring='neg_mean_squared_error')\n",
    "ridgecv.fit(X_train_ss, y_train)"
   ]
  },
  {
   "cell_type": "code",
   "execution_count": 57,
   "id": "26737d61",
   "metadata": {
    "tags": []
   },
   "outputs": [
    {
     "data": {
      "text/plain": [
       "23.10129700083158"
      ]
     },
     "execution_count": 57,
     "metadata": {},
     "output_type": "execute_result"
    }
   ],
   "source": [
    "# Best alpha?\n",
    "ridgecv.alpha_"
   ]
  },
  {
   "cell_type": "code",
   "execution_count": 58,
   "id": "46aafb86",
   "metadata": {
    "tags": []
   },
   "outputs": [
    {
     "data": {
      "text/html": [
       "<style>#sk-container-id-5 {color: black;background-color: white;}#sk-container-id-5 pre{padding: 0;}#sk-container-id-5 div.sk-toggleable {background-color: white;}#sk-container-id-5 label.sk-toggleable__label {cursor: pointer;display: block;width: 100%;margin-bottom: 0;padding: 0.3em;box-sizing: border-box;text-align: center;}#sk-container-id-5 label.sk-toggleable__label-arrow:before {content: \"▸\";float: left;margin-right: 0.25em;color: #696969;}#sk-container-id-5 label.sk-toggleable__label-arrow:hover:before {color: black;}#sk-container-id-5 div.sk-estimator:hover label.sk-toggleable__label-arrow:before {color: black;}#sk-container-id-5 div.sk-toggleable__content {max-height: 0;max-width: 0;overflow: hidden;text-align: left;background-color: #f0f8ff;}#sk-container-id-5 div.sk-toggleable__content pre {margin: 0.2em;color: black;border-radius: 0.25em;background-color: #f0f8ff;}#sk-container-id-5 input.sk-toggleable__control:checked~div.sk-toggleable__content {max-height: 200px;max-width: 100%;overflow: auto;}#sk-container-id-5 input.sk-toggleable__control:checked~label.sk-toggleable__label-arrow:before {content: \"▾\";}#sk-container-id-5 div.sk-estimator input.sk-toggleable__control:checked~label.sk-toggleable__label {background-color: #d4ebff;}#sk-container-id-5 div.sk-label input.sk-toggleable__control:checked~label.sk-toggleable__label {background-color: #d4ebff;}#sk-container-id-5 input.sk-hidden--visually {border: 0;clip: rect(1px 1px 1px 1px);clip: rect(1px, 1px, 1px, 1px);height: 1px;margin: -1px;overflow: hidden;padding: 0;position: absolute;width: 1px;}#sk-container-id-5 div.sk-estimator {font-family: monospace;background-color: #f0f8ff;border: 1px dotted black;border-radius: 0.25em;box-sizing: border-box;margin-bottom: 0.5em;}#sk-container-id-5 div.sk-estimator:hover {background-color: #d4ebff;}#sk-container-id-5 div.sk-parallel-item::after {content: \"\";width: 100%;border-bottom: 1px solid gray;flex-grow: 1;}#sk-container-id-5 div.sk-label:hover label.sk-toggleable__label {background-color: #d4ebff;}#sk-container-id-5 div.sk-serial::before {content: \"\";position: absolute;border-left: 1px solid gray;box-sizing: border-box;top: 0;bottom: 0;left: 50%;z-index: 0;}#sk-container-id-5 div.sk-serial {display: flex;flex-direction: column;align-items: center;background-color: white;padding-right: 0.2em;padding-left: 0.2em;position: relative;}#sk-container-id-5 div.sk-item {position: relative;z-index: 1;}#sk-container-id-5 div.sk-parallel {display: flex;align-items: stretch;justify-content: center;background-color: white;position: relative;}#sk-container-id-5 div.sk-item::before, #sk-container-id-5 div.sk-parallel-item::before {content: \"\";position: absolute;border-left: 1px solid gray;box-sizing: border-box;top: 0;bottom: 0;left: 50%;z-index: -1;}#sk-container-id-5 div.sk-parallel-item {display: flex;flex-direction: column;z-index: 1;position: relative;background-color: white;}#sk-container-id-5 div.sk-parallel-item:first-child::after {align-self: flex-end;width: 50%;}#sk-container-id-5 div.sk-parallel-item:last-child::after {align-self: flex-start;width: 50%;}#sk-container-id-5 div.sk-parallel-item:only-child::after {width: 0;}#sk-container-id-5 div.sk-dashed-wrapped {border: 1px dashed gray;margin: 0 0.4em 0.5em 0.4em;box-sizing: border-box;padding-bottom: 0.4em;background-color: white;}#sk-container-id-5 div.sk-label label {font-family: monospace;font-weight: bold;display: inline-block;line-height: 1.2em;}#sk-container-id-5 div.sk-label-container {text-align: center;}#sk-container-id-5 div.sk-container {/* jupyter's `normalize.less` sets `[hidden] { display: none; }` but bootstrap.min.css set `[hidden] { display: none !important; }` so we also need the `!important` here to be able to override the default hidden behavior on the sphinx rendered scikit-learn.org. See: https://github.com/scikit-learn/scikit-learn/issues/21755 */display: inline-block !important;position: relative;}#sk-container-id-5 div.sk-text-repr-fallback {display: none;}</style><div id=\"sk-container-id-5\" class=\"sk-top-container\"><div class=\"sk-text-repr-fallback\"><pre>Ridge(alpha=23.10129700083158)</pre><b>In a Jupyter environment, please rerun this cell to show the HTML representation or trust the notebook. <br />On GitHub, the HTML representation is unable to render, please try loading this page with nbviewer.org.</b></div><div class=\"sk-container\" hidden><div class=\"sk-item\"><div class=\"sk-estimator sk-toggleable\"><input class=\"sk-toggleable__control sk-hidden--visually\" id=\"sk-estimator-id-5\" type=\"checkbox\" checked><label for=\"sk-estimator-id-5\" class=\"sk-toggleable__label sk-toggleable__label-arrow\">Ridge</label><div class=\"sk-toggleable__content\"><pre>Ridge(alpha=23.10129700083158)</pre></div></div></div></div></div>"
      ],
      "text/plain": [
       "Ridge(alpha=23.10129700083158)"
      ]
     },
     "execution_count": 58,
     "metadata": {},
     "output_type": "execute_result"
    }
   ],
   "source": [
    "# Create a Ridge Regression with the found alpha\n",
    "rba = Ridge(alpha=ridgecv.alpha_)\n",
    "rba.fit(X_train_ss, y_train)"
   ]
  },
  {
   "cell_type": "code",
   "execution_count": 59,
   "id": "02c0a394",
   "metadata": {
    "tags": []
   },
   "outputs": [
    {
     "data": {
      "text/plain": [
       "age                           6.854857\n",
       "household_income            250.067081\n",
       "num_children                  2.546341\n",
       "num_vehicles                  4.115594\n",
       "gender_M                   -479.896063\n",
       "marital_status_unmarried   -375.303195\n",
       "home_ownership_rent        -464.701949\n",
       "home_ownership_unknown     -311.035556\n",
       "dtype: float64"
      ]
     },
     "execution_count": 59,
     "metadata": {},
     "output_type": "execute_result"
    }
   ],
   "source": [
    "pd.Series(rba.coef_, index=train_X_ss.columns)"
   ]
  },
  {
   "cell_type": "code",
   "execution_count": null,
   "id": "6546c3e9",
   "metadata": {},
   "outputs": [],
   "source": []
  },
  {
   "cell_type": "markdown",
   "id": "6fc56e39",
   "metadata": {},
   "source": [
    "## Lasso\n",
    "\n",
    "Let's try Lasso"
   ]
  },
  {
   "cell_type": "code",
   "execution_count": 61,
   "id": "c0131ef6-2dcd-4eba-99e2-2da890dd1500",
   "metadata": {
    "tags": []
   },
   "outputs": [],
   "source": [
    "alphas2 = 10**np.linspace(3,1,100)"
   ]
  },
  {
   "cell_type": "code",
   "execution_count": 67,
   "id": "0895aacc",
   "metadata": {
    "tags": []
   },
   "outputs": [
    {
     "data": {
      "image/png": "[encoded data removed]",
      "text/plain": [
       "<Figure size 640x480 with 1 Axes>"
      ]
     },
     "metadata": {},
     "output_type": "display_data"
    }
   ],
   "source": [
    "lasso = Lasso(max_iter=10000)\n",
    "coefs = []\n",
    "\n",
    "for a in alphas2:\n",
    "    lasso.set_params(alpha=a)\n",
    "    lasso.fit(X_train_ss, y_train)\n",
    "    coefs.append(lasso.coef_)\n",
    "\n",
    "ax = plt.gca()\n",
    "ax.plot(alphas2, coefs)\n",
    "ax.set_xscale('log')\n",
    "#ax.set_xlim(ax.get_xlim()[::-1])  # reverse axis\n",
    "plt.axis('tight')\n",
    "plt.xlabel('alpha')\n",
    "plt.ylabel('weights')\n",
    "plt.title('Lasso coefficients as a function of the regularization')\n",
    "plt.legend(train_X_ss.columns);"
   ]
  },
  {
   "cell_type": "code",
   "execution_count": 63,
   "id": "7850e9e1",
   "metadata": {
    "tags": []
   },
   "outputs": [
    {
     "data": {
      "text/plain": [
       "array([   5.85665848,  249.61318161,    1.5312618 ,    3.13949825,\n",
       "       -480.08959711, -375.22522859, -464.80925078, -310.80257161])"
      ]
     },
     "execution_count": 63,
     "metadata": {},
     "output_type": "execute_result"
    }
   ],
   "source": [
    "# Create a Lasso with default alpha\n",
    "lasso1 = Lasso()\n",
    "lasso1.fit(X_train_ss, y_train)\n",
    "lasso1.coef_"
   ]
  },
  {
   "cell_type": "code",
   "execution_count": null,
   "id": "3dbaf655",
   "metadata": {},
   "outputs": [],
   "source": []
  },
  {
   "cell_type": "code",
   "execution_count": 68,
   "id": "8752ecda",
   "metadata": {
    "tags": []
   },
   "outputs": [
    {
     "data": {
      "text/html": [
       "<style>#sk-container-id-7 {color: black;background-color: white;}#sk-container-id-7 pre{padding: 0;}#sk-container-id-7 div.sk-toggleable {background-color: white;}#sk-container-id-7 label.sk-toggleable__label {cursor: pointer;display: block;width: 100%;margin-bottom: 0;padding: 0.3em;box-sizing: border-box;text-align: center;}#sk-container-id-7 label.sk-toggleable__label-arrow:before {content: \"▸\";float: left;margin-right: 0.25em;color: #696969;}#sk-container-id-7 label.sk-toggleable__label-arrow:hover:before {color: black;}#sk-container-id-7 div.sk-estimator:hover label.sk-toggleable__label-arrow:before {color: black;}#sk-container-id-7 div.sk-toggleable__content {max-height: 0;max-width: 0;overflow: hidden;text-align: left;background-color: #f0f8ff;}#sk-container-id-7 div.sk-toggleable__content pre {margin: 0.2em;color: black;border-radius: 0.25em;background-color: #f0f8ff;}#sk-container-id-7 input.sk-toggleable__control:checked~div.sk-toggleable__content {max-height: 200px;max-width: 100%;overflow: auto;}#sk-container-id-7 input.sk-toggleable__control:checked~label.sk-toggleable__label-arrow:before {content: \"▾\";}#sk-container-id-7 div.sk-estimator input.sk-toggleable__control:checked~label.sk-toggleable__label {background-color: #d4ebff;}#sk-container-id-7 div.sk-label input.sk-toggleable__control:checked~label.sk-toggleable__label {background-color: #d4ebff;}#sk-container-id-7 input.sk-hidden--visually {border: 0;clip: rect(1px 1px 1px 1px);clip: rect(1px, 1px, 1px, 1px);height: 1px;margin: -1px;overflow: hidden;padding: 0;position: absolute;width: 1px;}#sk-container-id-7 div.sk-estimator {font-family: monospace;background-color: #f0f8ff;border: 1px dotted black;border-radius: 0.25em;box-sizing: border-box;margin-bottom: 0.5em;}#sk-container-id-7 div.sk-estimator:hover {background-color: #d4ebff;}#sk-container-id-7 div.sk-parallel-item::after {content: \"\";width: 100%;border-bottom: 1px solid gray;flex-grow: 1;}#sk-container-id-7 div.sk-label:hover label.sk-toggleable__label {background-color: #d4ebff;}#sk-container-id-7 div.sk-serial::before {content: \"\";position: absolute;border-left: 1px solid gray;box-sizing: border-box;top: 0;bottom: 0;left: 50%;z-index: 0;}#sk-container-id-7 div.sk-serial {display: flex;flex-direction: column;align-items: center;background-color: white;padding-right: 0.2em;padding-left: 0.2em;position: relative;}#sk-container-id-7 div.sk-item {position: relative;z-index: 1;}#sk-container-id-7 div.sk-parallel {display: flex;align-items: stretch;justify-content: center;background-color: white;position: relative;}#sk-container-id-7 div.sk-item::before, #sk-container-id-7 div.sk-parallel-item::before {content: \"\";position: absolute;border-left: 1px solid gray;box-sizing: border-box;top: 0;bottom: 0;left: 50%;z-index: -1;}#sk-container-id-7 div.sk-parallel-item {display: flex;flex-direction: column;z-index: 1;position: relative;background-color: white;}#sk-container-id-7 div.sk-parallel-item:first-child::after {align-self: flex-end;width: 50%;}#sk-container-id-7 div.sk-parallel-item:last-child::after {align-self: flex-start;width: 50%;}#sk-container-id-7 div.sk-parallel-item:only-child::after {width: 0;}#sk-container-id-7 div.sk-dashed-wrapped {border: 1px dashed gray;margin: 0 0.4em 0.5em 0.4em;box-sizing: border-box;padding-bottom: 0.4em;background-color: white;}#sk-container-id-7 div.sk-label label {font-family: monospace;font-weight: bold;display: inline-block;line-height: 1.2em;}#sk-container-id-7 div.sk-label-container {text-align: center;}#sk-container-id-7 div.sk-container {/* jupyter's `normalize.less` sets `[hidden] { display: none; }` but bootstrap.min.css set `[hidden] { display: none !important; }` so we also need the `!important` here to be able to override the default hidden behavior on the sphinx rendered scikit-learn.org. See: https://github.com/scikit-learn/scikit-learn/issues/21755 */display: inline-block !important;position: relative;}#sk-container-id-7 div.sk-text-repr-fallback {display: none;}</style><div id=\"sk-container-id-7\" class=\"sk-top-container\"><div class=\"sk-text-repr-fallback\"><pre>LassoCV(alphas=array([1000.        ,  954.54845666,  911.16275612,  869.74900262,\n",
       "        830.21756813,  792.48289835,  756.46332755,  722.08090184,\n",
       "        689.26121043,  657.93322466,  628.02914418,  599.48425032,\n",
       "        572.23676594,  546.22772177,  521.4008288 ,  497.70235643,\n",
       "        475.08101621,  453.48785081,  432.87612811,  413.20124001,\n",
       "        394.42060594,  376.49358068,  359.38136638,  343.04692863,\n",
       "        327.45491629,  312.5715849...\n",
       "         42.29242874,   40.37017259,   38.53528594,   36.78379772,\n",
       "         35.11191734,   33.51602651,   31.99267138,   30.53855509,\n",
       "         29.15053063,   27.82559402,   26.56087783,   25.35364494,\n",
       "         24.20128265,   23.101297  ,   22.0513074 ,   21.04904145,\n",
       "         20.09233003,   19.17910262,   18.3073828 ,   17.475284  ,\n",
       "         16.68100537,   15.92282793,   15.19911083,   14.50828778,\n",
       "         13.84886371,   13.21941148,   12.61856883,   12.0450354 ,\n",
       "         11.49756995,   10.97498765,   10.47615753,   10.        ]),\n",
       "        max_iter=10000)</pre><b>In a Jupyter environment, please rerun this cell to show the HTML representation or trust the notebook. <br />On GitHub, the HTML representation is unable to render, please try loading this page with nbviewer.org.</b></div><div class=\"sk-container\" hidden><div class=\"sk-item\"><div class=\"sk-estimator sk-toggleable\"><input class=\"sk-toggleable__control sk-hidden--visually\" id=\"sk-estimator-id-7\" type=\"checkbox\" checked><label for=\"sk-estimator-id-7\" class=\"sk-toggleable__label sk-toggleable__label-arrow\">LassoCV</label><div class=\"sk-toggleable__content\"><pre>LassoCV(alphas=array([1000.        ,  954.54845666,  911.16275612,  869.74900262,\n",
       "        830.21756813,  792.48289835,  756.46332755,  722.08090184,\n",
       "        689.26121043,  657.93322466,  628.02914418,  599.48425032,\n",
       "        572.23676594,  546.22772177,  521.4008288 ,  497.70235643,\n",
       "        475.08101621,  453.48785081,  432.87612811,  413.20124001,\n",
       "        394.42060594,  376.49358068,  359.38136638,  343.04692863,\n",
       "        327.45491629,  312.5715849...\n",
       "         42.29242874,   40.37017259,   38.53528594,   36.78379772,\n",
       "         35.11191734,   33.51602651,   31.99267138,   30.53855509,\n",
       "         29.15053063,   27.82559402,   26.56087783,   25.35364494,\n",
       "         24.20128265,   23.101297  ,   22.0513074 ,   21.04904145,\n",
       "         20.09233003,   19.17910262,   18.3073828 ,   17.475284  ,\n",
       "         16.68100537,   15.92282793,   15.19911083,   14.50828778,\n",
       "         13.84886371,   13.21941148,   12.61856883,   12.0450354 ,\n",
       "         11.49756995,   10.97498765,   10.47615753,   10.        ]),\n",
       "        max_iter=10000)</pre></div></div></div></div></div>"
      ],
      "text/plain": [
       "LassoCV(alphas=array([1000.        ,  954.54845666,  911.16275612,  869.74900262,\n",
       "        830.21756813,  792.48289835,  756.46332755,  722.08090184,\n",
       "        689.26121043,  657.93322466,  628.02914418,  599.48425032,\n",
       "        572.23676594,  546.22772177,  521.4008288 ,  497.70235643,\n",
       "        475.08101621,  453.48785081,  432.87612811,  413.20124001,\n",
       "        394.42060594,  376.49358068,  359.38136638,  343.04692863,\n",
       "        327.45491629,  312.5715849...\n",
       "         42.29242874,   40.37017259,   38.53528594,   36.78379772,\n",
       "         35.11191734,   33.51602651,   31.99267138,   30.53855509,\n",
       "         29.15053063,   27.82559402,   26.56087783,   25.35364494,\n",
       "         24.20128265,   23.101297  ,   22.0513074 ,   21.04904145,\n",
       "         20.09233003,   19.17910262,   18.3073828 ,   17.475284  ,\n",
       "         16.68100537,   15.92282793,   15.19911083,   14.50828778,\n",
       "         13.84886371,   13.21941148,   12.61856883,   12.0450354 ,\n",
       "         11.49756995,   10.97498765,   10.47615753,   10.        ]),\n",
       "        max_iter=10000)"
      ]
     },
     "execution_count": 68,
     "metadata": {},
     "output_type": "execute_result"
    }
   ],
   "source": [
    "# LassoCV\n",
    "lassocv = LassoCV(alphas=alphas2, max_iter=10000)\n",
    "lassocv.fit(X_train_ss, y_train)"
   ]
  },
  {
   "cell_type": "code",
   "execution_count": 69,
   "id": "ee9c28d0",
   "metadata": {
    "tags": []
   },
   "outputs": [
    {
     "data": {
      "text/plain": [
       "10.0"
      ]
     },
     "execution_count": 69,
     "metadata": {},
     "output_type": "execute_result"
    }
   ],
   "source": [
    "# Best alpha for LassoCV\n",
    "lassocv.alpha_"
   ]
  },
  {
   "cell_type": "code",
   "execution_count": 70,
   "id": "714f2390",
   "metadata": {
    "tags": []
   },
   "outputs": [
    {
     "data": {
      "text/plain": [
       "array([   0.        ,  244.4753536 ,    0.        ,    0.        ,\n",
       "       -471.89985104, -366.78309089, -454.26493392, -300.1614742 ])"
      ]
     },
     "execution_count": 70,
     "metadata": {},
     "output_type": "execute_result"
    }
   ],
   "source": [
    "# Coefficients\n",
    "lassocv.coef_"
   ]
  },
  {
   "cell_type": "code",
   "execution_count": null,
   "id": "1615b121",
   "metadata": {},
   "outputs": [],
   "source": []
  },
  {
   "cell_type": "markdown",
   "id": "a74269af",
   "metadata": {},
   "source": [
    "## ElasticNet"
   ]
  },
  {
   "cell_type": "code",
   "execution_count": 71,
   "id": "ec7432a8",
   "metadata": {
    "tags": []
   },
   "outputs": [
    {
     "data": {
      "text/plain": [
       "array([   4.32555925,  207.96585605,    0.        ,    1.64830401,\n",
       "       -325.19098302, -253.40739286, -296.56219742, -188.90769358])"
      ]
     },
     "execution_count": 71,
     "metadata": {},
     "output_type": "execute_result"
    }
   ],
   "source": [
    "# Create an ElasticNet using default parameters\n",
    "en = ElasticNet()\n",
    "# fit it\n",
    "en.fit(X_train_ss, y_train)\n",
    "# Look at the estimated coefficients\n",
    "en.coef_"
   ]
  },
  {
   "cell_type": "code",
   "execution_count": 72,
   "id": "5a57e19e",
   "metadata": {
    "tags": []
   },
   "outputs": [
    {
     "data": {
      "text/html": [
       "<style>#sk-container-id-8 {color: black;background-color: white;}#sk-container-id-8 pre{padding: 0;}#sk-container-id-8 div.sk-toggleable {background-color: white;}#sk-container-id-8 label.sk-toggleable__label {cursor: pointer;display: block;width: 100%;margin-bottom: 0;padding: 0.3em;box-sizing: border-box;text-align: center;}#sk-container-id-8 label.sk-toggleable__label-arrow:before {content: \"▸\";float: left;margin-right: 0.25em;color: #696969;}#sk-container-id-8 label.sk-toggleable__label-arrow:hover:before {color: black;}#sk-container-id-8 div.sk-estimator:hover label.sk-toggleable__label-arrow:before {color: black;}#sk-container-id-8 div.sk-toggleable__content {max-height: 0;max-width: 0;overflow: hidden;text-align: left;background-color: #f0f8ff;}#sk-container-id-8 div.sk-toggleable__content pre {margin: 0.2em;color: black;border-radius: 0.25em;background-color: #f0f8ff;}#sk-container-id-8 input.sk-toggleable__control:checked~div.sk-toggleable__content {max-height: 200px;max-width: 100%;overflow: auto;}#sk-container-id-8 input.sk-toggleable__control:checked~label.sk-toggleable__label-arrow:before {content: \"▾\";}#sk-container-id-8 div.sk-estimator input.sk-toggleable__control:checked~label.sk-toggleable__label {background-color: #d4ebff;}#sk-container-id-8 div.sk-label input.sk-toggleable__control:checked~label.sk-toggleable__label {background-color: #d4ebff;}#sk-container-id-8 input.sk-hidden--visually {border: 0;clip: rect(1px 1px 1px 1px);clip: rect(1px, 1px, 1px, 1px);height: 1px;margin: -1px;overflow: hidden;padding: 0;position: absolute;width: 1px;}#sk-container-id-8 div.sk-estimator {font-family: monospace;background-color: #f0f8ff;border: 1px dotted black;border-radius: 0.25em;box-sizing: border-box;margin-bottom: 0.5em;}#sk-container-id-8 div.sk-estimator:hover {background-color: #d4ebff;}#sk-container-id-8 div.sk-parallel-item::after {content: \"\";width: 100%;border-bottom: 1px solid gray;flex-grow: 1;}#sk-container-id-8 div.sk-label:hover label.sk-toggleable__label {background-color: #d4ebff;}#sk-container-id-8 div.sk-serial::before {content: \"\";position: absolute;border-left: 1px solid gray;box-sizing: border-box;top: 0;bottom: 0;left: 50%;z-index: 0;}#sk-container-id-8 div.sk-serial {display: flex;flex-direction: column;align-items: center;background-color: white;padding-right: 0.2em;padding-left: 0.2em;position: relative;}#sk-container-id-8 div.sk-item {position: relative;z-index: 1;}#sk-container-id-8 div.sk-parallel {display: flex;align-items: stretch;justify-content: center;background-color: white;position: relative;}#sk-container-id-8 div.sk-item::before, #sk-container-id-8 div.sk-parallel-item::before {content: \"\";position: absolute;border-left: 1px solid gray;box-sizing: border-box;top: 0;bottom: 0;left: 50%;z-index: -1;}#sk-container-id-8 div.sk-parallel-item {display: flex;flex-direction: column;z-index: 1;position: relative;background-color: white;}#sk-container-id-8 div.sk-parallel-item:first-child::after {align-self: flex-end;width: 50%;}#sk-container-id-8 div.sk-parallel-item:last-child::after {align-self: flex-start;width: 50%;}#sk-container-id-8 div.sk-parallel-item:only-child::after {width: 0;}#sk-container-id-8 div.sk-dashed-wrapped {border: 1px dashed gray;margin: 0 0.4em 0.5em 0.4em;box-sizing: border-box;padding-bottom: 0.4em;background-color: white;}#sk-container-id-8 div.sk-label label {font-family: monospace;font-weight: bold;display: inline-block;line-height: 1.2em;}#sk-container-id-8 div.sk-label-container {text-align: center;}#sk-container-id-8 div.sk-container {/* jupyter's `normalize.less` sets `[hidden] { display: none; }` but bootstrap.min.css set `[hidden] { display: none !important; }` so we also need the `!important` here to be able to override the default hidden behavior on the sphinx rendered scikit-learn.org. See: https://github.com/scikit-learn/scikit-learn/issues/21755 */display: inline-block !important;position: relative;}#sk-container-id-8 div.sk-text-repr-fallback {display: none;}</style><div id=\"sk-container-id-8\" class=\"sk-top-container\"><div class=\"sk-text-repr-fallback\"><pre>ElasticNetCV(alphas=array([1.00000000e+05, 9.11162756e+04, 8.30217568e+04, 7.56463328e+04,\n",
       "       6.89261210e+04, 6.28029144e+04, 5.72236766e+04, 5.21400829e+04,\n",
       "       4.75081016e+04, 4.32876128e+04, 3.94420606e+04, 3.59381366e+04,\n",
       "       3.27454916e+04, 2.98364724e+04, 2.71858824e+04, 2.47707636e+04,\n",
       "       2.25701972e+04, 2.05651231e+04, 1.87381742e+04, 1.70735265e+04,\n",
       "       1.55567614e+04, 1.417474...\n",
       "       8.49753436e+01, 7.74263683e+01, 7.05480231e+01, 6.42807312e+01,\n",
       "       5.85702082e+01, 5.33669923e+01, 4.86260158e+01, 4.43062146e+01,\n",
       "       4.03701726e+01, 3.67837977e+01, 3.35160265e+01, 3.05385551e+01,\n",
       "       2.78255940e+01, 2.53536449e+01, 2.31012970e+01, 2.10490414e+01,\n",
       "       1.91791026e+01, 1.74752840e+01, 1.59228279e+01, 1.45082878e+01,\n",
       "       1.32194115e+01, 1.20450354e+01, 1.09749877e+01, 1.00000000e+01]),\n",
       "             cv=5, max_iter=10000)</pre><b>In a Jupyter environment, please rerun this cell to show the HTML representation or trust the notebook. <br />On GitHub, the HTML representation is unable to render, please try loading this page with nbviewer.org.</b></div><div class=\"sk-container\" hidden><div class=\"sk-item\"><div class=\"sk-estimator sk-toggleable\"><input class=\"sk-toggleable__control sk-hidden--visually\" id=\"sk-estimator-id-8\" type=\"checkbox\" checked><label for=\"sk-estimator-id-8\" class=\"sk-toggleable__label sk-toggleable__label-arrow\">ElasticNetCV</label><div class=\"sk-toggleable__content\"><pre>ElasticNetCV(alphas=array([1.00000000e+05, 9.11162756e+04, 8.30217568e+04, 7.56463328e+04,\n",
       "       6.89261210e+04, 6.28029144e+04, 5.72236766e+04, 5.21400829e+04,\n",
       "       4.75081016e+04, 4.32876128e+04, 3.94420606e+04, 3.59381366e+04,\n",
       "       3.27454916e+04, 2.98364724e+04, 2.71858824e+04, 2.47707636e+04,\n",
       "       2.25701972e+04, 2.05651231e+04, 1.87381742e+04, 1.70735265e+04,\n",
       "       1.55567614e+04, 1.417474...\n",
       "       8.49753436e+01, 7.74263683e+01, 7.05480231e+01, 6.42807312e+01,\n",
       "       5.85702082e+01, 5.33669923e+01, 4.86260158e+01, 4.43062146e+01,\n",
       "       4.03701726e+01, 3.67837977e+01, 3.35160265e+01, 3.05385551e+01,\n",
       "       2.78255940e+01, 2.53536449e+01, 2.31012970e+01, 2.10490414e+01,\n",
       "       1.91791026e+01, 1.74752840e+01, 1.59228279e+01, 1.45082878e+01,\n",
       "       1.32194115e+01, 1.20450354e+01, 1.09749877e+01, 1.00000000e+01]),\n",
       "             cv=5, max_iter=10000)</pre></div></div></div></div></div>"
      ],
      "text/plain": [
       "ElasticNetCV(alphas=array([1.00000000e+05, 9.11162756e+04, 8.30217568e+04, 7.56463328e+04,\n",
       "       6.89261210e+04, 6.28029144e+04, 5.72236766e+04, 5.21400829e+04,\n",
       "       4.75081016e+04, 4.32876128e+04, 3.94420606e+04, 3.59381366e+04,\n",
       "       3.27454916e+04, 2.98364724e+04, 2.71858824e+04, 2.47707636e+04,\n",
       "       2.25701972e+04, 2.05651231e+04, 1.87381742e+04, 1.70735265e+04,\n",
       "       1.55567614e+04, 1.417474...\n",
       "       8.49753436e+01, 7.74263683e+01, 7.05480231e+01, 6.42807312e+01,\n",
       "       5.85702082e+01, 5.33669923e+01, 4.86260158e+01, 4.43062146e+01,\n",
       "       4.03701726e+01, 3.67837977e+01, 3.35160265e+01, 3.05385551e+01,\n",
       "       2.78255940e+01, 2.53536449e+01, 2.31012970e+01, 2.10490414e+01,\n",
       "       1.91791026e+01, 1.74752840e+01, 1.59228279e+01, 1.45082878e+01,\n",
       "       1.32194115e+01, 1.20450354e+01, 1.09749877e+01, 1.00000000e+01]),\n",
       "             cv=5, max_iter=10000)"
      ]
     },
     "execution_count": 72,
     "metadata": {},
     "output_type": "execute_result"
    }
   ],
   "source": [
    "# Create an ElasticNetCV to find best alpha\n",
    "enCV = ElasticNetCV(cv=5, alphas=alphas, max_iter=10000)\n",
    "enCV.fit(X_train_ss, y_train)"
   ]
  },
  {
   "cell_type": "code",
   "execution_count": 73,
   "id": "dc8b53c9",
   "metadata": {
    "tags": []
   },
   "outputs": [
    {
     "data": {
      "text/plain": [
       "10.0"
      ]
     },
     "execution_count": 73,
     "metadata": {},
     "output_type": "execute_result"
    }
   ],
   "source": [
    "# best alpha for elasticnetcv\n",
    "enCV.alpha_"
   ]
  },
  {
   "cell_type": "code",
   "execution_count": 74,
   "id": "03be87b7",
   "metadata": {
    "tags": []
   },
   "outputs": [
    {
     "data": {
      "text/plain": [
       "array([  0.17925189,  66.02263015,  -0.        ,   0.        ,\n",
       "       -84.04154434, -65.13034574, -71.00639093, -41.31660856])"
      ]
     },
     "execution_count": 74,
     "metadata": {},
     "output_type": "execute_result"
    }
   ],
   "source": [
    "# Build ElasticNet with best alpha\n",
    "en2 = ElasticNet(alpha=enCV.alpha_)\n",
    "en2.fit(X_train_ss, y_train)\n",
    "en2.coef_"
   ]
  },
  {
   "cell_type": "code",
   "execution_count": 75,
   "id": "03f591c9",
   "metadata": {
    "tags": []
   },
   "outputs": [
    {
     "data": {
      "text/plain": [
       "array([4092.68113599, 4206.01533148, 4192.97097213, ..., 4125.72712805,\n",
       "       4339.10821095, 4368.79986674])"
      ]
     },
     "execution_count": 75,
     "metadata": {},
     "output_type": "execute_result"
    }
   ],
   "source": [
    "# Make predictions with the ElasticNet model en2\n",
    "en2.predict(s_scaler.transform(X_test))"
   ]
  },
  {
   "cell_type": "code",
   "execution_count": 78,
   "id": "7fd8e303-5a51-4a58-8dab-32fb136f8ade",
   "metadata": {
    "tags": []
   },
   "outputs": [
    {
     "data": {
      "text/plain": [
       "3050"
      ]
     },
     "execution_count": 78,
     "metadata": {},
     "output_type": "execute_result"
    }
   ],
   "source": [
    "y_test.iloc[1]"
   ]
  },
  {
   "cell_type": "code",
   "execution_count": 79,
   "id": "6251e40f",
   "metadata": {
    "tags": []
   },
   "outputs": [
    {
     "data": {
      "text/plain": [
       "1500.7570203732662"
      ]
     },
     "execution_count": 79,
     "metadata": {},
     "output_type": "execute_result"
    }
   ],
   "source": [
    "# Find the RMSE of that model\n",
    "np.sqrt(mean_squared_error(y_test, en2.predict(s_scaler.transform(X_test))))"
   ]
  },
  {
   "cell_type": "code",
   "execution_count": 80,
   "id": "26eccf5d-e5c9-402c-8904-19073a6e0082",
   "metadata": {
    "tags": []
   },
   "outputs": [
    {
     "data": {
      "text/plain": [
       "array([1.06942476e+01, 1.15000996e+05, 1.70478965e+00, 1.69315606e+00,\n",
       "       4.64686934e-01, 4.33833351e-01, 4.35570940e-01, 2.98334969e-01])"
      ]
     },
     "execution_count": 80,
     "metadata": {},
     "output_type": "execute_result"
    }
   ],
   "source": [
    "s_scaler.scale_"
   ]
  },
  {
   "cell_type": "code",
   "execution_count": null,
   "id": "bd5e443f-c537-4aa6-ab87-c44fa84c0d2e",
   "metadata": {},
   "outputs": [],
   "source": []
  },
  {
   "cell_type": "code",
   "execution_count": 81,
   "id": "ef21cc2c-a670-4812-802a-bd6bbf52d722",
   "metadata": {
    "tags": []
   },
   "outputs": [
    {
     "data": {
      "text/html": [
       "<style>#sk-container-id-9 {color: black;background-color: white;}#sk-container-id-9 pre{padding: 0;}#sk-container-id-9 div.sk-toggleable {background-color: white;}#sk-container-id-9 label.sk-toggleable__label {cursor: pointer;display: block;width: 100%;margin-bottom: 0;padding: 0.3em;box-sizing: border-box;text-align: center;}#sk-container-id-9 label.sk-toggleable__label-arrow:before {content: \"▸\";float: left;margin-right: 0.25em;color: #696969;}#sk-container-id-9 label.sk-toggleable__label-arrow:hover:before {color: black;}#sk-container-id-9 div.sk-estimator:hover label.sk-toggleable__label-arrow:before {color: black;}#sk-container-id-9 div.sk-toggleable__content {max-height: 0;max-width: 0;overflow: hidden;text-align: left;background-color: #f0f8ff;}#sk-container-id-9 div.sk-toggleable__content pre {margin: 0.2em;color: black;border-radius: 0.25em;background-color: #f0f8ff;}#sk-container-id-9 input.sk-toggleable__control:checked~div.sk-toggleable__content {max-height: 200px;max-width: 100%;overflow: auto;}#sk-container-id-9 input.sk-toggleable__control:checked~label.sk-toggleable__label-arrow:before {content: \"▾\";}#sk-container-id-9 div.sk-estimator input.sk-toggleable__control:checked~label.sk-toggleable__label {background-color: #d4ebff;}#sk-container-id-9 div.sk-label input.sk-toggleable__control:checked~label.sk-toggleable__label {background-color: #d4ebff;}#sk-container-id-9 input.sk-hidden--visually {border: 0;clip: rect(1px 1px 1px 1px);clip: rect(1px, 1px, 1px, 1px);height: 1px;margin: -1px;overflow: hidden;padding: 0;position: absolute;width: 1px;}#sk-container-id-9 div.sk-estimator {font-family: monospace;background-color: #f0f8ff;border: 1px dotted black;border-radius: 0.25em;box-sizing: border-box;margin-bottom: 0.5em;}#sk-container-id-9 div.sk-estimator:hover {background-color: #d4ebff;}#sk-container-id-9 div.sk-parallel-item::after {content: \"\";width: 100%;border-bottom: 1px solid gray;flex-grow: 1;}#sk-container-id-9 div.sk-label:hover label.sk-toggleable__label {background-color: #d4ebff;}#sk-container-id-9 div.sk-serial::before {content: \"\";position: absolute;border-left: 1px solid gray;box-sizing: border-box;top: 0;bottom: 0;left: 50%;z-index: 0;}#sk-container-id-9 div.sk-serial {display: flex;flex-direction: column;align-items: center;background-color: white;padding-right: 0.2em;padding-left: 0.2em;position: relative;}#sk-container-id-9 div.sk-item {position: relative;z-index: 1;}#sk-container-id-9 div.sk-parallel {display: flex;align-items: stretch;justify-content: center;background-color: white;position: relative;}#sk-container-id-9 div.sk-item::before, #sk-container-id-9 div.sk-parallel-item::before {content: \"\";position: absolute;border-left: 1px solid gray;box-sizing: border-box;top: 0;bottom: 0;left: 50%;z-index: -1;}#sk-container-id-9 div.sk-parallel-item {display: flex;flex-direction: column;z-index: 1;position: relative;background-color: white;}#sk-container-id-9 div.sk-parallel-item:first-child::after {align-self: flex-end;width: 50%;}#sk-container-id-9 div.sk-parallel-item:last-child::after {align-self: flex-start;width: 50%;}#sk-container-id-9 div.sk-parallel-item:only-child::after {width: 0;}#sk-container-id-9 div.sk-dashed-wrapped {border: 1px dashed gray;margin: 0 0.4em 0.5em 0.4em;box-sizing: border-box;padding-bottom: 0.4em;background-color: white;}#sk-container-id-9 div.sk-label label {font-family: monospace;font-weight: bold;display: inline-block;line-height: 1.2em;}#sk-container-id-9 div.sk-label-container {text-align: center;}#sk-container-id-9 div.sk-container {/* jupyter's `normalize.less` sets `[hidden] { display: none; }` but bootstrap.min.css set `[hidden] { display: none !important; }` so we also need the `!important` here to be able to override the default hidden behavior on the sphinx rendered scikit-learn.org. See: https://github.com/scikit-learn/scikit-learn/issues/21755 */display: inline-block !important;position: relative;}#sk-container-id-9 div.sk-text-repr-fallback {display: none;}</style><div id=\"sk-container-id-9\" class=\"sk-top-container\"><div class=\"sk-text-repr-fallback\"><pre>LinearRegression()</pre><b>In a Jupyter environment, please rerun this cell to show the HTML representation or trust the notebook. <br />On GitHub, the HTML representation is unable to render, please try loading this page with nbviewer.org.</b></div><div class=\"sk-container\" hidden><div class=\"sk-item\"><div class=\"sk-estimator sk-toggleable\"><input class=\"sk-toggleable__control sk-hidden--visually\" id=\"sk-estimator-id-9\" type=\"checkbox\" checked><label for=\"sk-estimator-id-9\" class=\"sk-toggleable__label sk-toggleable__label-arrow\">LinearRegression</label><div class=\"sk-toggleable__content\"><pre>LinearRegression()</pre></div></div></div></div></div>"
      ],
      "text/plain": [
       "LinearRegression()"
      ]
     },
     "execution_count": 81,
     "metadata": {},
     "output_type": "execute_result"
    }
   ],
   "source": [
    "my_model = LinearRegression()\n",
    "my_model"
   ]
  },
  {
   "cell_type": "code",
   "execution_count": 84,
   "id": "4449bfe8-8180-4baf-9057-b23dc0269f7e",
   "metadata": {
    "collapsed": true,
    "jupyter": {
     "outputs_hidden": true
    },
    "tags": []
   },
   "outputs": [
    {
     "data": {
      "text/html": [
       "<div><div id=8989625c-338d-4307-ba66-89116b9ee883 style=\"display:none; background-color:#9D6CFF; color:white; width:200px; height:30px; padding-left:5px; border-radius:4px; flex-direction:row; justify-content:space-around; align-items:center;\" onmouseover=\"this.style.backgroundColor='#BA9BF8'\" onmouseout=\"this.style.backgroundColor='#9D6CFF'\" onclick=\"window.commands?.execute('create-mitosheet-from-dataframe-output');\">See Full Dataframe in Mito</div> <script> if (window.commands.hasCommand('create-mitosheet-from-dataframe-output')) document.getElementById('8989625c-338d-4307-ba66-89116b9ee883').style.display = 'flex' </script> <table border=\"1\" class=\"dataframe\">\n",
       "  <thead>\n",
       "    <tr style=\"text-align: right;\">\n",
       "      <th></th>\n",
       "      <th>household_income</th>\n",
       "      <th>gender_M</th>\n",
       "      <th>marital_status_unmarried</th>\n",
       "      <th>home_ownership_rent</th>\n",
       "      <th>home_ownership_unknown</th>\n",
       "    </tr>\n",
       "  </thead>\n",
       "  <tbody>\n",
       "    <tr>\n",
       "      <th>0</th>\n",
       "      <td>1.267258</td>\n",
       "      <td>1.473185</td>\n",
       "      <td>1.725486</td>\n",
       "      <td>-0.584255</td>\n",
       "      <td>-0.331026</td>\n",
       "    </tr>\n",
       "    <tr>\n",
       "      <th>1</th>\n",
       "      <td>-0.974774</td>\n",
       "      <td>1.473185</td>\n",
       "      <td>1.725486</td>\n",
       "      <td>-0.584255</td>\n",
       "      <td>-0.331026</td>\n",
       "    </tr>\n",
       "    <tr>\n",
       "      <th>2</th>\n",
       "      <td>-2.003922</td>\n",
       "      <td>-0.678801</td>\n",
       "      <td>-0.579547</td>\n",
       "      <td>1.711583</td>\n",
       "      <td>-0.331026</td>\n",
       "    </tr>\n",
       "    <tr>\n",
       "      <th>3</th>\n",
       "      <td>1.622960</td>\n",
       "      <td>-0.678801</td>\n",
       "      <td>-0.579547</td>\n",
       "      <td>-0.584255</td>\n",
       "      <td>-0.331026</td>\n",
       "    </tr>\n",
       "    <tr>\n",
       "      <th>4</th>\n",
       "      <td>0.469891</td>\n",
       "      <td>-0.678801</td>\n",
       "      <td>1.725486</td>\n",
       "      <td>-0.584255</td>\n",
       "      <td>-0.331026</td>\n",
       "    </tr>\n",
       "    <tr>\n",
       "      <th>...</th>\n",
       "      <td>...</td>\n",
       "      <td>...</td>\n",
       "      <td>...</td>\n",
       "      <td>...</td>\n",
       "      <td>...</td>\n",
       "    </tr>\n",
       "    <tr>\n",
       "      <th>9807</th>\n",
       "      <td>-0.940331</td>\n",
       "      <td>1.473185</td>\n",
       "      <td>-0.579547</td>\n",
       "      <td>-0.584255</td>\n",
       "      <td>-0.331026</td>\n",
       "    </tr>\n",
       "    <tr>\n",
       "      <th>9808</th>\n",
       "      <td>-0.538569</td>\n",
       "      <td>-0.678801</td>\n",
       "      <td>-0.579547</td>\n",
       "      <td>-0.584255</td>\n",
       "      <td>-0.331026</td>\n",
       "    </tr>\n",
       "    <tr>\n",
       "      <th>9809</th>\n",
       "      <td>-0.063287</td>\n",
       "      <td>-0.678801</td>\n",
       "      <td>-0.579547</td>\n",
       "      <td>-0.584255</td>\n",
       "      <td>-0.331026</td>\n",
       "    </tr>\n",
       "    <tr>\n",
       "      <th>9810</th>\n",
       "      <td>0.435040</td>\n",
       "      <td>1.473185</td>\n",
       "      <td>-0.579547</td>\n",
       "      <td>-0.584255</td>\n",
       "      <td>-0.331026</td>\n",
       "    </tr>\n",
       "    <tr>\n",
       "      <th>9811</th>\n",
       "      <td>-1.565143</td>\n",
       "      <td>1.473185</td>\n",
       "      <td>-0.579547</td>\n",
       "      <td>-0.584255</td>\n",
       "      <td>-0.331026</td>\n",
       "    </tr>\n",
       "  </tbody>\n",
       "</table></div>"
      ],
      "text/plain": [
       "      household_income  gender_M  marital_status_unmarried   \n",
       "0             1.267258  1.473185                  1.725486  \\\n",
       "1            -0.974774  1.473185                  1.725486   \n",
       "2            -2.003922 -0.678801                 -0.579547   \n",
       "3             1.622960 -0.678801                 -0.579547   \n",
       "4             0.469891 -0.678801                  1.725486   \n",
       "...                ...       ...                       ...   \n",
       "9807         -0.940331  1.473185                 -0.579547   \n",
       "9808         -0.538569 -0.678801                 -0.579547   \n",
       "9809         -0.063287 -0.678801                 -0.579547   \n",
       "9810          0.435040  1.473185                 -0.579547   \n",
       "9811         -1.565143  1.473185                 -0.579547   \n",
       "\n",
       "      home_ownership_rent  home_ownership_unknown  \n",
       "0               -0.584255               -0.331026  \n",
       "1               -0.584255               -0.331026  \n",
       "2                1.711583               -0.331026  \n",
       "3               -0.584255               -0.331026  \n",
       "4               -0.584255               -0.331026  \n",
       "...                   ...                     ...  \n",
       "9807            -0.584255               -0.331026  \n",
       "9808            -0.584255               -0.331026  \n",
       "9809            -0.584255               -0.331026  \n",
       "9810            -0.584255               -0.331026  \n",
       "9811            -0.584255               -0.331026  \n",
       "\n",
       "[9812 rows x 5 columns]"
      ]
     },
     "execution_count": 84,
     "metadata": {},
     "output_type": "execute_result"
    }
   ],
   "source": [
    "five_features = new_X_train.drop(columns=['const'])\n",
    "five_features"
   ]
  },
  {
   "cell_type": "code",
   "execution_count": 88,
   "id": "f5f599d7-f777-42fc-a8fd-4f7a435b3dba",
   "metadata": {
    "tags": []
   },
   "outputs": [
    {
     "data": {
      "text/html": [
       "<style>#sk-container-id-11 {color: black;background-color: white;}#sk-container-id-11 pre{padding: 0;}#sk-container-id-11 div.sk-toggleable {background-color: white;}#sk-container-id-11 label.sk-toggleable__label {cursor: pointer;display: block;width: 100%;margin-bottom: 0;padding: 0.3em;box-sizing: border-box;text-align: center;}#sk-container-id-11 label.sk-toggleable__label-arrow:before {content: \"▸\";float: left;margin-right: 0.25em;color: #696969;}#sk-container-id-11 label.sk-toggleable__label-arrow:hover:before {color: black;}#sk-container-id-11 div.sk-estimator:hover label.sk-toggleable__label-arrow:before {color: black;}#sk-container-id-11 div.sk-toggleable__content {max-height: 0;max-width: 0;overflow: hidden;text-align: left;background-color: #f0f8ff;}#sk-container-id-11 div.sk-toggleable__content pre {margin: 0.2em;color: black;border-radius: 0.25em;background-color: #f0f8ff;}#sk-container-id-11 input.sk-toggleable__control:checked~div.sk-toggleable__content {max-height: 200px;max-width: 100%;overflow: auto;}#sk-container-id-11 input.sk-toggleable__control:checked~label.sk-toggleable__label-arrow:before {content: \"▾\";}#sk-container-id-11 div.sk-estimator input.sk-toggleable__control:checked~label.sk-toggleable__label {background-color: #d4ebff;}#sk-container-id-11 div.sk-label input.sk-toggleable__control:checked~label.sk-toggleable__label {background-color: #d4ebff;}#sk-container-id-11 input.sk-hidden--visually {border: 0;clip: rect(1px 1px 1px 1px);clip: rect(1px, 1px, 1px, 1px);height: 1px;margin: -1px;overflow: hidden;padding: 0;position: absolute;width: 1px;}#sk-container-id-11 div.sk-estimator {font-family: monospace;background-color: #f0f8ff;border: 1px dotted black;border-radius: 0.25em;box-sizing: border-box;margin-bottom: 0.5em;}#sk-container-id-11 div.sk-estimator:hover {background-color: #d4ebff;}#sk-container-id-11 div.sk-parallel-item::after {content: \"\";width: 100%;border-bottom: 1px solid gray;flex-grow: 1;}#sk-container-id-11 div.sk-label:hover label.sk-toggleable__label {background-color: #d4ebff;}#sk-container-id-11 div.sk-serial::before {content: \"\";position: absolute;border-left: 1px solid gray;box-sizing: border-box;top: 0;bottom: 0;left: 50%;z-index: 0;}#sk-container-id-11 div.sk-serial {display: flex;flex-direction: column;align-items: center;background-color: white;padding-right: 0.2em;padding-left: 0.2em;position: relative;}#sk-container-id-11 div.sk-item {position: relative;z-index: 1;}#sk-container-id-11 div.sk-parallel {display: flex;align-items: stretch;justify-content: center;background-color: white;position: relative;}#sk-container-id-11 div.sk-item::before, #sk-container-id-11 div.sk-parallel-item::before {content: \"\";position: absolute;border-left: 1px solid gray;box-sizing: border-box;top: 0;bottom: 0;left: 50%;z-index: -1;}#sk-container-id-11 div.sk-parallel-item {display: flex;flex-direction: column;z-index: 1;position: relative;background-color: white;}#sk-container-id-11 div.sk-parallel-item:first-child::after {align-self: flex-end;width: 50%;}#sk-container-id-11 div.sk-parallel-item:last-child::after {align-self: flex-start;width: 50%;}#sk-container-id-11 div.sk-parallel-item:only-child::after {width: 0;}#sk-container-id-11 div.sk-dashed-wrapped {border: 1px dashed gray;margin: 0 0.4em 0.5em 0.4em;box-sizing: border-box;padding-bottom: 0.4em;background-color: white;}#sk-container-id-11 div.sk-label label {font-family: monospace;font-weight: bold;display: inline-block;line-height: 1.2em;}#sk-container-id-11 div.sk-label-container {text-align: center;}#sk-container-id-11 div.sk-container {/* jupyter's `normalize.less` sets `[hidden] { display: none; }` but bootstrap.min.css set `[hidden] { display: none !important; }` so we also need the `!important` here to be able to override the default hidden behavior on the sphinx rendered scikit-learn.org. See: https://github.com/scikit-learn/scikit-learn/issues/21755 */display: inline-block !important;position: relative;}#sk-container-id-11 div.sk-text-repr-fallback {display: none;}</style><div id=\"sk-container-id-11\" class=\"sk-top-container\"><div class=\"sk-text-repr-fallback\"><pre>LinearRegression()</pre><b>In a Jupyter environment, please rerun this cell to show the HTML representation or trust the notebook. <br />On GitHub, the HTML representation is unable to render, please try loading this page with nbviewer.org.</b></div><div class=\"sk-container\" hidden><div class=\"sk-item\"><div class=\"sk-estimator sk-toggleable\"><input class=\"sk-toggleable__control sk-hidden--visually\" id=\"sk-estimator-id-11\" type=\"checkbox\" checked><label for=\"sk-estimator-id-11\" class=\"sk-toggleable__label sk-toggleable__label-arrow\">LinearRegression</label><div class=\"sk-toggleable__content\"><pre>LinearRegression()</pre></div></div></div></div></div>"
      ],
      "text/plain": [
       "LinearRegression()"
      ]
     },
     "execution_count": 88,
     "metadata": {},
     "output_type": "execute_result"
    }
   ],
   "source": [
    "my_model.fit(five_features, y_train)"
   ]
  },
  {
   "cell_type": "code",
   "execution_count": 89,
   "id": "d17ad6ae-f6c6-4a41-927f-f4a423b67170",
   "metadata": {
    "tags": []
   },
   "outputs": [
    {
     "name": "stdout",
     "output_type": "stream",
     "text": [
      "Intercept:    4160.279351814105\n",
      "Coefficients: [ 250.04203132 -481.04081646 -376.17781042 -466.01787133 -311.91387113]\n"
     ]
    }
   ],
   "source": [
    "print(f'Intercept:    {my_model.intercept_}')\n",
    "print(f'Coefficients: {my_model.coef_}')"
   ]
  },
  {
   "cell_type": "code",
   "execution_count": 98,
   "id": "76d60edb-996f-4eb6-92e3-eb2f29a6eea6",
   "metadata": {
    "collapsed": true,
    "jupyter": {
     "outputs_hidden": true
    },
    "tags": []
   },
   "outputs": [
    {
     "data": {
      "text/html": [
       "<div><div id=19243ad9-9db3-4eb8-96bd-b36595fcaaf3 style=\"display:none; background-color:#9D6CFF; color:white; width:200px; height:30px; padding-left:5px; border-radius:4px; flex-direction:row; justify-content:space-around; align-items:center;\" onmouseover=\"this.style.backgroundColor='#BA9BF8'\" onmouseout=\"this.style.backgroundColor='#9D6CFF'\" onclick=\"window.commands?.execute('create-mitosheet-from-dataframe-output');\">See Full Dataframe in Mito</div> <script> if (window.commands.hasCommand('create-mitosheet-from-dataframe-output')) document.getElementById('19243ad9-9db3-4eb8-96bd-b36595fcaaf3').style.display = 'flex' </script> <table border=\"1\" class=\"dataframe\">\n",
       "  <thead>\n",
       "    <tr style=\"text-align: right;\">\n",
       "      <th></th>\n",
       "      <th>age</th>\n",
       "      <th>household_income</th>\n",
       "      <th>num_children</th>\n",
       "      <th>num_vehicles</th>\n",
       "      <th>gender_M</th>\n",
       "      <th>marital_status_unmarried</th>\n",
       "      <th>home_ownership_rent</th>\n",
       "      <th>home_ownership_unknown</th>\n",
       "    </tr>\n",
       "  </thead>\n",
       "  <tbody>\n",
       "    <tr>\n",
       "      <th>0</th>\n",
       "      <td>1.697328</td>\n",
       "      <td>-1.025878</td>\n",
       "      <td>0.876586</td>\n",
       "      <td>-0.888448</td>\n",
       "      <td>-0.678801</td>\n",
       "      <td>1.725486</td>\n",
       "      <td>-0.584255</td>\n",
       "      <td>-0.331026</td>\n",
       "    </tr>\n",
       "    <tr>\n",
       "      <th>1</th>\n",
       "      <td>-1.014410</td>\n",
       "      <td>0.893340</td>\n",
       "      <td>1.463169</td>\n",
       "      <td>-0.888448</td>\n",
       "      <td>-0.678801</td>\n",
       "      <td>-0.579547</td>\n",
       "      <td>1.711583</td>\n",
       "      <td>-0.331026</td>\n",
       "    </tr>\n",
       "    <tr>\n",
       "      <th>2</th>\n",
       "      <td>1.416804</td>\n",
       "      <td>0.317649</td>\n",
       "      <td>-0.296579</td>\n",
       "      <td>-0.297835</td>\n",
       "      <td>-0.678801</td>\n",
       "      <td>-0.579547</td>\n",
       "      <td>-0.584255</td>\n",
       "      <td>3.020911</td>\n",
       "    </tr>\n",
       "    <tr>\n",
       "      <th>3</th>\n",
       "      <td>-0.172836</td>\n",
       "      <td>1.591577</td>\n",
       "      <td>0.290003</td>\n",
       "      <td>1.474004</td>\n",
       "      <td>-0.678801</td>\n",
       "      <td>1.725486</td>\n",
       "      <td>-0.584255</td>\n",
       "      <td>-0.331026</td>\n",
       "    </tr>\n",
       "    <tr>\n",
       "      <th>4</th>\n",
       "      <td>0.575230</td>\n",
       "      <td>-1.204572</td>\n",
       "      <td>-0.296579</td>\n",
       "      <td>1.474004</td>\n",
       "      <td>1.473185</td>\n",
       "      <td>-0.579547</td>\n",
       "      <td>-0.584255</td>\n",
       "      <td>-0.331026</td>\n",
       "    </tr>\n",
       "    <tr>\n",
       "      <th>...</th>\n",
       "      <td>...</td>\n",
       "      <td>...</td>\n",
       "      <td>...</td>\n",
       "      <td>...</td>\n",
       "      <td>...</td>\n",
       "      <td>...</td>\n",
       "      <td>...</td>\n",
       "      <td>...</td>\n",
       "    </tr>\n",
       "    <tr>\n",
       "      <th>2449</th>\n",
       "      <td>1.510312</td>\n",
       "      <td>1.046339</td>\n",
       "      <td>1.463169</td>\n",
       "      <td>-1.479061</td>\n",
       "      <td>-0.678801</td>\n",
       "      <td>1.725486</td>\n",
       "      <td>-0.584255</td>\n",
       "      <td>-0.331026</td>\n",
       "    </tr>\n",
       "    <tr>\n",
       "      <th>2450</th>\n",
       "      <td>0.481722</td>\n",
       "      <td>1.178894</td>\n",
       "      <td>0.876586</td>\n",
       "      <td>0.292778</td>\n",
       "      <td>1.473185</td>\n",
       "      <td>-0.579547</td>\n",
       "      <td>-0.584255</td>\n",
       "      <td>-0.331026</td>\n",
       "    </tr>\n",
       "    <tr>\n",
       "      <th>2451</th>\n",
       "      <td>-1.668967</td>\n",
       "      <td>-0.320954</td>\n",
       "      <td>1.463169</td>\n",
       "      <td>0.883391</td>\n",
       "      <td>-0.678801</td>\n",
       "      <td>-0.579547</td>\n",
       "      <td>1.711583</td>\n",
       "      <td>-0.331026</td>\n",
       "    </tr>\n",
       "    <tr>\n",
       "      <th>2452</th>\n",
       "      <td>-1.388443</td>\n",
       "      <td>0.441083</td>\n",
       "      <td>0.290003</td>\n",
       "      <td>-0.297835</td>\n",
       "      <td>-0.678801</td>\n",
       "      <td>-0.579547</td>\n",
       "      <td>-0.584255</td>\n",
       "      <td>-0.331026</td>\n",
       "    </tr>\n",
       "    <tr>\n",
       "      <th>2453</th>\n",
       "      <td>-0.827393</td>\n",
       "      <td>0.889279</td>\n",
       "      <td>-1.469745</td>\n",
       "      <td>-0.888448</td>\n",
       "      <td>-0.678801</td>\n",
       "      <td>-0.579547</td>\n",
       "      <td>-0.584255</td>\n",
       "      <td>-0.331026</td>\n",
       "    </tr>\n",
       "  </tbody>\n",
       "</table></div>"
      ],
      "text/plain": [
       "           age  household_income  num_children  num_vehicles  gender_M   \n",
       "0     1.697328         -1.025878      0.876586     -0.888448 -0.678801  \\\n",
       "1    -1.014410          0.893340      1.463169     -0.888448 -0.678801   \n",
       "2     1.416804          0.317649     -0.296579     -0.297835 -0.678801   \n",
       "3    -0.172836          1.591577      0.290003      1.474004 -0.678801   \n",
       "4     0.575230         -1.204572     -0.296579      1.474004  1.473185   \n",
       "...        ...               ...           ...           ...       ...   \n",
       "2449  1.510312          1.046339      1.463169     -1.479061 -0.678801   \n",
       "2450  0.481722          1.178894      0.876586      0.292778  1.473185   \n",
       "2451 -1.668967         -0.320954      1.463169      0.883391 -0.678801   \n",
       "2452 -1.388443          0.441083      0.290003     -0.297835 -0.678801   \n",
       "2453 -0.827393          0.889279     -1.469745     -0.888448 -0.678801   \n",
       "\n",
       "      marital_status_unmarried  home_ownership_rent  home_ownership_unknown  \n",
       "0                     1.725486            -0.584255               -0.331026  \n",
       "1                    -0.579547             1.711583               -0.331026  \n",
       "2                    -0.579547            -0.584255                3.020911  \n",
       "3                     1.725486            -0.584255               -0.331026  \n",
       "4                    -0.579547            -0.584255               -0.331026  \n",
       "...                        ...                  ...                     ...  \n",
       "2449                  1.725486            -0.584255               -0.331026  \n",
       "2450                 -0.579547            -0.584255               -0.331026  \n",
       "2451                 -0.579547             1.711583               -0.331026  \n",
       "2452                 -0.579547            -0.584255               -0.331026  \n",
       "2453                 -0.579547            -0.584255               -0.331026  \n",
       "\n",
       "[2454 rows x 8 columns]"
      ]
     },
     "execution_count": 98,
     "metadata": {},
     "output_type": "execute_result"
    }
   ],
   "source": [
    "X_test_scaled = s_scaler.transform(X_test)\n",
    "df = pd.DataFrame(X_test_scaled, columns=X_test.columns)\n",
    "df"
   ]
  },
  {
   "cell_type": "code",
   "execution_count": 99,
   "id": "0b63e9af-1375-4be3-9560-40c2c3fe5bc0",
   "metadata": {
    "collapsed": true,
    "jupyter": {
     "outputs_hidden": true
    },
    "tags": []
   },
   "outputs": [
    {
     "data": {
      "text/html": [
       "<div><div id=8f30af6e-3d92-4391-a5a4-b22b3dcd42a7 style=\"display:none; background-color:#9D6CFF; color:white; width:200px; height:30px; padding-left:5px; border-radius:4px; flex-direction:row; justify-content:space-around; align-items:center;\" onmouseover=\"this.style.backgroundColor='#BA9BF8'\" onmouseout=\"this.style.backgroundColor='#9D6CFF'\" onclick=\"window.commands?.execute('create-mitosheet-from-dataframe-output');\">See Full Dataframe in Mito</div> <script> if (window.commands.hasCommand('create-mitosheet-from-dataframe-output')) document.getElementById('8f30af6e-3d92-4391-a5a4-b22b3dcd42a7').style.display = 'flex' </script> <table border=\"1\" class=\"dataframe\">\n",
       "  <thead>\n",
       "    <tr style=\"text-align: right;\">\n",
       "      <th></th>\n",
       "      <th>household_income</th>\n",
       "      <th>gender_M</th>\n",
       "      <th>marital_status_unmarried</th>\n",
       "      <th>home_ownership_rent</th>\n",
       "      <th>home_ownership_unknown</th>\n",
       "    </tr>\n",
       "  </thead>\n",
       "  <tbody>\n",
       "    <tr>\n",
       "      <th>0</th>\n",
       "      <td>-1.025878</td>\n",
       "      <td>-0.678801</td>\n",
       "      <td>1.725486</td>\n",
       "      <td>-0.584255</td>\n",
       "      <td>-0.331026</td>\n",
       "    </tr>\n",
       "    <tr>\n",
       "      <th>1</th>\n",
       "      <td>0.893340</td>\n",
       "      <td>-0.678801</td>\n",
       "      <td>-0.579547</td>\n",
       "      <td>1.711583</td>\n",
       "      <td>-0.331026</td>\n",
       "    </tr>\n",
       "    <tr>\n",
       "      <th>2</th>\n",
       "      <td>0.317649</td>\n",
       "      <td>-0.678801</td>\n",
       "      <td>-0.579547</td>\n",
       "      <td>-0.584255</td>\n",
       "      <td>3.020911</td>\n",
       "    </tr>\n",
       "    <tr>\n",
       "      <th>3</th>\n",
       "      <td>1.591577</td>\n",
       "      <td>-0.678801</td>\n",
       "      <td>1.725486</td>\n",
       "      <td>-0.584255</td>\n",
       "      <td>-0.331026</td>\n",
       "    </tr>\n",
       "    <tr>\n",
       "      <th>4</th>\n",
       "      <td>-1.204572</td>\n",
       "      <td>1.473185</td>\n",
       "      <td>-0.579547</td>\n",
       "      <td>-0.584255</td>\n",
       "      <td>-0.331026</td>\n",
       "    </tr>\n",
       "    <tr>\n",
       "      <th>...</th>\n",
       "      <td>...</td>\n",
       "      <td>...</td>\n",
       "      <td>...</td>\n",
       "      <td>...</td>\n",
       "      <td>...</td>\n",
       "    </tr>\n",
       "    <tr>\n",
       "      <th>2449</th>\n",
       "      <td>1.046339</td>\n",
       "      <td>-0.678801</td>\n",
       "      <td>1.725486</td>\n",
       "      <td>-0.584255</td>\n",
       "      <td>-0.331026</td>\n",
       "    </tr>\n",
       "    <tr>\n",
       "      <th>2450</th>\n",
       "      <td>1.178894</td>\n",
       "      <td>1.473185</td>\n",
       "      <td>-0.579547</td>\n",
       "      <td>-0.584255</td>\n",
       "      <td>-0.331026</td>\n",
       "    </tr>\n",
       "    <tr>\n",
       "      <th>2451</th>\n",
       "      <td>-0.320954</td>\n",
       "      <td>-0.678801</td>\n",
       "      <td>-0.579547</td>\n",
       "      <td>1.711583</td>\n",
       "      <td>-0.331026</td>\n",
       "    </tr>\n",
       "    <tr>\n",
       "      <th>2452</th>\n",
       "      <td>0.441083</td>\n",
       "      <td>-0.678801</td>\n",
       "      <td>-0.579547</td>\n",
       "      <td>-0.584255</td>\n",
       "      <td>-0.331026</td>\n",
       "    </tr>\n",
       "    <tr>\n",
       "      <th>2453</th>\n",
       "      <td>0.889279</td>\n",
       "      <td>-0.678801</td>\n",
       "      <td>-0.579547</td>\n",
       "      <td>-0.584255</td>\n",
       "      <td>-0.331026</td>\n",
       "    </tr>\n",
       "  </tbody>\n",
       "</table></div>"
      ],
      "text/plain": [
       "      household_income  gender_M  marital_status_unmarried   \n",
       "0            -1.025878 -0.678801                  1.725486  \\\n",
       "1             0.893340 -0.678801                 -0.579547   \n",
       "2             0.317649 -0.678801                 -0.579547   \n",
       "3             1.591577 -0.678801                  1.725486   \n",
       "4            -1.204572  1.473185                 -0.579547   \n",
       "...                ...       ...                       ...   \n",
       "2449          1.046339 -0.678801                  1.725486   \n",
       "2450          1.178894  1.473185                 -0.579547   \n",
       "2451         -0.320954 -0.678801                 -0.579547   \n",
       "2452          0.441083 -0.678801                 -0.579547   \n",
       "2453          0.889279 -0.678801                 -0.579547   \n",
       "\n",
       "      home_ownership_rent  home_ownership_unknown  \n",
       "0               -0.584255               -0.331026  \n",
       "1                1.711583               -0.331026  \n",
       "2               -0.584255                3.020911  \n",
       "3               -0.584255               -0.331026  \n",
       "4               -0.584255               -0.331026  \n",
       "...                   ...                     ...  \n",
       "2449            -0.584255               -0.331026  \n",
       "2450            -0.584255               -0.331026  \n",
       "2451             1.711583               -0.331026  \n",
       "2452            -0.584255               -0.331026  \n",
       "2453            -0.584255               -0.331026  \n",
       "\n",
       "[2454 rows x 5 columns]"
      ]
     },
     "execution_count": 99,
     "metadata": {},
     "output_type": "execute_result"
    }
   ],
   "source": [
    "five_features_X_test = df.drop(columns=['age','num_children','num_vehicles'])\n",
    "five_features_X_test"
   ]
  },
  {
   "cell_type": "code",
   "execution_count": 100,
   "id": "99a4f72b-c5a2-403c-9193-e3ad0866f3e1",
   "metadata": {
    "tags": []
   },
   "outputs": [
    {
     "name": "stdout",
     "output_type": "stream",
     "text": [
      "Test R-squared is: 31.04%\n",
      "      and MSE is:  1725988.36\n",
      "      and RMSE is: 1313.77\n"
     ]
    }
   ],
   "source": [
    "pred = my_model.predict(five_features_X_test)\n",
    "rSquare = r2_score(y_test, pred)\n",
    "mse = mean_squared_error(y_test, pred)\n",
    "rmse = np.sqrt(mse)\n",
    "\n",
    "print(f'Test R-squared is: {rSquare:.2%}')\n",
    "print(f'      and MSE is:  {mse:.2f}')\n",
    "print(f'      and RMSE is: {rmse:.2f}')"
   ]
  },
  {
   "cell_type": "code",
   "execution_count": null,
   "id": "4a85250c-db2b-4516-9cf1-03496695c0b8",
   "metadata": {},
   "outputs": [],
   "source": []
  },
  {
   "cell_type": "markdown",
   "id": "a83162ac",
   "metadata": {
    "deletable": false,
    "editable": false
   },
   "source": [
    "**&copy; 2022 - Present: Matthew D. Dean, Ph.D.   \n",
    "Clinical Associate Professor of Business Analytics at William \\& Mary.**"
   ]
  }
 ],
 "metadata": {
  "kernelspec": {
   "display_name": "Python 3 (ipykernel)",
   "language": "python",
   "name": "python3"
  },
  "language_info": {
   "codemirror_mode": {
    "name": "ipython",
    "version": 3
   },
   "file_extension": ".py",
   "mimetype": "text/x-python",
   "name": "python",
   "nbconvert_exporter": "python",
   "pygments_lexer": "ipython3",
   "version": "3.10.10"
  }
 },
 "nbformat": 4,
 "nbformat_minor": 5
}
