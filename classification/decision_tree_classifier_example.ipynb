{
 "cells": [
  {
   "cell_type": "markdown",
   "id": "f517264f",
   "metadata": {},
   "source": [
    "# A Decision Tree Classification Example\n",
    "\n",
    "There is a famous small data set called the *Iris* flower data set or Fisher's *Iris* data set from 1936 that is used as a  classification example. It contains only 150 rows of data, where there are 50 samples from each of three species of *Iris*. There are four features/variable/columns. We'll use this classic example to see how you could use a decision tree to make a multi-class classification decision."
   ]
  },
  {
   "cell_type": "code",
   "execution_count": null,
   "id": "0ec14004",
   "metadata": {},
   "outputs": [],
   "source": [
    "import pandas as pd\n",
    "import matplotlib.pyplot as plt\n",
    "import seaborn as sns\n",
    "\n",
    "from sklearn.model_selection import train_test_split\n",
    "\n",
    "from sklearn.tree import DecisionTreeClassifier, plot_tree\n",
    "\n",
    "from sklearn.metrics import classification_report\n",
    "from sklearn.metrics import ConfusionMatrixDisplay"
   ]
  },
  {
   "cell_type": "code",
   "execution_count": null,
   "id": "9979afb7",
   "metadata": {},
   "outputs": [],
   "source": [
    "# Get the data set\n",
    "iris = sns.load_dataset('iris')"
   ]
  },
  {
   "cell_type": "code",
   "execution_count": null,
   "id": "44d6b5b4",
   "metadata": {},
   "outputs": [],
   "source": [
    "# Look at it\n",
    "iris.info()"
   ]
  },
  {
   "cell_type": "code",
   "execution_count": null,
   "id": "2661361f",
   "metadata": {},
   "outputs": [],
   "source": [
    "# Take a peek\n",
    "iris.head()"
   ]
  },
  {
   "cell_type": "code",
   "execution_count": null,
   "id": "21f43479",
   "metadata": {},
   "outputs": [],
   "source": [
    "# Sample it\n",
    "iris.sample(5)"
   ]
  },
  {
   "cell_type": "code",
   "execution_count": null,
   "id": "762a6254",
   "metadata": {},
   "outputs": [],
   "source": [
    "sns.countplot(x='species', data=iris)"
   ]
  },
  {
   "cell_type": "markdown",
   "id": "8d870790",
   "metadata": {},
   "source": [
    "## Create $X$ and $y$ and Split Data\n",
    "\n",
    "We now create our $X$ and $y$ variables. We are trying to predict `species`, so that is our $y$ variable. We will then split the data into trainoing and test sets."
   ]
  },
  {
   "cell_type": "code",
   "execution_count": null,
   "id": "9d181e5a",
   "metadata": {},
   "outputs": [],
   "source": [
    "# X is everything but species\n",
    "X = iris.drop(columns=['species'])\n",
    "\n",
    "# y is species\n",
    "y = iris.species"
   ]
  },
  {
   "cell_type": "code",
   "execution_count": null,
   "id": "58259dcc",
   "metadata": {},
   "outputs": [],
   "source": [
    "# Split the data\n",
    "X_train, X_test, y_train, y_test = train_test_split(X, y,\n",
    "                                                    test_size=0.3,\n",
    "                                                   stratify=y,\n",
    "                                                   random_state=42)\n",
    "\n",
    "X_train.info()"
   ]
  },
  {
   "cell_type": "code",
   "execution_count": null,
   "id": "af773323",
   "metadata": {},
   "outputs": [],
   "source": [
    "# Plot y_test to make sure stratification occurred\n",
    "sns.countplot(x=y_test)"
   ]
  },
  {
   "cell_type": "code",
   "execution_count": null,
   "id": "2cccad02",
   "metadata": {},
   "outputs": [],
   "source": [
    "# Create and fit DecisionTreeClassifier on training data\n",
    "dt = DecisionTreeClassifier().fit(X_train, y_train)"
   ]
  },
  {
   "cell_type": "code",
   "execution_count": null,
   "id": "1fadb0ac",
   "metadata": {},
   "outputs": [],
   "source": [
    "# Plot the decision tree\n",
    "fig = plt.figure(figsize=(25,20))\n",
    "plot_tree(dt, feature_names=X.columns, filled=True,\n",
    "         rounded=True, class_names=iris.species.value_counts().index);"
   ]
  },
  {
   "cell_type": "code",
   "execution_count": null,
   "id": "690099b5",
   "metadata": {},
   "outputs": [],
   "source": [
    "# Print the classification report for test set\n",
    "print(classification_report(y_test, dt.predict(X_test)))"
   ]
  },
  {
   "cell_type": "code",
   "execution_count": null,
   "id": "3eb02466",
   "metadata": {},
   "outputs": [],
   "source": [
    "# Plot the confusion matrix\n",
    "ConfusionMatrixDisplay.from_estimator(dt, X_test, y_test, cmap='binary')"
   ]
  },
  {
   "cell_type": "markdown",
   "id": "9dcdf799",
   "metadata": {},
   "source": [
    "## Important Features\n",
    "\n",
    "One of the nice things about decision trees is that you can infer the importance of each feature/variable by seeing how close to the root node it is. The closer to the root node (top), the more important that feature is for model. Additionally, you can pull out the attribute `feature_importances_` to explicitly see them or plot them.\n",
    "\n",
    "Let's try it."
   ]
  },
  {
   "cell_type": "code",
   "execution_count": null,
   "id": "f785f01f",
   "metadata": {},
   "outputs": [],
   "source": [
    "# Just see what it looks like\n",
    "dt.feature_importances_"
   ]
  },
  {
   "cell_type": "code",
   "execution_count": null,
   "id": "2e5c78ce",
   "metadata": {},
   "outputs": [],
   "source": [
    "# Now, create a nice bar plot with most important feature on top\n",
    "importance = pd.DataFrame({'Importance':dt.feature_importances_*100},\n",
    "                          index=X.columns)\n",
    "importance.sort_values('Importance', axis=0, ascending=True).plot(kind='barh')\n",
    "plt.xlabel('Variable Importance')\n",
    "plt.gca().legend_ = None"
   ]
  },
  {
   "cell_type": "markdown",
   "id": "5af17dc5",
   "metadata": {},
   "source": [
    "**&copy; 2023 - Present: Matthew D. Dean, Ph.D.   \n",
    "Clinical Associate Professor of Business Analytics at William \\& Mary.**"
   ]
  }
 ],
 "metadata": {
  "kernelspec": {
   "display_name": "Python 3 (ipykernel)",
   "language": "python",
   "name": "python3"
  },
  "language_info": {
   "codemirror_mode": {
    "name": "ipython",
    "version": 3
   },
   "file_extension": ".py",
   "mimetype": "text/x-python",
   "name": "python",
   "nbconvert_exporter": "python",
   "pygments_lexer": "ipython3",
   "version": "3.8.8"
  }
 },
 "nbformat": 4,
 "nbformat_minor": 5
}
