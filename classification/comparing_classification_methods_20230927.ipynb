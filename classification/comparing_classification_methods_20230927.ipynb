{
 "cells": [
  {
   "cell_type": "markdown",
   "id": "214a01d8",
   "metadata": {},
   "source": [
    "# Comparing Classification Models\n",
    "\n",
    "We want to compare various classification models for the customer dataset. We'll look at logistic regression, LDA, QDA, and $k$-nearest neighbors."
   ]
  },
  {
   "cell_type": "code",
   "execution_count": 1,
   "id": "6754262e",
   "metadata": {},
   "outputs": [],
   "source": [
    "# import packages\n",
    "import pandas as pd\n",
    "import numpy as np\n",
    "import matplotlib.pyplot as plt\n",
    "import seaborn as sns\n",
    "\n",
    "# We'll look at logistic regression, LDA, QDA, and KNN\n",
    "from sklearn.linear_model import LogisticRegression\n",
    "from sklearn.discriminant_analysis import LinearDiscriminantAnalysis\n",
    "from sklearn.discriminant_analysis import QuadraticDiscriminantAnalysis\n",
    "from sklearn.neighbors import KNeighborsClassifier\n",
    "\n",
    "# We'll standardize and split data into training/testing\n",
    "from sklearn.preprocessing import StandardScaler\n",
    "from sklearn.model_selection import train_test_split\n",
    "\n",
    "\n",
    "# Need to measure \"goodness\"\n",
    "from sklearn.metrics import confusion_matrix, classification_report\n",
    "from sklearn.metrics import accuracy_score, recall_score, average_precision_score, precision_score\n",
    "from sklearn.metrics import f1_score, fbeta_score\n",
    "from sklearn.metrics import roc_auc_score, precision_recall_curve\n",
    "from sklearn.metrics import precision_recall_fscore_support\n",
    "from sklearn.metrics import ConfusionMatrixDisplay, PrecisionRecallDisplay, RocCurveDisplay"
   ]
  },
  {
   "cell_type": "code",
   "execution_count": 2,
   "id": "7e1b5b9e",
   "metadata": {},
   "outputs": [
    {
     "name": "stdout",
     "output_type": "stream",
     "text": [
      "(12266, 11)\n"
     ]
    }
   ],
   "source": [
    "# Read in the data and print out its shape\n",
    "cust = pd.read_csv('./data/customers_clean.csv')\n",
    "print(cust.shape)"
   ]
  },
  {
   "cell_type": "code",
   "execution_count": 3,
   "id": "d235b84e",
   "metadata": {},
   "outputs": [
    {
     "name": "stdout",
     "output_type": "stream",
     "text": [
      "<class 'pandas.core.frame.DataFrame'>\n",
      "RangeIndex: 12266 entries, 0 to 12265\n",
      "Data columns (total 8 columns):\n",
      " #   Column            Non-Null Count  Dtype \n",
      "---  ------            --------------  ----- \n",
      " 0   gender            12266 non-null  object\n",
      " 1   age               12266 non-null  int64 \n",
      " 2   marital_status    12266 non-null  object\n",
      " 3   household_income  12266 non-null  int64 \n",
      " 4   home_ownership    12266 non-null  object\n",
      " 5   num_children      12266 non-null  int64 \n",
      " 6   num_vehicles      12266 non-null  int64 \n",
      " 7   spend             12266 non-null  int64 \n",
      "dtypes: int64(5), object(3)\n",
      "memory usage: 766.8+ KB\n"
     ]
    }
   ],
   "source": [
    "# Let's drop the following columns:\n",
    "# cust_id, join_date, last_purchase_date\n",
    "new_cust = cust.drop(columns=['cust_id','join_date','last_purchase_date'])\n",
    "new_cust.info()"
   ]
  },
  {
   "cell_type": "code",
   "execution_count": 4,
   "id": "df24447f",
   "metadata": {},
   "outputs": [
    {
     "name": "stdout",
     "output_type": "stream",
     "text": [
      "<class 'pandas.core.frame.DataFrame'>\n",
      "RangeIndex: 12266 entries, 0 to 12265\n",
      "Data columns (total 9 columns):\n",
      " #   Column                    Non-Null Count  Dtype\n",
      "---  ------                    --------------  -----\n",
      " 0   age                       12266 non-null  int64\n",
      " 1   household_income          12266 non-null  int64\n",
      " 2   num_children              12266 non-null  int64\n",
      " 3   num_vehicles              12266 non-null  int64\n",
      " 4   spend                     12266 non-null  int64\n",
      " 5   gender_M                  12266 non-null  int64\n",
      " 6   marital_status_unmarried  12266 non-null  int64\n",
      " 7   home_ownership_rent       12266 non-null  int64\n",
      " 8   home_ownership_unknown    12266 non-null  int64\n",
      "dtypes: int64(9)\n",
      "memory usage: 862.6 KB\n"
     ]
    }
   ],
   "source": [
    "# Create dummies and save in new DataFrame\n",
    "data = pd.get_dummies(new_cust, dtype=int, drop_first=True)\n",
    "data.info()"
   ]
  },
  {
   "cell_type": "markdown",
   "id": "3aed07b8",
   "metadata": {},
   "source": [
    "## Create \"big spender\"\n",
    "\n",
    "We want to convert the $y$ variable, `spend`, into a binary variable where 1 represents a big spender and a 0 otherwise. We can set the cutoff anywhere we want. Looking at the summary statistics from above, let's use \\$4,700 (what you told me to do) as the cutoff. We can use the function `pd.cut()`."
   ]
  },
  {
   "cell_type": "code",
   "execution_count": 5,
   "id": "f0cd67fb",
   "metadata": {},
   "outputs": [
    {
     "name": "stdout",
     "output_type": "stream",
     "text": [
      "<class 'pandas.core.frame.DataFrame'>\n",
      "RangeIndex: 12266 entries, 0 to 12265\n",
      "Data columns (total 10 columns):\n",
      " #   Column                    Non-Null Count  Dtype\n",
      "---  ------                    --------------  -----\n",
      " 0   age                       12266 non-null  int64\n",
      " 1   household_income          12266 non-null  int64\n",
      " 2   num_children              12266 non-null  int64\n",
      " 3   num_vehicles              12266 non-null  int64\n",
      " 4   spend                     12266 non-null  int64\n",
      " 5   gender_M                  12266 non-null  int64\n",
      " 6   marital_status_unmarried  12266 non-null  int64\n",
      " 7   home_ownership_rent       12266 non-null  int64\n",
      " 8   home_ownership_unknown    12266 non-null  int64\n",
      " 9   big_spender               12266 non-null  int64\n",
      "dtypes: int64(10)\n",
      "memory usage: 958.4 KB\n"
     ]
    }
   ],
   "source": [
    "data['big_spender'] = pd.cut(data.spend, bins=[0,4700,10000], right=True, labels=[0,1]).astype(int)\n",
    "data.info()"
   ]
  },
  {
   "cell_type": "code",
   "execution_count": 6,
   "id": "26b8b5ca",
   "metadata": {},
   "outputs": [
    {
     "data": {
      "text/html": [
       "<div><div id=dfaeca04-b2d6-477a-95c3-1027b3d177bc style=\"display:none; background-color:#9D6CFF; color:white; width:200px; height:30px; padding-left:5px; border-radius:4px; flex-direction:row; justify-content:space-around; align-items:center;\" onmouseover=\"this.style.backgroundColor='#BA9BF8'\" onmouseout=\"this.style.backgroundColor='#9D6CFF'\" onclick=\"window.commands?.execute('create-mitosheet-from-dataframe-output');\">See Full Dataframe in Mito</div> <script> if (window.commands.hasCommand('create-mitosheet-from-dataframe-output')) document.getElementById('dfaeca04-b2d6-477a-95c3-1027b3d177bc').style.display = 'flex' </script> <table border=\"1\" class=\"dataframe\">\n",
       "  <thead>\n",
       "    <tr style=\"text-align: right;\">\n",
       "      <th></th>\n",
       "      <th>age</th>\n",
       "      <th>household_income</th>\n",
       "      <th>num_children</th>\n",
       "      <th>num_vehicles</th>\n",
       "      <th>spend</th>\n",
       "      <th>gender_M</th>\n",
       "      <th>marital_status_unmarried</th>\n",
       "      <th>home_ownership_rent</th>\n",
       "      <th>home_ownership_unknown</th>\n",
       "      <th>big_spender</th>\n",
       "    </tr>\n",
       "  </thead>\n",
       "  <tbody>\n",
       "    <tr>\n",
       "      <th>count</th>\n",
       "      <td>12266.000000</td>\n",
       "      <td>12266.000000</td>\n",
       "      <td>12266.000000</td>\n",
       "      <td>12266.000000</td>\n",
       "      <td>12266.000000</td>\n",
       "      <td>12266.000000</td>\n",
       "      <td>12266.000000</td>\n",
       "      <td>12266.000000</td>\n",
       "      <td>12266.000000</td>\n",
       "      <td>12266.000000</td>\n",
       "    </tr>\n",
       "    <tr>\n",
       "      <th>mean</th>\n",
       "      <td>37.864096</td>\n",
       "      <td>301670.381135</td>\n",
       "      <td>2.505544</td>\n",
       "      <td>2.503913</td>\n",
       "      <td>4531.936736</td>\n",
       "      <td>0.315669</td>\n",
       "      <td>0.251834</td>\n",
       "      <td>0.252323</td>\n",
       "      <td>0.101582</td>\n",
       "      <td>0.515245</td>\n",
       "    </tr>\n",
       "    <tr>\n",
       "      <th>std</th>\n",
       "      <td>10.663234</td>\n",
       "      <td>115752.377718</td>\n",
       "      <td>1.707281</td>\n",
       "      <td>1.697419</td>\n",
       "      <td>1597.594658</td>\n",
       "      <td>0.464801</td>\n",
       "      <td>0.434084</td>\n",
       "      <td>0.434364</td>\n",
       "      <td>0.302110</td>\n",
       "      <td>0.499788</td>\n",
       "    </tr>\n",
       "    <tr>\n",
       "      <th>min</th>\n",
       "      <td>20.000000</td>\n",
       "      <td>65003.000000</td>\n",
       "      <td>0.000000</td>\n",
       "      <td>0.000000</td>\n",
       "      <td>1468.000000</td>\n",
       "      <td>0.000000</td>\n",
       "      <td>0.000000</td>\n",
       "      <td>0.000000</td>\n",
       "      <td>0.000000</td>\n",
       "      <td>0.000000</td>\n",
       "    </tr>\n",
       "    <tr>\n",
       "      <th>25%</th>\n",
       "      <td>29.000000</td>\n",
       "      <td>217028.250000</td>\n",
       "      <td>1.000000</td>\n",
       "      <td>1.000000</td>\n",
       "      <td>3237.000000</td>\n",
       "      <td>0.000000</td>\n",
       "      <td>0.000000</td>\n",
       "      <td>0.000000</td>\n",
       "      <td>0.000000</td>\n",
       "      <td>0.000000</td>\n",
       "    </tr>\n",
       "    <tr>\n",
       "      <th>50%</th>\n",
       "      <td>38.000000</td>\n",
       "      <td>307364.500000</td>\n",
       "      <td>3.000000</td>\n",
       "      <td>3.000000</td>\n",
       "      <td>4766.000000</td>\n",
       "      <td>0.000000</td>\n",
       "      <td>0.000000</td>\n",
       "      <td>0.000000</td>\n",
       "      <td>0.000000</td>\n",
       "      <td>1.000000</td>\n",
       "    </tr>\n",
       "    <tr>\n",
       "      <th>75%</th>\n",
       "      <td>47.000000</td>\n",
       "      <td>399456.250000</td>\n",
       "      <td>4.000000</td>\n",
       "      <td>4.000000</td>\n",
       "      <td>5723.000000</td>\n",
       "      <td>1.000000</td>\n",
       "      <td>1.000000</td>\n",
       "      <td>1.000000</td>\n",
       "      <td>0.000000</td>\n",
       "      <td>1.000000</td>\n",
       "    </tr>\n",
       "    <tr>\n",
       "      <th>max</th>\n",
       "      <td>56.000000</td>\n",
       "      <td>489982.000000</td>\n",
       "      <td>5.000000</td>\n",
       "      <td>5.000000</td>\n",
       "      <td>7500.000000</td>\n",
       "      <td>1.000000</td>\n",
       "      <td>1.000000</td>\n",
       "      <td>1.000000</td>\n",
       "      <td>1.000000</td>\n",
       "      <td>1.000000</td>\n",
       "    </tr>\n",
       "  </tbody>\n",
       "</table></div>"
      ],
      "text/plain": [
       "                age  household_income  num_children  num_vehicles   \n",
       "count  12266.000000      12266.000000  12266.000000  12266.000000  \\\n",
       "mean      37.864096     301670.381135      2.505544      2.503913   \n",
       "std       10.663234     115752.377718      1.707281      1.697419   \n",
       "min       20.000000      65003.000000      0.000000      0.000000   \n",
       "25%       29.000000     217028.250000      1.000000      1.000000   \n",
       "50%       38.000000     307364.500000      3.000000      3.000000   \n",
       "75%       47.000000     399456.250000      4.000000      4.000000   \n",
       "max       56.000000     489982.000000      5.000000      5.000000   \n",
       "\n",
       "              spend      gender_M  marital_status_unmarried   \n",
       "count  12266.000000  12266.000000              12266.000000  \\\n",
       "mean    4531.936736      0.315669                  0.251834   \n",
       "std     1597.594658      0.464801                  0.434084   \n",
       "min     1468.000000      0.000000                  0.000000   \n",
       "25%     3237.000000      0.000000                  0.000000   \n",
       "50%     4766.000000      0.000000                  0.000000   \n",
       "75%     5723.000000      1.000000                  1.000000   \n",
       "max     7500.000000      1.000000                  1.000000   \n",
       "\n",
       "       home_ownership_rent  home_ownership_unknown   big_spender  \n",
       "count         12266.000000            12266.000000  12266.000000  \n",
       "mean              0.252323                0.101582      0.515245  \n",
       "std               0.434364                0.302110      0.499788  \n",
       "min               0.000000                0.000000      0.000000  \n",
       "25%               0.000000                0.000000      0.000000  \n",
       "50%               0.000000                0.000000      1.000000  \n",
       "75%               1.000000                0.000000      1.000000  \n",
       "max               1.000000                1.000000      1.000000  "
      ]
     },
     "execution_count": 6,
     "metadata": {},
     "output_type": "execute_result"
    }
   ],
   "source": [
    "# See summary statistics\n",
    "data.describe()"
   ]
  },
  {
   "cell_type": "markdown",
   "id": "76d22025",
   "metadata": {},
   "source": [
    "## Split Data into Training and Test Sets\n",
    "\n",
    "Need to first define `X` and `y`. Then we can try train/test split."
   ]
  },
  {
   "cell_type": "code",
   "execution_count": 7,
   "id": "85c547fd",
   "metadata": {},
   "outputs": [],
   "source": [
    "# define the output variable, y\n",
    "y = data.big_spender\n",
    "\n",
    "# define the X\n",
    "# Notice this time we are only dropping the original 'spend'\n",
    "# and the 'big_spender' columns.\n",
    "X = data.drop(columns=['spend', 'big_spender'])"
   ]
  },
  {
   "cell_type": "code",
   "execution_count": 8,
   "id": "93a2a76d",
   "metadata": {},
   "outputs": [],
   "source": [
    "# Time to split the data into training and test sets\n",
    "X_train, X_test, y_train, y_test = train_test_split(X, y,\n",
    "                                                   test_size=0.2,\n",
    "                                                   random_state=163)"
   ]
  },
  {
   "cell_type": "code",
   "execution_count": 9,
   "id": "8c33826d",
   "metadata": {},
   "outputs": [
    {
     "name": "stdout",
     "output_type": "stream",
     "text": [
      "Training percentage of big spenders is 50.87%\n",
      "Testing percentage of big spenders is  54.16%\n"
     ]
    }
   ],
   "source": [
    "# What is the percentage of big spenders in both training and test?\n",
    "print(f'Training percentage of big spenders is {y_train.mean():.2%}')\n",
    "print(f'Testing percentage of big spenders is  {y_test.mean():.2%}')"
   ]
  },
  {
   "cell_type": "markdown",
   "id": "d2ca8cc1",
   "metadata": {},
   "source": [
    "## Scale the Data\n",
    "\n",
    "Fit only on the training set. Use that fit to transform both the training and test sets."
   ]
  },
  {
   "cell_type": "code",
   "execution_count": 10,
   "id": "a33ac0c7",
   "metadata": {},
   "outputs": [
    {
     "data": {
      "text/html": [
       "<style>#sk-container-id-1 {color: black;background-color: white;}#sk-container-id-1 pre{padding: 0;}#sk-container-id-1 div.sk-toggleable {background-color: white;}#sk-container-id-1 label.sk-toggleable__label {cursor: pointer;display: block;width: 100%;margin-bottom: 0;padding: 0.3em;box-sizing: border-box;text-align: center;}#sk-container-id-1 label.sk-toggleable__label-arrow:before {content: \"▸\";float: left;margin-right: 0.25em;color: #696969;}#sk-container-id-1 label.sk-toggleable__label-arrow:hover:before {color: black;}#sk-container-id-1 div.sk-estimator:hover label.sk-toggleable__label-arrow:before {color: black;}#sk-container-id-1 div.sk-toggleable__content {max-height: 0;max-width: 0;overflow: hidden;text-align: left;background-color: #f0f8ff;}#sk-container-id-1 div.sk-toggleable__content pre {margin: 0.2em;color: black;border-radius: 0.25em;background-color: #f0f8ff;}#sk-container-id-1 input.sk-toggleable__control:checked~div.sk-toggleable__content {max-height: 200px;max-width: 100%;overflow: auto;}#sk-container-id-1 input.sk-toggleable__control:checked~label.sk-toggleable__label-arrow:before {content: \"▾\";}#sk-container-id-1 div.sk-estimator input.sk-toggleable__control:checked~label.sk-toggleable__label {background-color: #d4ebff;}#sk-container-id-1 div.sk-label input.sk-toggleable__control:checked~label.sk-toggleable__label {background-color: #d4ebff;}#sk-container-id-1 input.sk-hidden--visually {border: 0;clip: rect(1px 1px 1px 1px);clip: rect(1px, 1px, 1px, 1px);height: 1px;margin: -1px;overflow: hidden;padding: 0;position: absolute;width: 1px;}#sk-container-id-1 div.sk-estimator {font-family: monospace;background-color: #f0f8ff;border: 1px dotted black;border-radius: 0.25em;box-sizing: border-box;margin-bottom: 0.5em;}#sk-container-id-1 div.sk-estimator:hover {background-color: #d4ebff;}#sk-container-id-1 div.sk-parallel-item::after {content: \"\";width: 100%;border-bottom: 1px solid gray;flex-grow: 1;}#sk-container-id-1 div.sk-label:hover label.sk-toggleable__label {background-color: #d4ebff;}#sk-container-id-1 div.sk-serial::before {content: \"\";position: absolute;border-left: 1px solid gray;box-sizing: border-box;top: 0;bottom: 0;left: 50%;z-index: 0;}#sk-container-id-1 div.sk-serial {display: flex;flex-direction: column;align-items: center;background-color: white;padding-right: 0.2em;padding-left: 0.2em;position: relative;}#sk-container-id-1 div.sk-item {position: relative;z-index: 1;}#sk-container-id-1 div.sk-parallel {display: flex;align-items: stretch;justify-content: center;background-color: white;position: relative;}#sk-container-id-1 div.sk-item::before, #sk-container-id-1 div.sk-parallel-item::before {content: \"\";position: absolute;border-left: 1px solid gray;box-sizing: border-box;top: 0;bottom: 0;left: 50%;z-index: -1;}#sk-container-id-1 div.sk-parallel-item {display: flex;flex-direction: column;z-index: 1;position: relative;background-color: white;}#sk-container-id-1 div.sk-parallel-item:first-child::after {align-self: flex-end;width: 50%;}#sk-container-id-1 div.sk-parallel-item:last-child::after {align-self: flex-start;width: 50%;}#sk-container-id-1 div.sk-parallel-item:only-child::after {width: 0;}#sk-container-id-1 div.sk-dashed-wrapped {border: 1px dashed gray;margin: 0 0.4em 0.5em 0.4em;box-sizing: border-box;padding-bottom: 0.4em;background-color: white;}#sk-container-id-1 div.sk-label label {font-family: monospace;font-weight: bold;display: inline-block;line-height: 1.2em;}#sk-container-id-1 div.sk-label-container {text-align: center;}#sk-container-id-1 div.sk-container {/* jupyter's `normalize.less` sets `[hidden] { display: none; }` but bootstrap.min.css set `[hidden] { display: none !important; }` so we also need the `!important` here to be able to override the default hidden behavior on the sphinx rendered scikit-learn.org. See: https://github.com/scikit-learn/scikit-learn/issues/21755 */display: inline-block !important;position: relative;}#sk-container-id-1 div.sk-text-repr-fallback {display: none;}</style><div id=\"sk-container-id-1\" class=\"sk-top-container\"><div class=\"sk-text-repr-fallback\"><pre>StandardScaler()</pre><b>In a Jupyter environment, please rerun this cell to show the HTML representation or trust the notebook. <br />On GitHub, the HTML representation is unable to render, please try loading this page with nbviewer.org.</b></div><div class=\"sk-container\" hidden><div class=\"sk-item\"><div class=\"sk-estimator sk-toggleable\"><input class=\"sk-toggleable__control sk-hidden--visually\" id=\"sk-estimator-id-1\" type=\"checkbox\" checked><label for=\"sk-estimator-id-1\" class=\"sk-toggleable__label sk-toggleable__label-arrow\">StandardScaler</label><div class=\"sk-toggleable__content\"><pre>StandardScaler()</pre></div></div></div></div></div>"
      ],
      "text/plain": [
       "StandardScaler()"
      ]
     },
     "execution_count": 10,
     "metadata": {},
     "output_type": "execute_result"
    }
   ],
   "source": [
    "# Fit the scaler on just the training X variables\n",
    "# Let's start with StandardScaler which will center\n",
    "# each variable at 0 and give each a unit variance (=1)\n",
    "s_scaler = StandardScaler().fit(X_train)\n",
    "s_scaler"
   ]
  },
  {
   "cell_type": "code",
   "execution_count": 11,
   "id": "f9ec9747",
   "metadata": {},
   "outputs": [
    {
     "data": {
      "text/html": [
       "<div><div id=249bd824-cc85-4399-ae29-3afd2f7a21c3 style=\"display:none; background-color:#9D6CFF; color:white; width:200px; height:30px; padding-left:5px; border-radius:4px; flex-direction:row; justify-content:space-around; align-items:center;\" onmouseover=\"this.style.backgroundColor='#BA9BF8'\" onmouseout=\"this.style.backgroundColor='#9D6CFF'\" onclick=\"window.commands?.execute('create-mitosheet-from-dataframe-output');\">See Full Dataframe in Mito</div> <script> if (window.commands.hasCommand('create-mitosheet-from-dataframe-output')) document.getElementById('249bd824-cc85-4399-ae29-3afd2f7a21c3').style.display = 'flex' </script> <table border=\"1\" class=\"dataframe\">\n",
       "  <thead>\n",
       "    <tr style=\"text-align: right;\">\n",
       "      <th></th>\n",
       "      <th>age</th>\n",
       "      <th>household_income</th>\n",
       "      <th>num_children</th>\n",
       "      <th>num_vehicles</th>\n",
       "      <th>gender_M</th>\n",
       "      <th>marital_status_unmarried</th>\n",
       "      <th>home_ownership_rent</th>\n",
       "      <th>home_ownership_unknown</th>\n",
       "    </tr>\n",
       "  </thead>\n",
       "  <tbody>\n",
       "    <tr>\n",
       "      <th>count</th>\n",
       "      <td>9.812000e+03</td>\n",
       "      <td>9.812000e+03</td>\n",
       "      <td>9.812000e+03</td>\n",
       "      <td>9.812000e+03</td>\n",
       "      <td>9.812000e+03</td>\n",
       "      <td>9.812000e+03</td>\n",
       "      <td>9.812000e+03</td>\n",
       "      <td>9.812000e+03</td>\n",
       "    </tr>\n",
       "    <tr>\n",
       "      <th>mean</th>\n",
       "      <td>4.924267e-17</td>\n",
       "      <td>-1.578662e-16</td>\n",
       "      <td>-6.626035e-17</td>\n",
       "      <td>-9.486455e-17</td>\n",
       "      <td>-4.127694e-17</td>\n",
       "      <td>6.752763e-17</td>\n",
       "      <td>-5.630320e-17</td>\n",
       "      <td>-1.375898e-17</td>\n",
       "    </tr>\n",
       "    <tr>\n",
       "      <th>std</th>\n",
       "      <td>1.000051e+00</td>\n",
       "      <td>1.000051e+00</td>\n",
       "      <td>1.000051e+00</td>\n",
       "      <td>1.000051e+00</td>\n",
       "      <td>1.000051e+00</td>\n",
       "      <td>1.000051e+00</td>\n",
       "      <td>1.000051e+00</td>\n",
       "      <td>1.000051e+00</td>\n",
       "    </tr>\n",
       "    <tr>\n",
       "      <th>min</th>\n",
       "      <td>-1.668967e+00</td>\n",
       "      <td>-2.053426e+00</td>\n",
       "      <td>-1.469745e+00</td>\n",
       "      <td>-1.479061e+00</td>\n",
       "      <td>-6.788013e-01</td>\n",
       "      <td>-5.795470e-01</td>\n",
       "      <td>-5.842546e-01</td>\n",
       "      <td>-3.310260e-01</td>\n",
       "    </tr>\n",
       "    <tr>\n",
       "      <th>25%</th>\n",
       "      <td>-8.273933e-01</td>\n",
       "      <td>-7.266243e-01</td>\n",
       "      <td>-8.831620e-01</td>\n",
       "      <td>-8.884476e-01</td>\n",
       "      <td>-6.788013e-01</td>\n",
       "      <td>-5.795470e-01</td>\n",
       "      <td>-5.842546e-01</td>\n",
       "      <td>-3.310260e-01</td>\n",
       "    </tr>\n",
       "    <tr>\n",
       "      <th>50%</th>\n",
       "      <td>1.418062e-02</td>\n",
       "      <td>4.409943e-02</td>\n",
       "      <td>2.900033e-01</td>\n",
       "      <td>2.927784e-01</td>\n",
       "      <td>-6.788013e-01</td>\n",
       "      <td>-5.795470e-01</td>\n",
       "      <td>-5.842546e-01</td>\n",
       "      <td>-3.310260e-01</td>\n",
       "    </tr>\n",
       "    <tr>\n",
       "      <th>75%</th>\n",
       "      <td>8.557545e-01</td>\n",
       "      <td>8.439403e-01</td>\n",
       "      <td>8.765859e-01</td>\n",
       "      <td>8.833914e-01</td>\n",
       "      <td>1.473185e+00</td>\n",
       "      <td>1.725486e+00</td>\n",
       "      <td>1.711583e+00</td>\n",
       "      <td>-3.310260e-01</td>\n",
       "    </tr>\n",
       "    <tr>\n",
       "      <th>max</th>\n",
       "      <td>1.697328e+00</td>\n",
       "      <td>1.642012e+00</td>\n",
       "      <td>1.463169e+00</td>\n",
       "      <td>1.474004e+00</td>\n",
       "      <td>1.473185e+00</td>\n",
       "      <td>1.725486e+00</td>\n",
       "      <td>1.711583e+00</td>\n",
       "      <td>3.020911e+00</td>\n",
       "    </tr>\n",
       "  </tbody>\n",
       "</table></div>"
      ],
      "text/plain": [
       "                age  household_income  num_children  num_vehicles   \n",
       "count  9.812000e+03      9.812000e+03  9.812000e+03  9.812000e+03  \\\n",
       "mean   4.924267e-17     -1.578662e-16 -6.626035e-17 -9.486455e-17   \n",
       "std    1.000051e+00      1.000051e+00  1.000051e+00  1.000051e+00   \n",
       "min   -1.668967e+00     -2.053426e+00 -1.469745e+00 -1.479061e+00   \n",
       "25%   -8.273933e-01     -7.266243e-01 -8.831620e-01 -8.884476e-01   \n",
       "50%    1.418062e-02      4.409943e-02  2.900033e-01  2.927784e-01   \n",
       "75%    8.557545e-01      8.439403e-01  8.765859e-01  8.833914e-01   \n",
       "max    1.697328e+00      1.642012e+00  1.463169e+00  1.474004e+00   \n",
       "\n",
       "           gender_M  marital_status_unmarried  home_ownership_rent   \n",
       "count  9.812000e+03              9.812000e+03         9.812000e+03  \\\n",
       "mean  -4.127694e-17              6.752763e-17        -5.630320e-17   \n",
       "std    1.000051e+00              1.000051e+00         1.000051e+00   \n",
       "min   -6.788013e-01             -5.795470e-01        -5.842546e-01   \n",
       "25%   -6.788013e-01             -5.795470e-01        -5.842546e-01   \n",
       "50%   -6.788013e-01             -5.795470e-01        -5.842546e-01   \n",
       "75%    1.473185e+00              1.725486e+00         1.711583e+00   \n",
       "max    1.473185e+00              1.725486e+00         1.711583e+00   \n",
       "\n",
       "       home_ownership_unknown  \n",
       "count            9.812000e+03  \n",
       "mean            -1.375898e-17  \n",
       "std              1.000051e+00  \n",
       "min             -3.310260e-01  \n",
       "25%             -3.310260e-01  \n",
       "50%             -3.310260e-01  \n",
       "75%             -3.310260e-01  \n",
       "max              3.020911e+00  "
      ]
     },
     "execution_count": 11,
     "metadata": {},
     "output_type": "execute_result"
    }
   ],
   "source": [
    "# Transform X_train and put in DataFrame\n",
    "X_train_ss = pd.DataFrame(s_scaler.transform(X_train), columns=X_train.columns)\n",
    "\n",
    "# Take a look at the DataFrame\n",
    "X_train_ss.describe()"
   ]
  },
  {
   "cell_type": "code",
   "execution_count": 12,
   "id": "52c35e88",
   "metadata": {},
   "outputs": [
    {
     "data": {
      "text/html": [
       "<div><div id=700c2554-1f5d-4860-8f00-ccad6c2c006d style=\"display:none; background-color:#9D6CFF; color:white; width:200px; height:30px; padding-left:5px; border-radius:4px; flex-direction:row; justify-content:space-around; align-items:center;\" onmouseover=\"this.style.backgroundColor='#BA9BF8'\" onmouseout=\"this.style.backgroundColor='#9D6CFF'\" onclick=\"window.commands?.execute('create-mitosheet-from-dataframe-output');\">See Full Dataframe in Mito</div> <script> if (window.commands.hasCommand('create-mitosheet-from-dataframe-output')) document.getElementById('700c2554-1f5d-4860-8f00-ccad6c2c006d').style.display = 'flex' </script> <table border=\"1\" class=\"dataframe\">\n",
       "  <thead>\n",
       "    <tr style=\"text-align: right;\">\n",
       "      <th></th>\n",
       "      <th>age</th>\n",
       "      <th>household_income</th>\n",
       "      <th>num_children</th>\n",
       "      <th>num_vehicles</th>\n",
       "      <th>gender_M</th>\n",
       "      <th>marital_status_unmarried</th>\n",
       "      <th>home_ownership_rent</th>\n",
       "      <th>home_ownership_unknown</th>\n",
       "    </tr>\n",
       "  </thead>\n",
       "  <tbody>\n",
       "    <tr>\n",
       "      <th>count</th>\n",
       "      <td>2454.000000</td>\n",
       "      <td>2454.000000</td>\n",
       "      <td>2454.000000</td>\n",
       "      <td>2454.000000</td>\n",
       "      <td>2454.000000</td>\n",
       "      <td>2454.000000</td>\n",
       "      <td>2454.000000</td>\n",
       "      <td>2454.000000</td>\n",
       "    </tr>\n",
       "    <tr>\n",
       "      <th>mean</th>\n",
       "      <td>0.007360</td>\n",
       "      <td>0.022660</td>\n",
       "      <td>-0.000181</td>\n",
       "      <td>-0.001084</td>\n",
       "      <td>0.002573</td>\n",
       "      <td>0.004695</td>\n",
       "      <td>-0.024796</td>\n",
       "      <td>0.047330</td>\n",
       "    </tr>\n",
       "    <tr>\n",
       "      <th>std</th>\n",
       "      <td>0.985393</td>\n",
       "      <td>1.032056</td>\n",
       "      <td>1.007286</td>\n",
       "      <td>1.012526</td>\n",
       "      <td>1.001222</td>\n",
       "      <td>1.002880</td>\n",
       "      <td>0.985813</td>\n",
       "      <td>1.060911</td>\n",
       "    </tr>\n",
       "    <tr>\n",
       "      <th>min</th>\n",
       "      <td>-1.668967</td>\n",
       "      <td>-2.051661</td>\n",
       "      <td>-1.469745</td>\n",
       "      <td>-1.479061</td>\n",
       "      <td>-0.678801</td>\n",
       "      <td>-0.579547</td>\n",
       "      <td>-0.584255</td>\n",
       "      <td>-0.331026</td>\n",
       "    </tr>\n",
       "    <tr>\n",
       "      <th>25%</th>\n",
       "      <td>-0.827393</td>\n",
       "      <td>-0.746133</td>\n",
       "      <td>-0.883162</td>\n",
       "      <td>-0.888448</td>\n",
       "      <td>-0.678801</td>\n",
       "      <td>-0.579547</td>\n",
       "      <td>-0.584255</td>\n",
       "      <td>-0.331026</td>\n",
       "    </tr>\n",
       "    <tr>\n",
       "      <th>50%</th>\n",
       "      <td>0.014181</td>\n",
       "      <td>0.098260</td>\n",
       "      <td>0.290003</td>\n",
       "      <td>-0.002528</td>\n",
       "      <td>-0.678801</td>\n",
       "      <td>-0.579547</td>\n",
       "      <td>-0.584255</td>\n",
       "      <td>-0.331026</td>\n",
       "    </tr>\n",
       "    <tr>\n",
       "      <th>75%</th>\n",
       "      <td>0.855755</td>\n",
       "      <td>0.898707</td>\n",
       "      <td>0.876586</td>\n",
       "      <td>0.883391</td>\n",
       "      <td>1.473185</td>\n",
       "      <td>1.725486</td>\n",
       "      <td>-0.584255</td>\n",
       "      <td>-0.331026</td>\n",
       "    </tr>\n",
       "    <tr>\n",
       "      <th>max</th>\n",
       "      <td>1.697328</td>\n",
       "      <td>1.641855</td>\n",
       "      <td>1.463169</td>\n",
       "      <td>1.474004</td>\n",
       "      <td>1.473185</td>\n",
       "      <td>1.725486</td>\n",
       "      <td>1.711583</td>\n",
       "      <td>3.020911</td>\n",
       "    </tr>\n",
       "  </tbody>\n",
       "</table></div>"
      ],
      "text/plain": [
       "               age  household_income  num_children  num_vehicles     gender_M   \n",
       "count  2454.000000       2454.000000   2454.000000   2454.000000  2454.000000  \\\n",
       "mean      0.007360          0.022660     -0.000181     -0.001084     0.002573   \n",
       "std       0.985393          1.032056      1.007286      1.012526     1.001222   \n",
       "min      -1.668967         -2.051661     -1.469745     -1.479061    -0.678801   \n",
       "25%      -0.827393         -0.746133     -0.883162     -0.888448    -0.678801   \n",
       "50%       0.014181          0.098260      0.290003     -0.002528    -0.678801   \n",
       "75%       0.855755          0.898707      0.876586      0.883391     1.473185   \n",
       "max       1.697328          1.641855      1.463169      1.474004     1.473185   \n",
       "\n",
       "       marital_status_unmarried  home_ownership_rent  home_ownership_unknown  \n",
       "count               2454.000000          2454.000000             2454.000000  \n",
       "mean                   0.004695            -0.024796                0.047330  \n",
       "std                    1.002880             0.985813                1.060911  \n",
       "min                   -0.579547            -0.584255               -0.331026  \n",
       "25%                   -0.579547            -0.584255               -0.331026  \n",
       "50%                   -0.579547            -0.584255               -0.331026  \n",
       "75%                    1.725486            -0.584255               -0.331026  \n",
       "max                    1.725486             1.711583                3.020911  "
      ]
     },
     "execution_count": 12,
     "metadata": {},
     "output_type": "execute_result"
    }
   ],
   "source": [
    "# Transform X_test and put in DataFrame\n",
    "X_test_ss = pd.DataFrame(s_scaler.transform(X_test), columns=X_test.columns)\n",
    "X_test_ss.describe()"
   ]
  },
  {
   "cell_type": "markdown",
   "id": "8545ff37",
   "metadata": {},
   "source": [
    "# Function to Look at Different Models\n",
    "\n",
    "I have write a custom function that will take in different models (classifiers) and compute the different metrics so we can compare the different classifiers easily."
   ]
  },
  {
   "cell_type": "code",
   "execution_count": 13,
   "id": "3ce4fb0b",
   "metadata": {},
   "outputs": [],
   "source": [
    "# define our function\n",
    "def modelMetrics(classifier, name, X_test, y_test):\n",
    "    \"\"\"\n",
    "    We want to see how the different models react to the same \n",
    "    dataset. We should capture multiple metrics for each model.\n",
    "    \n",
    "    classifier: the classifier we are capturing metrics for\n",
    "    \n",
    "    name: give it a descriptive name\n",
    "    \n",
    "    X_test: the X array for the test set\n",
    "    \n",
    "    y_test: the output variable (actual) for test set\n",
    "    \"\"\"\n",
    "    retVal = {}\n",
    "    \n",
    "    metrics = {}\n",
    "    predictions = classifier.predict(X_test)\n",
    "    metrics['a_score'] = accuracy_score(y_test, predictions)\n",
    "    metrics['r_score'] = recall_score(y_test, predictions)\n",
    "    metrics['p_score'] = precision_score(y_test, predictions)\n",
    "    metrics['f1_score'] = f1_score(y_test, predictions)\n",
    "    metrics['f2_score'] = fbeta_score(y_test, predictions, beta=2)\n",
    "    metrics['f0.5_score'] = fbeta_score(y_test, predictions, beta=0.5)\n",
    "    \n",
    "    tn, fp, fn, tp = confusion_matrix(y_test, predictions).ravel()\n",
    "    totPositives = y_test.sum()\n",
    "    totNegatives = len(y_test) - totPositives\n",
    "    \n",
    "    # Error rate negatives = false positives / total negatives\n",
    "    metrics['errorNegatives'] = fp/totNegatives\n",
    "    # Accuracy for negatives = true negatives / total negatives\n",
    "    metrics['accNegatives'] = tn/totNegatives\n",
    "    # Error rate for positives = false negatives / total positives\n",
    "    metrics['errorPositives'] = fn/totPositives\n",
    "    # Accuracy for positives = true positives / total positives\n",
    "    metrics['accPositives'] = tp/totPositives\n",
    "\n",
    "    metrics['roc_auc_score'] = roc_auc_score(y_test,\n",
    "                                             classifier.predict_proba(X_test)[:,1])\n",
    "    metrics['avg_p_score'] = average_precision_score(y_test,\n",
    "                                                     classifier.predict_proba(X_test)[:,1])\n",
    "    \n",
    "    retVal[name] = metrics\n",
    "    \n",
    "    return pd.DataFrame(retVal)"
   ]
  },
  {
   "cell_type": "markdown",
   "id": "c020ee7e",
   "metadata": {},
   "source": [
    "# Create a Logistic Model\n",
    "\n",
    "We will use the scaled data and include all the features."
   ]
  },
  {
   "cell_type": "code",
   "execution_count": 14,
   "id": "8bb1eb72",
   "metadata": {},
   "outputs": [
    {
     "data": {
      "text/html": [
       "<style>#sk-container-id-2 {color: black;background-color: white;}#sk-container-id-2 pre{padding: 0;}#sk-container-id-2 div.sk-toggleable {background-color: white;}#sk-container-id-2 label.sk-toggleable__label {cursor: pointer;display: block;width: 100%;margin-bottom: 0;padding: 0.3em;box-sizing: border-box;text-align: center;}#sk-container-id-2 label.sk-toggleable__label-arrow:before {content: \"▸\";float: left;margin-right: 0.25em;color: #696969;}#sk-container-id-2 label.sk-toggleable__label-arrow:hover:before {color: black;}#sk-container-id-2 div.sk-estimator:hover label.sk-toggleable__label-arrow:before {color: black;}#sk-container-id-2 div.sk-toggleable__content {max-height: 0;max-width: 0;overflow: hidden;text-align: left;background-color: #f0f8ff;}#sk-container-id-2 div.sk-toggleable__content pre {margin: 0.2em;color: black;border-radius: 0.25em;background-color: #f0f8ff;}#sk-container-id-2 input.sk-toggleable__control:checked~div.sk-toggleable__content {max-height: 200px;max-width: 100%;overflow: auto;}#sk-container-id-2 input.sk-toggleable__control:checked~label.sk-toggleable__label-arrow:before {content: \"▾\";}#sk-container-id-2 div.sk-estimator input.sk-toggleable__control:checked~label.sk-toggleable__label {background-color: #d4ebff;}#sk-container-id-2 div.sk-label input.sk-toggleable__control:checked~label.sk-toggleable__label {background-color: #d4ebff;}#sk-container-id-2 input.sk-hidden--visually {border: 0;clip: rect(1px 1px 1px 1px);clip: rect(1px, 1px, 1px, 1px);height: 1px;margin: -1px;overflow: hidden;padding: 0;position: absolute;width: 1px;}#sk-container-id-2 div.sk-estimator {font-family: monospace;background-color: #f0f8ff;border: 1px dotted black;border-radius: 0.25em;box-sizing: border-box;margin-bottom: 0.5em;}#sk-container-id-2 div.sk-estimator:hover {background-color: #d4ebff;}#sk-container-id-2 div.sk-parallel-item::after {content: \"\";width: 100%;border-bottom: 1px solid gray;flex-grow: 1;}#sk-container-id-2 div.sk-label:hover label.sk-toggleable__label {background-color: #d4ebff;}#sk-container-id-2 div.sk-serial::before {content: \"\";position: absolute;border-left: 1px solid gray;box-sizing: border-box;top: 0;bottom: 0;left: 50%;z-index: 0;}#sk-container-id-2 div.sk-serial {display: flex;flex-direction: column;align-items: center;background-color: white;padding-right: 0.2em;padding-left: 0.2em;position: relative;}#sk-container-id-2 div.sk-item {position: relative;z-index: 1;}#sk-container-id-2 div.sk-parallel {display: flex;align-items: stretch;justify-content: center;background-color: white;position: relative;}#sk-container-id-2 div.sk-item::before, #sk-container-id-2 div.sk-parallel-item::before {content: \"\";position: absolute;border-left: 1px solid gray;box-sizing: border-box;top: 0;bottom: 0;left: 50%;z-index: -1;}#sk-container-id-2 div.sk-parallel-item {display: flex;flex-direction: column;z-index: 1;position: relative;background-color: white;}#sk-container-id-2 div.sk-parallel-item:first-child::after {align-self: flex-end;width: 50%;}#sk-container-id-2 div.sk-parallel-item:last-child::after {align-self: flex-start;width: 50%;}#sk-container-id-2 div.sk-parallel-item:only-child::after {width: 0;}#sk-container-id-2 div.sk-dashed-wrapped {border: 1px dashed gray;margin: 0 0.4em 0.5em 0.4em;box-sizing: border-box;padding-bottom: 0.4em;background-color: white;}#sk-container-id-2 div.sk-label label {font-family: monospace;font-weight: bold;display: inline-block;line-height: 1.2em;}#sk-container-id-2 div.sk-label-container {text-align: center;}#sk-container-id-2 div.sk-container {/* jupyter's `normalize.less` sets `[hidden] { display: none; }` but bootstrap.min.css set `[hidden] { display: none !important; }` so we also need the `!important` here to be able to override the default hidden behavior on the sphinx rendered scikit-learn.org. See: https://github.com/scikit-learn/scikit-learn/issues/21755 */display: inline-block !important;position: relative;}#sk-container-id-2 div.sk-text-repr-fallback {display: none;}</style><div id=\"sk-container-id-2\" class=\"sk-top-container\"><div class=\"sk-text-repr-fallback\"><pre>LogisticRegression()</pre><b>In a Jupyter environment, please rerun this cell to show the HTML representation or trust the notebook. <br />On GitHub, the HTML representation is unable to render, please try loading this page with nbviewer.org.</b></div><div class=\"sk-container\" hidden><div class=\"sk-item\"><div class=\"sk-estimator sk-toggleable\"><input class=\"sk-toggleable__control sk-hidden--visually\" id=\"sk-estimator-id-2\" type=\"checkbox\" checked><label for=\"sk-estimator-id-2\" class=\"sk-toggleable__label sk-toggleable__label-arrow\">LogisticRegression</label><div class=\"sk-toggleable__content\"><pre>LogisticRegression()</pre></div></div></div></div></div>"
      ],
      "text/plain": [
       "LogisticRegression()"
      ]
     },
     "execution_count": 14,
     "metadata": {},
     "output_type": "execute_result"
    }
   ],
   "source": [
    "# Create a LogisticRegression\n",
    "logReg = LogisticRegression()\n",
    "\n",
    "# fit the logistic regression model\n",
    "logReg.fit(X_train_ss, y_train)"
   ]
  },
  {
   "cell_type": "code",
   "execution_count": 15,
   "id": "ea160d74",
   "metadata": {},
   "outputs": [
    {
     "name": "stdout",
     "output_type": "stream",
     "text": [
      "[0.02811998]\n",
      "[[ 0.01462065  1.22631463  0.03141938 -0.04495375  0.05562195  0.01223148\n",
      "   0.09491624  0.04587892]]\n"
     ]
    }
   ],
   "source": [
    "# Print out the estimated intercept and coefficients\n",
    "print(logReg.intercept_)\n",
    "print(logReg.coef_)"
   ]
  },
  {
   "cell_type": "code",
   "execution_count": 16,
   "id": "b7b18912",
   "metadata": {},
   "outputs": [
    {
     "data": {
      "text/html": [
       "<div><div id=3f8fb214-1394-427b-b731-498fdfbc3234 style=\"display:none; background-color:#9D6CFF; color:white; width:200px; height:30px; padding-left:5px; border-radius:4px; flex-direction:row; justify-content:space-around; align-items:center;\" onmouseover=\"this.style.backgroundColor='#BA9BF8'\" onmouseout=\"this.style.backgroundColor='#9D6CFF'\" onclick=\"window.commands?.execute('create-mitosheet-from-dataframe-output');\">See Full Dataframe in Mito</div> <script> if (window.commands.hasCommand('create-mitosheet-from-dataframe-output')) document.getElementById('3f8fb214-1394-427b-b731-498fdfbc3234').style.display = 'flex' </script> <table border=\"1\" class=\"dataframe\">\n",
       "  <thead>\n",
       "    <tr style=\"text-align: right;\">\n",
       "      <th></th>\n",
       "      <th>logistic regression</th>\n",
       "    </tr>\n",
       "  </thead>\n",
       "  <tbody>\n",
       "    <tr>\n",
       "      <th>a_score</th>\n",
       "      <td>0.715159</td>\n",
       "    </tr>\n",
       "    <tr>\n",
       "      <th>accNegatives</th>\n",
       "      <td>0.697778</td>\n",
       "    </tr>\n",
       "    <tr>\n",
       "      <th>accPositives</th>\n",
       "      <td>0.729872</td>\n",
       "    </tr>\n",
       "    <tr>\n",
       "      <th>avg_p_score</th>\n",
       "      <td>0.841033</td>\n",
       "    </tr>\n",
       "    <tr>\n",
       "      <th>errorNegatives</th>\n",
       "      <td>0.302222</td>\n",
       "    </tr>\n",
       "    <tr>\n",
       "      <th>...</th>\n",
       "      <td>...</td>\n",
       "    </tr>\n",
       "    <tr>\n",
       "      <th>f1_score</th>\n",
       "      <td>0.735127</td>\n",
       "    </tr>\n",
       "    <tr>\n",
       "      <th>f2_score</th>\n",
       "      <td>0.731965</td>\n",
       "    </tr>\n",
       "    <tr>\n",
       "      <th>p_score</th>\n",
       "      <td>0.740458</td>\n",
       "    </tr>\n",
       "    <tr>\n",
       "      <th>r_score</th>\n",
       "      <td>0.729872</td>\n",
       "    </tr>\n",
       "    <tr>\n",
       "      <th>roc_auc_score</th>\n",
       "      <td>0.790408</td>\n",
       "    </tr>\n",
       "  </tbody>\n",
       "</table></div>"
      ],
      "text/plain": [
       "                logistic regression\n",
       "a_score                    0.715159\n",
       "accNegatives               0.697778\n",
       "accPositives               0.729872\n",
       "avg_p_score                0.841033\n",
       "errorNegatives             0.302222\n",
       "errorPositives             0.270128\n",
       "f0.5_score                 0.738316\n",
       "f1_score                   0.735127\n",
       "f2_score                   0.731965\n",
       "p_score                    0.740458\n",
       "r_score                    0.729872\n",
       "roc_auc_score              0.790408"
      ]
     },
     "execution_count": 16,
     "metadata": {},
     "output_type": "execute_result"
    }
   ],
   "source": [
    "# Get the model metrics using user-defined function\n",
    "lr_metrics = modelMetrics(logReg, 'logistic regression', X_test_ss, y_test)\n",
    "lr_metrics"
   ]
  },
  {
   "cell_type": "code",
   "execution_count": 17,
   "id": "4e5eaf39-0e33-4415-b106-156041c7ef33",
   "metadata": {
    "tags": []
   },
   "outputs": [
    {
     "name": "stdout",
     "output_type": "stream",
     "text": [
      "                logistic regression\n",
      "a_score                    0.715159\n",
      "accNegatives               0.697778\n",
      "accPositives               0.729872\n",
      "avg_p_score                0.841033\n",
      "errorNegatives             0.302222\n",
      "errorPositives             0.270128\n",
      "f0.5_score                 0.738316\n",
      "f1_score                   0.735127\n",
      "f2_score                   0.731965\n",
      "p_score                    0.740458\n",
      "r_score                    0.729872\n",
      "roc_auc_score              0.790408\n"
     ]
    }
   ],
   "source": [
    "print(lr_metrics)"
   ]
  },
  {
   "cell_type": "code",
   "execution_count": 21,
   "id": "34e3ab6b-ded2-4601-b49a-76e2c6d8c71f",
   "metadata": {
    "tags": []
   },
   "outputs": [
    {
     "name": "stdout",
     "output_type": "stream",
     "text": [
      "                logistic regression\n",
      "a_score                    0.715159\n",
      "accNegatives               0.697778\n",
      "accPositives               0.729872\n",
      "avg_p_score                0.841033\n",
      "errorNegatives             0.302222\n",
      "errorPositives             0.270128\n",
      "f0.5_score                 0.738316\n",
      "f1_score                   0.735127\n",
      "f2_score                   0.731965\n",
      "p_score                    0.740458\n",
      "r_score                    0.729872\n",
      "roc_auc_score              0.790408\n"
     ]
    }
   ],
   "source": [
    "print(lr_metrics.to_string())"
   ]
  },
  {
   "cell_type": "code",
   "execution_count": 22,
   "id": "45fe9bf5",
   "metadata": {},
   "outputs": [
    {
     "data": {
      "text/plain": [
       "<sklearn.metrics._plot.confusion_matrix.ConfusionMatrixDisplay at 0x7f38e7c0fe50>"
      ]
     },
     "execution_count": 22,
     "metadata": {},
     "output_type": "execute_result"
    },
    {
     "data": {
      "image/png": "[encoded data removed]",
      "text/plain": [
       "<Figure size 640x480 with 2 Axes>"
      ]
     },
     "metadata": {},
     "output_type": "display_data"
    }
   ],
   "source": [
    "# Let's make a plot of confusion matrix\n",
    "ConfusionMatrixDisplay.from_estimator(logReg, X_test_ss, y_test, cmap='cividis')"
   ]
  },
  {
   "cell_type": "code",
   "execution_count": 23,
   "id": "d93795e4",
   "metadata": {},
   "outputs": [
    {
     "data": {
      "text/plain": [
       "<sklearn.metrics._plot.roc_curve.RocCurveDisplay at 0x7f38f4102bf0>"
      ]
     },
     "execution_count": 23,
     "metadata": {},
     "output_type": "execute_result"
    },
    {
     "data": {
      "image/png": "[encoded data removed]",
      "text/plain": [
       "<Figure size 640x480 with 1 Axes>"
      ]
     },
     "metadata": {},
     "output_type": "display_data"
    }
   ],
   "source": [
    "# Create an ROC Curve display\n",
    "RocCurveDisplay.from_estimator(logReg, X_test_ss, y_test)"
   ]
  },
  {
   "cell_type": "code",
   "execution_count": 24,
   "id": "231fd400",
   "metadata": {},
   "outputs": [
    {
     "data": {
      "text/plain": [
       "<sklearn.metrics._plot.precision_recall_curve.PrecisionRecallDisplay at 0x7f38ff3a6350>"
      ]
     },
     "execution_count": 24,
     "metadata": {},
     "output_type": "execute_result"
    },
    {
     "data": {
      "image/png": "[encoded data removed]",
      "text/plain": [
       "<Figure size 640x480 with 1 Axes>"
      ]
     },
     "metadata": {},
     "output_type": "display_data"
    }
   ],
   "source": [
    "# Make a Precision Recall display\n",
    "PrecisionRecallDisplay.from_estimator(logReg, X_test_ss, y_test)"
   ]
  },
  {
   "cell_type": "markdown",
   "id": "8a12caf0",
   "metadata": {},
   "source": [
    "# Linear Discriminant Analysis\n",
    "Let's now try LDA. We already imported the appropriate packages for LDA."
   ]
  },
  {
   "cell_type": "code",
   "execution_count": 25,
   "id": "e502ee98",
   "metadata": {},
   "outputs": [],
   "source": [
    "# Create an LDA instance\n",
    "lda = LinearDiscriminantAnalysis()"
   ]
  },
  {
   "cell_type": "code",
   "execution_count": 26,
   "id": "728e7f56",
   "metadata": {},
   "outputs": [
    {
     "data": {
      "text/html": [
       "<style>#sk-container-id-3 {color: black;background-color: white;}#sk-container-id-3 pre{padding: 0;}#sk-container-id-3 div.sk-toggleable {background-color: white;}#sk-container-id-3 label.sk-toggleable__label {cursor: pointer;display: block;width: 100%;margin-bottom: 0;padding: 0.3em;box-sizing: border-box;text-align: center;}#sk-container-id-3 label.sk-toggleable__label-arrow:before {content: \"▸\";float: left;margin-right: 0.25em;color: #696969;}#sk-container-id-3 label.sk-toggleable__label-arrow:hover:before {color: black;}#sk-container-id-3 div.sk-estimator:hover label.sk-toggleable__label-arrow:before {color: black;}#sk-container-id-3 div.sk-toggleable__content {max-height: 0;max-width: 0;overflow: hidden;text-align: left;background-color: #f0f8ff;}#sk-container-id-3 div.sk-toggleable__content pre {margin: 0.2em;color: black;border-radius: 0.25em;background-color: #f0f8ff;}#sk-container-id-3 input.sk-toggleable__control:checked~div.sk-toggleable__content {max-height: 200px;max-width: 100%;overflow: auto;}#sk-container-id-3 input.sk-toggleable__control:checked~label.sk-toggleable__label-arrow:before {content: \"▾\";}#sk-container-id-3 div.sk-estimator input.sk-toggleable__control:checked~label.sk-toggleable__label {background-color: #d4ebff;}#sk-container-id-3 div.sk-label input.sk-toggleable__control:checked~label.sk-toggleable__label {background-color: #d4ebff;}#sk-container-id-3 input.sk-hidden--visually {border: 0;clip: rect(1px 1px 1px 1px);clip: rect(1px, 1px, 1px, 1px);height: 1px;margin: -1px;overflow: hidden;padding: 0;position: absolute;width: 1px;}#sk-container-id-3 div.sk-estimator {font-family: monospace;background-color: #f0f8ff;border: 1px dotted black;border-radius: 0.25em;box-sizing: border-box;margin-bottom: 0.5em;}#sk-container-id-3 div.sk-estimator:hover {background-color: #d4ebff;}#sk-container-id-3 div.sk-parallel-item::after {content: \"\";width: 100%;border-bottom: 1px solid gray;flex-grow: 1;}#sk-container-id-3 div.sk-label:hover label.sk-toggleable__label {background-color: #d4ebff;}#sk-container-id-3 div.sk-serial::before {content: \"\";position: absolute;border-left: 1px solid gray;box-sizing: border-box;top: 0;bottom: 0;left: 50%;z-index: 0;}#sk-container-id-3 div.sk-serial {display: flex;flex-direction: column;align-items: center;background-color: white;padding-right: 0.2em;padding-left: 0.2em;position: relative;}#sk-container-id-3 div.sk-item {position: relative;z-index: 1;}#sk-container-id-3 div.sk-parallel {display: flex;align-items: stretch;justify-content: center;background-color: white;position: relative;}#sk-container-id-3 div.sk-item::before, #sk-container-id-3 div.sk-parallel-item::before {content: \"\";position: absolute;border-left: 1px solid gray;box-sizing: border-box;top: 0;bottom: 0;left: 50%;z-index: -1;}#sk-container-id-3 div.sk-parallel-item {display: flex;flex-direction: column;z-index: 1;position: relative;background-color: white;}#sk-container-id-3 div.sk-parallel-item:first-child::after {align-self: flex-end;width: 50%;}#sk-container-id-3 div.sk-parallel-item:last-child::after {align-self: flex-start;width: 50%;}#sk-container-id-3 div.sk-parallel-item:only-child::after {width: 0;}#sk-container-id-3 div.sk-dashed-wrapped {border: 1px dashed gray;margin: 0 0.4em 0.5em 0.4em;box-sizing: border-box;padding-bottom: 0.4em;background-color: white;}#sk-container-id-3 div.sk-label label {font-family: monospace;font-weight: bold;display: inline-block;line-height: 1.2em;}#sk-container-id-3 div.sk-label-container {text-align: center;}#sk-container-id-3 div.sk-container {/* jupyter's `normalize.less` sets `[hidden] { display: none; }` but bootstrap.min.css set `[hidden] { display: none !important; }` so we also need the `!important` here to be able to override the default hidden behavior on the sphinx rendered scikit-learn.org. See: https://github.com/scikit-learn/scikit-learn/issues/21755 */display: inline-block !important;position: relative;}#sk-container-id-3 div.sk-text-repr-fallback {display: none;}</style><div id=\"sk-container-id-3\" class=\"sk-top-container\"><div class=\"sk-text-repr-fallback\"><pre>LinearDiscriminantAnalysis()</pre><b>In a Jupyter environment, please rerun this cell to show the HTML representation or trust the notebook. <br />On GitHub, the HTML representation is unable to render, please try loading this page with nbviewer.org.</b></div><div class=\"sk-container\" hidden><div class=\"sk-item\"><div class=\"sk-estimator sk-toggleable\"><input class=\"sk-toggleable__control sk-hidden--visually\" id=\"sk-estimator-id-3\" type=\"checkbox\" checked><label for=\"sk-estimator-id-3\" class=\"sk-toggleable__label sk-toggleable__label-arrow\">LinearDiscriminantAnalysis</label><div class=\"sk-toggleable__content\"><pre>LinearDiscriminantAnalysis()</pre></div></div></div></div></div>"
      ],
      "text/plain": [
       "LinearDiscriminantAnalysis()"
      ]
     },
     "execution_count": 26,
     "metadata": {},
     "output_type": "execute_result"
    }
   ],
   "source": [
    "# Fit the LDA model with X and y training set created previously\n",
    "lda.fit(X_train_ss, y_train)"
   ]
  },
  {
   "cell_type": "code",
   "execution_count": 27,
   "id": "ca5fb436",
   "metadata": {},
   "outputs": [
    {
     "data": {
      "text/html": [
       "<div><div id=79d8ecf1-b8b9-4e65-a58f-1ab81382e69a style=\"display:none; background-color:#9D6CFF; color:white; width:200px; height:30px; padding-left:5px; border-radius:4px; flex-direction:row; justify-content:space-around; align-items:center;\" onmouseover=\"this.style.backgroundColor='#BA9BF8'\" onmouseout=\"this.style.backgroundColor='#9D6CFF'\" onclick=\"window.commands?.execute('create-mitosheet-from-dataframe-output');\">See Full Dataframe in Mito</div> <script> if (window.commands.hasCommand('create-mitosheet-from-dataframe-output')) document.getElementById('79d8ecf1-b8b9-4e65-a58f-1ab81382e69a').style.display = 'flex' </script> <table border=\"1\" class=\"dataframe\">\n",
       "  <thead>\n",
       "    <tr style=\"text-align: right;\">\n",
       "      <th></th>\n",
       "      <th>LDA</th>\n",
       "    </tr>\n",
       "  </thead>\n",
       "  <tbody>\n",
       "    <tr>\n",
       "      <th>a_score</th>\n",
       "      <td>0.715159</td>\n",
       "    </tr>\n",
       "    <tr>\n",
       "      <th>accNegatives</th>\n",
       "      <td>0.695111</td>\n",
       "    </tr>\n",
       "    <tr>\n",
       "      <th>accPositives</th>\n",
       "      <td>0.732129</td>\n",
       "    </tr>\n",
       "    <tr>\n",
       "      <th>avg_p_score</th>\n",
       "      <td>0.841129</td>\n",
       "    </tr>\n",
       "    <tr>\n",
       "      <th>errorNegatives</th>\n",
       "      <td>0.304889</td>\n",
       "    </tr>\n",
       "    <tr>\n",
       "      <th>...</th>\n",
       "      <td>...</td>\n",
       "    </tr>\n",
       "    <tr>\n",
       "      <th>f1_score</th>\n",
       "      <td>0.735728</td>\n",
       "    </tr>\n",
       "    <tr>\n",
       "      <th>f2_score</th>\n",
       "      <td>0.733565</td>\n",
       "    </tr>\n",
       "    <tr>\n",
       "      <th>p_score</th>\n",
       "      <td>0.739362</td>\n",
       "    </tr>\n",
       "    <tr>\n",
       "      <th>r_score</th>\n",
       "      <td>0.732129</td>\n",
       "    </tr>\n",
       "    <tr>\n",
       "      <th>roc_auc_score</th>\n",
       "      <td>0.790460</td>\n",
       "    </tr>\n",
       "  </tbody>\n",
       "</table></div>"
      ],
      "text/plain": [
       "                     LDA\n",
       "a_score         0.715159\n",
       "accNegatives    0.695111\n",
       "accPositives    0.732129\n",
       "avg_p_score     0.841129\n",
       "errorNegatives  0.304889\n",
       "errorPositives  0.267871\n",
       "f0.5_score      0.737904\n",
       "f1_score        0.735728\n",
       "f2_score        0.733565\n",
       "p_score         0.739362\n",
       "r_score         0.732129\n",
       "roc_auc_score   0.790460"
      ]
     },
     "execution_count": 27,
     "metadata": {},
     "output_type": "execute_result"
    }
   ],
   "source": [
    "# Get the model metrics using user-defined function\n",
    "lda_metrics = modelMetrics(lda, 'LDA', X_test_ss, y_test)\n",
    "lda_metrics"
   ]
  },
  {
   "cell_type": "markdown",
   "id": "ae170418",
   "metadata": {},
   "source": [
    "# Quadratic Discriminant Analysis\n",
    "We can also try QDA (already imported package)"
   ]
  },
  {
   "cell_type": "code",
   "execution_count": 28,
   "id": "c335800f",
   "metadata": {},
   "outputs": [],
   "source": [
    "# Create a QDA instance\n",
    "qda = QuadraticDiscriminantAnalysis()"
   ]
  },
  {
   "cell_type": "code",
   "execution_count": 29,
   "id": "a4c44256",
   "metadata": {},
   "outputs": [
    {
     "data": {
      "text/html": [
       "<style>#sk-container-id-4 {color: black;background-color: white;}#sk-container-id-4 pre{padding: 0;}#sk-container-id-4 div.sk-toggleable {background-color: white;}#sk-container-id-4 label.sk-toggleable__label {cursor: pointer;display: block;width: 100%;margin-bottom: 0;padding: 0.3em;box-sizing: border-box;text-align: center;}#sk-container-id-4 label.sk-toggleable__label-arrow:before {content: \"▸\";float: left;margin-right: 0.25em;color: #696969;}#sk-container-id-4 label.sk-toggleable__label-arrow:hover:before {color: black;}#sk-container-id-4 div.sk-estimator:hover label.sk-toggleable__label-arrow:before {color: black;}#sk-container-id-4 div.sk-toggleable__content {max-height: 0;max-width: 0;overflow: hidden;text-align: left;background-color: #f0f8ff;}#sk-container-id-4 div.sk-toggleable__content pre {margin: 0.2em;color: black;border-radius: 0.25em;background-color: #f0f8ff;}#sk-container-id-4 input.sk-toggleable__control:checked~div.sk-toggleable__content {max-height: 200px;max-width: 100%;overflow: auto;}#sk-container-id-4 input.sk-toggleable__control:checked~label.sk-toggleable__label-arrow:before {content: \"▾\";}#sk-container-id-4 div.sk-estimator input.sk-toggleable__control:checked~label.sk-toggleable__label {background-color: #d4ebff;}#sk-container-id-4 div.sk-label input.sk-toggleable__control:checked~label.sk-toggleable__label {background-color: #d4ebff;}#sk-container-id-4 input.sk-hidden--visually {border: 0;clip: rect(1px 1px 1px 1px);clip: rect(1px, 1px, 1px, 1px);height: 1px;margin: -1px;overflow: hidden;padding: 0;position: absolute;width: 1px;}#sk-container-id-4 div.sk-estimator {font-family: monospace;background-color: #f0f8ff;border: 1px dotted black;border-radius: 0.25em;box-sizing: border-box;margin-bottom: 0.5em;}#sk-container-id-4 div.sk-estimator:hover {background-color: #d4ebff;}#sk-container-id-4 div.sk-parallel-item::after {content: \"\";width: 100%;border-bottom: 1px solid gray;flex-grow: 1;}#sk-container-id-4 div.sk-label:hover label.sk-toggleable__label {background-color: #d4ebff;}#sk-container-id-4 div.sk-serial::before {content: \"\";position: absolute;border-left: 1px solid gray;box-sizing: border-box;top: 0;bottom: 0;left: 50%;z-index: 0;}#sk-container-id-4 div.sk-serial {display: flex;flex-direction: column;align-items: center;background-color: white;padding-right: 0.2em;padding-left: 0.2em;position: relative;}#sk-container-id-4 div.sk-item {position: relative;z-index: 1;}#sk-container-id-4 div.sk-parallel {display: flex;align-items: stretch;justify-content: center;background-color: white;position: relative;}#sk-container-id-4 div.sk-item::before, #sk-container-id-4 div.sk-parallel-item::before {content: \"\";position: absolute;border-left: 1px solid gray;box-sizing: border-box;top: 0;bottom: 0;left: 50%;z-index: -1;}#sk-container-id-4 div.sk-parallel-item {display: flex;flex-direction: column;z-index: 1;position: relative;background-color: white;}#sk-container-id-4 div.sk-parallel-item:first-child::after {align-self: flex-end;width: 50%;}#sk-container-id-4 div.sk-parallel-item:last-child::after {align-self: flex-start;width: 50%;}#sk-container-id-4 div.sk-parallel-item:only-child::after {width: 0;}#sk-container-id-4 div.sk-dashed-wrapped {border: 1px dashed gray;margin: 0 0.4em 0.5em 0.4em;box-sizing: border-box;padding-bottom: 0.4em;background-color: white;}#sk-container-id-4 div.sk-label label {font-family: monospace;font-weight: bold;display: inline-block;line-height: 1.2em;}#sk-container-id-4 div.sk-label-container {text-align: center;}#sk-container-id-4 div.sk-container {/* jupyter's `normalize.less` sets `[hidden] { display: none; }` but bootstrap.min.css set `[hidden] { display: none !important; }` so we also need the `!important` here to be able to override the default hidden behavior on the sphinx rendered scikit-learn.org. See: https://github.com/scikit-learn/scikit-learn/issues/21755 */display: inline-block !important;position: relative;}#sk-container-id-4 div.sk-text-repr-fallback {display: none;}</style><div id=\"sk-container-id-4\" class=\"sk-top-container\"><div class=\"sk-text-repr-fallback\"><pre>QuadraticDiscriminantAnalysis()</pre><b>In a Jupyter environment, please rerun this cell to show the HTML representation or trust the notebook. <br />On GitHub, the HTML representation is unable to render, please try loading this page with nbviewer.org.</b></div><div class=\"sk-container\" hidden><div class=\"sk-item\"><div class=\"sk-estimator sk-toggleable\"><input class=\"sk-toggleable__control sk-hidden--visually\" id=\"sk-estimator-id-4\" type=\"checkbox\" checked><label for=\"sk-estimator-id-4\" class=\"sk-toggleable__label sk-toggleable__label-arrow\">QuadraticDiscriminantAnalysis</label><div class=\"sk-toggleable__content\"><pre>QuadraticDiscriminantAnalysis()</pre></div></div></div></div></div>"
      ],
      "text/plain": [
       "QuadraticDiscriminantAnalysis()"
      ]
     },
     "execution_count": 29,
     "metadata": {},
     "output_type": "execute_result"
    }
   ],
   "source": [
    "# Fit the qda with X and y\n",
    "qda.fit(X_train_ss, y_train)"
   ]
  },
  {
   "cell_type": "code",
   "execution_count": 30,
   "id": "14a9ac55",
   "metadata": {},
   "outputs": [
    {
     "data": {
      "text/html": [
       "<div><div id=5f43d66c-f34f-40aa-aeee-00abc36b6bb0 style=\"display:none; background-color:#9D6CFF; color:white; width:200px; height:30px; padding-left:5px; border-radius:4px; flex-direction:row; justify-content:space-around; align-items:center;\" onmouseover=\"this.style.backgroundColor='#BA9BF8'\" onmouseout=\"this.style.backgroundColor='#9D6CFF'\" onclick=\"window.commands?.execute('create-mitosheet-from-dataframe-output');\">See Full Dataframe in Mito</div> <script> if (window.commands.hasCommand('create-mitosheet-from-dataframe-output')) document.getElementById('5f43d66c-f34f-40aa-aeee-00abc36b6bb0').style.display = 'flex' </script> <table border=\"1\" class=\"dataframe\">\n",
       "  <thead>\n",
       "    <tr style=\"text-align: right;\">\n",
       "      <th></th>\n",
       "      <th>QDA</th>\n",
       "    </tr>\n",
       "  </thead>\n",
       "  <tbody>\n",
       "    <tr>\n",
       "      <th>a_score</th>\n",
       "      <td>0.721271</td>\n",
       "    </tr>\n",
       "    <tr>\n",
       "      <th>accNegatives</th>\n",
       "      <td>0.719111</td>\n",
       "    </tr>\n",
       "    <tr>\n",
       "      <th>accPositives</th>\n",
       "      <td>0.723100</td>\n",
       "    </tr>\n",
       "    <tr>\n",
       "      <th>avg_p_score</th>\n",
       "      <td>0.840339</td>\n",
       "    </tr>\n",
       "    <tr>\n",
       "      <th>errorNegatives</th>\n",
       "      <td>0.280889</td>\n",
       "    </tr>\n",
       "    <tr>\n",
       "      <th>...</th>\n",
       "      <td>...</td>\n",
       "    </tr>\n",
       "    <tr>\n",
       "      <th>f1_score</th>\n",
       "      <td>0.737529</td>\n",
       "    </tr>\n",
       "    <tr>\n",
       "      <th>f2_score</th>\n",
       "      <td>0.728803</td>\n",
       "    </tr>\n",
       "    <tr>\n",
       "      <th>p_score</th>\n",
       "      <td>0.752545</td>\n",
       "    </tr>\n",
       "    <tr>\n",
       "      <th>r_score</th>\n",
       "      <td>0.723100</td>\n",
       "    </tr>\n",
       "    <tr>\n",
       "      <th>roc_auc_score</th>\n",
       "      <td>0.790039</td>\n",
       "    </tr>\n",
       "  </tbody>\n",
       "</table></div>"
      ],
      "text/plain": [
       "                     QDA\n",
       "a_score         0.721271\n",
       "accNegatives    0.719111\n",
       "accPositives    0.723100\n",
       "avg_p_score     0.840339\n",
       "errorNegatives  0.280889\n",
       "errorPositives  0.276900\n",
       "f0.5_score      0.746466\n",
       "f1_score        0.737529\n",
       "f2_score        0.728803\n",
       "p_score         0.752545\n",
       "r_score         0.723100\n",
       "roc_auc_score   0.790039"
      ]
     },
     "execution_count": 30,
     "metadata": {},
     "output_type": "execute_result"
    }
   ],
   "source": [
    "# Get the model metrics using user-defined function\n",
    "qda_metrics = modelMetrics(qda, 'QDA', X_test_ss, y_test)\n",
    "qda_metrics"
   ]
  },
  {
   "cell_type": "markdown",
   "id": "5158617f",
   "metadata": {},
   "source": [
    "# KNN\n",
    "Might as well try $k$-nearest neighbors. You pick $k$, so it will be your fault not mine."
   ]
  },
  {
   "cell_type": "code",
   "execution_count": 31,
   "id": "ed4d26c3",
   "metadata": {},
   "outputs": [],
   "source": [
    "# Let's use k=??\n",
    "knn = KNeighborsClassifier(n_neighbors=7)"
   ]
  },
  {
   "cell_type": "code",
   "execution_count": 32,
   "id": "f2f2cd0c",
   "metadata": {},
   "outputs": [
    {
     "data": {
      "text/html": [
       "<style>#sk-container-id-5 {color: black;background-color: white;}#sk-container-id-5 pre{padding: 0;}#sk-container-id-5 div.sk-toggleable {background-color: white;}#sk-container-id-5 label.sk-toggleable__label {cursor: pointer;display: block;width: 100%;margin-bottom: 0;padding: 0.3em;box-sizing: border-box;text-align: center;}#sk-container-id-5 label.sk-toggleable__label-arrow:before {content: \"▸\";float: left;margin-right: 0.25em;color: #696969;}#sk-container-id-5 label.sk-toggleable__label-arrow:hover:before {color: black;}#sk-container-id-5 div.sk-estimator:hover label.sk-toggleable__label-arrow:before {color: black;}#sk-container-id-5 div.sk-toggleable__content {max-height: 0;max-width: 0;overflow: hidden;text-align: left;background-color: #f0f8ff;}#sk-container-id-5 div.sk-toggleable__content pre {margin: 0.2em;color: black;border-radius: 0.25em;background-color: #f0f8ff;}#sk-container-id-5 input.sk-toggleable__control:checked~div.sk-toggleable__content {max-height: 200px;max-width: 100%;overflow: auto;}#sk-container-id-5 input.sk-toggleable__control:checked~label.sk-toggleable__label-arrow:before {content: \"▾\";}#sk-container-id-5 div.sk-estimator input.sk-toggleable__control:checked~label.sk-toggleable__label {background-color: #d4ebff;}#sk-container-id-5 div.sk-label input.sk-toggleable__control:checked~label.sk-toggleable__label {background-color: #d4ebff;}#sk-container-id-5 input.sk-hidden--visually {border: 0;clip: rect(1px 1px 1px 1px);clip: rect(1px, 1px, 1px, 1px);height: 1px;margin: -1px;overflow: hidden;padding: 0;position: absolute;width: 1px;}#sk-container-id-5 div.sk-estimator {font-family: monospace;background-color: #f0f8ff;border: 1px dotted black;border-radius: 0.25em;box-sizing: border-box;margin-bottom: 0.5em;}#sk-container-id-5 div.sk-estimator:hover {background-color: #d4ebff;}#sk-container-id-5 div.sk-parallel-item::after {content: \"\";width: 100%;border-bottom: 1px solid gray;flex-grow: 1;}#sk-container-id-5 div.sk-label:hover label.sk-toggleable__label {background-color: #d4ebff;}#sk-container-id-5 div.sk-serial::before {content: \"\";position: absolute;border-left: 1px solid gray;box-sizing: border-box;top: 0;bottom: 0;left: 50%;z-index: 0;}#sk-container-id-5 div.sk-serial {display: flex;flex-direction: column;align-items: center;background-color: white;padding-right: 0.2em;padding-left: 0.2em;position: relative;}#sk-container-id-5 div.sk-item {position: relative;z-index: 1;}#sk-container-id-5 div.sk-parallel {display: flex;align-items: stretch;justify-content: center;background-color: white;position: relative;}#sk-container-id-5 div.sk-item::before, #sk-container-id-5 div.sk-parallel-item::before {content: \"\";position: absolute;border-left: 1px solid gray;box-sizing: border-box;top: 0;bottom: 0;left: 50%;z-index: -1;}#sk-container-id-5 div.sk-parallel-item {display: flex;flex-direction: column;z-index: 1;position: relative;background-color: white;}#sk-container-id-5 div.sk-parallel-item:first-child::after {align-self: flex-end;width: 50%;}#sk-container-id-5 div.sk-parallel-item:last-child::after {align-self: flex-start;width: 50%;}#sk-container-id-5 div.sk-parallel-item:only-child::after {width: 0;}#sk-container-id-5 div.sk-dashed-wrapped {border: 1px dashed gray;margin: 0 0.4em 0.5em 0.4em;box-sizing: border-box;padding-bottom: 0.4em;background-color: white;}#sk-container-id-5 div.sk-label label {font-family: monospace;font-weight: bold;display: inline-block;line-height: 1.2em;}#sk-container-id-5 div.sk-label-container {text-align: center;}#sk-container-id-5 div.sk-container {/* jupyter's `normalize.less` sets `[hidden] { display: none; }` but bootstrap.min.css set `[hidden] { display: none !important; }` so we also need the `!important` here to be able to override the default hidden behavior on the sphinx rendered scikit-learn.org. See: https://github.com/scikit-learn/scikit-learn/issues/21755 */display: inline-block !important;position: relative;}#sk-container-id-5 div.sk-text-repr-fallback {display: none;}</style><div id=\"sk-container-id-5\" class=\"sk-top-container\"><div class=\"sk-text-repr-fallback\"><pre>KNeighborsClassifier(n_neighbors=7)</pre><b>In a Jupyter environment, please rerun this cell to show the HTML representation or trust the notebook. <br />On GitHub, the HTML representation is unable to render, please try loading this page with nbviewer.org.</b></div><div class=\"sk-container\" hidden><div class=\"sk-item\"><div class=\"sk-estimator sk-toggleable\"><input class=\"sk-toggleable__control sk-hidden--visually\" id=\"sk-estimator-id-5\" type=\"checkbox\" checked><label for=\"sk-estimator-id-5\" class=\"sk-toggleable__label sk-toggleable__label-arrow\">KNeighborsClassifier</label><div class=\"sk-toggleable__content\"><pre>KNeighborsClassifier(n_neighbors=7)</pre></div></div></div></div></div>"
      ],
      "text/plain": [
       "KNeighborsClassifier(n_neighbors=7)"
      ]
     },
     "execution_count": 32,
     "metadata": {},
     "output_type": "execute_result"
    }
   ],
   "source": [
    "# fit the model\n",
    "knn.fit(X_train_ss, y_train)"
   ]
  },
  {
   "cell_type": "code",
   "execution_count": 34,
   "id": "0a4bf725",
   "metadata": {},
   "outputs": [
    {
     "data": {
      "text/html": [
       "<div><div id=84a3504c-1c3b-467e-9866-8b193fb48058 style=\"display:none; background-color:#9D6CFF; color:white; width:200px; height:30px; padding-left:5px; border-radius:4px; flex-direction:row; justify-content:space-around; align-items:center;\" onmouseover=\"this.style.backgroundColor='#BA9BF8'\" onmouseout=\"this.style.backgroundColor='#9D6CFF'\" onclick=\"window.commands?.execute('create-mitosheet-from-dataframe-output');\">See Full Dataframe in Mito</div> <script> if (window.commands.hasCommand('create-mitosheet-from-dataframe-output')) document.getElementById('84a3504c-1c3b-467e-9866-8b193fb48058').style.display = 'flex' </script> <table border=\"1\" class=\"dataframe\">\n",
       "  <thead>\n",
       "    <tr style=\"text-align: right;\">\n",
       "      <th></th>\n",
       "      <th>KNN-7</th>\n",
       "    </tr>\n",
       "  </thead>\n",
       "  <tbody>\n",
       "    <tr>\n",
       "      <th>a_score</th>\n",
       "      <td>0.726161</td>\n",
       "    </tr>\n",
       "    <tr>\n",
       "      <th>accNegatives</th>\n",
       "      <td>0.784000</td>\n",
       "    </tr>\n",
       "    <tr>\n",
       "      <th>accPositives</th>\n",
       "      <td>0.677201</td>\n",
       "    </tr>\n",
       "    <tr>\n",
       "      <th>avg_p_score</th>\n",
       "      <td>0.800607</td>\n",
       "    </tr>\n",
       "    <tr>\n",
       "      <th>errorNegatives</th>\n",
       "      <td>0.216000</td>\n",
       "    </tr>\n",
       "    <tr>\n",
       "      <th>...</th>\n",
       "      <td>...</td>\n",
       "    </tr>\n",
       "    <tr>\n",
       "      <th>f1_score</th>\n",
       "      <td>0.728155</td>\n",
       "    </tr>\n",
       "    <tr>\n",
       "      <th>f2_score</th>\n",
       "      <td>0.696702</td>\n",
       "    </tr>\n",
       "    <tr>\n",
       "      <th>p_score</th>\n",
       "      <td>0.787402</td>\n",
       "    </tr>\n",
       "    <tr>\n",
       "      <th>r_score</th>\n",
       "      <td>0.677201</td>\n",
       "    </tr>\n",
       "    <tr>\n",
       "      <th>roc_auc_score</th>\n",
       "      <td>0.770859</td>\n",
       "    </tr>\n",
       "  </tbody>\n",
       "</table></div>"
      ],
      "text/plain": [
       "                   KNN-7\n",
       "a_score         0.726161\n",
       "accNegatives    0.784000\n",
       "accPositives    0.677201\n",
       "avg_p_score     0.800607\n",
       "errorNegatives  0.216000\n",
       "errorPositives  0.322799\n",
       "f0.5_score      0.762583\n",
       "f1_score        0.728155\n",
       "f2_score        0.696702\n",
       "p_score         0.787402\n",
       "r_score         0.677201\n",
       "roc_auc_score   0.770859"
      ]
     },
     "execution_count": 34,
     "metadata": {},
     "output_type": "execute_result"
    }
   ],
   "source": [
    "# Get the model metrics using user-defined function\n",
    "knn7_metrics = modelMetrics(knn, 'KNN-7', X_test_ss, y_test)\n",
    "knn7_metrics"
   ]
  },
  {
   "cell_type": "code",
   "execution_count": 36,
   "id": "59d598b5",
   "metadata": {},
   "outputs": [
    {
     "data": {
      "text/html": [
       "<style>#sk-container-id-6 {color: black;background-color: white;}#sk-container-id-6 pre{padding: 0;}#sk-container-id-6 div.sk-toggleable {background-color: white;}#sk-container-id-6 label.sk-toggleable__label {cursor: pointer;display: block;width: 100%;margin-bottom: 0;padding: 0.3em;box-sizing: border-box;text-align: center;}#sk-container-id-6 label.sk-toggleable__label-arrow:before {content: \"▸\";float: left;margin-right: 0.25em;color: #696969;}#sk-container-id-6 label.sk-toggleable__label-arrow:hover:before {color: black;}#sk-container-id-6 div.sk-estimator:hover label.sk-toggleable__label-arrow:before {color: black;}#sk-container-id-6 div.sk-toggleable__content {max-height: 0;max-width: 0;overflow: hidden;text-align: left;background-color: #f0f8ff;}#sk-container-id-6 div.sk-toggleable__content pre {margin: 0.2em;color: black;border-radius: 0.25em;background-color: #f0f8ff;}#sk-container-id-6 input.sk-toggleable__control:checked~div.sk-toggleable__content {max-height: 200px;max-width: 100%;overflow: auto;}#sk-container-id-6 input.sk-toggleable__control:checked~label.sk-toggleable__label-arrow:before {content: \"▾\";}#sk-container-id-6 div.sk-estimator input.sk-toggleable__control:checked~label.sk-toggleable__label {background-color: #d4ebff;}#sk-container-id-6 div.sk-label input.sk-toggleable__control:checked~label.sk-toggleable__label {background-color: #d4ebff;}#sk-container-id-6 input.sk-hidden--visually {border: 0;clip: rect(1px 1px 1px 1px);clip: rect(1px, 1px, 1px, 1px);height: 1px;margin: -1px;overflow: hidden;padding: 0;position: absolute;width: 1px;}#sk-container-id-6 div.sk-estimator {font-family: monospace;background-color: #f0f8ff;border: 1px dotted black;border-radius: 0.25em;box-sizing: border-box;margin-bottom: 0.5em;}#sk-container-id-6 div.sk-estimator:hover {background-color: #d4ebff;}#sk-container-id-6 div.sk-parallel-item::after {content: \"\";width: 100%;border-bottom: 1px solid gray;flex-grow: 1;}#sk-container-id-6 div.sk-label:hover label.sk-toggleable__label {background-color: #d4ebff;}#sk-container-id-6 div.sk-serial::before {content: \"\";position: absolute;border-left: 1px solid gray;box-sizing: border-box;top: 0;bottom: 0;left: 50%;z-index: 0;}#sk-container-id-6 div.sk-serial {display: flex;flex-direction: column;align-items: center;background-color: white;padding-right: 0.2em;padding-left: 0.2em;position: relative;}#sk-container-id-6 div.sk-item {position: relative;z-index: 1;}#sk-container-id-6 div.sk-parallel {display: flex;align-items: stretch;justify-content: center;background-color: white;position: relative;}#sk-container-id-6 div.sk-item::before, #sk-container-id-6 div.sk-parallel-item::before {content: \"\";position: absolute;border-left: 1px solid gray;box-sizing: border-box;top: 0;bottom: 0;left: 50%;z-index: -1;}#sk-container-id-6 div.sk-parallel-item {display: flex;flex-direction: column;z-index: 1;position: relative;background-color: white;}#sk-container-id-6 div.sk-parallel-item:first-child::after {align-self: flex-end;width: 50%;}#sk-container-id-6 div.sk-parallel-item:last-child::after {align-self: flex-start;width: 50%;}#sk-container-id-6 div.sk-parallel-item:only-child::after {width: 0;}#sk-container-id-6 div.sk-dashed-wrapped {border: 1px dashed gray;margin: 0 0.4em 0.5em 0.4em;box-sizing: border-box;padding-bottom: 0.4em;background-color: white;}#sk-container-id-6 div.sk-label label {font-family: monospace;font-weight: bold;display: inline-block;line-height: 1.2em;}#sk-container-id-6 div.sk-label-container {text-align: center;}#sk-container-id-6 div.sk-container {/* jupyter's `normalize.less` sets `[hidden] { display: none; }` but bootstrap.min.css set `[hidden] { display: none !important; }` so we also need the `!important` here to be able to override the default hidden behavior on the sphinx rendered scikit-learn.org. See: https://github.com/scikit-learn/scikit-learn/issues/21755 */display: inline-block !important;position: relative;}#sk-container-id-6 div.sk-text-repr-fallback {display: none;}</style><div id=\"sk-container-id-6\" class=\"sk-top-container\"><div class=\"sk-text-repr-fallback\"><pre>KNeighborsClassifier(n_neighbors=20)</pre><b>In a Jupyter environment, please rerun this cell to show the HTML representation or trust the notebook. <br />On GitHub, the HTML representation is unable to render, please try loading this page with nbviewer.org.</b></div><div class=\"sk-container\" hidden><div class=\"sk-item\"><div class=\"sk-estimator sk-toggleable\"><input class=\"sk-toggleable__control sk-hidden--visually\" id=\"sk-estimator-id-6\" type=\"checkbox\" checked><label for=\"sk-estimator-id-6\" class=\"sk-toggleable__label sk-toggleable__label-arrow\">KNeighborsClassifier</label><div class=\"sk-toggleable__content\"><pre>KNeighborsClassifier(n_neighbors=20)</pre></div></div></div></div></div>"
      ],
      "text/plain": [
       "KNeighborsClassifier(n_neighbors=20)"
      ]
     },
     "execution_count": 36,
     "metadata": {},
     "output_type": "execute_result"
    }
   ],
   "source": [
    "# Let's try another value for k ... k=??\n",
    "knn20 = KNeighborsClassifier(n_neighbors=20)\n",
    "knn20.fit(X_train_ss, y_train)"
   ]
  },
  {
   "cell_type": "code",
   "execution_count": 37,
   "id": "282f84d4",
   "metadata": {},
   "outputs": [
    {
     "data": {
      "text/html": [
       "<div><div id=1934fba1-8cd9-4f03-9a2d-5f41b881a444 style=\"display:none; background-color:#9D6CFF; color:white; width:200px; height:30px; padding-left:5px; border-radius:4px; flex-direction:row; justify-content:space-around; align-items:center;\" onmouseover=\"this.style.backgroundColor='#BA9BF8'\" onmouseout=\"this.style.backgroundColor='#9D6CFF'\" onclick=\"window.commands?.execute('create-mitosheet-from-dataframe-output');\">See Full Dataframe in Mito</div> <script> if (window.commands.hasCommand('create-mitosheet-from-dataframe-output')) document.getElementById('1934fba1-8cd9-4f03-9a2d-5f41b881a444').style.display = 'flex' </script> <table border=\"1\" class=\"dataframe\">\n",
       "  <thead>\n",
       "    <tr style=\"text-align: right;\">\n",
       "      <th></th>\n",
       "      <th>KNN-20</th>\n",
       "    </tr>\n",
       "  </thead>\n",
       "  <tbody>\n",
       "    <tr>\n",
       "      <th>a_score</th>\n",
       "      <td>0.755094</td>\n",
       "    </tr>\n",
       "    <tr>\n",
       "      <th>accNegatives</th>\n",
       "      <td>0.872889</td>\n",
       "    </tr>\n",
       "    <tr>\n",
       "      <th>accPositives</th>\n",
       "      <td>0.655380</td>\n",
       "    </tr>\n",
       "    <tr>\n",
       "      <th>avg_p_score</th>\n",
       "      <td>0.822755</td>\n",
       "    </tr>\n",
       "    <tr>\n",
       "      <th>errorNegatives</th>\n",
       "      <td>0.127111</td>\n",
       "    </tr>\n",
       "    <tr>\n",
       "      <th>...</th>\n",
       "      <td>...</td>\n",
       "    </tr>\n",
       "    <tr>\n",
       "      <th>f1_score</th>\n",
       "      <td>0.743491</td>\n",
       "    </tr>\n",
       "    <tr>\n",
       "      <th>f2_score</th>\n",
       "      <td>0.687994</td>\n",
       "    </tr>\n",
       "    <tr>\n",
       "      <th>p_score</th>\n",
       "      <td>0.858974</td>\n",
       "    </tr>\n",
       "    <tr>\n",
       "      <th>r_score</th>\n",
       "      <td>0.655380</td>\n",
       "    </tr>\n",
       "    <tr>\n",
       "      <th>roc_auc_score</th>\n",
       "      <td>0.781545</td>\n",
       "    </tr>\n",
       "  </tbody>\n",
       "</table></div>"
      ],
      "text/plain": [
       "                  KNN-20\n",
       "a_score         0.755094\n",
       "accNegatives    0.872889\n",
       "accPositives    0.655380\n",
       "avg_p_score     0.822755\n",
       "errorNegatives  0.127111\n",
       "errorPositives  0.344620\n",
       "f0.5_score      0.808728\n",
       "f1_score        0.743491\n",
       "f2_score        0.687994\n",
       "p_score         0.858974\n",
       "r_score         0.655380\n",
       "roc_auc_score   0.781545"
      ]
     },
     "execution_count": 37,
     "metadata": {},
     "output_type": "execute_result"
    }
   ],
   "source": [
    "# Get the model metrics using user-defined function\n",
    "knn20_metrics = modelMetrics(knn20, 'KNN-20', X_test_ss, y_test)\n",
    "knn20_metrics"
   ]
  },
  {
   "cell_type": "code",
   "execution_count": 38,
   "id": "f2273d34",
   "metadata": {},
   "outputs": [],
   "source": [
    "# Put all metrics in one DataFrame to examine\n",
    "all_dfs = [lr_metrics, lda_metrics, qda_metrics, knn7_metrics, knn20_metrics]"
   ]
  },
  {
   "cell_type": "code",
   "execution_count": 39,
   "id": "291146fe",
   "metadata": {},
   "outputs": [
    {
     "data": {
      "text/html": [
       "<div><div id=f4ed6177-e889-40fb-b75f-774f9e7392c4 style=\"display:none; background-color:#9D6CFF; color:white; width:200px; height:30px; padding-left:5px; border-radius:4px; flex-direction:row; justify-content:space-around; align-items:center;\" onmouseover=\"this.style.backgroundColor='#BA9BF8'\" onmouseout=\"this.style.backgroundColor='#9D6CFF'\" onclick=\"window.commands?.execute('create-mitosheet-from-dataframe-output');\">See Full Dataframe in Mito</div> <script> if (window.commands.hasCommand('create-mitosheet-from-dataframe-output')) document.getElementById('f4ed6177-e889-40fb-b75f-774f9e7392c4').style.display = 'flex' </script> <table border=\"1\" class=\"dataframe\">\n",
       "  <thead>\n",
       "    <tr style=\"text-align: right;\">\n",
       "      <th></th>\n",
       "      <th>logistic regression</th>\n",
       "      <th>LDA</th>\n",
       "      <th>QDA</th>\n",
       "      <th>KNN-7</th>\n",
       "      <th>KNN-20</th>\n",
       "    </tr>\n",
       "  </thead>\n",
       "  <tbody>\n",
       "    <tr>\n",
       "      <th>a_score</th>\n",
       "      <td>0.715159</td>\n",
       "      <td>0.715159</td>\n",
       "      <td>0.721271</td>\n",
       "      <td>0.726161</td>\n",
       "      <td>0.755094</td>\n",
       "    </tr>\n",
       "    <tr>\n",
       "      <th>accNegatives</th>\n",
       "      <td>0.697778</td>\n",
       "      <td>0.695111</td>\n",
       "      <td>0.719111</td>\n",
       "      <td>0.784000</td>\n",
       "      <td>0.872889</td>\n",
       "    </tr>\n",
       "    <tr>\n",
       "      <th>accPositives</th>\n",
       "      <td>0.729872</td>\n",
       "      <td>0.732129</td>\n",
       "      <td>0.723100</td>\n",
       "      <td>0.677201</td>\n",
       "      <td>0.655380</td>\n",
       "    </tr>\n",
       "    <tr>\n",
       "      <th>avg_p_score</th>\n",
       "      <td>0.841033</td>\n",
       "      <td>0.841129</td>\n",
       "      <td>0.840339</td>\n",
       "      <td>0.800607</td>\n",
       "      <td>0.822755</td>\n",
       "    </tr>\n",
       "    <tr>\n",
       "      <th>errorNegatives</th>\n",
       "      <td>0.302222</td>\n",
       "      <td>0.304889</td>\n",
       "      <td>0.280889</td>\n",
       "      <td>0.216000</td>\n",
       "      <td>0.127111</td>\n",
       "    </tr>\n",
       "    <tr>\n",
       "      <th>...</th>\n",
       "      <td>...</td>\n",
       "      <td>...</td>\n",
       "      <td>...</td>\n",
       "      <td>...</td>\n",
       "      <td>...</td>\n",
       "    </tr>\n",
       "    <tr>\n",
       "      <th>f1_score</th>\n",
       "      <td>0.735127</td>\n",
       "      <td>0.735728</td>\n",
       "      <td>0.737529</td>\n",
       "      <td>0.728155</td>\n",
       "      <td>0.743491</td>\n",
       "    </tr>\n",
       "    <tr>\n",
       "      <th>f2_score</th>\n",
       "      <td>0.731965</td>\n",
       "      <td>0.733565</td>\n",
       "      <td>0.728803</td>\n",
       "      <td>0.696702</td>\n",
       "      <td>0.687994</td>\n",
       "    </tr>\n",
       "    <tr>\n",
       "      <th>p_score</th>\n",
       "      <td>0.740458</td>\n",
       "      <td>0.739362</td>\n",
       "      <td>0.752545</td>\n",
       "      <td>0.787402</td>\n",
       "      <td>0.858974</td>\n",
       "    </tr>\n",
       "    <tr>\n",
       "      <th>r_score</th>\n",
       "      <td>0.729872</td>\n",
       "      <td>0.732129</td>\n",
       "      <td>0.723100</td>\n",
       "      <td>0.677201</td>\n",
       "      <td>0.655380</td>\n",
       "    </tr>\n",
       "    <tr>\n",
       "      <th>roc_auc_score</th>\n",
       "      <td>0.790408</td>\n",
       "      <td>0.790460</td>\n",
       "      <td>0.790039</td>\n",
       "      <td>0.770859</td>\n",
       "      <td>0.781545</td>\n",
       "    </tr>\n",
       "  </tbody>\n",
       "</table></div>"
      ],
      "text/plain": [
       "                logistic regression       LDA       QDA     KNN-7    KNN-20\n",
       "a_score                    0.715159  0.715159  0.721271  0.726161  0.755094\n",
       "accNegatives               0.697778  0.695111  0.719111  0.784000  0.872889\n",
       "accPositives               0.729872  0.732129  0.723100  0.677201  0.655380\n",
       "avg_p_score                0.841033  0.841129  0.840339  0.800607  0.822755\n",
       "errorNegatives             0.302222  0.304889  0.280889  0.216000  0.127111\n",
       "errorPositives             0.270128  0.267871  0.276900  0.322799  0.344620\n",
       "f0.5_score                 0.738316  0.737904  0.746466  0.762583  0.808728\n",
       "f1_score                   0.735127  0.735728  0.737529  0.728155  0.743491\n",
       "f2_score                   0.731965  0.733565  0.728803  0.696702  0.687994\n",
       "p_score                    0.740458  0.739362  0.752545  0.787402  0.858974\n",
       "r_score                    0.729872  0.732129  0.723100  0.677201  0.655380\n",
       "roc_auc_score              0.790408  0.790460  0.790039  0.770859  0.781545"
      ]
     },
     "execution_count": 39,
     "metadata": {},
     "output_type": "execute_result"
    }
   ],
   "source": [
    "# Look at all metrics together\n",
    "all_metrics = pd.concat(all_dfs, axis=1)\n",
    "all_metrics"
   ]
  },
  {
   "cell_type": "code",
   "execution_count": 41,
   "id": "2bc4aa85",
   "metadata": {},
   "outputs": [
    {
     "name": "stdout",
     "output_type": "stream",
     "text": [
      "                logistic regression       LDA       QDA     KNN-7    KNN-20\n",
      "a_score                    0.715159  0.715159  0.721271  0.726161  0.755094\n",
      "accNegatives               0.697778  0.695111  0.719111  0.784000  0.872889\n",
      "accPositives               0.729872  0.732129  0.723100  0.677201  0.655380\n",
      "avg_p_score                0.841033  0.841129  0.840339  0.800607  0.822755\n",
      "errorNegatives             0.302222  0.304889  0.280889  0.216000  0.127111\n",
      "errorPositives             0.270128  0.267871  0.276900  0.322799  0.344620\n",
      "f0.5_score                 0.738316  0.737904  0.746466  0.762583  0.808728\n",
      "f1_score                   0.735127  0.735728  0.737529  0.728155  0.743491\n",
      "f2_score                   0.731965  0.733565  0.728803  0.696702  0.687994\n",
      "p_score                    0.740458  0.739362  0.752545  0.787402  0.858974\n",
      "r_score                    0.729872  0.732129  0.723100  0.677201  0.655380\n",
      "roc_auc_score              0.790408  0.790460  0.790039  0.770859  0.781545\n"
     ]
    }
   ],
   "source": [
    "print(all_metrics)"
   ]
  },
  {
   "cell_type": "markdown",
   "id": "1f76f614",
   "metadata": {},
   "source": [
    "## Find the \"Best\" $k$ for KNN\n",
    "\n",
    "We can systematically search various values of $k$ to find the one that gives us the best performance (will need to define) using `GridSearchCV`. What `GridSearchCV` does is train the model multiple times on a range of parameters we specify. In our case that would be $k$."
   ]
  },
  {
   "cell_type": "code",
   "execution_count": 42,
   "id": "499fbbe7",
   "metadata": {},
   "outputs": [],
   "source": [
    "# import GridSearchCV\n",
    "from sklearn.model_selection import GridSearchCV"
   ]
  },
  {
   "cell_type": "code",
   "execution_count": 43,
   "id": "7b48206a",
   "metadata": {},
   "outputs": [],
   "source": [
    "# Create a new knn model\n",
    "knn_base = KNeighborsClassifier()"
   ]
  },
  {
   "cell_type": "code",
   "execution_count": 44,
   "id": "8bb1f64e-5c2b-49e7-bb11-24f4fcf19a44",
   "metadata": {
    "tags": []
   },
   "outputs": [
    {
     "data": {
      "text/plain": [
       "array([ 1,  2,  3,  4,  5,  6,  7,  8,  9, 10, 11, 12, 13, 14, 15, 16, 17,\n",
       "       18, 19, 20, 21, 22, 23, 24])"
      ]
     },
     "execution_count": 44,
     "metadata": {},
     "output_type": "execute_result"
    }
   ],
   "source": [
    "np.arange(1, 25)"
   ]
  },
  {
   "cell_type": "code",
   "execution_count": 45,
   "id": "05151e24",
   "metadata": {},
   "outputs": [],
   "source": [
    "# Define our search grid\n",
    "# This is a dictionary of values for k we want search thru\n",
    "param_grid = {'n_neighbors': np.arange(1, 25)}"
   ]
  },
  {
   "cell_type": "code",
   "execution_count": 46,
   "id": "4d95ac71",
   "metadata": {},
   "outputs": [],
   "source": [
    "# Let's run the grid search\n",
    "knnCV = GridSearchCV(knn_base, param_grid, cv=5, scoring='recall')"
   ]
  },
  {
   "cell_type": "code",
   "execution_count": 47,
   "id": "f85093e6",
   "metadata": {},
   "outputs": [
    {
     "data": {
      "text/html": [
       "<style>#sk-container-id-7 {color: black;background-color: white;}#sk-container-id-7 pre{padding: 0;}#sk-container-id-7 div.sk-toggleable {background-color: white;}#sk-container-id-7 label.sk-toggleable__label {cursor: pointer;display: block;width: 100%;margin-bottom: 0;padding: 0.3em;box-sizing: border-box;text-align: center;}#sk-container-id-7 label.sk-toggleable__label-arrow:before {content: \"▸\";float: left;margin-right: 0.25em;color: #696969;}#sk-container-id-7 label.sk-toggleable__label-arrow:hover:before {color: black;}#sk-container-id-7 div.sk-estimator:hover label.sk-toggleable__label-arrow:before {color: black;}#sk-container-id-7 div.sk-toggleable__content {max-height: 0;max-width: 0;overflow: hidden;text-align: left;background-color: #f0f8ff;}#sk-container-id-7 div.sk-toggleable__content pre {margin: 0.2em;color: black;border-radius: 0.25em;background-color: #f0f8ff;}#sk-container-id-7 input.sk-toggleable__control:checked~div.sk-toggleable__content {max-height: 200px;max-width: 100%;overflow: auto;}#sk-container-id-7 input.sk-toggleable__control:checked~label.sk-toggleable__label-arrow:before {content: \"▾\";}#sk-container-id-7 div.sk-estimator input.sk-toggleable__control:checked~label.sk-toggleable__label {background-color: #d4ebff;}#sk-container-id-7 div.sk-label input.sk-toggleable__control:checked~label.sk-toggleable__label {background-color: #d4ebff;}#sk-container-id-7 input.sk-hidden--visually {border: 0;clip: rect(1px 1px 1px 1px);clip: rect(1px, 1px, 1px, 1px);height: 1px;margin: -1px;overflow: hidden;padding: 0;position: absolute;width: 1px;}#sk-container-id-7 div.sk-estimator {font-family: monospace;background-color: #f0f8ff;border: 1px dotted black;border-radius: 0.25em;box-sizing: border-box;margin-bottom: 0.5em;}#sk-container-id-7 div.sk-estimator:hover {background-color: #d4ebff;}#sk-container-id-7 div.sk-parallel-item::after {content: \"\";width: 100%;border-bottom: 1px solid gray;flex-grow: 1;}#sk-container-id-7 div.sk-label:hover label.sk-toggleable__label {background-color: #d4ebff;}#sk-container-id-7 div.sk-serial::before {content: \"\";position: absolute;border-left: 1px solid gray;box-sizing: border-box;top: 0;bottom: 0;left: 50%;z-index: 0;}#sk-container-id-7 div.sk-serial {display: flex;flex-direction: column;align-items: center;background-color: white;padding-right: 0.2em;padding-left: 0.2em;position: relative;}#sk-container-id-7 div.sk-item {position: relative;z-index: 1;}#sk-container-id-7 div.sk-parallel {display: flex;align-items: stretch;justify-content: center;background-color: white;position: relative;}#sk-container-id-7 div.sk-item::before, #sk-container-id-7 div.sk-parallel-item::before {content: \"\";position: absolute;border-left: 1px solid gray;box-sizing: border-box;top: 0;bottom: 0;left: 50%;z-index: -1;}#sk-container-id-7 div.sk-parallel-item {display: flex;flex-direction: column;z-index: 1;position: relative;background-color: white;}#sk-container-id-7 div.sk-parallel-item:first-child::after {align-self: flex-end;width: 50%;}#sk-container-id-7 div.sk-parallel-item:last-child::after {align-self: flex-start;width: 50%;}#sk-container-id-7 div.sk-parallel-item:only-child::after {width: 0;}#sk-container-id-7 div.sk-dashed-wrapped {border: 1px dashed gray;margin: 0 0.4em 0.5em 0.4em;box-sizing: border-box;padding-bottom: 0.4em;background-color: white;}#sk-container-id-7 div.sk-label label {font-family: monospace;font-weight: bold;display: inline-block;line-height: 1.2em;}#sk-container-id-7 div.sk-label-container {text-align: center;}#sk-container-id-7 div.sk-container {/* jupyter's `normalize.less` sets `[hidden] { display: none; }` but bootstrap.min.css set `[hidden] { display: none !important; }` so we also need the `!important` here to be able to override the default hidden behavior on the sphinx rendered scikit-learn.org. See: https://github.com/scikit-learn/scikit-learn/issues/21755 */display: inline-block !important;position: relative;}#sk-container-id-7 div.sk-text-repr-fallback {display: none;}</style><div id=\"sk-container-id-7\" class=\"sk-top-container\"><div class=\"sk-text-repr-fallback\"><pre>GridSearchCV(cv=5, estimator=KNeighborsClassifier(),\n",
       "             param_grid={&#x27;n_neighbors&#x27;: array([ 1,  2,  3,  4,  5,  6,  7,  8,  9, 10, 11, 12, 13, 14, 15, 16, 17,\n",
       "       18, 19, 20, 21, 22, 23, 24])},\n",
       "             scoring=&#x27;recall&#x27;)</pre><b>In a Jupyter environment, please rerun this cell to show the HTML representation or trust the notebook. <br />On GitHub, the HTML representation is unable to render, please try loading this page with nbviewer.org.</b></div><div class=\"sk-container\" hidden><div class=\"sk-item sk-dashed-wrapped\"><div class=\"sk-label-container\"><div class=\"sk-label sk-toggleable\"><input class=\"sk-toggleable__control sk-hidden--visually\" id=\"sk-estimator-id-7\" type=\"checkbox\" ><label for=\"sk-estimator-id-7\" class=\"sk-toggleable__label sk-toggleable__label-arrow\">GridSearchCV</label><div class=\"sk-toggleable__content\"><pre>GridSearchCV(cv=5, estimator=KNeighborsClassifier(),\n",
       "             param_grid={&#x27;n_neighbors&#x27;: array([ 1,  2,  3,  4,  5,  6,  7,  8,  9, 10, 11, 12, 13, 14, 15, 16, 17,\n",
       "       18, 19, 20, 21, 22, 23, 24])},\n",
       "             scoring=&#x27;recall&#x27;)</pre></div></div></div><div class=\"sk-parallel\"><div class=\"sk-parallel-item\"><div class=\"sk-item\"><div class=\"sk-label-container\"><div class=\"sk-label sk-toggleable\"><input class=\"sk-toggleable__control sk-hidden--visually\" id=\"sk-estimator-id-8\" type=\"checkbox\" ><label for=\"sk-estimator-id-8\" class=\"sk-toggleable__label sk-toggleable__label-arrow\">estimator: KNeighborsClassifier</label><div class=\"sk-toggleable__content\"><pre>KNeighborsClassifier()</pre></div></div></div><div class=\"sk-serial\"><div class=\"sk-item\"><div class=\"sk-estimator sk-toggleable\"><input class=\"sk-toggleable__control sk-hidden--visually\" id=\"sk-estimator-id-9\" type=\"checkbox\" ><label for=\"sk-estimator-id-9\" class=\"sk-toggleable__label sk-toggleable__label-arrow\">KNeighborsClassifier</label><div class=\"sk-toggleable__content\"><pre>KNeighborsClassifier()</pre></div></div></div></div></div></div></div></div></div></div>"
      ],
      "text/plain": [
       "GridSearchCV(cv=5, estimator=KNeighborsClassifier(),\n",
       "             param_grid={'n_neighbors': array([ 1,  2,  3,  4,  5,  6,  7,  8,  9, 10, 11, 12, 13, 14, 15, 16, 17,\n",
       "       18, 19, 20, 21, 22, 23, 24])},\n",
       "             scoring='recall')"
      ]
     },
     "execution_count": 47,
     "metadata": {},
     "output_type": "execute_result"
    }
   ],
   "source": [
    "knnCV.fit(X_train_ss, y_train)"
   ]
  },
  {
   "cell_type": "code",
   "execution_count": 48,
   "id": "f42d8aa2",
   "metadata": {},
   "outputs": [
    {
     "data": {
      "text/plain": [
       "0.6866329255106811"
      ]
     },
     "execution_count": 48,
     "metadata": {},
     "output_type": "execute_result"
    }
   ],
   "source": [
    "knnCV.best_score_"
   ]
  },
  {
   "cell_type": "code",
   "execution_count": 49,
   "id": "40c243c4",
   "metadata": {},
   "outputs": [
    {
     "data": {
      "text/plain": [
       "{'n_neighbors': 3}"
      ]
     },
     "execution_count": 49,
     "metadata": {},
     "output_type": "execute_result"
    }
   ],
   "source": [
    "knnCV.best_params_"
   ]
  },
  {
   "cell_type": "code",
   "execution_count": 50,
   "id": "27435946",
   "metadata": {},
   "outputs": [
    {
     "data": {
      "text/plain": [
       "{'mean_fit_time': array([0.01850033, 0.01177964, 0.01571636, 0.01233006, 0.0116425 ,\n",
       "        0.01163139, 0.01167612, 0.01186738, 0.01197639, 0.01226673,\n",
       "        0.01212974, 0.01160979, 0.01165113, 0.01207399, 0.01199203,\n",
       "        0.01281466, 0.01157398, 0.01160045, 0.01596289, 0.01178465,\n",
       "        0.01162405, 0.01163201, 0.0119101 , 0.01181321]),\n",
       " 'std_fit_time': array([1.31689542e-02, 1.87396069e-04, 6.69312516e-03, 4.03622783e-04,\n",
       "        8.73803800e-05, 6.10872136e-05, 7.30892599e-05, 5.79451263e-04,\n",
       "        6.11087062e-04, 1.07261437e-03, 7.66269144e-04, 1.17127455e-04,\n",
       "        1.24380174e-04, 7.53633231e-04, 5.73759280e-04, 2.31137760e-03,\n",
       "        2.79364726e-05, 4.49388096e-05, 8.38868310e-03, 2.17753555e-04,\n",
       "        9.72136839e-05, 1.67196638e-04, 4.27274847e-04, 1.27972771e-04]),\n",
       " 'mean_score_time': array([0.12718043, 0.13241944, 0.13610516, 0.16312022, 0.14629884,\n",
       "        0.16069155, 0.16138334, 0.15827045, 0.16106486, 0.1631856 ,\n",
       "        0.1751071 , 0.17545795, 0.18197293, 0.18021321, 0.17675958,\n",
       "        0.17824016, 0.18041372, 0.18488646, 0.19704509, 0.19992065,\n",
       "        0.19010119, 0.19602795, 0.1990253 , 0.20651937]),\n",
       " 'std_score_time': array([0.01908104, 0.00810287, 0.00537241, 0.02439341, 0.00323411,\n",
       "        0.02922746, 0.00728604, 0.00635802, 0.00587108, 0.00387038,\n",
       "        0.01017842, 0.00868056, 0.00908447, 0.00330234, 0.00378942,\n",
       "        0.00508561, 0.00602765, 0.00734865, 0.02821897, 0.02159252,\n",
       "        0.00306792, 0.00861461, 0.00546988, 0.0054032 ]),\n",
       " 'param_n_neighbors': masked_array(data=[1, 2, 3, 4, 5, 6, 7, 8, 9, 10, 11, 12, 13, 14, 15, 16,\n",
       "                    17, 18, 19, 20, 21, 22, 23, 24],\n",
       "              mask=[False, False, False, False, False, False, False, False,\n",
       "                    False, False, False, False, False, False, False, False,\n",
       "                    False, False, False, False, False, False, False, False],\n",
       "        fill_value='?',\n",
       "             dtype=object),\n",
       " 'params': [{'n_neighbors': 1},\n",
       "  {'n_neighbors': 2},\n",
       "  {'n_neighbors': 3},\n",
       "  {'n_neighbors': 4},\n",
       "  {'n_neighbors': 5},\n",
       "  {'n_neighbors': 6},\n",
       "  {'n_neighbors': 7},\n",
       "  {'n_neighbors': 8},\n",
       "  {'n_neighbors': 9},\n",
       "  {'n_neighbors': 10},\n",
       "  {'n_neighbors': 11},\n",
       "  {'n_neighbors': 12},\n",
       "  {'n_neighbors': 13},\n",
       "  {'n_neighbors': 14},\n",
       "  {'n_neighbors': 15},\n",
       "  {'n_neighbors': 16},\n",
       "  {'n_neighbors': 17},\n",
       "  {'n_neighbors': 18},\n",
       "  {'n_neighbors': 19},\n",
       "  {'n_neighbors': 20},\n",
       "  {'n_neighbors': 21},\n",
       "  {'n_neighbors': 22},\n",
       "  {'n_neighbors': 23},\n",
       "  {'n_neighbors': 24}],\n",
       " 'split0_test_score': array([0.68968969, 0.54354354, 0.7017017 , 0.5995996 , 0.69369369,\n",
       "        0.63763764, 0.6976977 , 0.64464464, 0.68668669, 0.65665666,\n",
       "        0.68668669, 0.66366366, 0.69069069, 0.66166166, 0.68368368,\n",
       "        0.66666667, 0.68368368, 0.67167167, 0.68368368, 0.67467467,\n",
       "        0.68768769, 0.67167167, 0.68768769, 0.67367367]),\n",
       " 'split1_test_score': array([0.66533066, 0.52204409, 0.68136273, 0.59318637, 0.66432866,\n",
       "        0.60621242, 0.66432866, 0.61623246, 0.65931864, 0.63627255,\n",
       "        0.66232465, 0.63527054, 0.65831663, 0.63827655, 0.65931864,\n",
       "        0.63827655, 0.6492986 , 0.63326653, 0.65531062, 0.63827655,\n",
       "        0.6503006 , 0.64228457, 0.65330661, 0.63627255]),\n",
       " 'split2_test_score': array([0.65430862, 0.52204409, 0.68236473, 0.5991984 , 0.68036072,\n",
       "        0.62925852, 0.68436874, 0.63927856, 0.68436874, 0.64629259,\n",
       "        0.6753507 , 0.65831663, 0.67835671, 0.66332665, 0.67234469,\n",
       "        0.66032064, 0.67835671, 0.66432866, 0.67735471, 0.66533066,\n",
       "        0.6743487 , 0.66232465, 0.66933868, 0.65931864]),\n",
       " 'split3_test_score': array([0.65831663, 0.50400802, 0.65831663, 0.58016032, 0.64829659,\n",
       "        0.59719439, 0.65731463, 0.60821643, 0.66132265, 0.62224449,\n",
       "        0.65230461, 0.62825651, 0.65230461, 0.63326653, 0.65130261,\n",
       "        0.64228457, 0.65631263, 0.64328657, 0.65631263, 0.64529058,\n",
       "        0.65731463, 0.64328657, 0.65531062, 0.64328657]),\n",
       " 'split4_test_score': array([0.68637275, 0.53206413, 0.70941884, 0.62224449, 0.68537074,\n",
       "        0.64428858, 0.69639279, 0.65531062, 0.69038076, 0.65731463,\n",
       "        0.68136273, 0.65631263, 0.67735471, 0.65631263, 0.6753507 ,\n",
       "        0.65731463, 0.6753507 , 0.65831663, 0.6743487 , 0.66332665,\n",
       "        0.68136273, 0.66332665, 0.67635271, 0.66633267]),\n",
       " 'mean_test_score': array([0.67080367, 0.52474077, 0.68663293, 0.59887784, 0.67441008,\n",
       "        0.62291831, 0.6800205 , 0.63273654, 0.67641549, 0.64375618,\n",
       "        0.67160587, 0.648364  , 0.67140467, 0.65056881, 0.66840006,\n",
       "        0.65297261, 0.66860046, 0.65417401, 0.66940207, 0.65737982,\n",
       "        0.67020287, 0.65657882, 0.66839926, 0.65577682]),\n",
       " 'std_test_score': array([0.01453991, 0.01305042, 0.01785537, 0.01363351, 0.0161923 ,\n",
       "        0.01818984, 0.0164999 , 0.01770768, 0.01329569, 0.01323212,\n",
       "        0.01261214, 0.01394321, 0.01408399, 0.01240382, 0.01159531,\n",
       "        0.01086814, 0.0133552 , 0.01401503, 0.01150287, 0.01348167,\n",
       "        0.01421025, 0.01172477, 0.01292504, 0.01400493]),\n",
       " 'rank_test_score': array([ 7, 24,  1, 23,  4, 22,  2, 21,  3, 20,  5, 19,  6, 18, 11, 17, 10,\n",
       "        16,  9, 13,  8, 14, 12, 15], dtype=int32)}"
      ]
     },
     "execution_count": 50,
     "metadata": {},
     "output_type": "execute_result"
    }
   ],
   "source": [
    "knnCV.cv_results_"
   ]
  },
  {
   "cell_type": "code",
   "execution_count": 51,
   "id": "d37a6acb",
   "metadata": {},
   "outputs": [],
   "source": [
    "# Let's run the grid search\n",
    "knnCV = GridSearchCV(knn_base, param_grid, cv=5, scoring='average_precision')"
   ]
  },
  {
   "cell_type": "code",
   "execution_count": 52,
   "id": "b487d9a8",
   "metadata": {},
   "outputs": [
    {
     "data": {
      "text/html": [
       "<style>#sk-container-id-8 {color: black;background-color: white;}#sk-container-id-8 pre{padding: 0;}#sk-container-id-8 div.sk-toggleable {background-color: white;}#sk-container-id-8 label.sk-toggleable__label {cursor: pointer;display: block;width: 100%;margin-bottom: 0;padding: 0.3em;box-sizing: border-box;text-align: center;}#sk-container-id-8 label.sk-toggleable__label-arrow:before {content: \"▸\";float: left;margin-right: 0.25em;color: #696969;}#sk-container-id-8 label.sk-toggleable__label-arrow:hover:before {color: black;}#sk-container-id-8 div.sk-estimator:hover label.sk-toggleable__label-arrow:before {color: black;}#sk-container-id-8 div.sk-toggleable__content {max-height: 0;max-width: 0;overflow: hidden;text-align: left;background-color: #f0f8ff;}#sk-container-id-8 div.sk-toggleable__content pre {margin: 0.2em;color: black;border-radius: 0.25em;background-color: #f0f8ff;}#sk-container-id-8 input.sk-toggleable__control:checked~div.sk-toggleable__content {max-height: 200px;max-width: 100%;overflow: auto;}#sk-container-id-8 input.sk-toggleable__control:checked~label.sk-toggleable__label-arrow:before {content: \"▾\";}#sk-container-id-8 div.sk-estimator input.sk-toggleable__control:checked~label.sk-toggleable__label {background-color: #d4ebff;}#sk-container-id-8 div.sk-label input.sk-toggleable__control:checked~label.sk-toggleable__label {background-color: #d4ebff;}#sk-container-id-8 input.sk-hidden--visually {border: 0;clip: rect(1px 1px 1px 1px);clip: rect(1px, 1px, 1px, 1px);height: 1px;margin: -1px;overflow: hidden;padding: 0;position: absolute;width: 1px;}#sk-container-id-8 div.sk-estimator {font-family: monospace;background-color: #f0f8ff;border: 1px dotted black;border-radius: 0.25em;box-sizing: border-box;margin-bottom: 0.5em;}#sk-container-id-8 div.sk-estimator:hover {background-color: #d4ebff;}#sk-container-id-8 div.sk-parallel-item::after {content: \"\";width: 100%;border-bottom: 1px solid gray;flex-grow: 1;}#sk-container-id-8 div.sk-label:hover label.sk-toggleable__label {background-color: #d4ebff;}#sk-container-id-8 div.sk-serial::before {content: \"\";position: absolute;border-left: 1px solid gray;box-sizing: border-box;top: 0;bottom: 0;left: 50%;z-index: 0;}#sk-container-id-8 div.sk-serial {display: flex;flex-direction: column;align-items: center;background-color: white;padding-right: 0.2em;padding-left: 0.2em;position: relative;}#sk-container-id-8 div.sk-item {position: relative;z-index: 1;}#sk-container-id-8 div.sk-parallel {display: flex;align-items: stretch;justify-content: center;background-color: white;position: relative;}#sk-container-id-8 div.sk-item::before, #sk-container-id-8 div.sk-parallel-item::before {content: \"\";position: absolute;border-left: 1px solid gray;box-sizing: border-box;top: 0;bottom: 0;left: 50%;z-index: -1;}#sk-container-id-8 div.sk-parallel-item {display: flex;flex-direction: column;z-index: 1;position: relative;background-color: white;}#sk-container-id-8 div.sk-parallel-item:first-child::after {align-self: flex-end;width: 50%;}#sk-container-id-8 div.sk-parallel-item:last-child::after {align-self: flex-start;width: 50%;}#sk-container-id-8 div.sk-parallel-item:only-child::after {width: 0;}#sk-container-id-8 div.sk-dashed-wrapped {border: 1px dashed gray;margin: 0 0.4em 0.5em 0.4em;box-sizing: border-box;padding-bottom: 0.4em;background-color: white;}#sk-container-id-8 div.sk-label label {font-family: monospace;font-weight: bold;display: inline-block;line-height: 1.2em;}#sk-container-id-8 div.sk-label-container {text-align: center;}#sk-container-id-8 div.sk-container {/* jupyter's `normalize.less` sets `[hidden] { display: none; }` but bootstrap.min.css set `[hidden] { display: none !important; }` so we also need the `!important` here to be able to override the default hidden behavior on the sphinx rendered scikit-learn.org. See: https://github.com/scikit-learn/scikit-learn/issues/21755 */display: inline-block !important;position: relative;}#sk-container-id-8 div.sk-text-repr-fallback {display: none;}</style><div id=\"sk-container-id-8\" class=\"sk-top-container\"><div class=\"sk-text-repr-fallback\"><pre>GridSearchCV(cv=5, estimator=KNeighborsClassifier(),\n",
       "             param_grid={&#x27;n_neighbors&#x27;: array([ 1,  2,  3,  4,  5,  6,  7,  8,  9, 10, 11, 12, 13, 14, 15, 16, 17,\n",
       "       18, 19, 20, 21, 22, 23, 24])},\n",
       "             scoring=&#x27;average_precision&#x27;)</pre><b>In a Jupyter environment, please rerun this cell to show the HTML representation or trust the notebook. <br />On GitHub, the HTML representation is unable to render, please try loading this page with nbviewer.org.</b></div><div class=\"sk-container\" hidden><div class=\"sk-item sk-dashed-wrapped\"><div class=\"sk-label-container\"><div class=\"sk-label sk-toggleable\"><input class=\"sk-toggleable__control sk-hidden--visually\" id=\"sk-estimator-id-10\" type=\"checkbox\" ><label for=\"sk-estimator-id-10\" class=\"sk-toggleable__label sk-toggleable__label-arrow\">GridSearchCV</label><div class=\"sk-toggleable__content\"><pre>GridSearchCV(cv=5, estimator=KNeighborsClassifier(),\n",
       "             param_grid={&#x27;n_neighbors&#x27;: array([ 1,  2,  3,  4,  5,  6,  7,  8,  9, 10, 11, 12, 13, 14, 15, 16, 17,\n",
       "       18, 19, 20, 21, 22, 23, 24])},\n",
       "             scoring=&#x27;average_precision&#x27;)</pre></div></div></div><div class=\"sk-parallel\"><div class=\"sk-parallel-item\"><div class=\"sk-item\"><div class=\"sk-label-container\"><div class=\"sk-label sk-toggleable\"><input class=\"sk-toggleable__control sk-hidden--visually\" id=\"sk-estimator-id-11\" type=\"checkbox\" ><label for=\"sk-estimator-id-11\" class=\"sk-toggleable__label sk-toggleable__label-arrow\">estimator: KNeighborsClassifier</label><div class=\"sk-toggleable__content\"><pre>KNeighborsClassifier()</pre></div></div></div><div class=\"sk-serial\"><div class=\"sk-item\"><div class=\"sk-estimator sk-toggleable\"><input class=\"sk-toggleable__control sk-hidden--visually\" id=\"sk-estimator-id-12\" type=\"checkbox\" ><label for=\"sk-estimator-id-12\" class=\"sk-toggleable__label sk-toggleable__label-arrow\">KNeighborsClassifier</label><div class=\"sk-toggleable__content\"><pre>KNeighborsClassifier()</pre></div></div></div></div></div></div></div></div></div></div>"
      ],
      "text/plain": [
       "GridSearchCV(cv=5, estimator=KNeighborsClassifier(),\n",
       "             param_grid={'n_neighbors': array([ 1,  2,  3,  4,  5,  6,  7,  8,  9, 10, 11, 12, 13, 14, 15, 16, 17,\n",
       "       18, 19, 20, 21, 22, 23, 24])},\n",
       "             scoring='average_precision')"
      ]
     },
     "execution_count": 52,
     "metadata": {},
     "output_type": "execute_result"
    }
   ],
   "source": [
    "knnCV.fit(X_train_ss, y_train)"
   ]
  },
  {
   "cell_type": "code",
   "execution_count": 53,
   "id": "315287ac",
   "metadata": {},
   "outputs": [
    {
     "data": {
      "text/plain": [
       "{'n_neighbors': 23}"
      ]
     },
     "execution_count": 53,
     "metadata": {},
     "output_type": "execute_result"
    }
   ],
   "source": [
    "knnCV.best_params_"
   ]
  },
  {
   "cell_type": "code",
   "execution_count": 54,
   "id": "367cc0f6",
   "metadata": {},
   "outputs": [
    {
     "data": {
      "text/plain": [
       "0.8180882802340822"
      ]
     },
     "execution_count": 54,
     "metadata": {},
     "output_type": "execute_result"
    }
   ],
   "source": [
    "knnCV.best_score_"
   ]
  },
  {
   "cell_type": "markdown",
   "id": "10f8f554",
   "metadata": {},
   "source": [
    "## Threshold-Moving\n",
    "\n",
    "So far, we've been just keeping the default cut-off probability, which happens to be 0.5, for determining whether our binary class should be a 0 (non-big spender) or a 1 (big spender). We can change the **threshold** for what is considered class 0 or 1. This is called **threshold-moving**.\n",
    "\n",
    "Let's change the threshold from the default of 0.5 to 0.2 for the logistic regression model and see what happens."
   ]
  },
  {
   "cell_type": "code",
   "execution_count": 55,
   "id": "ee5e82ef",
   "metadata": {},
   "outputs": [],
   "source": [
    "# Let's create a function that will do all the hard work for us (hopefully)\n",
    "def compare_metrics(classifier, X_test, y_test):\n",
    "    results = {}\n",
    "#     retVal = []\n",
    "    # Loop over different thresholds\n",
    "    for threshold in np.arange(0.1, 0.91, 0.01):\n",
    "        yProb = classifier.predict_proba(X_test)\n",
    "        tn, fp, fn, tp = confusion_matrix(y_test, yProb[:,1]>threshold).ravel()\n",
    "        totPositives = y_test.sum()\n",
    "        totNegatives = len(y_test) - totPositives\n",
    "\n",
    "        # Accuracy for negatives = true negatives / total negatives\n",
    "        accNegatives = tn/totNegatives\n",
    "        # Accuracy for positives = true positives / total positives\n",
    "        accPositives = tp/totPositives\n",
    "        \n",
    "        results[threshold] = [accPositives, accNegatives]\n",
    "#         # Add result to retVal list\n",
    "#         retVal.append((threshold, accPositives, accNegatives))\n",
    "        \n",
    "    retVal = pd.DataFrame.from_dict(results, orient='index', columns=['Accuracy Big Spenders','Accuracy Others'])\n",
    "        \n",
    "    return retVal"
   ]
  },
  {
   "cell_type": "code",
   "execution_count": 56,
   "id": "3663d1d1",
   "metadata": {},
   "outputs": [
    {
     "data": {
      "text/html": [
       "<div><div id=83e30ce3-11d7-4dfa-aa79-b673d96b40a2 style=\"display:none; background-color:#9D6CFF; color:white; width:200px; height:30px; padding-left:5px; border-radius:4px; flex-direction:row; justify-content:space-around; align-items:center;\" onmouseover=\"this.style.backgroundColor='#BA9BF8'\" onmouseout=\"this.style.backgroundColor='#9D6CFF'\" onclick=\"window.commands?.execute('create-mitosheet-from-dataframe-output');\">See Full Dataframe in Mito</div> <script> if (window.commands.hasCommand('create-mitosheet-from-dataframe-output')) document.getElementById('83e30ce3-11d7-4dfa-aa79-b673d96b40a2').style.display = 'flex' </script> <table border=\"1\" class=\"dataframe\">\n",
       "  <thead>\n",
       "    <tr style=\"text-align: right;\">\n",
       "      <th></th>\n",
       "      <th>Accuracy Big Spenders</th>\n",
       "      <th>Accuracy Others</th>\n",
       "    </tr>\n",
       "  </thead>\n",
       "  <tbody>\n",
       "    <tr>\n",
       "      <th>0.10</th>\n",
       "      <td>0.973664</td>\n",
       "      <td>0.054222</td>\n",
       "    </tr>\n",
       "    <tr>\n",
       "      <th>0.11</th>\n",
       "      <td>0.966140</td>\n",
       "      <td>0.079111</td>\n",
       "    </tr>\n",
       "    <tr>\n",
       "      <th>0.12</th>\n",
       "      <td>0.959368</td>\n",
       "      <td>0.094222</td>\n",
       "    </tr>\n",
       "    <tr>\n",
       "      <th>0.13</th>\n",
       "      <td>0.951091</td>\n",
       "      <td>0.114667</td>\n",
       "    </tr>\n",
       "    <tr>\n",
       "      <th>0.14</th>\n",
       "      <td>0.944319</td>\n",
       "      <td>0.141333</td>\n",
       "    </tr>\n",
       "    <tr>\n",
       "      <th>...</th>\n",
       "      <td>...</td>\n",
       "      <td>...</td>\n",
       "    </tr>\n",
       "    <tr>\n",
       "      <th>0.86</th>\n",
       "      <td>0.110609</td>\n",
       "      <td>0.990222</td>\n",
       "    </tr>\n",
       "    <tr>\n",
       "      <th>0.87</th>\n",
       "      <td>0.070730</td>\n",
       "      <td>0.995556</td>\n",
       "    </tr>\n",
       "    <tr>\n",
       "      <th>0.88</th>\n",
       "      <td>0.036870</td>\n",
       "      <td>0.999111</td>\n",
       "    </tr>\n",
       "    <tr>\n",
       "      <th>0.89</th>\n",
       "      <td>0.014296</td>\n",
       "      <td>1.000000</td>\n",
       "    </tr>\n",
       "    <tr>\n",
       "      <th>0.90</th>\n",
       "      <td>0.005267</td>\n",
       "      <td>1.000000</td>\n",
       "    </tr>\n",
       "  </tbody>\n",
       "</table></div>"
      ],
      "text/plain": [
       "      Accuracy Big Spenders  Accuracy Others\n",
       "0.10               0.973664         0.054222\n",
       "0.11               0.966140         0.079111\n",
       "0.12               0.959368         0.094222\n",
       "0.13               0.951091         0.114667\n",
       "0.14               0.944319         0.141333\n",
       "...                     ...              ...\n",
       "0.86               0.110609         0.990222\n",
       "0.87               0.070730         0.995556\n",
       "0.88               0.036870         0.999111\n",
       "0.89               0.014296         1.000000\n",
       "0.90               0.005267         1.000000\n",
       "\n",
       "[81 rows x 2 columns]"
      ]
     },
     "execution_count": 56,
     "metadata": {},
     "output_type": "execute_result"
    }
   ],
   "source": [
    "# Let's try it with logistic regression\n",
    "values = compare_metrics(logReg, X_test_ss, y_test)\n",
    "values"
   ]
  },
  {
   "cell_type": "code",
   "execution_count": 58,
   "id": "f9018abd",
   "metadata": {},
   "outputs": [
    {
     "name": "stdout",
     "output_type": "stream",
     "text": [
      "      Accuracy Big Spenders  Accuracy Others\n",
      "0.10               0.973664         0.054222\n",
      "0.11               0.966140         0.079111\n",
      "0.12               0.959368         0.094222\n",
      "0.13               0.951091         0.114667\n",
      "0.14               0.944319         0.141333\n",
      "0.15               0.938299         0.164444\n",
      "0.16               0.930023         0.181333\n",
      "0.17               0.927013         0.196444\n",
      "0.18               0.924003         0.211556\n",
      "0.19               0.917983         0.226667\n",
      "0.20               0.911211         0.238222\n",
      "0.21               0.905944         0.252444\n",
      "0.22               0.902182         0.265778\n",
      "0.23               0.898420         0.280889\n",
      "0.24               0.894658         0.296000\n",
      "0.25               0.890895         0.312889\n",
      "0.26               0.883371         0.331556\n",
      "0.27               0.872837         0.352000\n",
      "0.28               0.861550         0.366222\n",
      "0.29               0.852521         0.384000\n",
      "0.30               0.844244         0.404444\n",
      "0.31               0.835967         0.417778\n",
      "0.32               0.826185         0.435556\n",
      "0.33               0.820166         0.449778\n",
      "0.34               0.814146         0.460444\n",
      "0.35               0.810384         0.477333\n",
      "0.36               0.807374         0.493333\n",
      "0.37               0.803612         0.502222\n",
      "0.38               0.798345         0.510222\n",
      "0.39               0.793078         0.528889\n",
      "0.40               0.785553         0.544000\n",
      "0.41               0.780286         0.560000\n",
      "0.42               0.775019         0.579556\n",
      "0.43               0.769752         0.597333\n",
      "0.44               0.766742         0.608889\n",
      "0.45               0.759970         0.624889\n",
      "0.46               0.754703         0.636444\n",
      "0.47               0.750941         0.650667\n",
      "0.48               0.742664         0.666667\n",
      "0.49               0.738149         0.686222\n",
      "0.50               0.729872         0.697778\n",
      "0.51               0.720090         0.709333\n",
      "0.52               0.712566         0.731556\n",
      "0.53               0.708051         0.748444\n",
      "0.54               0.703536         0.760000\n",
      "0.55               0.700527         0.774222\n",
      "0.56               0.696764         0.791111\n",
      "0.57               0.690745         0.801778\n",
      "0.58               0.683220         0.824000\n",
      "0.59               0.679458         0.840889\n",
      "0.60               0.675696         0.856889\n",
      "0.61               0.669676         0.873778\n",
      "0.62               0.663657         0.885333\n",
      "0.63               0.656885         0.894222\n",
      "0.64               0.649360         0.910222\n",
      "0.65               0.635816         0.923556\n",
      "0.66               0.622272         0.935111\n",
      "0.67               0.607223         0.942222\n",
      "0.68               0.595184         0.945778\n",
      "0.69               0.579383         0.950222\n",
      "0.70               0.558315         0.956444\n",
      "0.71               0.541008         0.957333\n",
      "0.72               0.513920         0.960000\n",
      "0.73               0.490594         0.960000\n",
      "0.74               0.468021         0.960889\n",
      "0.75               0.443190         0.962667\n",
      "0.76               0.410835         0.965333\n",
      "0.77               0.395034         0.967111\n",
      "0.78               0.366441         0.969778\n",
      "0.79               0.338600         0.969778\n",
      "0.80               0.312265         0.970667\n",
      "0.81               0.288939         0.973333\n",
      "0.82               0.259594         0.975111\n",
      "0.83               0.225734         0.977778\n",
      "0.84               0.189616         0.981333\n",
      "0.85               0.151994         0.988444\n",
      "0.86               0.110609         0.990222\n",
      "0.87               0.070730         0.995556\n",
      "0.88               0.036870         0.999111\n",
      "0.89               0.014296         1.000000\n",
      "0.90               0.005267         1.000000\n"
     ]
    }
   ],
   "source": [
    "print(values.to_string())"
   ]
  },
  {
   "cell_type": "code",
   "execution_count": 61,
   "id": "dd3cf218",
   "metadata": {
    "scrolled": true
   },
   "outputs": [
    {
     "name": "stdout",
     "output_type": "stream",
     "text": [
      "      Accuracy Big Spenders  Accuracy Others\n",
      "0.10                  0.974            0.054\n",
      "0.11                  0.966            0.079\n",
      "0.12                  0.959            0.094\n",
      "0.13                  0.951            0.115\n",
      "0.14                  0.944            0.141\n",
      "0.15                  0.938            0.164\n",
      "0.16                  0.930            0.181\n",
      "0.17                  0.927            0.196\n",
      "0.18                  0.924            0.212\n",
      "0.19                  0.918            0.227\n",
      "0.20                  0.911            0.238\n",
      "0.21                  0.906            0.252\n",
      "0.22                  0.902            0.266\n",
      "0.23                  0.898            0.281\n",
      "0.24                  0.895            0.296\n",
      "0.25                  0.891            0.313\n",
      "0.26                  0.883            0.332\n",
      "0.27                  0.873            0.352\n",
      "0.28                  0.862            0.366\n",
      "0.29                  0.853            0.384\n",
      "0.30                  0.844            0.404\n",
      "0.31                  0.836            0.418\n",
      "0.32                  0.826            0.436\n",
      "0.33                  0.820            0.450\n",
      "0.34                  0.814            0.460\n",
      "0.35                  0.810            0.477\n",
      "0.36                  0.807            0.493\n",
      "0.37                  0.804            0.502\n",
      "0.38                  0.798            0.510\n",
      "0.39                  0.793            0.529\n",
      "0.40                  0.786            0.544\n",
      "0.41                  0.780            0.560\n",
      "0.42                  0.775            0.580\n",
      "0.43                  0.770            0.597\n",
      "0.44                  0.767            0.609\n",
      "0.45                  0.760            0.625\n",
      "0.46                  0.755            0.636\n",
      "0.47                  0.751            0.651\n",
      "0.48                  0.743            0.667\n",
      "0.49                  0.738            0.686\n",
      "0.50                  0.730            0.698\n",
      "0.51                  0.720            0.709\n",
      "0.52                  0.713            0.732\n",
      "0.53                  0.708            0.748\n",
      "0.54                  0.704            0.760\n",
      "0.55                  0.701            0.774\n",
      "0.56                  0.697            0.791\n",
      "0.57                  0.691            0.802\n",
      "0.58                  0.683            0.824\n",
      "0.59                  0.679            0.841\n",
      "0.60                  0.676            0.857\n",
      "0.61                  0.670            0.874\n",
      "0.62                  0.664            0.885\n",
      "0.63                  0.657            0.894\n",
      "0.64                  0.649            0.910\n",
      "0.65                  0.636            0.924\n",
      "0.66                  0.622            0.935\n",
      "0.67                  0.607            0.942\n",
      "0.68                  0.595            0.946\n",
      "0.69                  0.579            0.950\n",
      "0.70                  0.558            0.956\n",
      "0.71                  0.541            0.957\n",
      "0.72                  0.514            0.960\n",
      "0.73                  0.491            0.960\n",
      "0.74                  0.468            0.961\n",
      "0.75                  0.443            0.963\n",
      "0.76                  0.411            0.965\n",
      "0.77                  0.395            0.967\n",
      "0.78                  0.366            0.970\n",
      "0.79                  0.339            0.970\n",
      "0.80                  0.312            0.971\n",
      "0.81                  0.289            0.973\n",
      "0.82                  0.260            0.975\n",
      "0.83                  0.226            0.978\n",
      "0.84                  0.190            0.981\n",
      "0.85                  0.152            0.988\n",
      "0.86                  0.111            0.990\n",
      "0.87                  0.071            0.996\n",
      "0.88                  0.037            0.999\n",
      "0.89                  0.014            1.000\n",
      "0.90                  0.005            1.000\n"
     ]
    }
   ],
   "source": [
    "# The scope of these changes made to\n",
    "# pandas settings are local to with statement.\n",
    "with pd.option_context('display.max_rows', None,\n",
    "                       'display.max_columns', None,\n",
    "                       'display.precision', 3,\n",
    "                       ):\n",
    "    print(values)"
   ]
  },
  {
   "cell_type": "code",
   "execution_count": 60,
   "id": "0646c62b",
   "metadata": {},
   "outputs": [],
   "source": [
    "#print(values.to_markdown())"
   ]
  },
  {
   "cell_type": "code",
   "execution_count": 62,
   "id": "57df87c8",
   "metadata": {},
   "outputs": [
    {
     "data": {
      "text/plain": [
       "<seaborn.axisgrid.FacetGrid at 0x7f38e76963e0>"
      ]
     },
     "execution_count": 62,
     "metadata": {},
     "output_type": "execute_result"
    },
    {
     "data": {
      "image/png": "[encoded data removed]",
      "text/plain": [
       "<Figure size 500x500 with 1 Axes>"
      ]
     },
     "metadata": {},
     "output_type": "display_data"
    },
    {
     "data": {
      "image/png": "[encoded data removed]",
      "text/plain": [
       "<Figure size 500x500 with 1 Axes>"
      ]
     },
     "metadata": {},
     "output_type": "display_data"
    }
   ],
   "source": [
    "sns.relplot(x=values.index, y='Accuracy Big Spenders', data=values)\n",
    "sns.relplot(x=values.index, y='Accuracy Others', data=values)"
   ]
  },
  {
   "cell_type": "code",
   "execution_count": 63,
   "id": "56c66cd5",
   "metadata": {},
   "outputs": [
    {
     "data": {
      "text/plain": [
       "Text(0, 0.5, 'Accuracy')"
      ]
     },
     "execution_count": 63,
     "metadata": {},
     "output_type": "execute_result"
    },
    {
     "data": {
      "image/png": "[encoded data removed]",
      "text/plain": [
       "<Figure size 640x480 with 1 Axes>"
      ]
     },
     "metadata": {},
     "output_type": "display_data"
    }
   ],
   "source": [
    "fig, ax = plt.subplots()\n",
    "ax.scatter(values.index, y=values['Accuracy Big Spenders'], label='big spender accuracy')\n",
    "ax.scatter(values.index, values['Accuracy Others'], label='other accuracy', marker='s', color='orange')\n",
    "ax.legend()\n",
    "ax.set_xlabel('Cut-off value')\n",
    "ax.set_ylabel('Accuracy')"
   ]
  },
  {
   "cell_type": "code",
   "execution_count": null,
   "id": "d47081bc",
   "metadata": {},
   "outputs": [],
   "source": []
  },
  {
   "cell_type": "code",
   "execution_count": null,
   "id": "63c569c3",
   "metadata": {},
   "outputs": [],
   "source": []
  },
  {
   "cell_type": "code",
   "execution_count": null,
   "id": "3134dcbb",
   "metadata": {},
   "outputs": [],
   "source": []
  },
  {
   "cell_type": "code",
   "execution_count": null,
   "id": "0285111a",
   "metadata": {},
   "outputs": [],
   "source": []
  }
 ],
 "metadata": {
  "kernelspec": {
   "display_name": "Python 3 (ipykernel)",
   "language": "python",
   "name": "python3"
  },
  "language_info": {
   "codemirror_mode": {
    "name": "ipython",
    "version": 3
   },
   "file_extension": ".py",
   "mimetype": "text/x-python",
   "name": "python",
   "nbconvert_exporter": "python",
   "pygments_lexer": "ipython3",
   "version": "3.10.10"
  }
 },
 "nbformat": 4,
 "nbformat_minor": 5
}
