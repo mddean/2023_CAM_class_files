{
 "cells": [
  {
   "cell_type": "markdown",
   "id": "de4be1dc",
   "metadata": {},
   "source": [
    "# Overfitting a Decision Tree\n",
    "\n",
    "One of the issues with a decision tree is that you can easily ovefit it. Let's look at an example to see how changing the depth of different decision trees affects overfitting. We'll create some random data with some noise and see how a decision can help make the prediction using different depth levels."
   ]
  },
  {
   "cell_type": "code",
   "execution_count": null,
   "id": "89bd0812",
   "metadata": {},
   "outputs": [],
   "source": [
    "# import packages\n",
    "import numpy as np\n",
    "import matplotlib.pyplot as plt\n",
    "from sklearn.tree import DecisionTreeRegressor"
   ]
  },
  {
   "cell_type": "code",
   "execution_count": null,
   "id": "a5e222ad",
   "metadata": {},
   "outputs": [],
   "source": [
    "# Create a random data set that builds the sine curve\n",
    "rng = np.random.RandomState(42)\n",
    "\n",
    "# Create 80 random data points for X\n",
    "# range from 0 to 5\n",
    "X = np.sort(5*rng.rand(80,1), axis=0)"
   ]
  },
  {
   "cell_type": "code",
   "execution_count": null,
   "id": "b54ac228",
   "metadata": {},
   "outputs": [],
   "source": [
    "# Look at X\n",
    "X"
   ]
  },
  {
   "cell_type": "code",
   "execution_count": null,
   "id": "822e9bef",
   "metadata": {},
   "outputs": [],
   "source": [
    "# Create y (the target) which will be the sine curve\n",
    "y = np.sin(X).ravel()\n",
    "\n",
    "# Now add some noise (randomness) to the curve at every 5th element\n",
    "y[::5] += 3 * (0.5 - rng.rand(16))\n",
    "\n",
    "# plot the X and y to see our noisy data\n",
    "plt.scatter(X, y, s=20, edgecolor=\"black\",\n",
    "           c=\"darkorange\", label=\"data\");"
   ]
  },
  {
   "cell_type": "code",
   "execution_count": null,
   "id": "e1a1e1b1",
   "metadata": {},
   "outputs": [],
   "source": [
    "# Fit a decision tree with max_depth=2\n",
    "reg1 = DecisionTreeRegressor(max_depth=2)\n",
    "reg1.fit(X, y)"
   ]
  },
  {
   "cell_type": "code",
   "execution_count": null,
   "id": "a7bc6e05",
   "metadata": {},
   "outputs": [],
   "source": [
    "# Create a X_test data set\n",
    "X_test = np.arange(0.0, 5.0, 0.01)[:, np.newaxis]\n",
    "\n",
    "# Predict using decision tree regressor\n",
    "y_1 = reg1.predict(X_test)"
   ]
  },
  {
   "cell_type": "code",
   "execution_count": null,
   "id": "f493b6f5",
   "metadata": {},
   "outputs": [],
   "source": [
    "# see what y_1 looks like\n",
    "y_1"
   ]
  },
  {
   "cell_type": "code",
   "execution_count": null,
   "id": "2aa6eeeb",
   "metadata": {},
   "outputs": [],
   "source": [
    "# plot the data and the max_depth=2\n",
    "# plot the X and y to see our noisy data\n",
    "plt.scatter(X, y, s=20, edgecolor=\"black\",\n",
    "           c=\"darkorange\", label=\"data\")\n",
    "plt.plot(X_test, y_1, color=\"cornflowerblue\",\n",
    "        label=\"max_depth=2\", linewidth=2);"
   ]
  },
  {
   "cell_type": "markdown",
   "id": "e5b09c8e",
   "metadata": {},
   "source": [
    "## Try Depth of 6\n",
    "\n",
    "This should give us a more flexible predictor."
   ]
  },
  {
   "cell_type": "code",
   "execution_count": null,
   "id": "777e2434",
   "metadata": {},
   "outputs": [],
   "source": [
    "# Let's try a new decision tree with max_depth=6\n",
    "reg2 = DecisionTreeRegressor(max_depth=6)\n",
    "reg2.fit(X, y)\n",
    "\n",
    "# Make predictions with this new tree\n",
    "y_2 = reg2.predict(X_test)"
   ]
  },
  {
   "cell_type": "code",
   "execution_count": null,
   "id": "90aa2cde",
   "metadata": {},
   "outputs": [],
   "source": [
    "# plot the data and the max_depth=2 decision tree and the max_depth=6 tree\n",
    "plt.scatter(X, y, s=20, edgecolor=\"black\",\n",
    "           c=\"darkorange\", label=\"data\")\n",
    "plt.plot(X_test, y_1, color=\"cornflowerblue\",\n",
    "        label=\"max_depth=2\", linewidth=2)\n",
    "plt.plot(X_test, y_2, color=\"yellowgreen\",\n",
    "        label=\"max_depth=6\", linewidth=2)\n",
    "plt.xlabel(\"data\")\n",
    "plt.ylabel(\"target\")\n",
    "plt.title(\"Decision Tree Regression\")\n",
    "plt.legend();"
   ]
  },
  {
   "cell_type": "markdown",
   "id": "18db6ebc",
   "metadata": {},
   "source": [
    "## Try the Full Tree\n",
    "\n",
    "Simply do not use the argument `max_depth` to build the full tree."
   ]
  },
  {
   "cell_type": "code",
   "execution_count": null,
   "id": "1bd5ce9c",
   "metadata": {},
   "outputs": [],
   "source": [
    "# What if we let it build the full tree\n",
    "reg3 = DecisionTreeRegressor()\n",
    "reg3.fit(X, y)\n",
    "\n",
    "# predict using the full tree\n",
    "y_3 = reg3.predict(X_test)"
   ]
  },
  {
   "cell_type": "code",
   "execution_count": null,
   "id": "35bdcc9d",
   "metadata": {},
   "outputs": [],
   "source": [
    "# plot the data and the max_depth=2 decision tree and the max_depth=6 tree\n",
    "plt.scatter(X, y, s=20, edgecolor=\"black\",\n",
    "           c=\"darkorange\", label=\"data\")\n",
    "plt.plot(X_test, y_1, color=\"cornflowerblue\",\n",
    "        label=\"max_depth=2\", linewidth=2)\n",
    "plt.plot(X_test, y_2, color=\"yellowgreen\",\n",
    "        label=\"max_depth=6\", linewidth=2)\n",
    "plt.plot(X_test, y_3, color=\"red\",\n",
    "        label=\"full tree\", linewidth=2)\n",
    "plt.xlabel(\"data\")\n",
    "plt.ylabel(\"target\")\n",
    "plt.title(\"Decision Tree Regression\")\n",
    "plt.legend();"
   ]
  },
  {
   "cell_type": "code",
   "execution_count": null,
   "id": "177f7df0",
   "metadata": {},
   "outputs": [],
   "source": [
    "# what does the resulting tree look like?\n",
    "from sklearn.tree import export_text\n",
    "print(export_text(reg3))"
   ]
  },
  {
   "cell_type": "code",
   "execution_count": null,
   "id": "45b63d4f",
   "metadata": {},
   "outputs": [],
   "source": [
    "from sklearn.tree import plot_tree\n",
    "fig = plt.figure(figsize=(15,15))\n",
    "plot_tree(reg3, filled=True);"
   ]
  },
  {
   "cell_type": "markdown",
   "id": "935cdc3f",
   "metadata": {},
   "source": [
    "## Pruning\n",
    "\n",
    "Instead of explicitly setting the `max_depth`, you can try pruning with the `ccp_alpha` argument."
   ]
  },
  {
   "cell_type": "code",
   "execution_count": null,
   "id": "f8923310",
   "metadata": {},
   "outputs": [],
   "source": [
    "# How about pruning?\n",
    "# ccp_alpha=0.1 looks like?\n",
    "reg4 = DecisionTreeRegressor(ccp_alpha=0.1)\n",
    "reg4.fit(X, y)\n",
    "\n",
    "# Predict for this tree\n",
    "y_4 = reg4.predict(X_test)"
   ]
  },
  {
   "cell_type": "code",
   "execution_count": null,
   "id": "fdef965c",
   "metadata": {},
   "outputs": [],
   "source": [
    "# plot the data and the max_depth=2 decision tree and the max_depth=6 tree\n",
    "plt.scatter(X, y, s=20, edgecolor=\"black\",\n",
    "           c=\"darkorange\", label=\"data\")\n",
    "\n",
    "plt.plot(X_test, y_3, color=\"red\",\n",
    "        label=\"full tree\", linewidth=2)\n",
    "plt.plot(X_test, y_4, color=\"purple\",\n",
    "        label=\"pruned tree\", linewidth=2)\n",
    "plt.xlabel(\"data\")\n",
    "plt.ylabel(\"target\")\n",
    "plt.title(\"Decision Tree Regression\")\n",
    "plt.legend();"
   ]
  },
  {
   "cell_type": "code",
   "execution_count": null,
   "id": "c9f90751",
   "metadata": {},
   "outputs": [],
   "source": [
    "fig = plt.figure(figsize=(15,15))\n",
    "plot_tree(reg4, filled=True);"
   ]
  },
  {
   "cell_type": "markdown",
   "id": "b781dbf8",
   "metadata": {},
   "source": [
    "### Try a Different Value for `ccp_alpha`\n",
    "\n"
   ]
  },
  {
   "cell_type": "code",
   "execution_count": null,
   "id": "03e4bf64",
   "metadata": {},
   "outputs": [],
   "source": []
  }
 ],
 "metadata": {
  "kernelspec": {
   "display_name": "Python 3 (ipykernel)",
   "language": "python",
   "name": "python3"
  },
  "language_info": {
   "codemirror_mode": {
    "name": "ipython",
    "version": 3
   },
   "file_extension": ".py",
   "mimetype": "text/x-python",
   "name": "python",
   "nbconvert_exporter": "python",
   "pygments_lexer": "ipython3",
   "version": "3.8.8"
  }
 },
 "nbformat": 4,
 "nbformat_minor": 5
}
