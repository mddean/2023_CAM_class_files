{
 "cells": [
  {
   "cell_type": "markdown",
   "id": "be54875a",
   "metadata": {},
   "source": [
    "# Classification\n",
    "\n",
    "When we are trying to predict if something will happen or not, we have entered the realm of **classification**. In this example, we are going to look at only two possible outcome classes from our customer dataset we have been using: \"big spender\" or \"not big spender\". The data is the file `./data/customers_clean.csv`."
   ]
  },
  {
   "cell_type": "code",
   "execution_count": 1,
   "id": "1fb65523",
   "metadata": {
    "tags": []
   },
   "outputs": [],
   "source": [
    "# Import our most-used packages\n",
    "import numpy as np\n",
    "import matplotlib.pyplot as plt\n",
    "import pandas as pd\n",
    "import seaborn as sns\n",
    "\n",
    "from sklearn.model_selection import train_test_split\n",
    "\n",
    "# We'll use a DummyClassifier for fun\n",
    "from sklearn.dummy import DummyClassifier\n",
    "\n",
    "# Logistic Regression modules\n",
    "import statsmodels.formula.api as smf\n",
    "from sklearn.linear_model import LogisticRegression\n",
    "\n",
    "# Need to measure \"goodness\"\n",
    "# Need to measure \"goodness\"\n",
    "from sklearn.metrics import confusion_matrix, classification_report\n",
    "from sklearn.metrics import accuracy_score, recall_score, average_precision_score\n",
    "from sklearn.metrics import f1_score, fbeta_score\n",
    "from sklearn.metrics import roc_auc_score, precision_recall_curve\n",
    "from sklearn.metrics import precision_recall_fscore_support\n",
    "from sklearn.metrics import ConfusionMatrixDisplay, PrecisionRecallDisplay, RocCurveDisplay\n",
    "\n",
    "# Scaling\n",
    "from sklearn.preprocessing import StandardScaler"
   ]
  },
  {
   "cell_type": "code",
   "execution_count": 2,
   "id": "292f6495",
   "metadata": {
    "tags": []
   },
   "outputs": [
    {
     "name": "stdout",
     "output_type": "stream",
     "text": [
      "(12266, 11)\n"
     ]
    }
   ],
   "source": [
    "# Read in the data and print out its shape\n",
    "cust = pd.read_csv('./data/customers_clean.csv')\n",
    "print(cust.shape)"
   ]
  },
  {
   "cell_type": "code",
   "execution_count": 3,
   "id": "3b989007",
   "metadata": {
    "tags": []
   },
   "outputs": [
    {
     "data": {
      "text/html": [
       "<div><div id=6f76514a-a156-49f3-ba79-294466196a24 style=\"display:none; background-color:#9D6CFF; color:white; width:200px; height:30px; padding-left:5px; border-radius:4px; flex-direction:row; justify-content:space-around; align-items:center;\" onmouseover=\"this.style.backgroundColor='#BA9BF8'\" onmouseout=\"this.style.backgroundColor='#9D6CFF'\" onclick=\"window.commands?.execute('create-mitosheet-from-dataframe-output');\">See Full Dataframe in Mito</div> <script> if (window.commands.hasCommand('create-mitosheet-from-dataframe-output')) document.getElementById('6f76514a-a156-49f3-ba79-294466196a24').style.display = 'flex' </script> <table border=\"1\" class=\"dataframe\">\n",
       "  <thead>\n",
       "    <tr style=\"text-align: right;\">\n",
       "      <th></th>\n",
       "      <th>age</th>\n",
       "      <th>household_income</th>\n",
       "      <th>num_children</th>\n",
       "      <th>num_vehicles</th>\n",
       "      <th>spend</th>\n",
       "    </tr>\n",
       "  </thead>\n",
       "  <tbody>\n",
       "    <tr>\n",
       "      <th>count</th>\n",
       "      <td>12266.000000</td>\n",
       "      <td>12266.000000</td>\n",
       "      <td>12266.000000</td>\n",
       "      <td>12266.000000</td>\n",
       "      <td>12266.000000</td>\n",
       "    </tr>\n",
       "    <tr>\n",
       "      <th>mean</th>\n",
       "      <td>37.864096</td>\n",
       "      <td>301670.381135</td>\n",
       "      <td>2.505544</td>\n",
       "      <td>2.503913</td>\n",
       "      <td>4531.936736</td>\n",
       "    </tr>\n",
       "    <tr>\n",
       "      <th>std</th>\n",
       "      <td>10.663234</td>\n",
       "      <td>115752.377718</td>\n",
       "      <td>1.707281</td>\n",
       "      <td>1.697419</td>\n",
       "      <td>1597.594658</td>\n",
       "    </tr>\n",
       "    <tr>\n",
       "      <th>min</th>\n",
       "      <td>20.000000</td>\n",
       "      <td>65003.000000</td>\n",
       "      <td>0.000000</td>\n",
       "      <td>0.000000</td>\n",
       "      <td>1468.000000</td>\n",
       "    </tr>\n",
       "    <tr>\n",
       "      <th>25%</th>\n",
       "      <td>29.000000</td>\n",
       "      <td>217028.250000</td>\n",
       "      <td>1.000000</td>\n",
       "      <td>1.000000</td>\n",
       "      <td>3237.000000</td>\n",
       "    </tr>\n",
       "    <tr>\n",
       "      <th>50%</th>\n",
       "      <td>38.000000</td>\n",
       "      <td>307364.500000</td>\n",
       "      <td>3.000000</td>\n",
       "      <td>3.000000</td>\n",
       "      <td>4766.000000</td>\n",
       "    </tr>\n",
       "    <tr>\n",
       "      <th>75%</th>\n",
       "      <td>47.000000</td>\n",
       "      <td>399456.250000</td>\n",
       "      <td>4.000000</td>\n",
       "      <td>4.000000</td>\n",
       "      <td>5723.000000</td>\n",
       "    </tr>\n",
       "    <tr>\n",
       "      <th>max</th>\n",
       "      <td>56.000000</td>\n",
       "      <td>489982.000000</td>\n",
       "      <td>5.000000</td>\n",
       "      <td>5.000000</td>\n",
       "      <td>7500.000000</td>\n",
       "    </tr>\n",
       "  </tbody>\n",
       "</table></div>"
      ],
      "text/plain": [
       "                age  household_income  num_children  num_vehicles   \n",
       "count  12266.000000      12266.000000  12266.000000  12266.000000  \\\n",
       "mean      37.864096     301670.381135      2.505544      2.503913   \n",
       "std       10.663234     115752.377718      1.707281      1.697419   \n",
       "min       20.000000      65003.000000      0.000000      0.000000   \n",
       "25%       29.000000     217028.250000      1.000000      1.000000   \n",
       "50%       38.000000     307364.500000      3.000000      3.000000   \n",
       "75%       47.000000     399456.250000      4.000000      4.000000   \n",
       "max       56.000000     489982.000000      5.000000      5.000000   \n",
       "\n",
       "              spend  \n",
       "count  12266.000000  \n",
       "mean    4531.936736  \n",
       "std     1597.594658  \n",
       "min     1468.000000  \n",
       "25%     3237.000000  \n",
       "50%     4766.000000  \n",
       "75%     5723.000000  \n",
       "max     7500.000000  "
      ]
     },
     "execution_count": 3,
     "metadata": {},
     "output_type": "execute_result"
    }
   ],
   "source": [
    "# See summary statistics\n",
    "cust.describe()"
   ]
  },
  {
   "cell_type": "code",
   "execution_count": 4,
   "id": "b8cb650d",
   "metadata": {
    "tags": []
   },
   "outputs": [
    {
     "name": "stdout",
     "output_type": "stream",
     "text": [
      "<class 'pandas.core.frame.DataFrame'>\n",
      "RangeIndex: 12266 entries, 0 to 12265\n",
      "Data columns (total 8 columns):\n",
      " #   Column            Non-Null Count  Dtype \n",
      "---  ------            --------------  ----- \n",
      " 0   gender            12266 non-null  object\n",
      " 1   age               12266 non-null  int64 \n",
      " 2   marital_status    12266 non-null  object\n",
      " 3   household_income  12266 non-null  int64 \n",
      " 4   home_ownership    12266 non-null  object\n",
      " 5   num_children      12266 non-null  int64 \n",
      " 6   num_vehicles      12266 non-null  int64 \n",
      " 7   spend             12266 non-null  int64 \n",
      "dtypes: int64(5), object(3)\n",
      "memory usage: 766.8+ KB\n"
     ]
    }
   ],
   "source": [
    "# Let's drop the following columns:\n",
    "# cust_id, join_date, last_purchase_date\n",
    "new_cust = cust.drop(columns=['cust_id','join_date','last_purchase_date'])\n",
    "new_cust.info()"
   ]
  },
  {
   "cell_type": "code",
   "execution_count": 5,
   "id": "3c416fa8",
   "metadata": {
    "tags": []
   },
   "outputs": [
    {
     "name": "stdout",
     "output_type": "stream",
     "text": [
      "<class 'pandas.core.frame.DataFrame'>\n",
      "RangeIndex: 12266 entries, 0 to 12265\n",
      "Data columns (total 9 columns):\n",
      " #   Column                    Non-Null Count  Dtype\n",
      "---  ------                    --------------  -----\n",
      " 0   age                       12266 non-null  int64\n",
      " 1   household_income          12266 non-null  int64\n",
      " 2   num_children              12266 non-null  int64\n",
      " 3   num_vehicles              12266 non-null  int64\n",
      " 4   spend                     12266 non-null  int64\n",
      " 5   gender_M                  12266 non-null  int64\n",
      " 6   marital_status_unmarried  12266 non-null  int64\n",
      " 7   home_ownership_rent       12266 non-null  int64\n",
      " 8   home_ownership_unknown    12266 non-null  int64\n",
      "dtypes: int64(9)\n",
      "memory usage: 862.6 KB\n"
     ]
    }
   ],
   "source": [
    "# Create dummies and save in new DataFrame\n",
    "data = pd.get_dummies(new_cust, dtype=int, drop_first=True)\n",
    "data.info()"
   ]
  },
  {
   "cell_type": "markdown",
   "id": "39d4e5c9",
   "metadata": {},
   "source": [
    "## Create \"big spender\"\n",
    "\n",
    "We want to convert the $y$ variable, `spend`, into a binary variable where 1 represents a big spender and a 0 otherwise. We can set the cutoff anywhere we want. Looking at the summary statistics from above, let's use \\$5,700 as the cutoff. We can use the function `pd.cut()`."
   ]
  },
  {
   "cell_type": "code",
   "execution_count": 6,
   "id": "927673f7",
   "metadata": {
    "tags": []
   },
   "outputs": [
    {
     "data": {
      "text/plain": [
       "spend\n",
       "(4700, 10000]    6320\n",
       "(0, 4700]        5946\n",
       "Name: count, dtype: int64"
      ]
     },
     "execution_count": 6,
     "metadata": {},
     "output_type": "execute_result"
    }
   ],
   "source": [
    "# Try it to see how many will be \"big spenders\"\n",
    "pd.cut(data.spend, bins=[0,4700,10000], right=True).value_counts()"
   ]
  },
  {
   "cell_type": "code",
   "execution_count": 7,
   "id": "caecd154",
   "metadata": {
    "tags": []
   },
   "outputs": [
    {
     "name": "stdout",
     "output_type": "stream",
     "text": [
      "<class 'pandas.core.frame.DataFrame'>\n",
      "RangeIndex: 12266 entries, 0 to 12265\n",
      "Data columns (total 10 columns):\n",
      " #   Column                    Non-Null Count  Dtype\n",
      "---  ------                    --------------  -----\n",
      " 0   age                       12266 non-null  int64\n",
      " 1   household_income          12266 non-null  int64\n",
      " 2   num_children              12266 non-null  int64\n",
      " 3   num_vehicles              12266 non-null  int64\n",
      " 4   spend                     12266 non-null  int64\n",
      " 5   gender_M                  12266 non-null  int64\n",
      " 6   marital_status_unmarried  12266 non-null  int64\n",
      " 7   home_ownership_rent       12266 non-null  int64\n",
      " 8   home_ownership_unknown    12266 non-null  int64\n",
      " 9   big_spender               12266 non-null  int64\n",
      "dtypes: int64(10)\n",
      "memory usage: 958.4 KB\n"
     ]
    }
   ],
   "source": [
    "data['big_spender'] = pd.cut(data.spend, bins=[0,4700,10000], right=True, labels=[0,1]).astype(int)\n",
    "data.info()"
   ]
  },
  {
   "cell_type": "code",
   "execution_count": 8,
   "id": "bcbd08b8",
   "metadata": {
    "tags": []
   },
   "outputs": [
    {
     "data": {
      "text/html": [
       "<div><div id=e36cfff6-a9bf-4815-99c4-63ceffae1c06 style=\"display:none; background-color:#9D6CFF; color:white; width:200px; height:30px; padding-left:5px; border-radius:4px; flex-direction:row; justify-content:space-around; align-items:center;\" onmouseover=\"this.style.backgroundColor='#BA9BF8'\" onmouseout=\"this.style.backgroundColor='#9D6CFF'\" onclick=\"window.commands?.execute('create-mitosheet-from-dataframe-output');\">See Full Dataframe in Mito</div> <script> if (window.commands.hasCommand('create-mitosheet-from-dataframe-output')) document.getElementById('e36cfff6-a9bf-4815-99c4-63ceffae1c06').style.display = 'flex' </script> <table border=\"1\" class=\"dataframe\">\n",
       "  <thead>\n",
       "    <tr style=\"text-align: right;\">\n",
       "      <th></th>\n",
       "      <th>age</th>\n",
       "      <th>household_income</th>\n",
       "      <th>num_children</th>\n",
       "      <th>num_vehicles</th>\n",
       "      <th>spend</th>\n",
       "      <th>gender_M</th>\n",
       "      <th>marital_status_unmarried</th>\n",
       "      <th>home_ownership_rent</th>\n",
       "      <th>home_ownership_unknown</th>\n",
       "      <th>big_spender</th>\n",
       "    </tr>\n",
       "  </thead>\n",
       "  <tbody>\n",
       "    <tr>\n",
       "      <th>count</th>\n",
       "      <td>12266.000000</td>\n",
       "      <td>12266.000000</td>\n",
       "      <td>12266.000000</td>\n",
       "      <td>12266.000000</td>\n",
       "      <td>12266.000000</td>\n",
       "      <td>12266.000000</td>\n",
       "      <td>12266.000000</td>\n",
       "      <td>12266.000000</td>\n",
       "      <td>12266.000000</td>\n",
       "      <td>12266.000000</td>\n",
       "    </tr>\n",
       "    <tr>\n",
       "      <th>mean</th>\n",
       "      <td>37.864096</td>\n",
       "      <td>301670.381135</td>\n",
       "      <td>2.505544</td>\n",
       "      <td>2.503913</td>\n",
       "      <td>4531.936736</td>\n",
       "      <td>0.315669</td>\n",
       "      <td>0.251834</td>\n",
       "      <td>0.252323</td>\n",
       "      <td>0.101582</td>\n",
       "      <td>0.515245</td>\n",
       "    </tr>\n",
       "    <tr>\n",
       "      <th>std</th>\n",
       "      <td>10.663234</td>\n",
       "      <td>115752.377718</td>\n",
       "      <td>1.707281</td>\n",
       "      <td>1.697419</td>\n",
       "      <td>1597.594658</td>\n",
       "      <td>0.464801</td>\n",
       "      <td>0.434084</td>\n",
       "      <td>0.434364</td>\n",
       "      <td>0.302110</td>\n",
       "      <td>0.499788</td>\n",
       "    </tr>\n",
       "    <tr>\n",
       "      <th>min</th>\n",
       "      <td>20.000000</td>\n",
       "      <td>65003.000000</td>\n",
       "      <td>0.000000</td>\n",
       "      <td>0.000000</td>\n",
       "      <td>1468.000000</td>\n",
       "      <td>0.000000</td>\n",
       "      <td>0.000000</td>\n",
       "      <td>0.000000</td>\n",
       "      <td>0.000000</td>\n",
       "      <td>0.000000</td>\n",
       "    </tr>\n",
       "    <tr>\n",
       "      <th>25%</th>\n",
       "      <td>29.000000</td>\n",
       "      <td>217028.250000</td>\n",
       "      <td>1.000000</td>\n",
       "      <td>1.000000</td>\n",
       "      <td>3237.000000</td>\n",
       "      <td>0.000000</td>\n",
       "      <td>0.000000</td>\n",
       "      <td>0.000000</td>\n",
       "      <td>0.000000</td>\n",
       "      <td>0.000000</td>\n",
       "    </tr>\n",
       "    <tr>\n",
       "      <th>50%</th>\n",
       "      <td>38.000000</td>\n",
       "      <td>307364.500000</td>\n",
       "      <td>3.000000</td>\n",
       "      <td>3.000000</td>\n",
       "      <td>4766.000000</td>\n",
       "      <td>0.000000</td>\n",
       "      <td>0.000000</td>\n",
       "      <td>0.000000</td>\n",
       "      <td>0.000000</td>\n",
       "      <td>1.000000</td>\n",
       "    </tr>\n",
       "    <tr>\n",
       "      <th>75%</th>\n",
       "      <td>47.000000</td>\n",
       "      <td>399456.250000</td>\n",
       "      <td>4.000000</td>\n",
       "      <td>4.000000</td>\n",
       "      <td>5723.000000</td>\n",
       "      <td>1.000000</td>\n",
       "      <td>1.000000</td>\n",
       "      <td>1.000000</td>\n",
       "      <td>0.000000</td>\n",
       "      <td>1.000000</td>\n",
       "    </tr>\n",
       "    <tr>\n",
       "      <th>max</th>\n",
       "      <td>56.000000</td>\n",
       "      <td>489982.000000</td>\n",
       "      <td>5.000000</td>\n",
       "      <td>5.000000</td>\n",
       "      <td>7500.000000</td>\n",
       "      <td>1.000000</td>\n",
       "      <td>1.000000</td>\n",
       "      <td>1.000000</td>\n",
       "      <td>1.000000</td>\n",
       "      <td>1.000000</td>\n",
       "    </tr>\n",
       "  </tbody>\n",
       "</table></div>"
      ],
      "text/plain": [
       "                age  household_income  num_children  num_vehicles   \n",
       "count  12266.000000      12266.000000  12266.000000  12266.000000  \\\n",
       "mean      37.864096     301670.381135      2.505544      2.503913   \n",
       "std       10.663234     115752.377718      1.707281      1.697419   \n",
       "min       20.000000      65003.000000      0.000000      0.000000   \n",
       "25%       29.000000     217028.250000      1.000000      1.000000   \n",
       "50%       38.000000     307364.500000      3.000000      3.000000   \n",
       "75%       47.000000     399456.250000      4.000000      4.000000   \n",
       "max       56.000000     489982.000000      5.000000      5.000000   \n",
       "\n",
       "              spend      gender_M  marital_status_unmarried   \n",
       "count  12266.000000  12266.000000              12266.000000  \\\n",
       "mean    4531.936736      0.315669                  0.251834   \n",
       "std     1597.594658      0.464801                  0.434084   \n",
       "min     1468.000000      0.000000                  0.000000   \n",
       "25%     3237.000000      0.000000                  0.000000   \n",
       "50%     4766.000000      0.000000                  0.000000   \n",
       "75%     5723.000000      1.000000                  1.000000   \n",
       "max     7500.000000      1.000000                  1.000000   \n",
       "\n",
       "       home_ownership_rent  home_ownership_unknown   big_spender  \n",
       "count         12266.000000            12266.000000  12266.000000  \n",
       "mean              0.252323                0.101582      0.515245  \n",
       "std               0.434364                0.302110      0.499788  \n",
       "min               0.000000                0.000000      0.000000  \n",
       "25%               0.000000                0.000000      0.000000  \n",
       "50%               0.000000                0.000000      1.000000  \n",
       "75%               1.000000                0.000000      1.000000  \n",
       "max               1.000000                1.000000      1.000000  "
      ]
     },
     "execution_count": 8,
     "metadata": {},
     "output_type": "execute_result"
    }
   ],
   "source": [
    "# See summary statistics\n",
    "data.describe()"
   ]
  },
  {
   "cell_type": "code",
   "execution_count": 9,
   "id": "7eaae769",
   "metadata": {
    "tags": []
   },
   "outputs": [
    {
     "data": {
      "text/plain": [
       "<Axes: xlabel='household_income', ylabel='big_spender'>"
      ]
     },
     "execution_count": 9,
     "metadata": {},
     "output_type": "execute_result"
    },
    {
     "data": {
      "image/png": "[encoded data removed]",
      "text/plain": [
       "<Figure size 640x480 with 1 Axes>"
      ]
     },
     "metadata": {},
     "output_type": "display_data"
    }
   ],
   "source": [
    "# Let's try something crazy ... let's fit an OLS model to the data\n",
    "# Plot it to see what it looks like\n",
    "#\n",
    "# Plot household_income on x-axis and big_spender on the y-axis, add regression line\n",
    "sns.regplot(x='household_income', y='big_spender', data=data, ci=None)"
   ]
  },
  {
   "cell_type": "code",
   "execution_count": 10,
   "id": "34fef913",
   "metadata": {
    "tags": []
   },
   "outputs": [
    {
     "name": "stdout",
     "output_type": "stream",
     "text": [
      "Optimization terminated successfully.\n",
      "         Current function value: 0.560858\n",
      "         Iterations 6\n"
     ]
    },
    {
     "data": {
      "text/html": [
       "<table class=\"simpletable\">\n",
       "<caption>Logit Regression Results</caption>\n",
       "<tr>\n",
       "  <th>Dep. Variable:</th>      <td>big_spender</td>   <th>  No. Observations:  </th>  <td> 12266</td> \n",
       "</tr>\n",
       "<tr>\n",
       "  <th>Model:</th>                 <td>Logit</td>      <th>  Df Residuals:      </th>  <td> 12264</td> \n",
       "</tr>\n",
       "<tr>\n",
       "  <th>Method:</th>                 <td>MLE</td>       <th>  Df Model:          </th>  <td>     1</td> \n",
       "</tr>\n",
       "<tr>\n",
       "  <th>Date:</th>            <td>Tue, 26 Sep 2023</td> <th>  Pseudo R-squ.:     </th>  <td>0.1903</td> \n",
       "</tr>\n",
       "<tr>\n",
       "  <th>Time:</th>                <td>19:49:10</td>     <th>  Log-Likelihood:    </th> <td> -6879.5</td>\n",
       "</tr>\n",
       "<tr>\n",
       "  <th>converged:</th>             <td>True</td>       <th>  LL-Null:           </th> <td> -8496.4</td>\n",
       "</tr>\n",
       "<tr>\n",
       "  <th>Covariance Type:</th>     <td>nonrobust</td>    <th>  LLR p-value:       </th>  <td> 0.000</td> \n",
       "</tr>\n",
       "</table>\n",
       "<table class=\"simpletable\">\n",
       "<tr>\n",
       "          <td></td>            <th>coef</th>     <th>std err</th>      <th>z</th>      <th>P>|z|</th>  <th>[0.025</th>    <th>0.975]</th>  \n",
       "</tr>\n",
       "<tr>\n",
       "  <th>Intercept</th>        <td>   -3.0499</td> <td>    0.067</td> <td>  -45.566</td> <td> 0.000</td> <td>   -3.181</td> <td>   -2.919</td>\n",
       "</tr>\n",
       "<tr>\n",
       "  <th>household_income</th> <td>  1.03e-05</td> <td>  2.1e-07</td> <td>   49.147</td> <td> 0.000</td> <td> 9.89e-06</td> <td> 1.07e-05</td>\n",
       "</tr>\n",
       "</table>"
      ],
      "text/plain": [
       "<class 'statsmodels.iolib.summary.Summary'>\n",
       "\"\"\"\n",
       "                           Logit Regression Results                           \n",
       "==============================================================================\n",
       "Dep. Variable:            big_spender   No. Observations:                12266\n",
       "Model:                          Logit   Df Residuals:                    12264\n",
       "Method:                           MLE   Df Model:                            1\n",
       "Date:                Tue, 26 Sep 2023   Pseudo R-squ.:                  0.1903\n",
       "Time:                        19:49:10   Log-Likelihood:                -6879.5\n",
       "converged:                       True   LL-Null:                       -8496.4\n",
       "Covariance Type:            nonrobust   LLR p-value:                     0.000\n",
       "====================================================================================\n",
       "                       coef    std err          z      P>|z|      [0.025      0.975]\n",
       "------------------------------------------------------------------------------------\n",
       "Intercept           -3.0499      0.067    -45.566      0.000      -3.181      -2.919\n",
       "household_income   1.03e-05    2.1e-07     49.147      0.000    9.89e-06    1.07e-05\n",
       "====================================================================================\n",
       "\"\"\""
      ]
     },
     "execution_count": 10,
     "metadata": {},
     "output_type": "execute_result"
    }
   ],
   "source": [
    "# Visually we saw issues with the OLS fitted line\n",
    "# This is why we use logistic regression\n",
    "# There is a logit() function statsmodels.formula.api\n",
    "logitResults = smf.logit('big_spender ~ household_income', data=data).fit()\n",
    "logitResults.summary()"
   ]
  },
  {
   "cell_type": "code",
   "execution_count": 11,
   "id": "fdabf248",
   "metadata": {
    "tags": []
   },
   "outputs": [
    {
     "data": {
      "text/plain": [
       "<seaborn.axisgrid.FacetGrid at 0x7f2a93e0c7f0>"
      ]
     },
     "execution_count": 11,
     "metadata": {},
     "output_type": "execute_result"
    },
    {
     "data": {
      "image/png": "[encoded data removed]",
      "text/plain": [
       "<Figure size 500x500 with 1 Axes>"
      ]
     },
     "metadata": {},
     "output_type": "display_data"
    }
   ],
   "source": [
    "# Output at top different than OLS\n",
    "# Coefficients table useful for p-values and for predictions\n",
    "# Let's plot the logistic regression model\n",
    "# Turn OFF the confidence interval, otherwise it take time to run\n",
    "sns.lmplot(x='household_income', y='big_spender', data=data,\n",
    "          logistic=True, ci=None)"
   ]
  },
  {
   "cell_type": "markdown",
   "id": "ab7bcd26",
   "metadata": {},
   "source": [
    "## Split Data into Training and Test Sets\n",
    "\n",
    "Need to first define `X` and `y`. Then we can try train/test split."
   ]
  },
  {
   "cell_type": "code",
   "execution_count": 12,
   "id": "bcf16895",
   "metadata": {
    "tags": []
   },
   "outputs": [],
   "source": [
    "# define the output variable, y\n",
    "y = data.big_spender\n",
    "\n",
    "# define the X\n",
    "X = data.drop(columns=['spend', 'big_spender', 'age', 'num_children', 'num_vehicles'])"
   ]
  },
  {
   "cell_type": "code",
   "execution_count": 13,
   "id": "208df273",
   "metadata": {
    "tags": []
   },
   "outputs": [],
   "source": [
    "# Time to split the data into training and test sets\n",
    "X_train, X_test, y_train, y_test = train_test_split(X, y,\n",
    "                                                   test_size=0.2,\n",
    "                                                   random_state=163)"
   ]
  },
  {
   "cell_type": "code",
   "execution_count": 14,
   "id": "edc3b2d4",
   "metadata": {
    "tags": []
   },
   "outputs": [
    {
     "name": "stdout",
     "output_type": "stream",
     "text": [
      "Training percentage of big spenders is 50.87%\n",
      "Testing percentage of big spenders is  54.16%\n"
     ]
    }
   ],
   "source": [
    "# What is the percentage of big spenders in both training and test?\n",
    "print(f'Training percentage of big spenders is {y_train.mean():.2%}')\n",
    "print(f'Testing percentage of big spenders is  {y_test.mean():.2%}')"
   ]
  },
  {
   "cell_type": "markdown",
   "id": "76179ef9-2ab8-4eea-8911-8c593832beb5",
   "metadata": {},
   "source": [
    "## Statification\n",
    "\n",
    "You can use stratification based on the `y` variable to get approximately the same number of big spenders in both the training set and the test set."
   ]
  },
  {
   "cell_type": "code",
   "execution_count": 15,
   "id": "cc1659b7",
   "metadata": {
    "tags": []
   },
   "outputs": [
    {
     "name": "stdout",
     "output_type": "stream",
     "text": [
      "Training percentage of big spenders is 51.53%\n",
      "Testing percentage of big spenders is  51.51%\n"
     ]
    }
   ],
   "source": [
    "# Time to split the data into training and test sets\n",
    "X_train2, X_test2, y_train2, y_test2 = train_test_split(X, y,\n",
    "                                                   test_size=0.2,\n",
    "                                                   random_state=163,\n",
    "                                                       stratify=y)\n",
    "\n",
    "# What is the percentage of big spenders in both training and test?\n",
    "print(f'Training percentage of big spenders is {y_train2.mean():.2%}')\n",
    "print(f'Testing percentage of big spenders is  {y_test2.mean():.2%}')"
   ]
  },
  {
   "cell_type": "markdown",
   "id": "9fdb8f8f-040b-4090-a895-888e81fe4e14",
   "metadata": {},
   "source": [
    "**Not** going to use the stratified split."
   ]
  },
  {
   "cell_type": "code",
   "execution_count": 16,
   "id": "863e952d",
   "metadata": {
    "tags": []
   },
   "outputs": [
    {
     "data": {
      "text/html": [
       "<style>#sk-container-id-1 {color: black;background-color: white;}#sk-container-id-1 pre{padding: 0;}#sk-container-id-1 div.sk-toggleable {background-color: white;}#sk-container-id-1 label.sk-toggleable__label {cursor: pointer;display: block;width: 100%;margin-bottom: 0;padding: 0.3em;box-sizing: border-box;text-align: center;}#sk-container-id-1 label.sk-toggleable__label-arrow:before {content: \"▸\";float: left;margin-right: 0.25em;color: #696969;}#sk-container-id-1 label.sk-toggleable__label-arrow:hover:before {color: black;}#sk-container-id-1 div.sk-estimator:hover label.sk-toggleable__label-arrow:before {color: black;}#sk-container-id-1 div.sk-toggleable__content {max-height: 0;max-width: 0;overflow: hidden;text-align: left;background-color: #f0f8ff;}#sk-container-id-1 div.sk-toggleable__content pre {margin: 0.2em;color: black;border-radius: 0.25em;background-color: #f0f8ff;}#sk-container-id-1 input.sk-toggleable__control:checked~div.sk-toggleable__content {max-height: 200px;max-width: 100%;overflow: auto;}#sk-container-id-1 input.sk-toggleable__control:checked~label.sk-toggleable__label-arrow:before {content: \"▾\";}#sk-container-id-1 div.sk-estimator input.sk-toggleable__control:checked~label.sk-toggleable__label {background-color: #d4ebff;}#sk-container-id-1 div.sk-label input.sk-toggleable__control:checked~label.sk-toggleable__label {background-color: #d4ebff;}#sk-container-id-1 input.sk-hidden--visually {border: 0;clip: rect(1px 1px 1px 1px);clip: rect(1px, 1px, 1px, 1px);height: 1px;margin: -1px;overflow: hidden;padding: 0;position: absolute;width: 1px;}#sk-container-id-1 div.sk-estimator {font-family: monospace;background-color: #f0f8ff;border: 1px dotted black;border-radius: 0.25em;box-sizing: border-box;margin-bottom: 0.5em;}#sk-container-id-1 div.sk-estimator:hover {background-color: #d4ebff;}#sk-container-id-1 div.sk-parallel-item::after {content: \"\";width: 100%;border-bottom: 1px solid gray;flex-grow: 1;}#sk-container-id-1 div.sk-label:hover label.sk-toggleable__label {background-color: #d4ebff;}#sk-container-id-1 div.sk-serial::before {content: \"\";position: absolute;border-left: 1px solid gray;box-sizing: border-box;top: 0;bottom: 0;left: 50%;z-index: 0;}#sk-container-id-1 div.sk-serial {display: flex;flex-direction: column;align-items: center;background-color: white;padding-right: 0.2em;padding-left: 0.2em;position: relative;}#sk-container-id-1 div.sk-item {position: relative;z-index: 1;}#sk-container-id-1 div.sk-parallel {display: flex;align-items: stretch;justify-content: center;background-color: white;position: relative;}#sk-container-id-1 div.sk-item::before, #sk-container-id-1 div.sk-parallel-item::before {content: \"\";position: absolute;border-left: 1px solid gray;box-sizing: border-box;top: 0;bottom: 0;left: 50%;z-index: -1;}#sk-container-id-1 div.sk-parallel-item {display: flex;flex-direction: column;z-index: 1;position: relative;background-color: white;}#sk-container-id-1 div.sk-parallel-item:first-child::after {align-self: flex-end;width: 50%;}#sk-container-id-1 div.sk-parallel-item:last-child::after {align-self: flex-start;width: 50%;}#sk-container-id-1 div.sk-parallel-item:only-child::after {width: 0;}#sk-container-id-1 div.sk-dashed-wrapped {border: 1px dashed gray;margin: 0 0.4em 0.5em 0.4em;box-sizing: border-box;padding-bottom: 0.4em;background-color: white;}#sk-container-id-1 div.sk-label label {font-family: monospace;font-weight: bold;display: inline-block;line-height: 1.2em;}#sk-container-id-1 div.sk-label-container {text-align: center;}#sk-container-id-1 div.sk-container {/* jupyter's `normalize.less` sets `[hidden] { display: none; }` but bootstrap.min.css set `[hidden] { display: none !important; }` so we also need the `!important` here to be able to override the default hidden behavior on the sphinx rendered scikit-learn.org. See: https://github.com/scikit-learn/scikit-learn/issues/21755 */display: inline-block !important;position: relative;}#sk-container-id-1 div.sk-text-repr-fallback {display: none;}</style><div id=\"sk-container-id-1\" class=\"sk-top-container\"><div class=\"sk-text-repr-fallback\"><pre>StandardScaler()</pre><b>In a Jupyter environment, please rerun this cell to show the HTML representation or trust the notebook. <br />On GitHub, the HTML representation is unable to render, please try loading this page with nbviewer.org.</b></div><div class=\"sk-container\" hidden><div class=\"sk-item\"><div class=\"sk-estimator sk-toggleable\"><input class=\"sk-toggleable__control sk-hidden--visually\" id=\"sk-estimator-id-1\" type=\"checkbox\" checked><label for=\"sk-estimator-id-1\" class=\"sk-toggleable__label sk-toggleable__label-arrow\">StandardScaler</label><div class=\"sk-toggleable__content\"><pre>StandardScaler()</pre></div></div></div></div></div>"
      ],
      "text/plain": [
       "StandardScaler()"
      ]
     },
     "execution_count": 16,
     "metadata": {},
     "output_type": "execute_result"
    }
   ],
   "source": [
    "# Fit the scaler on just the training X variables\n",
    "# Let's start with StandardScaler which will center\n",
    "# each variable at 0 and give each a unit variance (=1)\n",
    "s_scaler = StandardScaler().fit(X_train)\n",
    "s_scaler"
   ]
  },
  {
   "cell_type": "code",
   "execution_count": 17,
   "id": "11e0aaeb",
   "metadata": {
    "tags": []
   },
   "outputs": [],
   "source": [
    "# Transform X_train and put in DataFrame\n",
    "X_train_ss = pd.DataFrame(s_scaler.transform(X_train), columns=X_train.columns)"
   ]
  },
  {
   "cell_type": "code",
   "execution_count": 18,
   "id": "43a86619",
   "metadata": {
    "tags": []
   },
   "outputs": [
    {
     "data": {
      "text/html": [
       "<div><div id=b0017e69-f789-4b9d-a439-0def9d62596a style=\"display:none; background-color:#9D6CFF; color:white; width:200px; height:30px; padding-left:5px; border-radius:4px; flex-direction:row; justify-content:space-around; align-items:center;\" onmouseover=\"this.style.backgroundColor='#BA9BF8'\" onmouseout=\"this.style.backgroundColor='#9D6CFF'\" onclick=\"window.commands?.execute('create-mitosheet-from-dataframe-output');\">See Full Dataframe in Mito</div> <script> if (window.commands.hasCommand('create-mitosheet-from-dataframe-output')) document.getElementById('b0017e69-f789-4b9d-a439-0def9d62596a').style.display = 'flex' </script> <table border=\"1\" class=\"dataframe\">\n",
       "  <thead>\n",
       "    <tr style=\"text-align: right;\">\n",
       "      <th></th>\n",
       "      <th>household_income</th>\n",
       "      <th>gender_M</th>\n",
       "      <th>marital_status_unmarried</th>\n",
       "      <th>home_ownership_rent</th>\n",
       "      <th>home_ownership_unknown</th>\n",
       "    </tr>\n",
       "  </thead>\n",
       "  <tbody>\n",
       "    <tr>\n",
       "      <th>count</th>\n",
       "      <td>9.812000e+03</td>\n",
       "      <td>9.812000e+03</td>\n",
       "      <td>9.812000e+03</td>\n",
       "      <td>9.812000e+03</td>\n",
       "      <td>9.812000e+03</td>\n",
       "    </tr>\n",
       "    <tr>\n",
       "      <th>mean</th>\n",
       "      <td>-1.578662e-16</td>\n",
       "      <td>-4.127694e-17</td>\n",
       "      <td>6.752763e-17</td>\n",
       "      <td>-5.630320e-17</td>\n",
       "      <td>-1.375898e-17</td>\n",
       "    </tr>\n",
       "    <tr>\n",
       "      <th>std</th>\n",
       "      <td>1.000051e+00</td>\n",
       "      <td>1.000051e+00</td>\n",
       "      <td>1.000051e+00</td>\n",
       "      <td>1.000051e+00</td>\n",
       "      <td>1.000051e+00</td>\n",
       "    </tr>\n",
       "    <tr>\n",
       "      <th>min</th>\n",
       "      <td>-2.053426e+00</td>\n",
       "      <td>-6.788013e-01</td>\n",
       "      <td>-5.795470e-01</td>\n",
       "      <td>-5.842546e-01</td>\n",
       "      <td>-3.310260e-01</td>\n",
       "    </tr>\n",
       "    <tr>\n",
       "      <th>25%</th>\n",
       "      <td>-7.266243e-01</td>\n",
       "      <td>-6.788013e-01</td>\n",
       "      <td>-5.795470e-01</td>\n",
       "      <td>-5.842546e-01</td>\n",
       "      <td>-3.310260e-01</td>\n",
       "    </tr>\n",
       "    <tr>\n",
       "      <th>50%</th>\n",
       "      <td>4.409943e-02</td>\n",
       "      <td>-6.788013e-01</td>\n",
       "      <td>-5.795470e-01</td>\n",
       "      <td>-5.842546e-01</td>\n",
       "      <td>-3.310260e-01</td>\n",
       "    </tr>\n",
       "    <tr>\n",
       "      <th>75%</th>\n",
       "      <td>8.439403e-01</td>\n",
       "      <td>1.473185e+00</td>\n",
       "      <td>1.725486e+00</td>\n",
       "      <td>1.711583e+00</td>\n",
       "      <td>-3.310260e-01</td>\n",
       "    </tr>\n",
       "    <tr>\n",
       "      <th>max</th>\n",
       "      <td>1.642012e+00</td>\n",
       "      <td>1.473185e+00</td>\n",
       "      <td>1.725486e+00</td>\n",
       "      <td>1.711583e+00</td>\n",
       "      <td>3.020911e+00</td>\n",
       "    </tr>\n",
       "  </tbody>\n",
       "</table></div>"
      ],
      "text/plain": [
       "       household_income      gender_M  marital_status_unmarried   \n",
       "count      9.812000e+03  9.812000e+03              9.812000e+03  \\\n",
       "mean      -1.578662e-16 -4.127694e-17              6.752763e-17   \n",
       "std        1.000051e+00  1.000051e+00              1.000051e+00   \n",
       "min       -2.053426e+00 -6.788013e-01             -5.795470e-01   \n",
       "25%       -7.266243e-01 -6.788013e-01             -5.795470e-01   \n",
       "50%        4.409943e-02 -6.788013e-01             -5.795470e-01   \n",
       "75%        8.439403e-01  1.473185e+00              1.725486e+00   \n",
       "max        1.642012e+00  1.473185e+00              1.725486e+00   \n",
       "\n",
       "       home_ownership_rent  home_ownership_unknown  \n",
       "count         9.812000e+03            9.812000e+03  \n",
       "mean         -5.630320e-17           -1.375898e-17  \n",
       "std           1.000051e+00            1.000051e+00  \n",
       "min          -5.842546e-01           -3.310260e-01  \n",
       "25%          -5.842546e-01           -3.310260e-01  \n",
       "50%          -5.842546e-01           -3.310260e-01  \n",
       "75%           1.711583e+00           -3.310260e-01  \n",
       "max           1.711583e+00            3.020911e+00  "
      ]
     },
     "execution_count": 18,
     "metadata": {},
     "output_type": "execute_result"
    }
   ],
   "source": [
    "# Take a look at the DataFrame\n",
    "X_train_ss.describe()"
   ]
  },
  {
   "cell_type": "code",
   "execution_count": null,
   "id": "333b2518",
   "metadata": {},
   "outputs": [],
   "source": []
  },
  {
   "cell_type": "code",
   "execution_count": 19,
   "id": "42966d2a",
   "metadata": {
    "tags": []
   },
   "outputs": [
    {
     "data": {
      "text/html": [
       "<div><div id=151677bf-2768-4297-a8b3-8927ae83d602 style=\"display:none; background-color:#9D6CFF; color:white; width:200px; height:30px; padding-left:5px; border-radius:4px; flex-direction:row; justify-content:space-around; align-items:center;\" onmouseover=\"this.style.backgroundColor='#BA9BF8'\" onmouseout=\"this.style.backgroundColor='#9D6CFF'\" onclick=\"window.commands?.execute('create-mitosheet-from-dataframe-output');\">See Full Dataframe in Mito</div> <script> if (window.commands.hasCommand('create-mitosheet-from-dataframe-output')) document.getElementById('151677bf-2768-4297-a8b3-8927ae83d602').style.display = 'flex' </script> <table border=\"1\" class=\"dataframe\">\n",
       "  <thead>\n",
       "    <tr style=\"text-align: right;\">\n",
       "      <th></th>\n",
       "      <th>household_income</th>\n",
       "      <th>gender_M</th>\n",
       "      <th>marital_status_unmarried</th>\n",
       "      <th>home_ownership_rent</th>\n",
       "      <th>home_ownership_unknown</th>\n",
       "    </tr>\n",
       "  </thead>\n",
       "  <tbody>\n",
       "    <tr>\n",
       "      <th>count</th>\n",
       "      <td>2454.000000</td>\n",
       "      <td>2454.000000</td>\n",
       "      <td>2454.000000</td>\n",
       "      <td>2454.000000</td>\n",
       "      <td>2454.000000</td>\n",
       "    </tr>\n",
       "    <tr>\n",
       "      <th>mean</th>\n",
       "      <td>0.022660</td>\n",
       "      <td>0.002573</td>\n",
       "      <td>0.004695</td>\n",
       "      <td>-0.024796</td>\n",
       "      <td>0.047330</td>\n",
       "    </tr>\n",
       "    <tr>\n",
       "      <th>std</th>\n",
       "      <td>1.032056</td>\n",
       "      <td>1.001222</td>\n",
       "      <td>1.002880</td>\n",
       "      <td>0.985813</td>\n",
       "      <td>1.060911</td>\n",
       "    </tr>\n",
       "    <tr>\n",
       "      <th>min</th>\n",
       "      <td>-2.051661</td>\n",
       "      <td>-0.678801</td>\n",
       "      <td>-0.579547</td>\n",
       "      <td>-0.584255</td>\n",
       "      <td>-0.331026</td>\n",
       "    </tr>\n",
       "    <tr>\n",
       "      <th>25%</th>\n",
       "      <td>-0.746133</td>\n",
       "      <td>-0.678801</td>\n",
       "      <td>-0.579547</td>\n",
       "      <td>-0.584255</td>\n",
       "      <td>-0.331026</td>\n",
       "    </tr>\n",
       "    <tr>\n",
       "      <th>50%</th>\n",
       "      <td>0.098260</td>\n",
       "      <td>-0.678801</td>\n",
       "      <td>-0.579547</td>\n",
       "      <td>-0.584255</td>\n",
       "      <td>-0.331026</td>\n",
       "    </tr>\n",
       "    <tr>\n",
       "      <th>75%</th>\n",
       "      <td>0.898707</td>\n",
       "      <td>1.473185</td>\n",
       "      <td>1.725486</td>\n",
       "      <td>-0.584255</td>\n",
       "      <td>-0.331026</td>\n",
       "    </tr>\n",
       "    <tr>\n",
       "      <th>max</th>\n",
       "      <td>1.641855</td>\n",
       "      <td>1.473185</td>\n",
       "      <td>1.725486</td>\n",
       "      <td>1.711583</td>\n",
       "      <td>3.020911</td>\n",
       "    </tr>\n",
       "  </tbody>\n",
       "</table></div>"
      ],
      "text/plain": [
       "       household_income     gender_M  marital_status_unmarried   \n",
       "count       2454.000000  2454.000000               2454.000000  \\\n",
       "mean           0.022660     0.002573                  0.004695   \n",
       "std            1.032056     1.001222                  1.002880   \n",
       "min           -2.051661    -0.678801                 -0.579547   \n",
       "25%           -0.746133    -0.678801                 -0.579547   \n",
       "50%            0.098260    -0.678801                 -0.579547   \n",
       "75%            0.898707     1.473185                  1.725486   \n",
       "max            1.641855     1.473185                  1.725486   \n",
       "\n",
       "       home_ownership_rent  home_ownership_unknown  \n",
       "count          2454.000000             2454.000000  \n",
       "mean             -0.024796                0.047330  \n",
       "std               0.985813                1.060911  \n",
       "min              -0.584255               -0.331026  \n",
       "25%              -0.584255               -0.331026  \n",
       "50%              -0.584255               -0.331026  \n",
       "75%              -0.584255               -0.331026  \n",
       "max               1.711583                3.020911  "
      ]
     },
     "execution_count": 19,
     "metadata": {},
     "output_type": "execute_result"
    }
   ],
   "source": [
    "# Transform X_test and put in DataFrame\n",
    "X_test_ss = pd.DataFrame(s_scaler.transform(X_test), columns=X_test.columns)\n",
    "X_test_ss.describe()"
   ]
  },
  {
   "cell_type": "code",
   "execution_count": null,
   "id": "1d5825a9",
   "metadata": {},
   "outputs": [],
   "source": []
  },
  {
   "cell_type": "markdown",
   "id": "7deb821f",
   "metadata": {},
   "source": [
    "# DummyClassifier\n",
    "\n",
    "Let's create a `DummyClassifier` where we will predict the most frequently occurring class, **not** a big spender. How good do you expect this model to be?"
   ]
  },
  {
   "cell_type": "code",
   "execution_count": 20,
   "id": "7580c5d8",
   "metadata": {},
   "outputs": [
    {
     "data": {
      "text/html": [
       "<style>#sk-container-id-2 {color: black;background-color: white;}#sk-container-id-2 pre{padding: 0;}#sk-container-id-2 div.sk-toggleable {background-color: white;}#sk-container-id-2 label.sk-toggleable__label {cursor: pointer;display: block;width: 100%;margin-bottom: 0;padding: 0.3em;box-sizing: border-box;text-align: center;}#sk-container-id-2 label.sk-toggleable__label-arrow:before {content: \"▸\";float: left;margin-right: 0.25em;color: #696969;}#sk-container-id-2 label.sk-toggleable__label-arrow:hover:before {color: black;}#sk-container-id-2 div.sk-estimator:hover label.sk-toggleable__label-arrow:before {color: black;}#sk-container-id-2 div.sk-toggleable__content {max-height: 0;max-width: 0;overflow: hidden;text-align: left;background-color: #f0f8ff;}#sk-container-id-2 div.sk-toggleable__content pre {margin: 0.2em;color: black;border-radius: 0.25em;background-color: #f0f8ff;}#sk-container-id-2 input.sk-toggleable__control:checked~div.sk-toggleable__content {max-height: 200px;max-width: 100%;overflow: auto;}#sk-container-id-2 input.sk-toggleable__control:checked~label.sk-toggleable__label-arrow:before {content: \"▾\";}#sk-container-id-2 div.sk-estimator input.sk-toggleable__control:checked~label.sk-toggleable__label {background-color: #d4ebff;}#sk-container-id-2 div.sk-label input.sk-toggleable__control:checked~label.sk-toggleable__label {background-color: #d4ebff;}#sk-container-id-2 input.sk-hidden--visually {border: 0;clip: rect(1px 1px 1px 1px);clip: rect(1px, 1px, 1px, 1px);height: 1px;margin: -1px;overflow: hidden;padding: 0;position: absolute;width: 1px;}#sk-container-id-2 div.sk-estimator {font-family: monospace;background-color: #f0f8ff;border: 1px dotted black;border-radius: 0.25em;box-sizing: border-box;margin-bottom: 0.5em;}#sk-container-id-2 div.sk-estimator:hover {background-color: #d4ebff;}#sk-container-id-2 div.sk-parallel-item::after {content: \"\";width: 100%;border-bottom: 1px solid gray;flex-grow: 1;}#sk-container-id-2 div.sk-label:hover label.sk-toggleable__label {background-color: #d4ebff;}#sk-container-id-2 div.sk-serial::before {content: \"\";position: absolute;border-left: 1px solid gray;box-sizing: border-box;top: 0;bottom: 0;left: 50%;z-index: 0;}#sk-container-id-2 div.sk-serial {display: flex;flex-direction: column;align-items: center;background-color: white;padding-right: 0.2em;padding-left: 0.2em;position: relative;}#sk-container-id-2 div.sk-item {position: relative;z-index: 1;}#sk-container-id-2 div.sk-parallel {display: flex;align-items: stretch;justify-content: center;background-color: white;position: relative;}#sk-container-id-2 div.sk-item::before, #sk-container-id-2 div.sk-parallel-item::before {content: \"\";position: absolute;border-left: 1px solid gray;box-sizing: border-box;top: 0;bottom: 0;left: 50%;z-index: -1;}#sk-container-id-2 div.sk-parallel-item {display: flex;flex-direction: column;z-index: 1;position: relative;background-color: white;}#sk-container-id-2 div.sk-parallel-item:first-child::after {align-self: flex-end;width: 50%;}#sk-container-id-2 div.sk-parallel-item:last-child::after {align-self: flex-start;width: 50%;}#sk-container-id-2 div.sk-parallel-item:only-child::after {width: 0;}#sk-container-id-2 div.sk-dashed-wrapped {border: 1px dashed gray;margin: 0 0.4em 0.5em 0.4em;box-sizing: border-box;padding-bottom: 0.4em;background-color: white;}#sk-container-id-2 div.sk-label label {font-family: monospace;font-weight: bold;display: inline-block;line-height: 1.2em;}#sk-container-id-2 div.sk-label-container {text-align: center;}#sk-container-id-2 div.sk-container {/* jupyter's `normalize.less` sets `[hidden] { display: none; }` but bootstrap.min.css set `[hidden] { display: none !important; }` so we also need the `!important` here to be able to override the default hidden behavior on the sphinx rendered scikit-learn.org. See: https://github.com/scikit-learn/scikit-learn/issues/21755 */display: inline-block !important;position: relative;}#sk-container-id-2 div.sk-text-repr-fallback {display: none;}</style><div id=\"sk-container-id-2\" class=\"sk-top-container\"><div class=\"sk-text-repr-fallback\"><pre>DummyClassifier(constant=0, strategy=&#x27;constant&#x27;)</pre><b>In a Jupyter environment, please rerun this cell to show the HTML representation or trust the notebook. <br />On GitHub, the HTML representation is unable to render, please try loading this page with nbviewer.org.</b></div><div class=\"sk-container\" hidden><div class=\"sk-item\"><div class=\"sk-estimator sk-toggleable\"><input class=\"sk-toggleable__control sk-hidden--visually\" id=\"sk-estimator-id-2\" type=\"checkbox\" checked><label for=\"sk-estimator-id-2\" class=\"sk-toggleable__label sk-toggleable__label-arrow\">DummyClassifier</label><div class=\"sk-toggleable__content\"><pre>DummyClassifier(constant=0, strategy=&#x27;constant&#x27;)</pre></div></div></div></div></div>"
      ],
      "text/plain": [
       "DummyClassifier(constant=0, strategy='constant')"
      ]
     },
     "execution_count": 20,
     "metadata": {},
     "output_type": "execute_result"
    }
   ],
   "source": [
    "# Create a DummyClassifier with constant strategy\n",
    "dummy = DummyClassifier(strategy='constant', constant=0)\n",
    "# Fit it to the training set\n",
    "dummy.fit(X_train_ss, y_train)"
   ]
  },
  {
   "cell_type": "code",
   "execution_count": 21,
   "id": "332065b8",
   "metadata": {},
   "outputs": [
    {
     "data": {
      "text/plain": [
       "array([0, 0, 0, ..., 0, 0, 0])"
      ]
     },
     "execution_count": 21,
     "metadata": {},
     "output_type": "execute_result"
    }
   ],
   "source": [
    "# Call predict on the test set\n",
    "dummy.predict(X_test_ss)"
   ]
  },
  {
   "cell_type": "code",
   "execution_count": 22,
   "id": "a706dd78",
   "metadata": {},
   "outputs": [
    {
     "data": {
      "text/plain": [
       "0.45843520782396086"
      ]
     },
     "execution_count": 22,
     "metadata": {},
     "output_type": "execute_result"
    }
   ],
   "source": [
    "# Can 'score' the dummy classifier for test set\n",
    "dummy.score(X_test_ss, y_test)"
   ]
  },
  {
   "cell_type": "code",
   "execution_count": 23,
   "id": "3b920c36",
   "metadata": {},
   "outputs": [
    {
     "data": {
      "text/plain": [
       "<sklearn.metrics._plot.confusion_matrix.ConfusionMatrixDisplay at 0x7f2a93e0c790>"
      ]
     },
     "execution_count": 23,
     "metadata": {},
     "output_type": "execute_result"
    },
    {
     "data": {
      "image/png": "[encoded data removed]",
      "text/plain": [
       "<Figure size 640x480 with 2 Axes>"
      ]
     },
     "metadata": {},
     "output_type": "display_data"
    }
   ],
   "source": [
    "# Create a confusion matrix display\n",
    "ConfusionMatrixDisplay.from_estimator(dummy, X_test_ss, y_test, cmap='cividis')"
   ]
  },
  {
   "cell_type": "code",
   "execution_count": 24,
   "id": "a1b3ea70",
   "metadata": {},
   "outputs": [
    {
     "data": {
      "text/plain": [
       "<sklearn.metrics._plot.roc_curve.RocCurveDisplay at 0x7f2a93f23ee0>"
      ]
     },
     "execution_count": 24,
     "metadata": {},
     "output_type": "execute_result"
    },
    {
     "data": {
      "image/png": "[encoded data removed]",
      "text/plain": [
       "<Figure size 640x480 with 1 Axes>"
      ]
     },
     "metadata": {},
     "output_type": "display_data"
    }
   ],
   "source": [
    "# Create an ROC Curve display\n",
    "RocCurveDisplay.from_estimator(dummy, X_test_ss, y_test)"
   ]
  },
  {
   "cell_type": "code",
   "execution_count": 25,
   "id": "1e761d0b",
   "metadata": {},
   "outputs": [
    {
     "data": {
      "text/plain": [
       "<sklearn.metrics._plot.precision_recall_curve.PrecisionRecallDisplay at 0x7f2a93d187c0>"
      ]
     },
     "execution_count": 25,
     "metadata": {},
     "output_type": "execute_result"
    },
    {
     "data": {
      "image/png": "[encoded data removed]",
      "text/plain": [
       "<Figure size 640x480 with 1 Axes>"
      ]
     },
     "metadata": {},
     "output_type": "display_data"
    }
   ],
   "source": [
    "# Create a Precision Recall Display\n",
    "PrecisionRecallDisplay.from_estimator(dummy, X_test_ss, y_test)"
   ]
  },
  {
   "cell_type": "markdown",
   "id": "95ffe306",
   "metadata": {},
   "source": [
    "# Create a Logistic Model\n",
    "\n",
    "Let's first create a logistic model with no scaling. We will then scale the data later and see if it helps with prediction."
   ]
  },
  {
   "cell_type": "code",
   "execution_count": 26,
   "id": "013c8fd7-783d-446b-9a82-fe6ffcf4fe08",
   "metadata": {
    "tags": []
   },
   "outputs": [],
   "source": [
    "log_no_scale = LogisticRegression()"
   ]
  },
  {
   "cell_type": "code",
   "execution_count": 28,
   "id": "2808420f-629c-4899-8d0e-199c714ab9d3",
   "metadata": {
    "tags": []
   },
   "outputs": [
    {
     "data": {
      "text/html": [
       "<style>#sk-container-id-3 {color: black;background-color: white;}#sk-container-id-3 pre{padding: 0;}#sk-container-id-3 div.sk-toggleable {background-color: white;}#sk-container-id-3 label.sk-toggleable__label {cursor: pointer;display: block;width: 100%;margin-bottom: 0;padding: 0.3em;box-sizing: border-box;text-align: center;}#sk-container-id-3 label.sk-toggleable__label-arrow:before {content: \"▸\";float: left;margin-right: 0.25em;color: #696969;}#sk-container-id-3 label.sk-toggleable__label-arrow:hover:before {color: black;}#sk-container-id-3 div.sk-estimator:hover label.sk-toggleable__label-arrow:before {color: black;}#sk-container-id-3 div.sk-toggleable__content {max-height: 0;max-width: 0;overflow: hidden;text-align: left;background-color: #f0f8ff;}#sk-container-id-3 div.sk-toggleable__content pre {margin: 0.2em;color: black;border-radius: 0.25em;background-color: #f0f8ff;}#sk-container-id-3 input.sk-toggleable__control:checked~div.sk-toggleable__content {max-height: 200px;max-width: 100%;overflow: auto;}#sk-container-id-3 input.sk-toggleable__control:checked~label.sk-toggleable__label-arrow:before {content: \"▾\";}#sk-container-id-3 div.sk-estimator input.sk-toggleable__control:checked~label.sk-toggleable__label {background-color: #d4ebff;}#sk-container-id-3 div.sk-label input.sk-toggleable__control:checked~label.sk-toggleable__label {background-color: #d4ebff;}#sk-container-id-3 input.sk-hidden--visually {border: 0;clip: rect(1px 1px 1px 1px);clip: rect(1px, 1px, 1px, 1px);height: 1px;margin: -1px;overflow: hidden;padding: 0;position: absolute;width: 1px;}#sk-container-id-3 div.sk-estimator {font-family: monospace;background-color: #f0f8ff;border: 1px dotted black;border-radius: 0.25em;box-sizing: border-box;margin-bottom: 0.5em;}#sk-container-id-3 div.sk-estimator:hover {background-color: #d4ebff;}#sk-container-id-3 div.sk-parallel-item::after {content: \"\";width: 100%;border-bottom: 1px solid gray;flex-grow: 1;}#sk-container-id-3 div.sk-label:hover label.sk-toggleable__label {background-color: #d4ebff;}#sk-container-id-3 div.sk-serial::before {content: \"\";position: absolute;border-left: 1px solid gray;box-sizing: border-box;top: 0;bottom: 0;left: 50%;z-index: 0;}#sk-container-id-3 div.sk-serial {display: flex;flex-direction: column;align-items: center;background-color: white;padding-right: 0.2em;padding-left: 0.2em;position: relative;}#sk-container-id-3 div.sk-item {position: relative;z-index: 1;}#sk-container-id-3 div.sk-parallel {display: flex;align-items: stretch;justify-content: center;background-color: white;position: relative;}#sk-container-id-3 div.sk-item::before, #sk-container-id-3 div.sk-parallel-item::before {content: \"\";position: absolute;border-left: 1px solid gray;box-sizing: border-box;top: 0;bottom: 0;left: 50%;z-index: -1;}#sk-container-id-3 div.sk-parallel-item {display: flex;flex-direction: column;z-index: 1;position: relative;background-color: white;}#sk-container-id-3 div.sk-parallel-item:first-child::after {align-self: flex-end;width: 50%;}#sk-container-id-3 div.sk-parallel-item:last-child::after {align-self: flex-start;width: 50%;}#sk-container-id-3 div.sk-parallel-item:only-child::after {width: 0;}#sk-container-id-3 div.sk-dashed-wrapped {border: 1px dashed gray;margin: 0 0.4em 0.5em 0.4em;box-sizing: border-box;padding-bottom: 0.4em;background-color: white;}#sk-container-id-3 div.sk-label label {font-family: monospace;font-weight: bold;display: inline-block;line-height: 1.2em;}#sk-container-id-3 div.sk-label-container {text-align: center;}#sk-container-id-3 div.sk-container {/* jupyter's `normalize.less` sets `[hidden] { display: none; }` but bootstrap.min.css set `[hidden] { display: none !important; }` so we also need the `!important` here to be able to override the default hidden behavior on the sphinx rendered scikit-learn.org. See: https://github.com/scikit-learn/scikit-learn/issues/21755 */display: inline-block !important;position: relative;}#sk-container-id-3 div.sk-text-repr-fallback {display: none;}</style><div id=\"sk-container-id-3\" class=\"sk-top-container\"><div class=\"sk-text-repr-fallback\"><pre>LogisticRegression()</pre><b>In a Jupyter environment, please rerun this cell to show the HTML representation or trust the notebook. <br />On GitHub, the HTML representation is unable to render, please try loading this page with nbviewer.org.</b></div><div class=\"sk-container\" hidden><div class=\"sk-item\"><div class=\"sk-estimator sk-toggleable\"><input class=\"sk-toggleable__control sk-hidden--visually\" id=\"sk-estimator-id-3\" type=\"checkbox\" checked><label for=\"sk-estimator-id-3\" class=\"sk-toggleable__label sk-toggleable__label-arrow\">LogisticRegression</label><div class=\"sk-toggleable__content\"><pre>LogisticRegression()</pre></div></div></div></div></div>"
      ],
      "text/plain": [
       "LogisticRegression()"
      ]
     },
     "execution_count": 28,
     "metadata": {},
     "output_type": "execute_result"
    }
   ],
   "source": [
    "# fit the logistic regression model\n",
    "log_no_scale.fit(X_train, y_train)"
   ]
  },
  {
   "cell_type": "code",
   "execution_count": 29,
   "id": "20af1129-d482-45d3-971e-6a9a44bed25f",
   "metadata": {
    "tags": []
   },
   "outputs": [
    {
     "name": "stdout",
     "output_type": "stream",
     "text": [
      "[-6.2424801e-12]\n",
      "[[ 1.21059732e-06 -2.94928899e-12 -2.65667262e-12 -2.14399857e-12\n",
      "  -9.97992732e-13]]\n"
     ]
    }
   ],
   "source": [
    "# Print out the estimated intercept and coefficients\n",
    "print(log_no_scale.intercept_)\n",
    "print(log_no_scale.coef_)"
   ]
  },
  {
   "cell_type": "code",
   "execution_count": 30,
   "id": "fd7cfb6e-ef3c-4100-ab23-21065f5cd36d",
   "metadata": {
    "tags": []
   },
   "outputs": [
    {
     "data": {
      "text/plain": [
       "array([[0.44478917, 0.55521083],\n",
       "       [0.3801431 , 0.6198569 ],\n",
       "       [0.3992015 , 0.6007985 ],\n",
       "       ...,\n",
       "       [0.42070328, 0.57929672],\n",
       "       [0.39508722, 0.60491278],\n",
       "       [0.38027632, 0.61972368]])"
      ]
     },
     "execution_count": 30,
     "metadata": {},
     "output_type": "execute_result"
    }
   ],
   "source": [
    "# Make probability predictions for test set\n",
    "log_no_scale.predict_proba(X_test)"
   ]
  },
  {
   "cell_type": "code",
   "execution_count": 31,
   "id": "a2cbdb71-84e0-4096-bff6-16d92626aa96",
   "metadata": {
    "tags": []
   },
   "outputs": [
    {
     "data": {
      "text/plain": [
       "array([1, 1, 1, ..., 1, 1, 1])"
      ]
     },
     "execution_count": 31,
     "metadata": {},
     "output_type": "execute_result"
    }
   ],
   "source": [
    "# We can also get the predicted class for test set\n",
    "log_no_scale.predict(X_test)"
   ]
  },
  {
   "cell_type": "code",
   "execution_count": 32,
   "id": "58345334-81ab-45a7-bf4f-5e715b28c6c6",
   "metadata": {
    "tags": []
   },
   "outputs": [
    {
     "data": {
      "text/plain": [
       "array([[   0, 1125],\n",
       "       [   0, 1329]])"
      ]
     },
     "execution_count": 32,
     "metadata": {},
     "output_type": "execute_result"
    }
   ],
   "source": [
    "# Print out the confusion matrix\n",
    "confusion_matrix(y_test, log_no_scale.predict(X_test))"
   ]
  },
  {
   "cell_type": "code",
   "execution_count": 33,
   "id": "1d3a212b-2955-4aa6-9e59-b6028f81b647",
   "metadata": {
    "tags": []
   },
   "outputs": [
    {
     "data": {
      "text/plain": [
       "<sklearn.metrics._plot.confusion_matrix.ConfusionMatrixDisplay at 0x7f2a93852d10>"
      ]
     },
     "execution_count": 33,
     "metadata": {},
     "output_type": "execute_result"
    },
    {
     "data": {
      "image/png": "[encoded data removed]",
      "text/plain": [
       "<Figure size 640x480 with 2 Axes>"
      ]
     },
     "metadata": {},
     "output_type": "display_data"
    }
   ],
   "source": [
    "# Let's make a plot of confusion matrix\n",
    "ConfusionMatrixDisplay.from_estimator(log_no_scale, X_test, y_test, cmap='cividis')"
   ]
  },
  {
   "cell_type": "code",
   "execution_count": 34,
   "id": "49889f07-082d-43e8-b7e7-828597334833",
   "metadata": {
    "tags": []
   },
   "outputs": [
    {
     "data": {
      "text/plain": [
       "<sklearn.metrics._plot.roc_curve.RocCurveDisplay at 0x7f2a93c144f0>"
      ]
     },
     "execution_count": 34,
     "metadata": {},
     "output_type": "execute_result"
    },
    {
     "data": {
      "image/png": "[encoded data removed]",
      "text/plain": [
       "<Figure size 640x480 with 1 Axes>"
      ]
     },
     "metadata": {},
     "output_type": "display_data"
    }
   ],
   "source": [
    "# Create an ROC Curve display\n",
    "RocCurveDisplay.from_estimator(log_no_scale, X_test, y_test)"
   ]
  },
  {
   "cell_type": "code",
   "execution_count": 35,
   "id": "b0d98b0e-aa40-43bd-adaf-dc083364b665",
   "metadata": {
    "tags": []
   },
   "outputs": [
    {
     "data": {
      "text/plain": [
       "<sklearn.metrics._plot.precision_recall_curve.PrecisionRecallDisplay at 0x7f2a937f7370>"
      ]
     },
     "execution_count": 35,
     "metadata": {},
     "output_type": "execute_result"
    },
    {
     "data": {
      "image/png": "[encoded data removed]",
      "text/plain": [
       "<Figure size 640x480 with 1 Axes>"
      ]
     },
     "metadata": {},
     "output_type": "display_data"
    }
   ],
   "source": [
    "# Make a Precision Recall display\n",
    "PrecisionRecallDisplay.from_estimator(log_no_scale, X_test, y_test)"
   ]
  },
  {
   "cell_type": "markdown",
   "id": "34d9964a-ec08-4822-920c-03d6ee1daf00",
   "metadata": {},
   "source": [
    "## Scaled Logit"
   ]
  },
  {
   "cell_type": "code",
   "execution_count": 36,
   "id": "c09d35ad",
   "metadata": {},
   "outputs": [],
   "source": [
    "# Create a LogisticRegression\n",
    "logReg = LogisticRegression()"
   ]
  },
  {
   "cell_type": "code",
   "execution_count": 37,
   "id": "dbda4cdb",
   "metadata": {},
   "outputs": [
    {
     "data": {
      "text/html": [
       "<style>#sk-container-id-4 {color: black;background-color: white;}#sk-container-id-4 pre{padding: 0;}#sk-container-id-4 div.sk-toggleable {background-color: white;}#sk-container-id-4 label.sk-toggleable__label {cursor: pointer;display: block;width: 100%;margin-bottom: 0;padding: 0.3em;box-sizing: border-box;text-align: center;}#sk-container-id-4 label.sk-toggleable__label-arrow:before {content: \"▸\";float: left;margin-right: 0.25em;color: #696969;}#sk-container-id-4 label.sk-toggleable__label-arrow:hover:before {color: black;}#sk-container-id-4 div.sk-estimator:hover label.sk-toggleable__label-arrow:before {color: black;}#sk-container-id-4 div.sk-toggleable__content {max-height: 0;max-width: 0;overflow: hidden;text-align: left;background-color: #f0f8ff;}#sk-container-id-4 div.sk-toggleable__content pre {margin: 0.2em;color: black;border-radius: 0.25em;background-color: #f0f8ff;}#sk-container-id-4 input.sk-toggleable__control:checked~div.sk-toggleable__content {max-height: 200px;max-width: 100%;overflow: auto;}#sk-container-id-4 input.sk-toggleable__control:checked~label.sk-toggleable__label-arrow:before {content: \"▾\";}#sk-container-id-4 div.sk-estimator input.sk-toggleable__control:checked~label.sk-toggleable__label {background-color: #d4ebff;}#sk-container-id-4 div.sk-label input.sk-toggleable__control:checked~label.sk-toggleable__label {background-color: #d4ebff;}#sk-container-id-4 input.sk-hidden--visually {border: 0;clip: rect(1px 1px 1px 1px);clip: rect(1px, 1px, 1px, 1px);height: 1px;margin: -1px;overflow: hidden;padding: 0;position: absolute;width: 1px;}#sk-container-id-4 div.sk-estimator {font-family: monospace;background-color: #f0f8ff;border: 1px dotted black;border-radius: 0.25em;box-sizing: border-box;margin-bottom: 0.5em;}#sk-container-id-4 div.sk-estimator:hover {background-color: #d4ebff;}#sk-container-id-4 div.sk-parallel-item::after {content: \"\";width: 100%;border-bottom: 1px solid gray;flex-grow: 1;}#sk-container-id-4 div.sk-label:hover label.sk-toggleable__label {background-color: #d4ebff;}#sk-container-id-4 div.sk-serial::before {content: \"\";position: absolute;border-left: 1px solid gray;box-sizing: border-box;top: 0;bottom: 0;left: 50%;z-index: 0;}#sk-container-id-4 div.sk-serial {display: flex;flex-direction: column;align-items: center;background-color: white;padding-right: 0.2em;padding-left: 0.2em;position: relative;}#sk-container-id-4 div.sk-item {position: relative;z-index: 1;}#sk-container-id-4 div.sk-parallel {display: flex;align-items: stretch;justify-content: center;background-color: white;position: relative;}#sk-container-id-4 div.sk-item::before, #sk-container-id-4 div.sk-parallel-item::before {content: \"\";position: absolute;border-left: 1px solid gray;box-sizing: border-box;top: 0;bottom: 0;left: 50%;z-index: -1;}#sk-container-id-4 div.sk-parallel-item {display: flex;flex-direction: column;z-index: 1;position: relative;background-color: white;}#sk-container-id-4 div.sk-parallel-item:first-child::after {align-self: flex-end;width: 50%;}#sk-container-id-4 div.sk-parallel-item:last-child::after {align-self: flex-start;width: 50%;}#sk-container-id-4 div.sk-parallel-item:only-child::after {width: 0;}#sk-container-id-4 div.sk-dashed-wrapped {border: 1px dashed gray;margin: 0 0.4em 0.5em 0.4em;box-sizing: border-box;padding-bottom: 0.4em;background-color: white;}#sk-container-id-4 div.sk-label label {font-family: monospace;font-weight: bold;display: inline-block;line-height: 1.2em;}#sk-container-id-4 div.sk-label-container {text-align: center;}#sk-container-id-4 div.sk-container {/* jupyter's `normalize.less` sets `[hidden] { display: none; }` but bootstrap.min.css set `[hidden] { display: none !important; }` so we also need the `!important` here to be able to override the default hidden behavior on the sphinx rendered scikit-learn.org. See: https://github.com/scikit-learn/scikit-learn/issues/21755 */display: inline-block !important;position: relative;}#sk-container-id-4 div.sk-text-repr-fallback {display: none;}</style><div id=\"sk-container-id-4\" class=\"sk-top-container\"><div class=\"sk-text-repr-fallback\"><pre>LogisticRegression()</pre><b>In a Jupyter environment, please rerun this cell to show the HTML representation or trust the notebook. <br />On GitHub, the HTML representation is unable to render, please try loading this page with nbviewer.org.</b></div><div class=\"sk-container\" hidden><div class=\"sk-item\"><div class=\"sk-estimator sk-toggleable\"><input class=\"sk-toggleable__control sk-hidden--visually\" id=\"sk-estimator-id-4\" type=\"checkbox\" checked><label for=\"sk-estimator-id-4\" class=\"sk-toggleable__label sk-toggleable__label-arrow\">LogisticRegression</label><div class=\"sk-toggleable__content\"><pre>LogisticRegression()</pre></div></div></div></div></div>"
      ],
      "text/plain": [
       "LogisticRegression()"
      ]
     },
     "execution_count": 37,
     "metadata": {},
     "output_type": "execute_result"
    }
   ],
   "source": [
    "# fit the logistic regression model\n",
    "logReg.fit(X_train_ss, y_train)"
   ]
  },
  {
   "cell_type": "code",
   "execution_count": 38,
   "id": "aa061be2",
   "metadata": {},
   "outputs": [
    {
     "name": "stdout",
     "output_type": "stream",
     "text": [
      "[0.02804189]\n",
      "[[1.22465032 0.05527178 0.01138479 0.09535785 0.04585716]]\n"
     ]
    }
   ],
   "source": [
    "# Print out the estimated intercept and coefficients\n",
    "print(logReg.intercept_)\n",
    "print(logReg.coef_)"
   ]
  },
  {
   "cell_type": "code",
   "execution_count": 39,
   "id": "8dfb144a",
   "metadata": {},
   "outputs": [
    {
     "data": {
      "text/plain": [
       "array([[0.78869343, 0.21130657],\n",
       "       [0.22688452, 0.77311548],\n",
       "       [0.38799412, 0.61200588],\n",
       "       ...,\n",
       "       [0.5649062 , 0.4350938 ],\n",
       "       [0.38859913, 0.61140087],\n",
       "       [0.26853108, 0.73146892]])"
      ]
     },
     "execution_count": 39,
     "metadata": {},
     "output_type": "execute_result"
    }
   ],
   "source": [
    "# Make probability predictions for test set\n",
    "logReg.predict_proba(X_test_ss)"
   ]
  },
  {
   "cell_type": "code",
   "execution_count": 40,
   "id": "77c3c56e",
   "metadata": {},
   "outputs": [
    {
     "data": {
      "text/plain": [
       "array([0, 1, 1, ..., 0, 1, 1])"
      ]
     },
     "execution_count": 40,
     "metadata": {},
     "output_type": "execute_result"
    }
   ],
   "source": [
    "# We can also get the predicted class for test set\n",
    "logReg.predict(X_test_ss)"
   ]
  },
  {
   "cell_type": "code",
   "execution_count": 41,
   "id": "cb82dbc1",
   "metadata": {},
   "outputs": [
    {
     "data": {
      "text/plain": [
       "array([[787, 338],\n",
       "       [358, 971]])"
      ]
     },
     "execution_count": 41,
     "metadata": {},
     "output_type": "execute_result"
    }
   ],
   "source": [
    "# Print out the confusion matrix\n",
    "confusion_matrix(y_test, logReg.predict(X_test_ss))"
   ]
  },
  {
   "cell_type": "code",
   "execution_count": 42,
   "id": "71c6c539",
   "metadata": {},
   "outputs": [
    {
     "data": {
      "text/plain": [
       "<sklearn.metrics._plot.confusion_matrix.ConfusionMatrixDisplay at 0x7f2a93aba770>"
      ]
     },
     "execution_count": 42,
     "metadata": {},
     "output_type": "execute_result"
    },
    {
     "data": {
      "image/png": "[encoded data removed]",
      "text/plain": [
       "<Figure size 640x480 with 2 Axes>"
      ]
     },
     "metadata": {},
     "output_type": "display_data"
    }
   ],
   "source": [
    "# Let's make a plot of confusion matrix\n",
    "ConfusionMatrixDisplay.from_estimator(logReg, X_test_ss, y_test, cmap='cividis')"
   ]
  },
  {
   "cell_type": "code",
   "execution_count": 43,
   "id": "7b89512b",
   "metadata": {},
   "outputs": [
    {
     "name": "stdout",
     "output_type": "stream",
     "text": [
      "trueNeg :  787\n",
      "falsePos:  338\n",
      "falseNeg:  358\n",
      "truePos :  971\n"
     ]
    }
   ],
   "source": [
    "# We can \"unravel\" the values in confusion matrix with .ravel()\n",
    "trueNeg, falsePos, falseNeg, truePos = confusion_matrix(y_test, logReg.predict(X_test_ss)).ravel()\n",
    "\n",
    "print(f'trueNeg : {trueNeg:>4}')\n",
    "print(f'falsePos: {falsePos:>4}')\n",
    "print(f'falseNeg: {falseNeg:>4}')\n",
    "print(f'truePos : {truePos:>4}')"
   ]
  },
  {
   "cell_type": "code",
   "execution_count": 44,
   "id": "29680cdf",
   "metadata": {},
   "outputs": [
    {
     "name": "stdout",
     "output_type": "stream",
     "text": [
      "Overall Error Rate: 28.36%\n",
      "Overall Accuracy  : 71.64%\n"
     ]
    }
   ],
   "source": [
    "# Let's first look at the overall error rate and accuracy\n",
    "# Overall error rate = total misclassifications / total chances (sample size)\n",
    "print(f'Overall Error Rate: {(falseNeg+falsePos)/len(y_test):>6.2%}')\n",
    "print(f'Overall Accuracy  : {(trueNeg+truePos)/len(y_test):>6.2%}')"
   ]
  },
  {
   "cell_type": "code",
   "execution_count": 45,
   "id": "625a4019",
   "metadata": {},
   "outputs": [
    {
     "name": "stdout",
     "output_type": "stream",
     "text": [
      "# of big spenders: 1329\n",
      "# of others      : 1125\n"
     ]
    }
   ],
   "source": [
    "# Let's look at error rates\n",
    "# Find the number of big spenders and others\n",
    "bigSpenders = y_test.sum()\n",
    "others = len(y_test) - bigSpenders\n",
    "print(f'# of big spenders: {bigSpenders}')\n",
    "print(f'# of others      : {others}')"
   ]
  },
  {
   "cell_type": "code",
   "execution_count": 46,
   "id": "fe34350f",
   "metadata": {},
   "outputs": [
    {
     "name": "stdout",
     "output_type": "stream",
     "text": [
      "Error rate for others: 30.04%\n",
      "Accuracy for others  : 69.96%\n"
     ]
    }
   ],
   "source": [
    "# How good are we with others? We misclassified XX others\n",
    "# Error rate = false positives / total non-defaulters\n",
    "print(f'Error rate for others: {falsePos/others:>6.2%}')\n",
    "# Accuracy for others = true negatives / total non-defaulters\n",
    "print(f'Accuracy for others  : {trueNeg/others:>6.2%}')"
   ]
  },
  {
   "cell_type": "code",
   "execution_count": 47,
   "id": "3cec5884",
   "metadata": {},
   "outputs": [
    {
     "name": "stdout",
     "output_type": "stream",
     "text": [
      "Error rate for big spenders: 26.94%\n",
      "Accuracy for big spenders  : 73.06%\n"
     ]
    }
   ],
   "source": [
    "# What about big spenders?\n",
    "# Error rate for big spenders = false negatives / total defaulters\n",
    "print(f'Error rate for big spenders: {falseNeg/bigSpenders:>6.2%}')\n",
    "# Accuracy for defaulters = true positives / total defaulters\n",
    "print(f'Accuracy for big spenders  : {truePos/bigSpenders:>6.2%}')"
   ]
  },
  {
   "cell_type": "code",
   "execution_count": 48,
   "id": "b2683ea3",
   "metadata": {},
   "outputs": [
    {
     "name": "stdout",
     "output_type": "stream",
     "text": [
      "              precision    recall  f1-score   support\n",
      "\n",
      "          No       0.69      0.70      0.69      1125\n",
      "         Yes       0.74      0.73      0.74      1329\n",
      "\n",
      "    accuracy                           0.72      2454\n",
      "   macro avg       0.71      0.72      0.71      2454\n",
      "weighted avg       0.72      0.72      0.72      2454\n",
      "\n"
     ]
    }
   ],
   "source": [
    "# Print the classification_report\n",
    "print(classification_report(y_test, logReg.predict(X_test_ss), target_names=['No','Yes']))"
   ]
  },
  {
   "cell_type": "code",
   "execution_count": 49,
   "id": "b0405490",
   "metadata": {},
   "outputs": [
    {
     "data": {
      "text/plain": [
       "<sklearn.metrics._plot.roc_curve.RocCurveDisplay at 0x7f2a937e1e10>"
      ]
     },
     "execution_count": 49,
     "metadata": {},
     "output_type": "execute_result"
    },
    {
     "data": {
      "image/png": "[encoded data removed]",
      "text/plain": [
       "<Figure size 640x480 with 1 Axes>"
      ]
     },
     "metadata": {},
     "output_type": "display_data"
    }
   ],
   "source": [
    "# Create an ROC Curve display\n",
    "RocCurveDisplay.from_estimator(logReg, X_test_ss, y_test)"
   ]
  },
  {
   "cell_type": "code",
   "execution_count": 50,
   "id": "bbc02962",
   "metadata": {},
   "outputs": [
    {
     "data": {
      "text/plain": [
       "<sklearn.metrics._plot.precision_recall_curve.PrecisionRecallDisplay at 0x7f2a939d7d00>"
      ]
     },
     "execution_count": 50,
     "metadata": {},
     "output_type": "execute_result"
    },
    {
     "data": {
      "image/png": "[encoded data removed]",
      "text/plain": [
       "<Figure size 640x480 with 1 Axes>"
      ]
     },
     "metadata": {},
     "output_type": "display_data"
    }
   ],
   "source": [
    "# Make a Precision Recall display\n",
    "PrecisionRecallDisplay.from_estimator(logReg, X_test_ss, y_test)"
   ]
  },
  {
   "cell_type": "code",
   "execution_count": null,
   "id": "5c70eed5",
   "metadata": {},
   "outputs": [],
   "source": []
  }
 ],
 "metadata": {
  "kernelspec": {
   "display_name": "Python 3 (ipykernel)",
   "language": "python",
   "name": "python3"
  },
  "language_info": {
   "codemirror_mode": {
    "name": "ipython",
    "version": 3
   },
   "file_extension": ".py",
   "mimetype": "text/x-python",
   "name": "python",
   "nbconvert_exporter": "python",
   "pygments_lexer": "ipython3",
   "version": "3.10.10"
  }
 },
 "nbformat": 4,
 "nbformat_minor": 5
}
