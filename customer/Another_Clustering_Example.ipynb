{
 "cells": [
  {
   "cell_type": "markdown",
   "metadata": {},
   "source": [
    "# Clustering of SKUs\n",
    "\n",
    "One of your warehouses currently stores over 1,200 SKUs for your company. As the newly hired manager of the warehouse, want the operation of picking items for delivery to be improved. You have decided that you want to form groups of similiar SKUs so they can be grouped together in the warehouse. \n",
    "\n",
    "One your data analysts has pulled together a dataset containing SKU data at the pallet level. There are four features in total: \n",
    "\n",
    "1) unit price\n",
    "2) number of units per pallet\n",
    "3) pallet gross weight\n",
    "4) pallet height\n",
    "\n",
    "Your goal is to use these features to determine which SKUs should be grouped together."
   ]
  },
  {
   "cell_type": "code",
   "execution_count": null,
   "metadata": {
    "id": "3tDmQ-E4cA_e"
   },
   "outputs": [],
   "source": [
    "# import packages and modules\n",
    "import pandas as pd\n",
    "import seaborn as sns\n",
    "import matplotlib.pyplot as plt\n",
    "\n",
    "# Going to use KMeans to cluster\n",
    "from sklearn.cluster import KMeans\n",
    "from sklearn.preprocessing import MinMaxScaler\n",
    "from sklearn.metrics import silhouette_score"
   ]
  },
  {
   "cell_type": "code",
   "execution_count": null,
   "metadata": {
    "id": "OzpJ6ypdqbCI"
   },
   "outputs": [],
   "source": [
    "# Read the data into a DataFrame named df\n",
    "df = pd.read_csv('./data/sku_data.csv')"
   ]
  },
  {
   "cell_type": "code",
   "execution_count": null,
   "metadata": {
    "colab": {
     "base_uri": "https://localhost:8080/",
     "height": 424
    },
    "id": "ZTKshn3CsSoh",
    "outputId": "b7d6c696-7ee2-4058-afb4-823ccd010bdb"
   },
   "outputs": [],
   "source": [
    "# take a look at it\n",
    "df"
   ]
  },
  {
   "cell_type": "code",
   "execution_count": null,
   "metadata": {
    "colab": {
     "base_uri": "https://localhost:8080/",
     "height": 300
    },
    "id": "dvhsxPelhXeY",
    "outputId": "cdb58d84-017f-4017-e097-0ffd91e9b6df"
   },
   "outputs": [],
   "source": [
    "# Look at summary statistics\n"
   ]
  },
  {
   "cell_type": "code",
   "execution_count": null,
   "metadata": {},
   "outputs": [],
   "source": [
    "# Look at .info()\n"
   ]
  },
  {
   "cell_type": "code",
   "execution_count": null,
   "metadata": {
    "colab": {
     "base_uri": "https://localhost:8080/",
     "height": 726
    },
    "id": "RT_nG0VmhhpJ",
    "outputId": "e8b9dbff-7a13-45c2-b111-4790a410853f"
   },
   "outputs": [],
   "source": [
    "# Create a pairplot with seaborn\n",
    "sns.pairplot(df)"
   ]
  },
  {
   "cell_type": "code",
   "execution_count": null,
   "metadata": {
    "colab": {
     "base_uri": "https://localhost:8080/",
     "height": 175
    },
    "id": "n5dPZZMPjL1F",
    "outputId": "c3d45d5e-081f-43f6-a12e-e33f82e695a1"
   },
   "outputs": [],
   "source": [
    "# Look at correlations among features\n",
    "corr = df.corr()\n",
    "corr"
   ]
  },
  {
   "cell_type": "code",
   "execution_count": null,
   "metadata": {},
   "outputs": [],
   "source": [
    "# Create a heatmap of the correlation matrix\n",
    "sns.heatmap(corr, vmin=-1, vmax=1, annot=True, cmap='Blues')"
   ]
  },
  {
   "cell_type": "code",
   "execution_count": null,
   "metadata": {
    "id": "2mNelLhFSZb_"
   },
   "outputs": [],
   "source": [
    "# Scale the data\n",
    "scaler = MinMaxScaler()\n",
    "scaler.fit(df)\n",
    "scaled_df = scaler.transform(df)\n",
    "scaled_df = pd.DataFrame(scaled_df, columns=df.columns)"
   ]
  },
  {
   "cell_type": "code",
   "execution_count": null,
   "metadata": {
    "colab": {
     "base_uri": "https://localhost:8080/",
     "height": 424
    },
    "id": "yArOsJkEVaza",
    "outputId": "2fae6bdd-b936-4e69-8fa9-289e075711c1"
   },
   "outputs": [],
   "source": [
    "# See what scaled data looks like\n"
   ]
  },
  {
   "cell_type": "code",
   "execution_count": null,
   "metadata": {
    "colab": {
     "base_uri": "https://localhost:8080/",
     "height": 334
    },
    "id": "n52x8TQgTqhR",
    "outputId": "f1020ebc-7add-4cc5-ae2f-f4f279788f51"
   },
   "outputs": [],
   "source": [
    "# End Goal: Create box plots of the scaled data\n",
    "\n",
    "# Create empty list to hold the DataFrames\n",
    "dfs = []\n",
    "\n",
    "# Loop over the columns\n",
    "for i in scaled_df.columns:\n",
    "    # Create a temporary DataFrame\n",
    "    tmp = pd.DataFrame(scaled_df[i])\n",
    "    # name the column 'values'\n",
    "    tmp.rename(columns={i: 'values'}, inplace=True)\n",
    "    # add a column named 'Feature' that contains the feature name\n",
    "    tmp['Feature'] = i\n",
    "    # append tmp DataFrame to list dfs\n",
    "    dfs.append(tmp)\n",
    "\n",
    "# Combine all DataFrames found in the list dfs\n",
    "data = pd.concat(dfs)\n",
    "\n",
    "# look at the DataFrame data\n",
    "data"
   ]
  },
  {
   "cell_type": "code",
   "execution_count": null,
   "metadata": {},
   "outputs": [],
   "source": [
    "# Look at its info()\n"
   ]
  },
  {
   "cell_type": "code",
   "execution_count": null,
   "metadata": {},
   "outputs": [],
   "source": [
    "# Take a look at the last index\n"
   ]
  },
  {
   "cell_type": "code",
   "execution_count": null,
   "metadata": {},
   "outputs": [],
   "source": [
    "# Create boxplot using our scaled data\n",
    "sns.boxplot(x=\"Feature\", y=\"values\", data=data)"
   ]
  },
  {
   "cell_type": "code",
   "execution_count": null,
   "metadata": {
    "id": "c4Qh9W6kV_Tw"
   },
   "outputs": [],
   "source": [
    "# Reset the index\n",
    "data.reset_index(inplace=True)"
   ]
  },
  {
   "cell_type": "code",
   "execution_count": null,
   "metadata": {},
   "outputs": [],
   "source": [
    "# See .info() from resetting index\n",
    "# What do you notice?\n",
    "data.info()"
   ]
  },
  {
   "cell_type": "code",
   "execution_count": null,
   "metadata": {
    "colab": {
     "base_uri": "https://localhost:8080/",
     "height": 369
    },
    "id": "ugRV0P9TVsyw",
    "outputId": "f1d637b1-e37a-4823-cf1c-d0a5065d2c8b"
   },
   "outputs": [],
   "source": [
    "# Create KDE plots of the scaled data to help with distributional analysis\n",
    "sns.displot(data, x=\"values\", hue=\"Feature\", kind=\"kde\")"
   ]
  },
  {
   "cell_type": "markdown",
   "metadata": {},
   "source": [
    "## Time to Create Clusters\n",
    "\n",
    "We'll try 2 through 9 clusters, capturing both the inertia and also the silhouette score."
   ]
  },
  {
   "cell_type": "code",
   "execution_count": null,
   "metadata": {},
   "outputs": [],
   "source": [
    "# Create 2 empty dictionaries to capture metrics\n",
    "inertia = {}\n",
    "ss = {}\n",
    "\n",
    "# Try 2 thru 9 clusters\n",
    "for k in range(2,10):\n",
    "    kmeans = KMeans(n_clusters=k, random_state=42)\n",
    "    kmeans.fit(scaled_df)\n",
    "    # capture the inertia\n",
    "    inertia[k] = kmeans.inertia_\n",
    "    \n",
    "    # capture the silhouette score\n",
    "    ss[k] = silhouette_score(scaled_df, kmeans.labels_)"
   ]
  },
  {
   "cell_type": "code",
   "execution_count": null,
   "metadata": {},
   "outputs": [],
   "source": [
    "# Look at inertia\n",
    "inertia"
   ]
  },
  {
   "cell_type": "code",
   "execution_count": null,
   "metadata": {},
   "outputs": [],
   "source": [
    "# Plot the results\n",
    "# Create DataFrame for easier plotting\n",
    "df_inertia = pd.DataFrame.from_dict(inertia, orient='index', columns=['inertia'])\n",
    "df_inertia"
   ]
  },
  {
   "cell_type": "code",
   "execution_count": null,
   "metadata": {},
   "outputs": [],
   "source": [
    "# Plot inertia as line plot\n",
    "df_inertia.plot(marker='o')"
   ]
  },
  {
   "cell_type": "code",
   "execution_count": null,
   "metadata": {},
   "outputs": [],
   "source": [
    "# Look at silhouette scores\n",
    "ss"
   ]
  },
  {
   "cell_type": "code",
   "execution_count": null,
   "metadata": {},
   "outputs": [],
   "source": [
    "# Create a DataFrame to make plotting easier\n",
    "df_ss = pd.DataFrame.from_dict(ss, orient='index', columns=['silhouette_score'])\n",
    "df_ss"
   ]
  },
  {
   "cell_type": "code",
   "execution_count": null,
   "metadata": {},
   "outputs": [],
   "source": [
    "# Plot silhouette score as line plot\n",
    "df_ss.plot(marker='o')"
   ]
  },
  {
   "cell_type": "code",
   "execution_count": null,
   "metadata": {},
   "outputs": [],
   "source": [
    "# Make 5 clusters\n",
    "five_clusters = KMeans(n_clusters=5)\n",
    "five_clusters.fit_predict(scaled_df)"
   ]
  },
  {
   "cell_type": "code",
   "execution_count": null,
   "metadata": {},
   "outputs": [],
   "source": [
    "# Add the column Clusters which is the labels\n",
    "df['Clusters'] = five_clusters.labels_ \n",
    "\n",
    "# Create a pairplot\n",
    "sns.pairplot(df, hue='Clusters',\n",
    "             palette=sns.color_palette(n_colors=5),\n",
    "             markers=[\"o\", \"s\", \"D\", \"v\", \"^\"])"
   ]
  },
  {
   "cell_type": "markdown",
   "metadata": {
    "deletable": false,
    "editable": false
   },
   "source": [
    "**&copy; 2023 - Present: Matthew D. Dean, Ph.D.   \n",
    "Clinical Associate Professor of Business Analytics at William \\& Mary.**"
   ]
  }
 ],
 "metadata": {
  "colab": {
   "authorship_tag": "ABX9TyP6aknrIIFLe0hQx45bEWr+",
   "collapsed_sections": [],
   "include_colab_link": true,
   "provenance": []
  },
  "kernelspec": {
   "display_name": "Python 3 (ipykernel)",
   "language": "python",
   "name": "python3"
  },
  "language_info": {
   "codemirror_mode": {
    "name": "ipython",
    "version": 3
   },
   "file_extension": ".py",
   "mimetype": "text/x-python",
   "name": "python",
   "nbconvert_exporter": "python",
   "pygments_lexer": "ipython3",
   "version": "3.8.8"
  }
 },
 "nbformat": 4,
 "nbformat_minor": 1
}
