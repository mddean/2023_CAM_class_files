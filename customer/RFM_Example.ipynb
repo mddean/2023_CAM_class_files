{
 "cells": [
  {
   "cell_type": "markdown",
   "metadata": {},
   "source": [
    "# RMF Analysis Example"
   ]
  },
  {
   "cell_type": "markdown",
   "metadata": {},
   "source": [
    "RFM (Recency, Frequency, Monetary):\n",
    "    \n",
    "- **RECENCY (R)**: Time since last order\n",
    "- **FREQUENCY (F)**: Total number of orders or average time between orders\n",
    "- **MONETARY VALUE (M)**: Total or average order value"
   ]
  },
  {
   "cell_type": "code",
   "execution_count": null,
   "metadata": {},
   "outputs": [],
   "source": [
    "# import modules\n",
    "import pandas as pd\n",
    "import datetime as dt"
   ]
  },
  {
   "cell_type": "code",
   "execution_count": null,
   "metadata": {},
   "outputs": [],
   "source": [
    "# load the data\n",
    "cust = pd.read_excel('./data/US_Data.xlsx')\n",
    "cust.head()"
   ]
  },
  {
   "cell_type": "code",
   "execution_count": null,
   "metadata": {},
   "outputs": [],
   "source": [
    "# look at .info()\n",
    "cust.info()"
   ]
  },
  {
   "cell_type": "markdown",
   "metadata": {},
   "source": [
    "Let's look at some basic information about this data.\n",
    "\n",
    "* How many unique customers?\n",
    "* How many invoices for each customer?"
   ]
  },
  {
   "cell_type": "code",
   "execution_count": null,
   "metadata": {},
   "outputs": [],
   "source": [
    "# How many unique customers?\n",
    "cust.CustomerID.nunique()"
   ]
  },
  {
   "cell_type": "code",
   "execution_count": null,
   "metadata": {},
   "outputs": [],
   "source": [
    "# How many invoices for each customer?\n",
    "cust.groupby('CustomerID')['InvoiceNo'].count().sort_values(ascending=False)"
   ]
  },
  {
   "cell_type": "markdown",
   "metadata": {},
   "source": [
    "## Now, we'll go through the RFM analysis step by step."
   ]
  },
  {
   "cell_type": "markdown",
   "metadata": {},
   "source": [
    "### Recency"
   ]
  },
  {
   "cell_type": "code",
   "execution_count": null,
   "metadata": {},
   "outputs": [],
   "source": [
    "# get the reference date - the last date we have in data set\n",
    "ref_date = cust.InvoiceDate.dt.date.max()\n",
    "ref_date"
   ]
  },
  {
   "cell_type": "code",
   "execution_count": null,
   "metadata": {
    "scrolled": true
   },
   "outputs": [],
   "source": [
    "# We currently have timestamps for invoice date\n",
    "# convert InvoiceDate to date only to simplify\n",
    "cust.InvoiceDate = cust.InvoiceDate.dt.date"
   ]
  },
  {
   "cell_type": "code",
   "execution_count": null,
   "metadata": {},
   "outputs": [],
   "source": [
    "cust.head()"
   ]
  },
  {
   "cell_type": "markdown",
   "metadata": {},
   "source": [
    "We want to know how many days it has been between the last purchase and our reference date, which we called `ref_date`, for each customer. Let's do it steps."
   ]
  },
  {
   "cell_type": "code",
   "execution_count": null,
   "metadata": {},
   "outputs": [],
   "source": [
    "# What was the most recent date that each customer made a purchase?\n",
    "cust.groupby('CustomerID')['InvoiceDate'].max()"
   ]
  },
  {
   "cell_type": "code",
   "execution_count": null,
   "metadata": {},
   "outputs": [],
   "source": [
    "# We can subtract that date found above from ref_date\n",
    "# NOTE: What is the dtype of resulting Series object?\n",
    "#       Will that be a problem?\n",
    "ref_date - cust.groupby('CustomerID')['InvoiceDate'].max()"
   ]
  },
  {
   "cell_type": "code",
   "execution_count": null,
   "metadata": {},
   "outputs": [],
   "source": [
    "# Let's just pull out the days and see if it will be an int\n",
    "(ref_date - cust.groupby('CustomerID')['InvoiceDate'].max()).dt.days"
   ]
  },
  {
   "cell_type": "code",
   "execution_count": null,
   "metadata": {},
   "outputs": [],
   "source": [
    "# You can also use a lambda function\n",
    "# Storing Series in a variable named recency\n",
    "recency = cust.groupby('CustomerID')['InvoiceDate'].apply(lambda x: (ref_date - x.max()).days)\n",
    "\n",
    "recency"
   ]
  },
  {
   "cell_type": "code",
   "execution_count": null,
   "metadata": {},
   "outputs": [],
   "source": [
    "# Change the name of the Series to 'Recency'\n",
    "recency.name = 'Recency'\n",
    "recency.info()"
   ]
  },
  {
   "cell_type": "markdown",
   "metadata": {},
   "source": [
    "### Frequency"
   ]
  },
  {
   "cell_type": "markdown",
   "metadata": {},
   "source": [
    "We'll use the number of unique `InvoiceNo` per customer to calculate the frequency"
   ]
  },
  {
   "cell_type": "code",
   "execution_count": null,
   "metadata": {
    "scrolled": true
   },
   "outputs": [],
   "source": [
    "# Store the Series in a variable named frequency\n",
    "frequency = cust.groupby('CustomerID')['InvoiceNo'].nunique() \n",
    "frequency"
   ]
  },
  {
   "cell_type": "code",
   "execution_count": null,
   "metadata": {},
   "outputs": [],
   "source": [
    "# Change the name of the Series to 'Frequency'\n",
    "frequency.name = 'Frequency'\n",
    "frequency.info()"
   ]
  },
  {
   "cell_type": "markdown",
   "metadata": {},
   "source": [
    "### Monetary"
   ]
  },
  {
   "cell_type": "markdown",
   "metadata": {},
   "source": [
    "We'll use the total amount spent by customers over the period to get the Monetary values."
   ]
  },
  {
   "cell_type": "code",
   "execution_count": null,
   "metadata": {},
   "outputs": [],
   "source": [
    "# Store the Series in a variable named monetary\n",
    "monetary = cust.groupby('CustomerID')['Amount'].sum()\n",
    "monetary"
   ]
  },
  {
   "cell_type": "code",
   "execution_count": null,
   "metadata": {},
   "outputs": [],
   "source": [
    "# Change the name of the Series to 'Monetary'\n",
    "monetary.name = 'Monetary'\n",
    "monetary.info()"
   ]
  },
  {
   "cell_type": "markdown",
   "metadata": {},
   "source": [
    "Let's combine the three RFM values into a single `DataFrame` named `rfm`."
   ]
  },
  {
   "cell_type": "code",
   "execution_count": null,
   "metadata": {},
   "outputs": [],
   "source": [
    "rfm = pd.concat([recency, frequency, monetary], axis=1)\n",
    "rfm"
   ]
  },
  {
   "cell_type": "markdown",
   "metadata": {},
   "source": [
    "### RFM Scores"
   ]
  },
  {
   "cell_type": "markdown",
   "metadata": {},
   "source": [
    "Now, let's assign scale scores. The goal here is to assign a number between 1 and 5 to each of the raw, calculated RFM values we found and put into the `rfm` `DataFrame`. In order to accomplish this task, we can use quantiles. Think of this as dividing the data into the top 20%, 40%, 60%, 80%, and over 80%. This approach will result in 5 groups that have the same number of customers in each group (roughly). Alternatively, you could pick 5 ranges that are the same distance apart from each other; that is, each group size will have the same high minus low range. This second approach would result in groups that do **not** have the same number of customers in each group (almost always).\n",
    "\n",
    "Let's use the quantile approach - the one that creates 5 groups, each with (approximately) the same number of customers in it. We can use the function `.qcut()` in `pandas` to easily accomplish this task."
   ]
  },
  {
   "cell_type": "code",
   "execution_count": null,
   "metadata": {},
   "outputs": [],
   "source": [
    "# Let's try it and spit out how many are in each group \n",
    "# to get a better idea of what it is doing\n",
    "pd.qcut(rfm.Recency, q=5).value_counts()"
   ]
  },
  {
   "cell_type": "markdown",
   "metadata": {},
   "source": [
    "Remember that a **smaller** recency is better because it means that the customer has purchased an item more recently. Therefore, we will assign a 5 to the 20% of customers that have the most recent purchases, etc."
   ]
  },
  {
   "cell_type": "code",
   "execution_count": null,
   "metadata": {},
   "outputs": [],
   "source": [
    "# create a copy of the dataframe and play with that copy\n",
    "rfm_copy = rfm.copy()"
   ]
  },
  {
   "cell_type": "code",
   "execution_count": null,
   "metadata": {},
   "outputs": [],
   "source": [
    "# convert to R score\n",
    "rfm_copy['Rscore'] = pd.qcut(rfm_copy.Recency, q=5, labels=[5,4,3,2,1])\n",
    "rfm_copy.head()"
   ]
  },
  {
   "cell_type": "code",
   "execution_count": null,
   "metadata": {},
   "outputs": [],
   "source": [
    "rfm_copy.Rscore.value_counts()"
   ]
  },
  {
   "cell_type": "markdown",
   "metadata": {},
   "source": [
    "We want to similarly assign both the frequency and monetary scores to each customer. Again, we'll use 5 quantiles. This time, however, larger numbers are better. We have to be careful with the frequency score. The first quantile in Frequency could be 1, which will conflict with the label 1. We will have to use a different method otherwise, we will get error message. Instead, we can create the quantiles by first pre-ranking the column.\n",
    "\n",
    "The next code cell will **fail**. The one following corrects this error."
   ]
  },
  {
   "cell_type": "code",
   "execution_count": null,
   "metadata": {},
   "outputs": [],
   "source": [
    "# convert to F score -- this will FAIL\n",
    "rfm_copy['Fscore'] = pd.qcut(rfm_copy.Frequency, q=5, labels=[1,2,3,4,5])\n",
    "rfm_copy.head()"
   ]
  },
  {
   "cell_type": "markdown",
   "metadata": {},
   "source": [
    "Let's rank each customer based on their frequency. Because there will be customers with the same frequency, we need to indicate how to break those ties. We'll use `method='first'` which simply says use the first one of customer it encounters to break any ties. "
   ]
  },
  {
   "cell_type": "code",
   "execution_count": null,
   "metadata": {},
   "outputs": [],
   "source": [
    "# Rank customers by frequency and sort from small to large\n",
    "rfm_copy.Frequency.rank(method='first').sort_values()"
   ]
  },
  {
   "cell_type": "code",
   "execution_count": null,
   "metadata": {},
   "outputs": [],
   "source": [
    "# Look at the first-ranked customer (smallest frequency)\n",
    "rfm_copy.loc[12821]"
   ]
  },
  {
   "cell_type": "code",
   "execution_count": null,
   "metadata": {},
   "outputs": [],
   "source": [
    "# Look at the second-ranked customer (smallest frequency)\n",
    "rfm_copy.loc[12824]"
   ]
  },
  {
   "cell_type": "code",
   "execution_count": null,
   "metadata": {},
   "outputs": [],
   "source": [
    "# convert to F score by using ranking\n",
    "rfm_copy['Fscore'] = pd.qcut(rfm_copy.Frequency.rank(method='first'), q=5, labels=[1,2,3,4,5])\n",
    "rfm_copy.head()"
   ]
  },
  {
   "cell_type": "markdown",
   "metadata": {},
   "source": [
    "We can use `qcut()` directly on our `Monetary` column to generate the `Mscore`."
   ]
  },
  {
   "cell_type": "code",
   "execution_count": null,
   "metadata": {},
   "outputs": [],
   "source": [
    "# convert to M score\n",
    "rfm_copy['Mscore'] = pd.qcut(rfm_copy.Monetary, q=5, labels=[1,2,3,4,5])\n",
    "rfm_copy.head()"
   ]
  },
  {
   "cell_type": "markdown",
   "metadata": {},
   "source": [
    "### Aggregating Scores\n",
    "\n",
    "We will now create a single `RFMscore` by simply taking the average of the R, F, and M scores for each customer. We'll store it in our `DataFrame` as a new column."
   ]
  },
  {
   "cell_type": "code",
   "execution_count": null,
   "metadata": {
    "scrolled": true
   },
   "outputs": [],
   "source": [
    "# we use the average of R, F, and M scores for RFM score\n",
    "rfm_copy['RFMscore'] = rfm_copy[['Rscore', 'Fscore', 'Mscore']].mean(axis=1)  \n",
    "\n",
    "rfm_copy.head()"
   ]
  },
  {
   "cell_type": "code",
   "execution_count": null,
   "metadata": {},
   "outputs": [],
   "source": [
    "# Take a quick look at the number of each aggegrated RFM score\n",
    "rfm_copy.RFMscore.value_counts()"
   ]
  },
  {
   "cell_type": "markdown",
   "metadata": {},
   "source": [
    "### Segmenting Customers\n",
    "\n",
    "Segmenting your customers depends highly on the context of what you are going to do with those segments. You may have a pre-defined number of segments with specific lables. For example, you could segement customers into the following groups:\n",
    "\n",
    "- Frequent buyers\n",
    "- Big spenders\n",
    "- Plantium customers\n",
    "- Gold customers, etc.\n",
    "\n",
    "Let's (arbitrarily) create 6 customer segments according to the following criteria:\n",
    "\n",
    "| Segment Label | RFM Score |\n",
    "| ------------- | --------- |\n",
    "| Basic | value &le; 1 |\n",
    "| Bronze | 1 < value &le; 2 |\n",
    "| Silver | 2 < valuse &le; 3 |\n",
    "| Gold | 3 < value &le; 4 |\n",
    "| Platinum | 4 < value &le; 4.5 |\n",
    "| Diamond | value > 4.5 |"
   ]
  },
  {
   "cell_type": "code",
   "execution_count": null,
   "metadata": {},
   "outputs": [],
   "source": [
    "# Let's try using `pd.cut()` and see what it looks like\n",
    "# Give it the bin edges as a list\n",
    "# Tell it to use the rightmost edge as *inclusive*\n",
    "pd.cut(rfm_copy.RFMscore, bins=[0,1,2,3,4,4.5,5], right=True)    "
   ]
  },
  {
   "cell_type": "code",
   "execution_count": null,
   "metadata": {},
   "outputs": [],
   "source": [
    "# Now let's add a new column to rfm_copy\n",
    "rfm_copy['LoyaltyTier'] = pd.cut(rfm_copy.RFMscore, bins=[0,1,2,3,4,4.5,5], right=True,\n",
    "                                labels=['Basic','Bronze','Silver','Gold','Platinum','Diamond'])\n",
    "\n",
    "rfm_copy"
   ]
  },
  {
   "cell_type": "code",
   "execution_count": null,
   "metadata": {},
   "outputs": [],
   "source": [
    "# How many customers are in each tier?\n",
    "rfm_copy.LoyaltyTier.value_counts()"
   ]
  },
  {
   "cell_type": "markdown",
   "metadata": {
    "deletable": false,
    "editable": false
   },
   "source": [
    "**&copy; 2023 - Present: Matthew D. Dean, Ph.D.   \n",
    "Clinical Associate Professor of Business Analytics at William \\& Mary.**"
   ]
  }
 ],
 "metadata": {
  "kernelspec": {
   "display_name": "Python 3 (ipykernel)",
   "language": "python",
   "name": "python3"
  },
  "language_info": {
   "codemirror_mode": {
    "name": "ipython",
    "version": 3
   },
   "file_extension": ".py",
   "mimetype": "text/x-python",
   "name": "python",
   "nbconvert_exporter": "python",
   "pygments_lexer": "ipython3",
   "version": "3.8.8"
  },
  "latex_envs": {
   "LaTeX_envs_menu_present": false,
   "autoclose": false,
   "autocomplete": true,
   "bibliofile": "biblio.bib",
   "cite_by": "apalike",
   "current_citInitial": 1,
   "eqLabelWithNumbers": true,
   "eqNumInitial": 1,
   "hotkeys": {
    "equation": "Ctrl-E",
    "itemize": "Ctrl-I"
   },
   "labels_anchors": true,
   "latex_user_defs": false,
   "report_style_numbering": false,
   "user_envs_cfg": false
  },
  "toc": {
   "base_numbering": 1,
   "nav_menu": {
    "height": "234px",
    "width": "251px"
   },
   "number_sections": true,
   "sideBar": true,
   "skip_h1_title": false,
   "title_cell": "Table of Contents",
   "title_sidebar": "Contents",
   "toc_cell": false,
   "toc_position": {
    "height": "calc(100% - 180px)",
    "left": "10px",
    "top": "150px",
    "width": "165px"
   },
   "toc_section_display": true,
   "toc_window_display": true
  }
 },
 "nbformat": 4,
 "nbformat_minor": 2
}
