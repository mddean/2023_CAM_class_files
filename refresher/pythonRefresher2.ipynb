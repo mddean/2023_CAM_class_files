{
 "cells": [
  {
   "cell_type": "markdown",
   "metadata": {},
   "source": [
    "# Python Refresher - Part 2"
   ]
  },
  {
   "cell_type": "markdown",
   "metadata": {},
   "source": [
    "# Python Conditional Statements and Control Flow\n",
    "\n",
    "-----"
   ]
  },
  {
   "cell_type": "markdown",
   "metadata": {},
   "source": [
    "Recall that we can create variables and assign values to those variables by simply creating a valid name followed by the equal sign and value we want to assign to that variable. For example to assign the integer 3 to the variable `x`, we would type:\n",
    "\n",
    "> `x = 3`\n",
    "\n",
    "We can determine the `type` of a variable by sending the variable name into the `type()` function. For example, `type(x)` will return `int`."
   ]
  },
  {
   "cell_type": "code",
   "execution_count": null,
   "metadata": {},
   "outputs": [],
   "source": [
    "# Try it to make sure\n",
    "x = 3\n",
    "print(f'x is {x} and has type {type(x)}')"
   ]
  },
  {
   "cell_type": "markdown",
   "metadata": {},
   "source": [
    "We can also attempt to convert a variable to a different type. Suppose we wanted to **cast** our variable `x` to a floating point. We can attempt to do so by passing it to the function `float()`."
   ]
  },
  {
   "cell_type": "code",
   "execution_count": null,
   "metadata": {},
   "outputs": [],
   "source": [
    "# Try to convert the int to a float\n",
    "newX = float(x)\n",
    "print(newX)\n",
    "print(type(newX))"
   ]
  },
  {
   "cell_type": "markdown",
   "metadata": {},
   "source": [
    "But what happens when you try to convert a variable and Python cannot \"do it\"? Let's try it."
   ]
  },
  {
   "cell_type": "code",
   "execution_count": null,
   "metadata": {},
   "outputs": [],
   "source": [
    "# Create a new variable that contains a string\n",
    "myString = 'Hi there'\n",
    "print(f'type of myString={type(myString)}')"
   ]
  },
  {
   "cell_type": "code",
   "execution_count": null,
   "metadata": {},
   "outputs": [],
   "source": [
    "# Try to convert myString to an int\n",
    "int(myString)"
   ]
  },
  {
   "cell_type": "markdown",
   "metadata": {},
   "source": [
    "----\n",
    "\n",
    "Previously, we covered the basic Python concepts required to begin writing legal Python code. Now, we will introduce conditional statements, which enable a program to perform different operations based on the value of a specific condition. The condition must evaluate to a Boolean value and can involve multiple comparison tests and logical operators. As a result, we first introduce Python's comparison operators (or Boolean tests) and logical operators before introducing the Python `if` statement. Then, we discuss additional control flow by utilizing loops.\n",
    "\n",
    "-----"
   ]
  },
  {
   "cell_type": "markdown",
   "metadata": {},
   "source": [
    "## Python Comparison (or Boolean) Operators\n",
    "\n",
    "Python supports the [basic comparison operators][1]. The following table summarizes the comparison operations:\n",
    "\n",
    "| Operator  | Description             | Example                    |\n",
    "| --------- | ----------------------- | -------------------------- |\n",
    "| `==` | equal | `a == b` |\n",
    "| `!=` | not equal | `a != b` |\n",
    "| `>` | strictly greater than | `a > b` |\n",
    "| `>=` | greater than or equal | `a >= b` |\n",
    "| `<` | strictly less than | `a < b` |\n",
    "| `<=` | less than or equal | `a <= b` |\n",
    "\n",
    "Typically, the data type of the values on either side of a comparison operator should be identical. If they are different, for example, different numerical types, the Python interpreter will attempt to coerce them to be of the same type. If that isn't possible, the objects being compared will never be equivalent (since they are of different, incompatible types). These operators are demonstrated in the following code cells. \n",
    "\n",
    "-----\n",
    "\n",
    "[1]: https://docs.python.org/3/library/stdtypes.html#comparisons"
   ]
  },
  {
   "cell_type": "code",
   "execution_count": null,
   "metadata": {},
   "outputs": [],
   "source": [
    "# Define several variables to demonstrate \n",
    "# comparison (Boolean) operators\n",
    "a = 5\n",
    "b = 6"
   ]
  },
  {
   "cell_type": "code",
   "execution_count": null,
   "metadata": {},
   "outputs": [],
   "source": [
    "# Equivalence operator\n",
    "a == b"
   ]
  },
  {
   "cell_type": "code",
   "execution_count": null,
   "metadata": {},
   "outputs": [],
   "source": [
    "# Not equivalence operator\n",
    "a != b"
   ]
  },
  {
   "cell_type": "code",
   "execution_count": null,
   "metadata": {},
   "outputs": [],
   "source": [
    "# Greater than operator\n",
    "a > b"
   ]
  },
  {
   "cell_type": "code",
   "execution_count": null,
   "metadata": {},
   "outputs": [],
   "source": [
    "# Less than operator\n",
    "a < b"
   ]
  },
  {
   "cell_type": "code",
   "execution_count": null,
   "metadata": {},
   "outputs": [],
   "source": [
    "# Compare different, numerical data types\n",
    "a == 5.0"
   ]
  },
  {
   "cell_type": "code",
   "execution_count": null,
   "metadata": {},
   "outputs": [],
   "source": [
    "# Compare different data types\n",
    "a == 'Five'"
   ]
  },
  {
   "cell_type": "markdown",
   "metadata": {},
   "source": [
    "-----\n",
    "\n",
    "<font color='red' size = '5'> Student Exercise </font>\n",
    "\n",
    "In the empty **Code** cell below, create two variables, `y` and `z`, assign the following values to these two variables, and test out the conditional operators `==`, `!=`, `>`, and `<`:\n",
    "\n",
    "1. 0, -1\n",
    "2. 1, 1.0\n",
    "3. 9, 3**2\n",
    "\n",
    "Did the results match your expectations?\n",
    "\n",
    "-----"
   ]
  },
  {
   "cell_type": "code",
   "execution_count": null,
   "metadata": {},
   "outputs": [],
   "source": []
  },
  {
   "cell_type": "markdown",
   "metadata": {},
   "source": [
    "-----\n",
    "\n",
    "### Python Logical Operators\n",
    "\n",
    "In order to build more complex conditional statements, Python provides [three logical operators][1] that allow multiple comparisons to be combined. These three operators are described in the following table:\n",
    "\n",
    "\n",
    "| Operator  | Description             | Example                    |\n",
    "| --------- | ----------------------- | -------------------------- |\n",
    "| or   | **or** operator, `True` if either condition is true       | `a or b`|\n",
    "| and  | **and** operator, `True` only if both conditions are true       | `a and b`|\n",
    "| not  | **not** operator, opposite of condition       | `not a`|\n",
    "\n",
    "These operators are fairly self-explanatory, but one important issue is that the Python operator will stop evaluating a conditional statement as quickly as possible. Thus, if the first part of an `and` operation is `False` (or, conversely `True` for an `or` operation), the remaining part of the statement will not be processed since the overall result will be `False`. This approach is known as _short-circuiting_ and can produce faster code execution; however, it can easily lead to confusion if you perform function calls or variable creation in the latter parts of a conditional statement.\n",
    "\n",
    "These operators are demonstrated in the following Code cells, where we first define several Boolean variables before showing how to use each operator. In general, it is recommended to use parentheses to explicitly indicate operator order. Otherwise, one must be very careful to understand and follow the rules of operator precedence.\n",
    "\n",
    "-----\n",
    "[1]: https://docs.python.org/3/library/stdtypes.html#boolean-operations-and-or-not"
   ]
  },
  {
   "cell_type": "code",
   "execution_count": null,
   "metadata": {},
   "outputs": [],
   "source": [
    "c = (a == b)\n",
    "d = (a != b)\n",
    "\n",
    "print(f'c is {c}\\nd is {d}')"
   ]
  },
  {
   "cell_type": "code",
   "execution_count": null,
   "metadata": {},
   "outputs": [],
   "source": [
    "# or operator\n",
    "c or d"
   ]
  },
  {
   "cell_type": "code",
   "execution_count": null,
   "metadata": {},
   "outputs": [],
   "source": [
    "# and operator\n",
    "c and d"
   ]
  },
  {
   "cell_type": "code",
   "execution_count": null,
   "metadata": {},
   "outputs": [],
   "source": [
    "# not operator\n",
    "not c"
   ]
  },
  {
   "cell_type": "code",
   "execution_count": null,
   "metadata": {},
   "outputs": [],
   "source": [
    "# Demonstrate short-circuiting\n",
    "\n",
    "# Define function to print message and return Boolean\n",
    "def test():\n",
    "    print('Hello')\n",
    "    return True"
   ]
  },
  {
   "cell_type": "code",
   "execution_count": null,
   "metadata": {},
   "outputs": [],
   "source": [
    "# test user-defined function\n",
    "test()"
   ]
  },
  {
   "cell_type": "code",
   "execution_count": null,
   "metadata": {},
   "outputs": [],
   "source": [
    "# Function is never called since c is False\n",
    "c and test()"
   ]
  },
  {
   "cell_type": "markdown",
   "metadata": {},
   "source": [
    "-----\n",
    "\n",
    "<font color='red' size = '5'> Student Exercise </font>\n",
    "\n",
    "In the empty **Code** cell below, create a new function called `myFunction` that takes no arguments and always returns `True`. Apply the `not` operator to the return value from this function and use the equivalence operator to compare this new value to `False`. Did the final result match your expectations?\n",
    "\n",
    "Note that you may want to use parentheses to group operations.\n",
    "\n",
    "-----"
   ]
  },
  {
   "cell_type": "code",
   "execution_count": null,
   "metadata": {},
   "outputs": [],
   "source": []
  },
  {
   "cell_type": "markdown",
   "metadata": {},
   "source": [
    "-----\n",
    "\n",
    "These operators can be used on any data types, not just integers. When comparing a more complex data type, for example, a string of characters, the equivalence tests require matching of each item in the string. This is demonstrated in the following Code cell.\n",
    "\n",
    "-----"
   ]
  },
  {
   "cell_type": "code",
   "execution_count": null,
   "metadata": {},
   "outputs": [],
   "source": [
    "# What will the following test of equivalence produce?\n",
    "'William' == 'william'"
   ]
  },
  {
   "cell_type": "markdown",
   "metadata": {},
   "source": [
    "-----\n",
    "\n",
    "### Conditional Statements\n",
    "\n",
    "Python supports conditional execution of code blocks by using `if` conditional branching statements. Formally, the syntax for an `if` statement is simple. \n",
    "\n",
    "```python\n",
    "if (condition):\n",
    "    # Do something\n",
    "```\n",
    "\n",
    "If the condition evaluates to `True`, the indented statements are executed; otherwise, they are not executed, and the program execution continues with the lines following the if clause. The condition can be any combination of variables, functions, comparison, or logical operators as long as the final result evaluates to either `True` or `False`. The following Code cell demonstrates the basic operation of an `if` statement.\n",
    "\n",
    "-----"
   ]
  },
  {
   "cell_type": "code",
   "execution_count": null,
   "metadata": {
    "scrolled": true
   },
   "outputs": [],
   "source": [
    "# Test out an if ... else statement\n",
    "\n",
    "# First define a function to use\n",
    "def theFunction():\n",
    "    # silly function that always returns False\n",
    "    return False"
   ]
  },
  {
   "cell_type": "code",
   "execution_count": null,
   "metadata": {},
   "outputs": [],
   "source": [
    "# Test theFunction()\n",
    "theFunction()"
   ]
  },
  {
   "cell_type": "code",
   "execution_count": null,
   "metadata": {},
   "outputs": [],
   "source": [
    "# What will be printed?\n",
    "print('Before the if statement.')\n",
    "\n",
    "if (not theFunction()):\n",
    "    print('Inside the if statement.')\n",
    "\n",
    "print('After the if statement.')"
   ]
  },
  {
   "cell_type": "markdown",
   "metadata": {},
   "source": [
    "-----\n",
    "\n",
    "An `if` statement can also execute statements if the condition is `False` by using an `else` clause as shown in the following pseudocode:\n",
    "\n",
    "\n",
    "```python\n",
    "if (condition):\n",
    "    # Do something\n",
    "else:\n",
    "    # Do something else        \n",
    "```\n",
    "\n",
    "In this case, either the first set of statements (indicted by the `# Do something` comment) is executed, or the second set of statements (indicted by the `# Do something else` comment) is executed, depending on whether the condition evaluates to `True` (the first set of statements) or `False` (the second set of statements). This is demonstrated in the following Code cell.\n",
    "\n",
    "-----"
   ]
  },
  {
   "cell_type": "code",
   "execution_count": null,
   "metadata": {},
   "outputs": [],
   "source": [
    "# Test out an if ... else statement\n",
    "\n",
    "print('Before the if statement.')\n",
    "\n",
    "if (theFunction()):\n",
    "    print('Inside the true section.')\n",
    "else:\n",
    "    print('Inside the false section.')\n",
    "\n",
    "print('After the if statement.')"
   ]
  },
  {
   "cell_type": "markdown",
   "metadata": {},
   "source": [
    "-----\n",
    "\n",
    "### Nested `if` statements\n",
    "\n",
    "We can nest `if` statements inside each other to handle more complex tests. The key requirement is that you must maintain the proper level of indentation for each `if` and `else` clause. A nested `if` statement can be useful when handling multiple options depending on the values of multiple variables. This is demonstrated in the following Code cell.\n",
    "\n",
    "-----"
   ]
  },
  {
   "cell_type": "code",
   "execution_count": null,
   "metadata": {},
   "outputs": [],
   "source": [
    "# We assign multiple variables on one line, separating them by a semicolon\n",
    "# This is just a shorthand to avoid placing them on different lines\n",
    "x = 7 ; y = 14"
   ]
  },
  {
   "cell_type": "code",
   "execution_count": null,
   "metadata": {},
   "outputs": [],
   "source": [
    "if (x > 10):\n",
    "    if (y > 10):\n",
    "        print('Both x and y are large.')\n",
    "    else:\n",
    "        print('x is large and y is small.')\n",
    "else:\n",
    "    if (y > 10):\n",
    "        print('x is small and y is large.')\n",
    "    else:\n",
    "        print('Both x and y are small.')"
   ]
  },
  {
   "cell_type": "markdown",
   "metadata": {},
   "source": [
    "-----\n",
    "\n",
    "### The `elif` clause\n",
    "\n",
    "Multiple branches are supported by using one or more `elif` commands, which is shorthand for `else if`, after the initial `if` statement. An `else` statement can be used to handle any results that are not met by previous conditional statements. The code blocks are initiated by a colon character following and indented four spaces, as demonstrated in the following sample code:\n",
    "\n",
    "```python\n",
    "if (x > 10):\n",
    "    print('x is large')\n",
    "elif (x > 5):\n",
    "    print('x is medium')\n",
    "else:\n",
    "    print('x is small')\n",
    "```\n",
    "\n",
    "Depending on the value of the variable `x`, the first, second, or third `print` statement will be executed. `if` control statements can be nested if required by the algorithmic logic, but doing so requires being extremely careful to maintain proper indentation. Nested conditional statements are demonstrated in the following sample code:\n",
    "\n",
    "```python\n",
    "if (x > 10):\n",
    "    if (y > 10):\n",
    "        print('x and y are large')\n",
    "    else:\n",
    "        print('x is large, but y is not')  \n",
    "elif (x > 5):\n",
    "    if (y > 10):\n",
    "        print('x is medium but y is large')\n",
    "else:\n",
    "    if (y > 10):\n",
    "        print('x is small and y is large')\n",
    "    elif (y > 5):\n",
    "        print('x is small but y is medium')\n",
    "    else:\n",
    "        print('x and y are small')\n",
    "```\n",
    "\n",
    "-----"
   ]
  },
  {
   "cell_type": "markdown",
   "metadata": {},
   "source": [
    "<font color='red' size = '5'> Student Exercise </font>\n",
    "\n",
    "The **Code** cell below contains this last conditional statement. Provide your own initial values for `x` and `y`, and before executing the Code cell, determine what output will be displayed. Now run the Code cell. Was your expectation correct? Try different values for `x` and `y` and repeat this process, and (optionally) try changing the conditional statements.\n",
    "\n",
    "-----"
   ]
  },
  {
   "cell_type": "code",
   "execution_count": null,
   "metadata": {},
   "outputs": [],
   "source": [
    "# Change the values for x and y and see how the output changes\n",
    "\n",
    "x = 10\n",
    "y = 10\n",
    "\n",
    "if (x > 10):\n",
    "    if (y > 10):\n",
    "        print('x and y are large')\n",
    "    else:\n",
    "        print('x is large, but y is not')  \n",
    "elif (x > 5):\n",
    "    if (y > 10):\n",
    "        print('x is medium but y is large')\n",
    "else:\n",
    "    if (y > 10):\n",
    "        print('x is small and y is large')\n",
    "    elif (y > 5):\n",
    "        print('x is small but y is medium')\n",
    "    else:\n",
    "        print('x and y are small')"
   ]
  },
  {
   "cell_type": "markdown",
   "metadata": {},
   "source": [
    "-----\n",
    "\n",
    "### Handling empty code blocks\n",
    "\n",
    "While you can simply place a comment in an indented block to indicate no code should be executed, a better option, which is explicit, is to use the `pass` statement. The `pass` statement does nothing and is a simple placeholder that is used in place of a code block when no action is required. This statement can be useful to delay writing specific operations, for example, when you build a multi-way `if` statement and the code to implement each option is not finalized. This is demonstrated in the following Code cell.\n",
    "\n",
    "-----"
   ]
  },
  {
   "cell_type": "code",
   "execution_count": null,
   "metadata": {},
   "outputs": [],
   "source": [
    "# value could be entered by user or computed\n",
    "value = 'violet'\n",
    "\n",
    "if (value == 'blue'):\n",
    "    print('Your favorite color is blue.')\n",
    "    # modify a plot visualization to use blue\n",
    "elif (value == 'red'):\n",
    "    pass # No code option yet for red\n",
    "else:\n",
    "    print('You did not enter a valid color selection')"
   ]
  },
  {
   "cell_type": "markdown",
   "metadata": {},
   "source": [
    "-----\n",
    "## Loops\n",
    "\n",
    "A loop executes an action while a condition is met, then terminates. There are two basic looping techniques.\n",
    "\n",
    "### `while` loops\n",
    "\n",
    "A `while` loop will execute while a condition is `True`, as its name implies. The `while` loop first checks whether a condition is true. If it is, the loop takes some actions and then rechecks the condition. If the condition is true, the loop executes again. This process repeats until the condition is false. *Note:* This is where you can easily create an **infinite loop**, which is very, very **bad** thing.\n",
    "\n",
    "The syntax for a `while` loop is:\n",
    "\n",
    "```python\n",
    "while condition:\n",
    "    statement 1\n",
    "    statement 2\n",
    "    ...\n",
    "```\n",
    "\n",
    "### `for` loops\n",
    "\n",
    "A `for` loop is very similiar to a `while` loop. It will test a condition and execute the body of the loop if the condition is satisfied. The difference is that a `for` loop will *iterate*, or loop over, something automatically. These are the types of loops you will encounter very, very frequently. Therefore, you should gain a solid understanding of them. The syntax of a `for` loop is:\n",
    "\n",
    "```python\n",
    "for variable in somethingIterable:\n",
    "    statement 1\n",
    "    statement 2\n",
    "    ...\n",
    "```\n",
    "\n",
    "A common scenario is to loop over a collection of data, such as a `list`. The code below creates a new list and iterates through it using a `for` loop.`"
   ]
  },
  {
   "cell_type": "code",
   "execution_count": null,
   "metadata": {},
   "outputs": [],
   "source": [
    "# Create a list with some stuff in it\n",
    "myList = [1, 3, 'Five', 7, 9]\n",
    "\n",
    "# Iterate over myList with a for loop, simply printing each element\n",
    "for i in myList:\n",
    "    print(i)"
   ]
  },
  {
   "cell_type": "markdown",
   "metadata": {},
   "source": [
    "You will also encounter the scenario where you know the number of times you want to execute a specific number of times. You can accomplish this task by using the built-in `range()` function. Although it appears that `range()` returns and acts like a `list`, it does not; it is in fact an object which returns successive items of the desired sequence when you iterate over it (this saves space). Let's try it."
   ]
  },
  {
   "cell_type": "code",
   "execution_count": null,
   "metadata": {},
   "outputs": [],
   "source": [
    "# set up the number of times you want to execute a statement\n",
    "n = 5\n",
    "for i in range(n):\n",
    "    print(f'i = {i}')"
   ]
  },
  {
   "cell_type": "markdown",
   "metadata": {},
   "source": [
    "You should have noticed, that by default, the `range()` function starts at 0. You can change this behavior by passing in two parameters: the starting point and the ending point, whic is **excluded**. The call `range(1, 5)` would only create the sequence of numbers `1, 2, 3, 4` and **not** include the number 5."
   ]
  },
  {
   "cell_type": "code",
   "execution_count": null,
   "metadata": {},
   "outputs": [],
   "source": [
    "# Create a starting point of 1\n",
    "start = 1\n",
    "for i in range(start, n):\n",
    "    print(f'i = {i}')"
   ]
  },
  {
   "cell_type": "markdown",
   "metadata": {},
   "source": [
    "### `break` and `continue`\n",
    "\n",
    "We can use the keywords `break` or `continue` within loops. The `break` statment breaks out of the innermost enclosing `for` or `while` loop. Conversely, the `continue` statement continues with the next iteration of the loop. Let's look at both now."
   ]
  },
  {
   "cell_type": "code",
   "execution_count": null,
   "metadata": {},
   "outputs": [],
   "source": [
    "# Loop through numbers 1 to 9\n",
    "# Break out of the for loop when we find 5\n",
    "for num in range(1, 10):\n",
    "    if num == 5:\n",
    "        print('Found 5, so breaking')\n",
    "        break\n",
    "    print(f'num is {num}')"
   ]
  },
  {
   "cell_type": "code",
   "execution_count": null,
   "metadata": {},
   "outputs": [],
   "source": [
    "# Loop through numbers 1 to 9\n",
    "# Continue to next iteration when we find 5\n",
    "for num in range(1, 10):\n",
    "    if num == 5:\n",
    "        continue  # skip the number 5\n",
    "    print(f'num is {num}')"
   ]
  },
  {
   "cell_type": "markdown",
   "metadata": {},
   "source": [
    "----\n",
    "\n",
    "# Introduction to Python Functions\n",
    "\n",
    "-----"
   ]
  },
  {
   "cell_type": "markdown",
   "metadata": {},
   "source": [
    "We now introduce a modularization concept known as functions. Functions promote code reuse by encapsulating a particular set of program statements into a single entity. This approach can be very beneficial since once a function is written and tested, it can confidently be reused many times, simplifying the development of new programs. When you have completed this notebook, you will be able to create and apply user-defined functions.\n",
    "\n",
    "-----"
   ]
  },
  {
   "cell_type": "markdown",
   "metadata": {},
   "source": [
    "## Functions\n",
    "\n",
    "The Python language provides convenience functions and supports the creation and application of user-defined functions, which can simplify program development by promoting code reuse. In this notebook, we introduce a number of built-in functions such as the `print` function. For now, we use this function to simply display messages and unformatted variables. However, this function in general is very useful and can easily display formatted output. Over future notebooks, we will introduce additional functionality for this (and other similar functions) that will include instructions on how to display properly formatted data.\n",
    "\n",
    "### Python Functions\n",
    "\n",
    "The Python programming language provides a number of [built-in functions][bpf] that you should learn to use properly. These built-in functions are always available. The following table presents some of the more useful built-in functions for use in mathematical expressions.\n",
    "\n",
    "| Built-in Function | Description                              |\n",
    "| ----------------- | ---------------------------------------- |\n",
    "| `abs(x)`          | Returns the absolute value of `x`        |\n",
    "| `divmod(x, y)`    | Returns both the quotient and remainder of `x/y` when using integer division |\n",
    "| `float(x)`        | Returns `x` as a floating-point value    |\n",
    "| `help(x)`         | Prints a help message using the docstring for `x` |\n",
    "| `id()`            | Prints the numerical identifier associated with a name | \n",
    "| `input()`         | Displays a message prompting the user to enter text data |\n",
    "| `int(x)`          | Returns `x` as an integer value           |\n",
    "| `print()`         | Displays a message to the screen |\n",
    "| `pow(x, y)`       | Returns the exponential function `x**y`  |\n",
    "| `round(x, n)`     | Returns `x` as a floating-point value rounded to `n` digits (by default `n=0`) |\n",
    "| `str(x)`          | Returns `x` as a string of characters |\n",
    "| `type()`          | Prints the data type for a given name |\n",
    "\n",
    "In the following Code cells, we demonstrate how to use several of these functions.\n",
    "\n",
    "-----\n",
    "[bpf]: https://docs.python.org/3/library/functions.html#built-in-functions"
   ]
  },
  {
   "cell_type": "code",
   "execution_count": null,
   "metadata": {},
   "outputs": [],
   "source": [
    "# Demonstrate several built-in functions\n",
    "val = -3.2\n",
    "\n",
    "print(f'The value = {val}')\n",
    "print(f'The absolute value = {abs(val)}')"
   ]
  },
  {
   "cell_type": "code",
   "execution_count": null,
   "metadata": {},
   "outputs": [],
   "source": [
    "type(val)"
   ]
  },
  {
   "cell_type": "code",
   "execution_count": null,
   "metadata": {},
   "outputs": [],
   "source": [
    "# This is the address of the variable val\n",
    "id(val)"
   ]
  },
  {
   "cell_type": "code",
   "execution_count": null,
   "metadata": {},
   "outputs": [],
   "source": [
    "# Changing val means we store a different value, which uses a different location\n",
    "val = 1\n",
    "id(val)"
   ]
  },
  {
   "cell_type": "code",
   "execution_count": null,
   "metadata": {},
   "outputs": [],
   "source": [
    "# Get input from the user and process it\n",
    "val = input('Enter an integer value: ')\n",
    "\n",
    "# The type is a string\n",
    "print(f'The type of your input was {type(val)}')\n",
    "\n",
    "# We need to convert the string returned by `input` to an integer to square it\n",
    "print(f'That value squared = {pow(int(val), 2)}')"
   ]
  },
  {
   "cell_type": "markdown",
   "metadata": {},
   "source": [
    "-----\n",
    "\n",
    "### Everything Is an Object\n",
    "\n",
    "In Python3, everything is an object. This means data, functions, and data structures are all objects. If you ask, _'What is an object?'_ the simple answer is an object can be assigned to a variable or passed into a function as an argument. Thus, you can assign functions to a variable or pass a function as an argument to another function. In this course we won't dive into object-oriented programming concepts, but this approach makes Python a very powerful programming language that can be used to build amazing applications. \n",
    "\n",
    "-----"
   ]
  },
  {
   "cell_type": "markdown",
   "metadata": {},
   "source": [
    "<font color='red' size = '5'> Student Exercise </font>\n",
    "\n",
    "In the empty **Code** cell below, write Python code to have a user enter two floating point values. Next, raise the first value to the absolute value of the second value. Finally, display the type and id of both input variables.\n",
    "\n",
    "-----"
   ]
  },
  {
   "cell_type": "code",
   "execution_count": null,
   "metadata": {},
   "outputs": [],
   "source": []
  },
  {
   "cell_type": "markdown",
   "metadata": {},
   "source": [
    "-----\n",
    "\n",
    "## User Functions\n",
    "\n",
    "Python also provides a user with the ability to create new functions. A Python function is defined by using the `def` keyword, followed by the function name. After the function name is a set of matching parentheses that enclose any arguments to the function. A colon character follows the closing parenthesis, which signifies the start of the code block that provides the function implementation, which is known as the function body. The function body is indented four spaces to set it apart from the rest of the code in your program.\n",
    "\n",
    "As a simple example, the following function takes no arguments and simply prints a standard message:\n",
    "\n",
    "```python\n",
    "def hello():\n",
    "    print('Hello World!')\n",
    "```\n",
    "\n",
    "This function is called in a Python program by simply using its name followed by the parentheses, `hello()`, which will print out `Hello World!` to the display."
   ]
  },
  {
   "cell_type": "code",
   "execution_count": null,
   "metadata": {},
   "outputs": [],
   "source": [
    "# Demonstrate the user-defined function\n",
    "\n",
    "def hello():\n",
    "    print('Hello World!')\n",
    "    \n",
    "# Test it\n",
    "hello()"
   ]
  },
  {
   "cell_type": "markdown",
   "metadata": {},
   "source": [
    "-----\n",
    "\n",
    "<font color='red' size = '5'> Student Exercise </font>\n",
    "\n",
    "In the empty **Code** cell below, create a simple function that takes no arguments and prints the message **Success!** After the function definition, call this function (as we did above with the `hello` function) to ensure your code works correctly.\n",
    "\n",
    "-----"
   ]
  },
  {
   "cell_type": "code",
   "execution_count": null,
   "metadata": {},
   "outputs": [],
   "source": []
  },
  {
   "cell_type": "markdown",
   "metadata": {},
   "source": [
    "-----\n",
    "\n",
    "## Doc Strings\n",
    "\n",
    "A standard practice is to employ a docstring, or documentation string, comment immediately after the function definition line to provide documentation for the function. A docstring comment is enclosed in triple-quotes, for example:\n",
    "\n",
    "```python\n",
    "\"\"\"Here is our demonstration docstring comment.\n",
    "The text can span multiple lines, until\n",
    "the closing set of quotes is employed.\n",
    "\"\"\"\n",
    "```\n",
    "\n",
    "The Python interpreter will by default use this docstring as the official function documentation, which typically is accessed by using the built-in `help()` function. This is demonstrated in the following two Code cells, where we define and call this function, and subsequently access the documentation.\n",
    "\n",
    "-----"
   ]
  },
  {
   "cell_type": "code",
   "execution_count": null,
   "metadata": {},
   "outputs": [],
   "source": [
    "def hello():\n",
    "    \"\"\"Display a welcome message to the user.\"\"\"\n",
    "    print('Hello World!')\n",
    "\n",
    "hello()"
   ]
  },
  {
   "cell_type": "code",
   "execution_count": null,
   "metadata": {},
   "outputs": [],
   "source": [
    "help(hello)"
   ]
  },
  {
   "cell_type": "markdown",
   "metadata": {},
   "source": [
    "-----\n",
    "\n",
    "<font color='red' size = '5'> Student Exercise </font>\n",
    "\n",
    "In the empty **Code** cell below, copy your simple function defined above, and add an appropriate documentation string by using a triple quoted string. After the function definition, use the `help` function to view your documentation string. \n",
    "\n",
    "-----"
   ]
  },
  {
   "cell_type": "code",
   "execution_count": null,
   "metadata": {},
   "outputs": [],
   "source": []
  },
  {
   "cell_type": "markdown",
   "metadata": {},
   "source": [
    "-----\n",
    "\n",
    "## Function Arguments\n",
    "\n",
    "A function can accept zero or more arguments by simply listing the argument names between the parentheses. These argument names are the names you use to access the values contained in these arguments within the function body. For example, we can modify the original `hello` function to take a `name` argument that is used when printing out a welcome message:\n",
    "\n",
    "```python\n",
    "def hello(name):\n",
    "    \"\"\"Display a welcome message to the user.\"\"\"\n",
    "    print('Hello', name)\n",
    "```\n",
    "\n",
    "When called with an argument `William`, this function will print `Hello William`. "
   ]
  },
  {
   "cell_type": "code",
   "execution_count": null,
   "metadata": {},
   "outputs": [],
   "source": [
    "# Create our first function that takes an argument\n",
    "\n",
    "def hello(name):\n",
    "    \"\"\"Display a welcome message to the user.\"\"\"\n",
    "    print('Hello', name)\n",
    "\n",
    "# Test it\n",
    "hello('William')"
   ]
  },
  {
   "cell_type": "markdown",
   "metadata": {},
   "source": [
    "-----\n",
    "\n",
    "<font color='red' size = '5'> Student Exercise </font>\n",
    "\n",
    "In the empty **Code** cell below, create a simple function that takes one argument and prints a unique message, along with the text that was passed in as an argument. After the function definition, call this function to ensure your code works correctly.\n",
    "\n",
    "-----"
   ]
  },
  {
   "cell_type": "code",
   "execution_count": null,
   "metadata": {},
   "outputs": [],
   "source": []
  },
  {
   "cell_type": "markdown",
   "metadata": {},
   "source": [
    "-----\n",
    "\n",
    "### Multiple Arguments\n",
    "\n",
    "Functions can take multiple arguments, in which case the different arguments are simply separated by commas between the parentheses. For example, the following code snippet creates a function that takes two arguments. \n",
    "\n",
    "```python\n",
    "def helloMessage(name, text):\n",
    "    \"\"\"\n",
    "    Display a welcome message to the named user.\n",
    "    \n",
    "    \"\"\"\n",
    "    print(f'Hello {name}. {text}')\n",
    "```\n",
    "\n",
    "If this function is called as  `helloMessage('Alex', 'Welcome to the class.')`,  the following output is displayed:\n",
    "\n",
    "```\n",
    "Hello Alex. Welcome to class.\n",
    "```\n",
    "\n",
    "Notice that we continue to use *f-strings* for nice formatting.\n",
    "\n",
    "-----"
   ]
  },
  {
   "cell_type": "code",
   "execution_count": null,
   "metadata": {},
   "outputs": [],
   "source": [
    "def helloMessage(name, text):\n",
    "    \"\"\"\n",
    "    Display a welcome message to the named user.\n",
    "    \n",
    "    \"\"\"\n",
    "\n",
    "    print(f'Hello {name}. {text}')"
   ]
  },
  {
   "cell_type": "code",
   "execution_count": null,
   "metadata": {},
   "outputs": [],
   "source": [
    "helloMessage('Alex', 'Welcome to the class.')\n",
    "helloMessage('Jane', 'How was your weekend?')"
   ]
  },
  {
   "cell_type": "markdown",
   "metadata": {},
   "source": [
    "-----\n",
    "\n",
    "<font color='red' size = '5'> Student Exercise </font>\n",
    "\n",
    "In the empty **Code** cell below, write a function that takes three arguments: two names and one text message. This function should print a welcome message that names both students (the names are in the first two arguments), along with the user supplied text message (i.e., the third argument), and prints a unique message, along with the text that was passed in as an argument. After the function definition, call this function to ensure your code works correctly.\n",
    "\n",
    "-----"
   ]
  },
  {
   "cell_type": "code",
   "execution_count": null,
   "metadata": {},
   "outputs": [],
   "source": []
  },
  {
   "cell_type": "markdown",
   "metadata": {},
   "source": [
    "-----\n",
    "\n",
    "### Default Arguments\n",
    "\n",
    "In some cases, a function accepts one or more arguments that often have _default_ values. Python supports default arguments that enable a Python programmer to specify a default value for an argument, which can be overridden if the user supplies a specific value. A default argument is specified by simply including an equal sign and the default value after a specific argument, like `text = \"Welcome to class.\"`. With this default argument for the `helloMessage` function, we could leave off the second argument if desired.\n",
    "\n",
    "Default arguments are often used in functions that are part of large packages to simplify their use. New users can quickly call the functions, while advanced users can achieve more control of the function by specifying additional arguments explicitly. We demonstrate the use of default arguments in the following Code cell.\n",
    "\n",
    "----"
   ]
  },
  {
   "cell_type": "code",
   "execution_count": null,
   "metadata": {},
   "outputs": [],
   "source": [
    "# Redefine the hello_message function with a default text parameter\n",
    "def helloMessage(name, text='Welcome to class.'):\n",
    "    \"\"\"\n",
    "    Display a welcome message to the named user.\n",
    "    \n",
    "    \"\"\"\n",
    "\n",
    "    print(f'Hello {name}. {text}') \n"
   ]
  },
  {
   "cell_type": "code",
   "execution_count": null,
   "metadata": {},
   "outputs": [],
   "source": [
    "# Call the function without the text parameter\n",
    "helloMessage('Sarah')\n",
    "\n",
    "# Now call the function with different text\n",
    "helloMessage('Sam', 'Do you have any questions?')"
   ]
  },
  {
   "cell_type": "markdown",
   "metadata": {},
   "source": [
    "----\n",
    "\n",
    "### Keyword Arguments\n",
    "\n",
    "One last aspect of function arguments is that when a function is called, the argument names listed in the function definition can be explicitly specified, along with the values they should take when the function is called. This type of function call is said to be using _keyword arguments_. When using keyword arguments, the order of the arguments listed in the function call is arbitrary and does not need to explicitly match the argument order listed in the function definition. For example, we could call the `helloMessage` function:\n",
    "\n",
    "```python\n",
    "helloMessage(text = 'Welcome to class.', name = 'Jane')\n",
    "```\n",
    "\n",
    "-----"
   ]
  },
  {
   "cell_type": "markdown",
   "metadata": {},
   "source": [
    "## Returning Values\n",
    "\n",
    "Most functions that you use accept input, process the input, and return a result, for example, math functions like `sin` or `cos` or `abs`. In Python, we can write functions that return a result by simply using the `return` keyword, followed by the result we wish to return. A Python function can return only one value. However, if we separate multiple values with a comma (or place them all inside parentheses where the values are separated by commas), we can return multiple values. Formally, this uses a data structure called a `tuple`, which we introduced early. \n",
    "\n",
    "These two return types are demonstrated in the following sample code:\n",
    "\n",
    "```python\n",
    "def hello2():\n",
    "    return 'Hello World!'\n",
    "\n",
    "def hello3(name):\n",
    "    return 'Hello, ', name\n",
    "```\n",
    "\n",
    "Calling the first function in this sample code as `msg = hello2()` will assign the string `Hello World!` to the `msg` variable, while calling the second of these functions as `msg = hello3()` will assign the tuple `('Hello', name)` to the `msg` variable. Note that for the `hello3` function, the argument is not required, as written, to be a string; therefore, the return tuple will have a string as the first element and the second element will be the same type as the argument `name`.\n",
    "\n",
    "Note, when returning multiple values as a tuple, we can either enclose the values in parentheses or simply separate them with commas as shown in the example."
   ]
  },
  {
   "cell_type": "code",
   "execution_count": null,
   "metadata": {},
   "outputs": [],
   "source": [
    "# Redefine the helloMessage function to return the string\n",
    "def helloMessage(name, text='Welcome to class.'):\n",
    "    \"\"\"\n",
    "    Return a welcome message to the named user.\n",
    "    \n",
    "    \"\"\"\n",
    "\n",
    "    return f'Hello {name}. {text}'"
   ]
  },
  {
   "cell_type": "code",
   "execution_count": null,
   "metadata": {},
   "outputs": [],
   "source": [
    "# Call the function without the text parameter\n",
    "msg = helloMessage('Sara')\n",
    "print(f'msg is: {msg}')"
   ]
  },
  {
   "cell_type": "code",
   "execution_count": null,
   "metadata": {},
   "outputs": [],
   "source": [
    "# Notice the difference if we call the function with the text parameter \n",
    "helloMessage('Tom', 'How are you feeling today?')"
   ]
  },
  {
   "cell_type": "markdown",
   "metadata": {},
   "source": [
    "-----\n",
    "\n",
    "<font color='red' size = '5'> Student Exercise </font>\n",
    "\n",
    "In the empty **Code** cell below, create a simple function that takes a numerical argument and returns the argument multiplied by 10. Demonstrate your function works by displaying the result of the function on the integer 10.\n",
    "\n",
    "-----"
   ]
  },
  {
   "cell_type": "code",
   "execution_count": null,
   "metadata": {},
   "outputs": [],
   "source": []
  },
  {
   "cell_type": "markdown",
   "metadata": {},
   "source": [
    "-----\n",
    "\n",
    "## Arguments are Local Variables\n",
    "\n",
    "When a function is called, Python creates a new environment for that function. The new environment inherits everything from its calling environment. Any arguments to the functionare created as variables in the function's environment. Those variables, and the function's environment, are deleted once the function returns a value or finishes execution. Functions may reference variables in their calling environment. However, if a function attempts to alter a variable in its calling environment, Python will create a new local variable with the same name. Any changes made to the local variable do not affect the calling environment. This subtlety is illustrated with the example below."
   ]
  },
  {
   "cell_type": "code",
   "execution_count": null,
   "metadata": {},
   "outputs": [],
   "source": [
    "def sampleFn():\n",
    "    x = 0\n",
    "    print(f'Inside sampleFn(), x is {x}')\n",
    "    \n",
    "x = 15\n",
    "sampleFn()\n",
    "print(f'Outside sampleFn(), x is {x}')"
   ]
  },
  {
   "cell_type": "markdown",
   "metadata": {},
   "source": [
    "-----\n",
    "## Ancillary Information\n",
    "\n",
    "The following links are to additional documentation that you might find helpful in learning this material. Reading these web-accessible documents is completely optional.\n",
    "\n",
    "1. The official Python documentation for [conditional statements][1]\n",
    "2. The book _A Byte of Python_ includes an introduction to [conditional statements](https://python.swaroopch.com/control_flow.html).\n",
    "3. The book [*Think Python*][2] includes a discussion on conditional statements.\n",
    "1. The official Python documentation for [functions][3].\n",
    "2. The book _A Byte of Python_ includes an introduction to [functions](https://python.swaroopch.com/functions.html).\n",
    "3. The book [_Think Python_][4] includes a discussion on functions.\n",
    "\n",
    "\n",
    "-----\n",
    "\n",
    "[1]: https://docs.python.org/3/tutorial/controlflow.html#if-statements\n",
    "[2]: http://greenteapress.com/thinkpython2/html/thinkpython2006.html\n",
    "[3]: https://docs.python.org/3/tutorial/controlflow.html#defining-functions\n",
    "[4]: https://greenteapress.com/thinkpython2/html/thinkpython2004.html"
   ]
  },
  {
   "cell_type": "markdown",
   "metadata": {
    "deletable": false,
    "editable": false
   },
   "source": [
    "**&copy; 2021 - Present: Matthew D. Dean, Ph.D.   \n",
    "Clinical Associate Professor of Business Analytics at William \\& Mary.**"
   ]
  }
 ],
 "metadata": {
  "kernelspec": {
   "display_name": "Python 3 (ipykernel)",
   "language": "python",
   "name": "python3"
  },
  "language_info": {
   "codemirror_mode": {
    "name": "ipython",
    "version": 3
   },
   "file_extension": ".py",
   "mimetype": "text/x-python",
   "name": "python",
   "nbconvert_exporter": "python",
   "pygments_lexer": "ipython3",
   "version": "3.8.8"
  }
 },
 "nbformat": 4,
 "nbformat_minor": 4
}
