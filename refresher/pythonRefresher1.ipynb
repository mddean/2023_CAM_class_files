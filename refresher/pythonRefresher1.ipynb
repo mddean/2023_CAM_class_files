{
 "cells": [
  {
   "cell_type": "markdown",
   "metadata": {},
   "source": [
    "# Python Refresher - Part 1\n",
    "----"
   ]
  },
  {
   "cell_type": "markdown",
   "metadata": {},
   "source": [
    "## Why Python\n",
    "\n",
    "[Python][1] is an open-source, high-level, general purpose programming language that was originally developed by [Guido van Rossum][gv]. [What this means][2] is that anyone can view (and optionally make contributions to) the actual language implementation, the language simplifies many tasks for the programmer, especially when compared to other programming languages like C or Java, and Python programs can easily be developed to tackle a wide range of problems including network communication, scientific calculations, data processing and archiving tasks, and graphical tool development. In addition, the syntax and form of the Python programming language is designed to allow Python programs to be quickly developed, simplifying development time and costs while also reducing maintenance costs since a well-written Python program is easy to comprehend.\n",
    "\n",
    "![Python logo](https://www.python.org/static/community_logos/python-logo-master-v3-TM.png)\n",
    "\n",
    "A large number of Python modules, which extend the base programming language, have been developed and are now widely used. These modules, which can simplify the development of new Python programs, can be broadly classified into three types. The first type are commonly used modules that are part of the official Python distribution, known as the [standard library][sl], such as the [`math`][i], [`os.path`][ii], [`pickle`][ip], [`sqlite3`][sql], [`bz2`][iii], or [`csv`][iv] modules. The second type are modules that are also commonly used, but not (yet) part of the official standard library. Relevant example modules of this type are the [`numpy`][np], [`pandas`][pd], [`matplotlib`][mp], or [`scipy`][sp] modules. The last type of module is developed by communities for a special purpose that are currently less commonly used (but this may change in time). These include modules like [`seaborn`][sb], [`statsmodels`][sm], or [`nltk`][nl]. Of course, any developer can write a Python module, thus offering a wide array of possible add-on functionality. Using these modules, however, should be carefully balanced with the importance of minimizing software dependencies, which can reduce development and maintenance issues for software engineers.\n",
    "\n",
    "-----\n",
    "\n",
    "[gv]: https://www.python.org/~guido/\n",
    "[i]: https://docs.python.org/3/library/math.html\n",
    "[ii]: https://docs.python.org/3/library/os.path.html\n",
    "[iii]: https://docs.python.org/3/library/bz2.html\n",
    "[iv]: https://docs.python.org/3/library/csv.html\n",
    "[ip]: https://docs.python.org/3/library/pickle.html\n",
    "[sl]: https://docs.python.org/3/library/\n",
    "[sql]: https://docs.python.org/3/library/sqlite3.html\n",
    "[np]: http://www.numpy.org\n",
    "[mp]: http://matplotlib.org\n",
    "[pd]: http://pandas.pydata.org\n",
    "[sp]: http://www.scipy.org\n",
    "[sb]: http://web.stanford.edu/~mwaskom/software/seaborn/index.html\n",
    "[sm]: http://statsmodels.sourceforge.net\n",
    "[nl]: http://www.nltk.org\n",
    "[1]: https://www.python.org\n",
    "[2]: https://en.wikipedia.org/wiki/Python_(programming_language)"
   ]
  },
  {
   "cell_type": "markdown",
   "metadata": {},
   "source": [
    "### Python History\n",
    "\n",
    "Python is maintained by the Python Software Foundation and currently comes in [two versions][3]: Python 2 and Python 3. Sometime around the turn of the millennium, Python developers began to consider improvements to the Python language that might produce incompatibilities with the existing Python language. One such change, which was introduced with Python 3, is that the Python programming language is now consistently object-oriented, which means that everything in a Python program or script is now an *object*. These changes were considered necessary to enable the language to continue to grow and develop. The development of this new version, originally entitled Python 3000 or Python 3K, now shortened to just Python 3 (and even sometimes Python3), took a number of years as new ideas were carefully developed and tested, and to provide sufficient time for the existing community to participate in the progression of the Python language.\n",
    "\n",
    "Now, over 30 years later, Python 3 is an improved version of the original Python language and offers a number of [important advances][4]. Thus, Python 2 is primarily used to maintain backwards compatibility with legacy Python codes that are too difficult or expensive to port to the newer version. **In this class, we will exclusively use Python 3** since it represents the present and the future, and all libraries we will use have already been successfully ported to the new version. As you browse different websites, IPython notebooks, or other resources, you should keep in mind this language split and be sure to focus primarily on Python 3 material to minimize confusion arising from these language differences. \n",
    "\n",
    "-----\n",
    "[3]: https://wiki.python.org/moin/Python2orPython3\n",
    "[4]: https://docs.python.org/3.0/whatsnew/3.0.html"
   ]
  },
  {
   "cell_type": "markdown",
   "metadata": {},
   "source": [
    "## Basic Concepts\n",
    "\n",
    "While Python is a relatively easy language to learn, there are a few basic concepts that need to be reviewed before we begin to discuss the Python programming language. A fundamental concept to remember is that good Python code should be easy to read. To help programmers adhere to this guideline, Python has the following guidelines:\n",
    "\n",
    "1. White space is important.\n",
    "2. Names should be descriptive.\n",
    "3. Code blocks are indented four spaces (not hard tabs) and follow a colon.\n",
    "4. Lines of code should be limited to less than 80 characters.\n",
    "5. Good code should be throughly documented both with comments and descriptive documentation strings.\n",
    "\n",
    "If lines need to be longer than 80 characters, the recommended practice is to use parentheses to group operations and to use suitable indentation to maintain readability. In the event this is insufficient, a line continuation character (backslash), `\\`, can be used to allow code to extend over as many lines as necessary. If that sounds confusing, don't worry, you will see examples where this is demonstrated repeatedly in this course.\n",
    "\n",
    "Python supports [REPL](https://en.wikipedia.org/wiki/Read–eval–print_loop), which is an abbreviation for Read-Eval-Print Loop, allowing a developer to write, run, and test code iteratively, which aids in quickly developing new programs. Python is also Unicode compliant, so character coding can be specified (for example, UTF-8) at the start of a program (or in string literals), allowing a wider range of characters to be used to write descriptive text.\n",
    "\n",
    "### Fundamentals to Keep In Mind\n",
    "\n",
    "1. Python executes code one line at a time.\n",
    "2. Python is case-sensitive.\n",
    "3. Python uses indentation to group statements (see 3. above).\n",
    "\n",
    "----"
   ]
  },
  {
   "cell_type": "code",
   "execution_count": null,
   "metadata": {},
   "outputs": [],
   "source": [
    "# White space is important\n",
    "x = 'some fun stuff'\n",
    "    y = 45\n",
    "    print(x, y)"
   ]
  },
  {
   "cell_type": "code",
   "execution_count": null,
   "metadata": {},
   "outputs": [],
   "source": [
    "# Spaces instead of tabs - EXCEPT Jupyter Notebook converts a TAB to to SPACES for you\n",
    "# Try it ... hit TAB, then type some stuff\n",
    "# Go back and with arrow keys to see if there is a single tab or spaces\n"
   ]
  },
  {
   "cell_type": "markdown",
   "metadata": {},
   "source": [
    "### Python Identifiers\n",
    "\n",
    "A Python identifier is a name that is composed of a sequence of letters, numbers, and underscore characters that must adhere to the following rules:\n",
    "\n",
    "1. The first character must be a letter or an underscore character.\n",
    "2. Variable and Function names traditionally start with a lowercase letter.\n",
    "3. Classes traditionally start with an uppercase letter.\n",
    "4. The identifier cannot be one of the reserved Python keywords, listed in the code block below.\n",
    "\n",
    "While not explicitly prevented, it is also recommended to avoid names of objects from common Python libraries to minimize name collisions and any resultant confusion. \n",
    "\n",
    "In this notebook, we will discuss variables, demonstrate how to use them effectively in a Python program, and use several built-in functions. A variable is simply a name that refers to something else, like a number or a string of characters. In a future lesson, we will discuss functions in more depth. For now, simply consider a function as a chunk of code, wrapped in a name that does something. A classic example is a math function like the `sin` function or a more general function like `print`, which displays text to the screen.\n",
    "\n",
    "In the following Code cell, we use the `help`  built-in function to display the list of Python keywords. These names are reserved and cannot be used as the name of a variable or function.\n",
    "\n",
    "----"
   ]
  },
  {
   "cell_type": "code",
   "execution_count": null,
   "metadata": {},
   "outputs": [],
   "source": [
    "# This is a comment\n",
    "# Display Python3 keywords\n",
    "\n",
    "help('keywords')"
   ]
  },
  {
   "cell_type": "markdown",
   "metadata": {},
   "source": [
    "-----\n",
    "\n",
    "A Python identifier can be used as the name of a variable, function, class, or module. Python identifiers are case sensitive, so `mylist` is different than `myList`. Writing descriptive identifiers can be beneficial for code readability and subsequent maintenance, thus we often write multi-word identifiers. When combining words, one can either use camel-case format, where each new word after the first is capitalized like `myFileList`. Alternatively, we also can separate words by using underscores like `my_filename_list`.  While both approaches are legal, it is best to be consistent as much as possible. Your variable naming convention depends on many personal preferences and/or biases. For example, I prefer camel-case because my first real programming jobs were done in Java where that is the de-facto standard.\n",
    "\n",
    "The Python Enhancement Proposal (abbreviated as PEP), [PEP-8](http://legacy.python.org/dev/peps/pep-0008/#introduction), provides a complete discussion of recommended best practices when writing Python code.\n",
    "\n",
    "### Documentation\n",
    "\n",
    "The primary mechanism for documenting Python code is to use comments. Python supports two types of comment strings. The first type is a single-line comment, which begins with the hash or pound character `#` and continues until the end of the line. The `#` character can appear anywhere on the line. You can create large comment blocks by placing single-line comments adjacent to each other in a Python program. Here are a several examples of single-line comments; the first comment consists of the entire line, and the second comment extends from the preceding command to the end of that line. \n",
    "\n",
    "```python   \n",
    "# Calculate the hypotenuse of a triangle\n",
    "c = math.sqrt(a**2 + b**2) # Assuming Euclidean Geometry\n",
    "```\n",
    "\n",
    "The second type of comment is a multi-line comment, which begins and ends with either three single quote characters,  `''' comment text '''` , or three double quote characters in a row: `\"\"\" comment text \"\"\"`. This comment can easily extend over multiple lines and is, therefore, used in a Python program to provide documentation via an implicit docstring for functions and classes. Here is an example of a multi-line comment string:\n",
    "\n",
    "```python   \n",
    "\n",
    "'''\n",
    "This multi-line comment can provide useful information\n",
    "for a function, class, or module.\n",
    "\n",
    "This also allows whitespace to be used to help\n",
    "write more clearly.\n",
    "'''\n",
    "```\n",
    "\n",
    "The built-in `help`  function can be used to view *docstring* comments for different functions, classes, or other Python features, as shown in the following code block. As the adjacent comment suggests, you should execute this function and change the argument to the `help` function to view documentation for other Python language components like `int`, `complex`, `math`, or `list`.\n",
    "\n",
    "Another built-in function that you will frequently use is the `print` function, which, if necessary, converts its arguments to a string and displays the resulting string to *STDOUT*, which is generally the display. We will discuss functions, like the `print` function, in more detail later.\n",
    "\n",
    "-----"
   ]
  },
  {
   "cell_type": "code",
   "execution_count": null,
   "metadata": {},
   "outputs": [],
   "source": [
    "# First, run the following line of code\n",
    "help(print) # Then, try changing print to something different like int, math, or list"
   ]
  },
  {
   "cell_type": "code",
   "execution_count": null,
   "metadata": {},
   "outputs": [],
   "source": [
    "# Python is case sensitive\n",
    "my_int = 42\n",
    "my_Int = 13\n",
    "print(f'my_int={my_int} and my_Int={my_Int}')"
   ]
  },
  {
   "cell_type": "code",
   "execution_count": null,
   "metadata": {},
   "outputs": [],
   "source": [
    "# Change my_int\n",
    "my_int += 1\n",
    "print(f'my_int={my_int} and my_Int={my_Int}')"
   ]
  },
  {
   "cell_type": "markdown",
   "metadata": {},
   "source": [
    "-----\n",
    "\n",
    "<font color='red' size = '5'> Student Exercise </font>\n",
    "\n",
    "In the empty **Code** cell below, write a simple Python comment, write a multi-line comment, and use the `help` command to display the built-in documentation for the `dict` and `str` classes.\n",
    "\n",
    "-----"
   ]
  },
  {
   "cell_type": "code",
   "execution_count": null,
   "metadata": {},
   "outputs": [],
   "source": []
  },
  {
   "cell_type": "markdown",
   "metadata": {},
   "source": [
    "-----\n",
    "\n",
    "## Data Types\n",
    "\n",
    "Python supports several standard data types including integer, floating-point, and character data, or a string of characters (this data type will be discussed in more detail later). Python is a dynamically-typed language, which means we do not need to **declare** the data type for a variable. Instead, the Python interpreter determines the data type for a variable by the type of data the variable holds. For example, if a variable holds an integer number like 1, 2, 3, or -10, the variable is of type `int`. Likewise, if the variable contains a real number like 3.14, the variable is of type `float`, which is shorthand for floating-point.\n",
    "\n",
    "The Python language has two other special data types. The first is a Boolean type, which can take one of two special values: `True` or `False`. We will explore the Boolean data type in more detail later. The second is a special type to indicate a null value, which in Python is encoded as `None`.\n",
    "\n",
    "In the following Code cells, we demonstrate how Python handles these basic data types. Remember to make changes and rerun these cells to better understand the Python type system.\n",
    "\n",
    "-----"
   ]
  },
  {
   "cell_type": "code",
   "execution_count": null,
   "metadata": {},
   "outputs": [],
   "source": [
    "# An integer value\n",
    "x = 1\n",
    "print(f'The variable x is {x} and has type {type(x)}')"
   ]
  },
  {
   "cell_type": "code",
   "execution_count": null,
   "metadata": {},
   "outputs": [],
   "source": [
    "# A floating-point value\n",
    "pi = 3.14159\n",
    "print(f'The variable pi is {pi} and has type {type(pi)}')"
   ]
  },
  {
   "cell_type": "code",
   "execution_count": null,
   "metadata": {},
   "outputs": [],
   "source": [
    "# A string of characters\n",
    "my_string = 'Hello!'\n",
    "print(f'The variable my_string is {my_string} and has type {type(my_string)}')"
   ]
  },
  {
   "cell_type": "code",
   "execution_count": null,
   "metadata": {},
   "outputs": [],
   "source": [
    "# A string of characters can also be inclused in double-quotes\n",
    "my_other_string = \"Howdy!\"\n",
    "print(f'The variable my_other_string is {my_other_string} has type {type(my_other_string)}')"
   ]
  },
  {
   "cell_type": "code",
   "execution_count": null,
   "metadata": {},
   "outputs": [],
   "source": [
    "# A Boolean value\n",
    "y = True\n",
    "print(f'The variable y is {y} and has type {type(y)}')"
   ]
  },
  {
   "cell_type": "code",
   "execution_count": null,
   "metadata": {},
   "outputs": [],
   "source": [
    "# A None value\n",
    "z = None\n",
    "print(f'The variable z is {z} and has type {type(z)}')"
   ]
  },
  {
   "cell_type": "code",
   "execution_count": null,
   "metadata": {},
   "outputs": [],
   "source": [
    "# What happens if we call type() on a built-in function like print?\n",
    "type(print)\n",
    "\n",
    "# After running that line of code, come back and change print to\n",
    "# something else, like math or \"Howdy, y'all!\""
   ]
  },
  {
   "cell_type": "markdown",
   "metadata": {},
   "source": [
    "----\n",
    "\n",
    "### Python Operators\n",
    "\n",
    "Python supports the [basic mathematical operators][1]. The following list presents the basic mathematical operators, in order of precedence (operators in the same table cell have the same precedence):\n",
    "\n",
    "| Operator                         | Description                              | Example                                  |\n",
    "| -------------------------------- | ---------------------------------------- | ---------------------------------------- |\n",
    "| `()`                             | Parentheses for grouping                 | `(2 + 3)`                                |\n",
    "| `**`                             | Exponential function                     | `2**3`                                   |\n",
    "| `*`<br/> `/`<br/> `//` <br/> `%` | Multiplication<br/> Division<br/>Integer Division<br/> Remainder | `2*3.1` <br/> `3.2 / 1.2 ` <br/> `5//2` <br/> `5%2` |\n",
    "| `+` <br/> `-`                    | Addition <br/> Subtraction               | `1.45 + 3.14` <br/> `5.3 - 2.125`        |\n",
    "\n",
    "\n",
    "When computing a quantity, you often will want to assign the value to a variable. This is done by using the assignment operator `=`. On the other hand, if you want to test if two values are the same, you use the equivalence operator, `==`. In addition, Python provides augmented assignment operators that combine a basic mathematical operator (`+`, `-`, `*`, `/`, `**`, `//`, or `%`) with the assignment operator: `+=`, `-=`, `*=`, `/=`, `**=`, `//=`, and `%=`; this can simplify and thus clarify some expressions. As a simple example of an augmented assignment operator, the following Python expressions are equivalent:\n",
    "\n",
    "```python\n",
    "a = a + 1\n",
    "a += 1\n",
    "```\n",
    "\n",
    "In the preceding example code, we have introduced the use of variables to hold the result of a calculation. Python is a dynamically-typed language; thus we do not need to first declare the variable and its type before using it. If the variable is reused and assigned a different value, the variable takes on a new type. Python has a built-in `type` function that can always be used to ascertain the underlying data type of a variable or any other legal Python construct, as shown in the previous Code cells.\n",
    "\n",
    "-----\n",
    "[1]: https://en.wikibooks.org/wiki/Python_Programming/Basic_Math"
   ]
  },
  {
   "cell_type": "markdown",
   "metadata": {},
   "source": [
    "<font color='red' size = '5'> Student Exercise </font>\n",
    "\n",
    "In the empty **Code** cell below, write a simple Python script to calculate the number of minutes in one week. Use a variable to hold the calculation and print the answer within this notebook.\n",
    "\n",
    "-----"
   ]
  },
  {
   "cell_type": "code",
   "execution_count": null,
   "metadata": {},
   "outputs": [],
   "source": []
  },
  {
   "cell_type": "markdown",
   "metadata": {},
   "source": [
    "-----\n",
    "\n",
    "Python also supports other operators that are used when working with [Boolean][1] data or to perform [bit-wise operations][2]. For conciseness, we do not discuss these operators in this notebook.\n",
    "\n",
    "In the next set of Code cells, we present several examples that demonstrate how to use the basic Python mathematical operators to compute different expressions. **These blocks are meant to be executed, modified, and re-executed!**\n",
    "\n",
    "-----\n",
    "\n",
    "[1]: https://en.wikibooks.org/wiki/Python_Programming/Operators#Boolean\n",
    "[2]: https://wiki.python.org/moin/BitwiseOperators"
   ]
  },
  {
   "cell_type": "code",
   "execution_count": null,
   "metadata": {},
   "outputs": [],
   "source": [
    "# Division - Make a note of the resulting value!\n",
    "4 / 2"
   ]
  },
  {
   "cell_type": "code",
   "execution_count": null,
   "metadata": {},
   "outputs": [],
   "source": [
    "# Division again\n",
    "5 / 2"
   ]
  },
  {
   "cell_type": "code",
   "execution_count": null,
   "metadata": {},
   "outputs": [],
   "source": [
    "# If we want to do integer division we use // instead\n",
    "5 // 2"
   ]
  },
  {
   "cell_type": "code",
   "execution_count": null,
   "metadata": {},
   "outputs": [],
   "source": [
    "# And to get just the remainder\n",
    "5 % 2"
   ]
  },
  {
   "cell_type": "code",
   "execution_count": null,
   "metadata": {},
   "outputs": [],
   "source": [
    "# Using PEMDAS, what will be the result?\n",
    "2.5 * 4 / 3 * (2 + 3 + 5) - 3**2"
   ]
  },
  {
   "cell_type": "markdown",
   "metadata": {},
   "source": [
    "----\n",
    "\n",
    "# Data Structures in Python\n",
    "----"
   ]
  },
  {
   "cell_type": "markdown",
   "metadata": {},
   "source": [
    "We have have already seen *built-in* numeric data types in Python: `int` and `float`. We have also seen `str` for strings which is technically called a *text sequence type*. First, we will revisit the `str` data type. Then, we will explore a few more built-in data types that will prove very useful: `list`, `tuple`, `range`, and `dict`. \n",
    "\n",
    "-----\n",
    "\n",
    "## Sequence Types\n",
    "\n",
    "### Strings - the `str` data type\n",
    "\n",
    "The `str` data type is a special sequence type - a *text* sequence type. Recall that we create strings by providing a sequence of zero or more characters enclosed in either a pair of single quote characters, `'`, or a pair of double quote characters, `\"`."
   ]
  },
  {
   "cell_type": "code",
   "execution_count": null,
   "metadata": {},
   "outputs": [],
   "source": [
    "# Create a couple of strings, print them and their types out\n",
    "string1 = 'My first string!'\n",
    "print(f'string1 = {string1}')\n",
    "print(f'   type = {type(string1)}')\n",
    "\n",
    "string2 = '3000'\n",
    "print(f'\\nstring2 = {string2}')\n",
    "print(f'   type ={type(string2)}')"
   ]
  },
  {
   "cell_type": "markdown",
   "metadata": {},
   "source": [
    "-----\n",
    "We will often need to manipulate string data. Luckily, there are several useful methods for strings. We look at several next.\n",
    "\n",
    "-----"
   ]
  },
  {
   "cell_type": "markdown",
   "metadata": {},
   "source": [
    "### Concatenate Strings"
   ]
  },
  {
   "cell_type": "code",
   "execution_count": null,
   "metadata": {},
   "outputs": [],
   "source": [
    "# Concatenate two strings together\n",
    "# The + operator is \"overloaded\", so it works on strings in addition to numbers\n",
    "string1 + string2"
   ]
  },
  {
   "cell_type": "markdown",
   "metadata": {},
   "source": [
    "### Repeating Strings"
   ]
  },
  {
   "cell_type": "code",
   "execution_count": null,
   "metadata": {},
   "outputs": [],
   "source": [
    "# Repeating strings\n",
    "# The * operator is also overloaded, allowing it work on strings\n",
    "string2 * 4"
   ]
  },
  {
   "cell_type": "markdown",
   "metadata": {},
   "source": [
    "### Extracting Pieces of Strings\n",
    "\n",
    "To extract characters from a string, you pass an *index* number inside of square brackets `[]`. Indexing starts at 0. So, to get the first character from the string `string1` you would issue the command `string1[0]`. "
   ]
  },
  {
   "cell_type": "code",
   "execution_count": null,
   "metadata": {},
   "outputs": [],
   "source": [
    "# We may want to extract parts of a string\n",
    "# Get the first 2 characters of string1\n",
    "string1[0:2]"
   ]
  },
  {
   "cell_type": "code",
   "execution_count": null,
   "metadata": {},
   "outputs": [],
   "source": [
    "# Get the last character of string1\n",
    "string1[-1]"
   ]
  },
  {
   "cell_type": "code",
   "execution_count": null,
   "metadata": {},
   "outputs": [],
   "source": [
    "# We can also check to see if a substring exists (or not) in the string\n",
    "# We use the `in` operator\n",
    "# Check to see if the word `first` is in string1\n",
    "'first' in string1"
   ]
  },
  {
   "cell_type": "code",
   "execution_count": null,
   "metadata": {},
   "outputs": [],
   "source": [
    "# Check to see if `hello` is in string2\n",
    "'hello' in string2"
   ]
  },
  {
   "cell_type": "code",
   "execution_count": null,
   "metadata": {},
   "outputs": [],
   "source": [
    "# Is hello *not in* string2?\n",
    "'hello' not in string2"
   ]
  },
  {
   "cell_type": "markdown",
   "metadata": {},
   "source": [
    "-----\n",
    "\n",
    "### Other Useful String Functions and Methods\n",
    "\n",
    "Let's explore a few of the most commonly used string manipulations that we will use.\n",
    "\n",
    "### Length of Strings"
   ]
  },
  {
   "cell_type": "code",
   "execution_count": null,
   "metadata": {},
   "outputs": [],
   "source": [
    "# How long is a string?\n",
    "# Use the len() function\n",
    "print(f'length of string1 = {len(string1)}')\n",
    "print(f'length of string2 = {len(string2)}')"
   ]
  },
  {
   "cell_type": "markdown",
   "metadata": {},
   "source": [
    "### Changing the Case of Strings"
   ]
  },
  {
   "cell_type": "code",
   "execution_count": null,
   "metadata": {},
   "outputs": [],
   "source": [
    "# What if we want to convert everything to lower case or upper case\n",
    "# Convert string1 to lower\n",
    "print(string1.lower())\n",
    "\n",
    "# Convert string1 to upper\n",
    "print(string1.upper())\n",
    "\n",
    "## NOTE: Neither one of these modify the original string1. Instead they return a new string."
   ]
  },
  {
   "cell_type": "markdown",
   "metadata": {},
   "source": [
    "### Finding Substrings"
   ]
  },
  {
   "cell_type": "code",
   "execution_count": null,
   "metadata": {},
   "outputs": [],
   "source": [
    "# Create a string\n",
    "string3 = 'I think text analysis is fun because text is where the hidden messages are.'\n",
    "\n",
    "# Does string3 start with \"I\"?\n",
    "print(string3.startswith('I'))\n",
    "\n",
    "# What about case? Test with \"i\"\n",
    "print(string3.startswith('i'))\n",
    "\n",
    "# Does string3 end with \"text\"?\n",
    "print(string3.endswith('text'))"
   ]
  },
  {
   "cell_type": "code",
   "execution_count": null,
   "metadata": {},
   "outputs": [],
   "source": [
    "# Where does the first occurrence of \"text\" occur in string3?\n",
    "string3.find('text')"
   ]
  },
  {
   "cell_type": "code",
   "execution_count": null,
   "metadata": {},
   "outputs": [],
   "source": [
    "# Replace the word \"text\" with \"TEXT\" for all occurrences\n",
    "print(string3.replace('text', 'TEXT'))\n",
    "\n",
    "# Replace \"text\" with \"TEXT\" once - just the first occurrence\n",
    "print(string3.replace('text', 'TEXT', 1))"
   ]
  },
  {
   "cell_type": "markdown",
   "metadata": {},
   "source": [
    "----\n",
    "\n",
    "You may also want to count the number of occurrence of a substring within in a string. You can use the `count` method.\n",
    "\n",
    "*Thought and Real Excercise:* Are there any other ways to accomplish the same task?"
   ]
  },
  {
   "cell_type": "code",
   "execution_count": null,
   "metadata": {},
   "outputs": [],
   "source": [
    "# How many times does \"text\" show up in string3?\n",
    "# We are going to convert everything to lower case and then count\n",
    "string3.lower().count('text')"
   ]
  },
  {
   "cell_type": "markdown",
   "metadata": {},
   "source": [
    "-----\n",
    "\n",
    "<font color='red' size = '5'> Student Exercise </font>\n",
    "\n",
    "In the **Code** cell below count the number of occurrences of the word 'text' in `string3` \n",
    "using another approach rather the one showed above."
   ]
  },
  {
   "cell_type": "code",
   "execution_count": null,
   "metadata": {},
   "outputs": [],
   "source": [
    "# YOUR CODE HERE\n"
   ]
  },
  {
   "cell_type": "markdown",
   "metadata": {},
   "source": [
    "-----\n",
    "\n",
    "<font color='red' size = '5'> Student Exercise </font>\n",
    "\n",
    "In the **Code** cell below count the number of occurrences of the word 'is' in `string3`."
   ]
  },
  {
   "cell_type": "code",
   "execution_count": null,
   "metadata": {},
   "outputs": [],
   "source": [
    "# How many times 'is' shows up in the variable string3\n"
   ]
  },
  {
   "cell_type": "markdown",
   "metadata": {},
   "source": [
    "----\n",
    "\n",
    "### Raw and Formatted String Literals\n",
    "\n",
    "As we saw in `badString2` above, we can include newline and tab characters within a string by using `\\n` and `\\t`, respectively. If you want to have the characters `\\n` show up in the string instead of being replaced with a newline, then you have two options:\n",
    "\n",
    "1. Escape it by adding an additional backslash: `\\\\n`.\n",
    "2. Make the string a *raw string literal* by preceding the opening quotation mark with the letter `r`. "
   ]
  },
  {
   "cell_type": "code",
   "execution_count": null,
   "metadata": {},
   "outputs": [],
   "source": [
    "# Create a string with a new line character in it\n",
    "s1 = 'String over \\n two lines?'\n",
    "print(s1)"
   ]
  },
  {
   "cell_type": "code",
   "execution_count": null,
   "metadata": {},
   "outputs": [],
   "source": [
    "# Create a string with escaped new line character\n",
    "s2 = 'String over \\\\n two lines?'\n",
    "print(s2)"
   ]
  },
  {
   "cell_type": "code",
   "execution_count": null,
   "metadata": {},
   "outputs": [],
   "source": [
    "# Create a raw literal string\n",
    "s3 = r'String over \\n two lines?'\n",
    "print(s3)"
   ]
  },
  {
   "cell_type": "markdown",
   "metadata": {},
   "source": [
    "#### Formatted Literal Strings\n",
    "\n",
    "To help with formatting when printing out strings, Python provides the concept of *formatted string literals*, also called f-strings. You can include the value of Python expressions inside a string by prefixing the string with an `f` or `F` and writing expressions as `{expression}`. "
   ]
  },
  {
   "cell_type": "code",
   "execution_count": null,
   "metadata": {},
   "outputs": [],
   "source": [
    "# Create an f-string\n",
    "myVar = 3*3\n",
    "myFString = f'The value of myVar is {myVar}'\n",
    "print(myFString)\n",
    "\n",
    "myFString2 = f'The value of myVar with some formatting is {myVar:0.2f}'\n",
    "print(myFString2)"
   ]
  },
  {
   "cell_type": "markdown",
   "metadata": {},
   "source": [
    "-----\n",
    "\n",
    "## Other Sequence Types\n",
    "\n",
    "In addition to the text sequence type of `str`, there are three others that are built-in sequence types: `list`, `tuple`, and `range`.\n",
    "\n",
    "### The `list` Sequence Type\n",
    "\n",
    "We have already seen a `list` above, when we used `str.split()` to break the string up into substrings using whitespace as a delimiter. So, what exactly is a `list`? A `list` is an ordered, *mutable* collection of objects. *Mutable* means you can make changes to it: adding, deleting, or changing the objects in the collection. In Python, a `list` can contain different data types."
   ]
  },
  {
   "cell_type": "markdown",
   "metadata": {},
   "source": [
    "#### Creating Lists\n",
    "\n",
    "You create a list by enclosing data inside square brackets, `[]`, and separating each item with a comma. Let's create a few different lists."
   ]
  },
  {
   "cell_type": "code",
   "execution_count": null,
   "metadata": {},
   "outputs": [],
   "source": [
    "# Create a list that only contains integers\n",
    "intList = [2, 4, 6]\n",
    "print(intList)\n",
    "print(type(intList))"
   ]
  },
  {
   "cell_type": "code",
   "execution_count": null,
   "metadata": {},
   "outputs": [],
   "source": [
    "# Create a list that contains integers and floats\n",
    "numList = [2, 4.4, 6, 8.8]\n",
    "print(numList)\n",
    "print(type(numList))"
   ]
  },
  {
   "cell_type": "code",
   "execution_count": null,
   "metadata": {},
   "outputs": [],
   "source": [
    "# You can put string in the list too\n",
    "strAndNumList = ['one', 2, 3.0]\n",
    "print(strAndNumList)\n",
    "print(type(strAndNumList))"
   ]
  },
  {
   "cell_type": "code",
   "execution_count": null,
   "metadata": {},
   "outputs": [],
   "source": [
    "# You can even create a list of lists\n",
    "twoDList = [[1,1], [2,2], [3,3]]\n",
    "print(twoDList)\n",
    "print(type(twoDList))"
   ]
  },
  {
   "cell_type": "markdown",
   "metadata": {},
   "source": [
    "#### Retrieving Elements of Lists\n",
    "\n",
    "We've already seen how to retrieve characters out of a string. The process for a `list` is the same: we access an element of the list by typing the name of the list followed by the *index* of the element you want inside square brackets. **Indexing starts at 0.** For example, to retrieve the first element of the list `strAndNumList`, which is \"one\", we would use `strAndNumList[0]`. Let's try it."
   ]
  },
  {
   "cell_type": "code",
   "execution_count": null,
   "metadata": {},
   "outputs": [],
   "source": [
    "# Get the first element of strAndNumList\n",
    "print(strAndNumList[0])\n",
    "print(type(strAndNumList[0]))"
   ]
  },
  {
   "cell_type": "code",
   "execution_count": null,
   "metadata": {},
   "outputs": [],
   "source": [
    "# To get the last element you can use the index -1\n",
    "# This implies that we can count from either the beginning (0) or the end (-1)\n",
    "strAndNumList[-1]"
   ]
  },
  {
   "cell_type": "markdown",
   "metadata": {},
   "source": [
    "#### Slicing Lists\n",
    "\n",
    "If we want more than a single element of a list, that is also quite easily done. The syntax is `listName[start:end:step]`, where `start` is the index of the first element we want to retrieve (inclusive lower bound), `end` is one more than the index of the last element we want to retrieve (exclusive upper bound), and `step` is the gap between indicies (default gap is 1)."
   ]
  },
  {
   "cell_type": "code",
   "execution_count": null,
   "metadata": {},
   "outputs": [],
   "source": [
    "# Create a new list\n",
    "letters = ['a', 'b', 'c', 'd', 'e', 'f', 'g', 'h']"
   ]
  },
  {
   "cell_type": "code",
   "execution_count": null,
   "metadata": {},
   "outputs": [],
   "source": [
    "# What will this print?\n",
    "print(f'letters[0:2]   : {letters[0:2]}')"
   ]
  },
  {
   "cell_type": "code",
   "execution_count": null,
   "metadata": {},
   "outputs": [],
   "source": [
    "# What will this print?\n",
    "print(f'letters[2:2]   : {letters[2:2]}')"
   ]
  },
  {
   "cell_type": "code",
   "execution_count": null,
   "metadata": {},
   "outputs": [],
   "source": [
    "# What will this print?\n",
    "print(f'letters[:2]    : {letters[:2]}')"
   ]
  },
  {
   "cell_type": "code",
   "execution_count": null,
   "metadata": {},
   "outputs": [],
   "source": [
    "# What will this print?\n",
    "print(f'letters[4:]    : {letters[4:]}')"
   ]
  },
  {
   "cell_type": "code",
   "execution_count": null,
   "metadata": {},
   "outputs": [],
   "source": [
    "# What will this print?\n",
    "print(f'letters[0:8:2] : {letters[0:8:2]}')"
   ]
  },
  {
   "cell_type": "code",
   "execution_count": null,
   "metadata": {},
   "outputs": [],
   "source": [
    "# What will this print?\n",
    "print(f'letters[8:0:-2]: {letters[8:0:-2]}')"
   ]
  },
  {
   "cell_type": "markdown",
   "metadata": {},
   "source": [
    "#### Modifying List Elements\n",
    "\n",
    "To modify a single element of a list, simply reference that index and assign a different value to it. For example, to change the letter \"a\" to \"first\" in the `letters` list from above, we would type `letters[0] = \"first\"`. To change multiple elements at once, you can assign the new values using a list slice."
   ]
  },
  {
   "cell_type": "code",
   "execution_count": null,
   "metadata": {},
   "outputs": [],
   "source": [
    "# Change \"a\" to \"first\" in letters\n",
    "letters[0] = 'first'\n",
    "print(letters)"
   ]
  },
  {
   "cell_type": "code",
   "execution_count": null,
   "metadata": {},
   "outputs": [],
   "source": [
    "# Now, change the last two elements using a list slice\n",
    "# We are counting backwards now: start at -1, end at -3 (exclusive, remember), use step = -1\n",
    "# Verify it's the two we want\n",
    "print(letters[-1:-3:-1])"
   ]
  },
  {
   "cell_type": "code",
   "execution_count": null,
   "metadata": {},
   "outputs": [],
   "source": [
    "# now change them\n",
    "letters[-1:-3:-1] = ['last', 'second to last']\n",
    "print(letters)"
   ]
  },
  {
   "cell_type": "markdown",
   "metadata": {},
   "source": [
    "#### Copying Lists\n",
    "\n",
    "If you try copying a list, say `myList`, to a second list called `yourList` with the following command `yourList = myList`, then you have created a *shallow* copy. In effect, you have simply created a new variable (or symbol if you will) called `yourList` that points to the exact same data as `myList` in the underlying memory space. Therefore, when you make changes to `myList`, those changes will show up in `yourList` and vice versa. If you do **not** want a shallow copy, then you need to create a *deep* copy by using the method `copy`."
   ]
  },
  {
   "cell_type": "code",
   "execution_count": null,
   "metadata": {},
   "outputs": [],
   "source": [
    "# Create myList, print it out\n",
    "myList = [1, 2, 3, 4, 5]\n",
    "print(f'myList  : {myList}')\n",
    "\n",
    "# Create yourList and print it out\n",
    "yourList = myList\n",
    "print(f'yourList: {yourList}')"
   ]
  },
  {
   "cell_type": "code",
   "execution_count": null,
   "metadata": {},
   "outputs": [],
   "source": [
    "# Now change the first element of myList\n",
    "print('Changing the first element of myList to 999 ...')\n",
    "myList[0] = 999\n",
    "print(f'myList  : {myList}')\n",
    "print(f'yourList: {yourList}')"
   ]
  },
  {
   "cell_type": "code",
   "execution_count": null,
   "metadata": {},
   "outputs": [],
   "source": [
    "# Try the other direction\n",
    "print('Changing the last element of yourList to 999 ...')\n",
    "yourList[-1] = 999\n",
    "print(f'myList  : {myList}')\n",
    "print(f'yourList: {yourList}')"
   ]
  },
  {
   "cell_type": "code",
   "execution_count": null,
   "metadata": {},
   "outputs": [],
   "source": [
    "# Let's try a deep copy instead\n",
    "myNewList = [2, 4, 6, 8]\n",
    "print(f'myNewList  : {myNewList}')\n",
    "\n",
    "# Create yourNewList with .copy()\n",
    "yourNewList = myNewList.copy()\n",
    "print(f'yourNewList: {yourNewList}')"
   ]
  },
  {
   "cell_type": "code",
   "execution_count": null,
   "metadata": {},
   "outputs": [],
   "source": [
    "# Changing the first element of myNewList\n",
    "print('Changing the first element of myNewList to -999 ...')\n",
    "myNewList[0] = -999\n",
    "print(f'myNewList  : {myNewList}')\n",
    "print(f'yourNewList: {yourNewList}')"
   ]
  },
  {
   "cell_type": "code",
   "execution_count": null,
   "metadata": {},
   "outputs": [],
   "source": [
    "# Try the other direction\n",
    "print('Changing the last element of yourNewList to -999 ...')\n",
    "yourNewList[-1] = -999\n",
    "print(f'myNewList  : {myNewList}')\n",
    "print(f'yourNewList: {yourNewList}')"
   ]
  },
  {
   "cell_type": "markdown",
   "metadata": {},
   "source": [
    "#### Other List Operations\n",
    "\n",
    "We've already seen how to find how many elements are in a `list` by using the function `len`.  We can join two lists together by using the `+` operator. Similarly, we can use `*` to make copies of a list and append them to the end, thus duplicating lists *n* times. Other various helpful methods include `append`, `insert`, `remove`, `sort`, and `reverse` among others."
   ]
  },
  {
   "cell_type": "code",
   "execution_count": null,
   "metadata": {},
   "outputs": [],
   "source": [
    "# Concatenate two lists\n",
    "bigList = myNewList + yourNewList\n",
    "print(bigList)"
   ]
  },
  {
   "cell_type": "code",
   "execution_count": null,
   "metadata": {},
   "outputs": [],
   "source": [
    "# Duplicate list\n",
    "myNewList3Times = myNewList * 3\n",
    "print(myNewList3Times)"
   ]
  },
  {
   "cell_type": "code",
   "execution_count": null,
   "metadata": {},
   "outputs": [],
   "source": [
    "# Append a new element to bigList\n",
    "bigList.append('New Element')\n",
    "print(bigList)"
   ]
  },
  {
   "cell_type": "markdown",
   "metadata": {},
   "source": [
    "----\n",
    "\n",
    "### Tuples\n",
    "\n",
    "A `tuple` is a collection that is ordered and *immutable*. Creating a `tuple` is very similar to creating a `list` except you use parentheses `()` instead of square brackets, `[]`. The process of accessing elements of a `tuple` is identical to that of a `list`. You need to be aware of `tuple`s because some functions either return them or require them in various packages/modules that you will encounter. Let's try it."
   ]
  },
  {
   "cell_type": "code",
   "execution_count": null,
   "metadata": {},
   "outputs": [],
   "source": [
    "# Create a tuple\n",
    "t = (1, 2, 3)\n",
    "print(t)\n",
    "print(type(t))"
   ]
  },
  {
   "cell_type": "code",
   "execution_count": null,
   "metadata": {},
   "outputs": [],
   "source": [
    "# Get the first element of the tuple t\n",
    "print(t[0])"
   ]
  },
  {
   "cell_type": "code",
   "execution_count": null,
   "metadata": {},
   "outputs": [],
   "source": [
    "# Try to change the first element\n",
    "t[0] = 999"
   ]
  },
  {
   "cell_type": "markdown",
   "metadata": {},
   "source": [
    "----\n",
    "\n",
    "### Range\n",
    "\n",
    "A `range` represents an immutable sequence of numbers is commonly used for looping a specific number of times in a `for` loop. You call `range(stop)` where `stop` represents the number of elements you want in the sequence. By default `range` starts indexing at 0. You can change this behavior using the other constructor call of `range(start, stop, [step])`. The optional argument of `step` defaults to 1."
   ]
  },
  {
   "cell_type": "code",
   "execution_count": null,
   "metadata": {},
   "outputs": [],
   "source": [
    "# Call a few different ones to see how it works\n",
    "print(range(10))"
   ]
  },
  {
   "cell_type": "code",
   "execution_count": null,
   "metadata": {},
   "outputs": [],
   "source": [
    "# Okay, that didn't tell me much\n",
    "# Let's wrap it in a list and then print it out\n",
    "print(list(range(10)))"
   ]
  },
  {
   "cell_type": "code",
   "execution_count": null,
   "metadata": {},
   "outputs": [],
   "source": [
    "# Change start to 1 ... notice stop is EXCLUSIVE\n",
    "print(list(range(1, 10)))"
   ]
  },
  {
   "cell_type": "code",
   "execution_count": null,
   "metadata": {},
   "outputs": [],
   "source": [
    "# Count by 2s staring at 2 and going up to and INCLUDING 10\n",
    "print(list(range(2, 11, 2)))"
   ]
  },
  {
   "cell_type": "markdown",
   "metadata": {},
   "source": [
    "----\n",
    "### Sets\n",
    "\n",
    "Another useful data structure is a `set`, which represents a collection of *distinct* elements. You can define a `set` by listing its elements between curly braces:\n",
    "\n",
    "```python\n",
    "mySet = {2, 3, 5, 7}\n",
    "```\n",
    "\n",
    "Unfortunately, that does not work for empty sets, as `{}` means an empty dictionary (see below). If you want an empty `set`, then you need to use `set()`. For example:\n",
    "\n",
    "```python\n",
    "s = set()  # Create an empty set\n",
    "s.add(1)   # Add the element 1 to the set\n",
    "s.add(2)   # Add the element 2 to the set\n",
    "s.add(2)   # s did not change!\n",
    "```\n",
    "\n",
    "You often use sets for two main reasons. The first is that the `in` operator is very fast when working with sets. If we have a large collection of items that we want to use for a membership test, a set is more appropriate than a list. The second reason is to find the **distinct** items in a collection (e.g., a list)."
   ]
  },
  {
   "cell_type": "code",
   "execution_count": null,
   "metadata": {},
   "outputs": [],
   "source": [
    "# Create mySet that contains prime numbers\n",
    "mySet = {2, 3, 5, 7}\n",
    "print(f'{mySet} has type {type(mySet)}')"
   ]
  },
  {
   "cell_type": "code",
   "execution_count": null,
   "metadata": {},
   "outputs": [],
   "source": [
    "# This will not create an empty set, but rather a dictionary\n",
    "not_a_set = {}\n",
    "print(f'{not_a_set} has type {type(not_a_set)}')"
   ]
  },
  {
   "cell_type": "code",
   "execution_count": null,
   "metadata": {},
   "outputs": [],
   "source": [
    "# This will create an empty set\n",
    "s = set()\n",
    "print(f's is {s} and has type {type(s)}')"
   ]
  },
  {
   "cell_type": "code",
   "execution_count": null,
   "metadata": {},
   "outputs": [],
   "source": [
    "# Add some elements to s\n",
    "s.add(1)\n",
    "print(f's is now {s}')\n",
    "s.add(2)\n",
    "print(f's is now {s}')\n",
    "\n",
    "# Try to add 2 again\n",
    "s.add(2)\n",
    "print(f's is now {s}')"
   ]
  },
  {
   "cell_type": "markdown",
   "metadata": {},
   "source": [
    "-----\n",
    "\n",
    "<font color='red' size = '5'> Student Exercise </font>\n",
    "\n",
    "Complete the following tasks in the empty **Code** cell below.\n",
    "\n",
    "1. Create a new `list` called `theList` that contains the odd numbers from 1 to 9.\n",
    "    1. Challenge: Can you complete this task using `range`?    \n",
    "2. Print out the first 2 element of `theList`.\n",
    "3. Print out the last 2 elements of `theList`.\n",
    "4. Make a copy of the `theList`, call it `reversedList`, reverse the elements of it, and print it out.\n",
    "    1. Make sure you do **not** change the order of the original `theList`.\n",
    "5. Print out the combined list of `theList` and `reversedList`.\n",
    "\n",
    "-----"
   ]
  },
  {
   "cell_type": "code",
   "execution_count": null,
   "metadata": {},
   "outputs": [],
   "source": []
  },
  {
   "cell_type": "markdown",
   "metadata": {},
   "source": [
    "-----\n",
    "\n",
    "## Dictionaries\n",
    "\n",
    "One of the most useful built-in data types in Python is the dictionary or the `dict` type. A dictionary is a collection that is *unordered* and *mutable*. The elements of the collection are **key-value** pairs. Instead of being indexed by a range of numbers (like a `list` or `tuple`), a dictionary is indexed by *keys* which can be be any immutable type. For example, strings and numbers can always be keys. You **cannot** use `list`s as keys since they can be modified in place. The values can be any valid data type.\n",
    "\n",
    "It is best to think of dictionaries as *key:value* pairs with the requirement that keys are unique. To create a dictionary, you place comma-separted key:value pairs inside of curly braces, `{}`. "
   ]
  },
  {
   "cell_type": "code",
   "execution_count": null,
   "metadata": {},
   "outputs": [],
   "source": [
    "# Create an income statement dictionary\n",
    "incomeStmt = {'Revenue': 100,\n",
    "             'COGS': 52,\n",
    "             'Gross Margin': 45,\n",
    "             'SG&A': 40,\n",
    "             'Net Income': 5}\n",
    "\n",
    "print(incomeStmt)"
   ]
  },
  {
   "cell_type": "code",
   "execution_count": null,
   "metadata": {},
   "outputs": [],
   "source": [
    "# Retrieve an element using the key\n",
    "incomeStmt['COGS']"
   ]
  },
  {
   "cell_type": "code",
   "execution_count": null,
   "metadata": {},
   "outputs": [],
   "source": [
    "# To add a key-value to a dictionary, assign the value to a new key\n",
    "# Add \"Fiscal Year\": 2018\n",
    "incomeStmt['Fiscal Year'] = 2018\n",
    "print(incomeStmt)"
   ]
  },
  {
   "cell_type": "code",
   "execution_count": null,
   "metadata": {},
   "outputs": [],
   "source": [
    "# To change a value, access it using the key and reassign\n",
    "# Change the fiscal year to 1998\n",
    "incomeStmt['Fiscal Year'] = 1998\n",
    "print(incomeStmt)"
   ]
  },
  {
   "cell_type": "code",
   "execution_count": null,
   "metadata": {},
   "outputs": [],
   "source": [
    "# Get the keys of the dictionary as a list\n",
    "list(incomeStmt)"
   ]
  },
  {
   "cell_type": "code",
   "execution_count": null,
   "metadata": {},
   "outputs": [],
   "source": [
    "# You can use the `in` operator to determine if the key exists\n",
    "'COGS' in incomeStmt"
   ]
  },
  {
   "cell_type": "code",
   "execution_count": null,
   "metadata": {},
   "outputs": [],
   "source": [
    "'cogs' in incomeStmt"
   ]
  },
  {
   "cell_type": "code",
   "execution_count": null,
   "metadata": {},
   "outputs": [],
   "source": [
    "# To get all the items as an iterable object, you call .items()\n",
    "incomeStmt.items()"
   ]
  },
  {
   "cell_type": "code",
   "execution_count": null,
   "metadata": {},
   "outputs": [],
   "source": [
    "# As a preview let's loop through the dictionary\n",
    "for k, v in incomeStmt.items():\n",
    "    print(f'key: {k:15}value: {v}')"
   ]
  },
  {
   "cell_type": "markdown",
   "metadata": {},
   "source": [
    "-----\n",
    "\n",
    "## Ancillary information\n",
    "\n",
    "The following links are to additional documentation that you might find helpful in learning this material. \n",
    "\n",
    "1. The official [Python3 Tutorial][1]\n",
    "2. An official guide to Python for [Beginners][2]\n",
    "3. The book [*Think Python*][3] for Python3 provides a comprehensive view of Python for data science. \n",
    "4. The official Python tutorial about [formatting strings][4].\n",
    "5. A nice post about [f-strings][5].\n",
    "6. The official Python tutorial about [data structures][6].\n",
    "\n",
    "\n",
    "-----\n",
    "[1]: https://docs.python.org/3/tutorial/index.html\n",
    "[2]: https://www.python.org/about/gettingstarted/\n",
    "[3]: http://greenteapress.com/wp/think-python-2e/\n",
    "[4]: https://docs.python.org/3/tutorial/inputoutput.html\n",
    "[5]: https://realpython.com/python-f-strings/\n",
    "[6]: https://docs.python.org/3/tutorial/datastructures.html\n",
    "-----"
   ]
  },
  {
   "cell_type": "markdown",
   "metadata": {
    "deletable": false,
    "editable": false
   },
   "source": [
    "**&copy; 2021 - Present: Matthew D. Dean, Ph.D.   \n",
    "Clinical Associate Professor of Business Analytics at William \\& Mary.**"
   ]
  }
 ],
 "metadata": {
  "kernelspec": {
   "display_name": "Python 3 (ipykernel)",
   "language": "python",
   "name": "python3"
  },
  "language_info": {
   "codemirror_mode": {
    "name": "ipython",
    "version": 3
   },
   "file_extension": ".py",
   "mimetype": "text/x-python",
   "name": "python",
   "nbconvert_exporter": "python",
   "pygments_lexer": "ipython3",
   "version": "3.8.8"
  }
 },
 "nbformat": 4,
 "nbformat_minor": 4
}
